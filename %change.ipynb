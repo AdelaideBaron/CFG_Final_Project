{
 "cells": [
  {
   "cell_type": "code",
   "execution_count": 8,
   "id": "89ad6b12",
   "metadata": {},
   "outputs": [],
   "source": [
    "import pandas as pd"
   ]
  },
  {
   "cell_type": "code",
   "execution_count": 9,
   "id": "d18cde7e",
   "metadata": {},
   "outputs": [
    {
     "data": {
      "text/html": [
       "<div>\n",
       "<style scoped>\n",
       "    .dataframe tbody tr th:only-of-type {\n",
       "        vertical-align: middle;\n",
       "    }\n",
       "\n",
       "    .dataframe tbody tr th {\n",
       "        vertical-align: top;\n",
       "    }\n",
       "\n",
       "    .dataframe thead th {\n",
       "        text-align: right;\n",
       "    }\n",
       "</style>\n",
       "<table border=\"1\" class=\"dataframe\">\n",
       "  <thead>\n",
       "    <tr style=\"text-align: right;\">\n",
       "      <th></th>\n",
       "      <th>UKPRN</th>\n",
       "      <th>HE provider</th>\n",
       "      <th>Female</th>\n",
       "      <th>Male</th>\n",
       "      <th>Other</th>\n",
       "      <th>Not known</th>\n",
       "      <th>Total</th>\n",
       "    </tr>\n",
       "  </thead>\n",
       "  <tbody>\n",
       "    <tr>\n",
       "      <th>0</th>\n",
       "      <td>10019746.0</td>\n",
       "      <td>ABI College Limited</td>\n",
       "      <td>35</td>\n",
       "      <td>15</td>\n",
       "      <td>0</td>\n",
       "      <td>0</td>\n",
       "      <td>50</td>\n",
       "    </tr>\n",
       "    <tr>\n",
       "      <th>1</th>\n",
       "      <td>10000080.0</td>\n",
       "      <td>Access to Music Limited</td>\n",
       "      <td>15</td>\n",
       "      <td>25</td>\n",
       "      <td>0</td>\n",
       "      <td>0</td>\n",
       "      <td>40</td>\n",
       "    </tr>\n",
       "    <tr>\n",
       "      <th>2</th>\n",
       "      <td>10000248.0</td>\n",
       "      <td>Academy of Live and Recorded Arts</td>\n",
       "      <td>40</td>\n",
       "      <td>35</td>\n",
       "      <td>0</td>\n",
       "      <td>0</td>\n",
       "      <td>75</td>\n",
       "    </tr>\n",
       "    <tr>\n",
       "      <th>3</th>\n",
       "      <td>10000291.0</td>\n",
       "      <td>Anglia Ruskin University</td>\n",
       "      <td>3785</td>\n",
       "      <td>2465</td>\n",
       "      <td>0</td>\n",
       "      <td>0</td>\n",
       "      <td>6245</td>\n",
       "    </tr>\n",
       "    <tr>\n",
       "      <th>4</th>\n",
       "      <td>10000381.0</td>\n",
       "      <td>Arts Educational Schools</td>\n",
       "      <td>40</td>\n",
       "      <td>40</td>\n",
       "      <td>0</td>\n",
       "      <td>0</td>\n",
       "      <td>80</td>\n",
       "    </tr>\n",
       "    <tr>\n",
       "      <th>...</th>\n",
       "      <td>...</td>\n",
       "      <td>...</td>\n",
       "      <td>...</td>\n",
       "      <td>...</td>\n",
       "      <td>...</td>\n",
       "      <td>...</td>\n",
       "      <td>...</td>\n",
       "    </tr>\n",
       "    <tr>\n",
       "      <th>190</th>\n",
       "      <td>10007139.0</td>\n",
       "      <td>University of Worcester</td>\n",
       "      <td>2300</td>\n",
       "      <td>1250</td>\n",
       "      <td>0</td>\n",
       "      <td>0</td>\n",
       "      <td>3555</td>\n",
       "    </tr>\n",
       "    <tr>\n",
       "      <th>191</th>\n",
       "      <td>10007657.0</td>\n",
       "      <td>Writtle University College</td>\n",
       "      <td>255</td>\n",
       "      <td>105</td>\n",
       "      <td>0</td>\n",
       "      <td>0</td>\n",
       "      <td>360</td>\n",
       "    </tr>\n",
       "    <tr>\n",
       "      <th>192</th>\n",
       "      <td>10007713.0</td>\n",
       "      <td>York St John University</td>\n",
       "      <td>1570</td>\n",
       "      <td>800</td>\n",
       "      <td>0</td>\n",
       "      <td>0</td>\n",
       "      <td>2375</td>\n",
       "    </tr>\n",
       "    <tr>\n",
       "      <th>193</th>\n",
       "      <td>10007167.0</td>\n",
       "      <td>The University of York</td>\n",
       "      <td>3610</td>\n",
       "      <td>2595</td>\n",
       "      <td>0</td>\n",
       "      <td>0</td>\n",
       "      <td>6205</td>\n",
       "    </tr>\n",
       "    <tr>\n",
       "      <th>194</th>\n",
       "      <td>NaN</td>\n",
       "      <td>Total</td>\n",
       "      <td>343065</td>\n",
       "      <td>278605</td>\n",
       "      <td>90</td>\n",
       "      <td>15</td>\n",
       "      <td>621775</td>\n",
       "    </tr>\n",
       "  </tbody>\n",
       "</table>\n",
       "<p>195 rows × 7 columns</p>\n",
       "</div>"
      ],
      "text/plain": [
       "          UKPRN                        HE provider  Female    Male  Other  \\\n",
       "0    10019746.0                ABI College Limited      35      15      0   \n",
       "1    10000080.0            Access to Music Limited      15      25      0   \n",
       "2    10000248.0  Academy of Live and Recorded Arts      40      35      0   \n",
       "3    10000291.0           Anglia Ruskin University    3785    2465      0   \n",
       "4    10000381.0           Arts Educational Schools      40      40      0   \n",
       "..          ...                                ...     ...     ...    ...   \n",
       "190  10007139.0            University of Worcester    2300    1250      0   \n",
       "191  10007657.0         Writtle University College     255     105      0   \n",
       "192  10007713.0            York St John University    1570     800      0   \n",
       "193  10007167.0             The University of York    3610    2595      0   \n",
       "194         NaN                              Total  343065  278605     90   \n",
       "\n",
       "     Not known   Total  \n",
       "0            0      50  \n",
       "1            0      40  \n",
       "2            0      75  \n",
       "3            0    6245  \n",
       "4            0      80  \n",
       "..         ...     ...  \n",
       "190          0    3555  \n",
       "191          0     360  \n",
       "192          0    2375  \n",
       "193          0    6205  \n",
       "194         15  621775  \n",
       "\n",
       "[195 rows x 7 columns]"
      ]
     },
     "execution_count": 9,
     "metadata": {},
     "output_type": "execute_result"
    }
   ],
   "source": [
    "df = pd.read_excel('HE student enrolments by HE provider 2014-5 FT.xlsx', skiprows=17)\n",
    "df"
   ]
  },
  {
   "cell_type": "code",
   "execution_count": 10,
   "id": "d9a19b7f",
   "metadata": {},
   "outputs": [
    {
     "data": {
      "text/plain": [
       "0          35\n",
       "1          15\n",
       "2          40\n",
       "3        3785\n",
       "4          40\n",
       "        ...  \n",
       "190      2300\n",
       "191       255\n",
       "192      1570\n",
       "193      3610\n",
       "194    343065\n",
       "Name: Female, Length: 195, dtype: int64"
      ]
     },
     "execution_count": 10,
     "metadata": {},
     "output_type": "execute_result"
    }
   ],
   "source": [
    "df['Female']"
   ]
  },
  {
   "cell_type": "code",
   "execution_count": 11,
   "id": "0076e39f",
   "metadata": {},
   "outputs": [
    {
     "data": {
      "text/html": [
       "<div>\n",
       "<style scoped>\n",
       "    .dataframe tbody tr th:only-of-type {\n",
       "        vertical-align: middle;\n",
       "    }\n",
       "\n",
       "    .dataframe tbody tr th {\n",
       "        vertical-align: top;\n",
       "    }\n",
       "\n",
       "    .dataframe thead th {\n",
       "        text-align: right;\n",
       "    }\n",
       "</style>\n",
       "<table border=\"1\" class=\"dataframe\">\n",
       "  <thead>\n",
       "    <tr style=\"text-align: right;\">\n",
       "      <th></th>\n",
       "      <th>UKPRN</th>\n",
       "      <th>HE provider</th>\n",
       "      <th>Female</th>\n",
       "      <th>Male</th>\n",
       "      <th>Other</th>\n",
       "      <th>Not known</th>\n",
       "      <th>Total</th>\n",
       "    </tr>\n",
       "  </thead>\n",
       "  <tbody>\n",
       "    <tr>\n",
       "      <th>0</th>\n",
       "      <td>10008071.0</td>\n",
       "      <td>AA School of Architecture</td>\n",
       "      <td>205</td>\n",
       "      <td>170</td>\n",
       "      <td>0</td>\n",
       "      <td>0</td>\n",
       "      <td>375</td>\n",
       "    </tr>\n",
       "    <tr>\n",
       "      <th>1</th>\n",
       "      <td>10067853.0</td>\n",
       "      <td>ACM Guildford Limited</td>\n",
       "      <td>240</td>\n",
       "      <td>460</td>\n",
       "      <td>10</td>\n",
       "      <td>0</td>\n",
       "      <td>715</td>\n",
       "    </tr>\n",
       "    <tr>\n",
       "      <th>2</th>\n",
       "      <td>10000248.0</td>\n",
       "      <td>Academy of Live and Recorded Arts</td>\n",
       "      <td>55</td>\n",
       "      <td>50</td>\n",
       "      <td>0</td>\n",
       "      <td>0</td>\n",
       "      <td>105</td>\n",
       "    </tr>\n",
       "    <tr>\n",
       "      <th>3</th>\n",
       "      <td>10000163.0</td>\n",
       "      <td>AECC University College</td>\n",
       "      <td>120</td>\n",
       "      <td>150</td>\n",
       "      <td>0</td>\n",
       "      <td>0</td>\n",
       "      <td>270</td>\n",
       "    </tr>\n",
       "    <tr>\n",
       "      <th>4</th>\n",
       "      <td>10032036.0</td>\n",
       "      <td>Amity Global Education</td>\n",
       "      <td>15</td>\n",
       "      <td>20</td>\n",
       "      <td>0</td>\n",
       "      <td>0</td>\n",
       "      <td>35</td>\n",
       "    </tr>\n",
       "    <tr>\n",
       "      <th>...</th>\n",
       "      <td>...</td>\n",
       "      <td>...</td>\n",
       "      <td>...</td>\n",
       "      <td>...</td>\n",
       "      <td>...</td>\n",
       "      <td>...</td>\n",
       "      <td>...</td>\n",
       "    </tr>\n",
       "    <tr>\n",
       "      <th>232</th>\n",
       "      <td>10007139.0</td>\n",
       "      <td>University of Worcester</td>\n",
       "      <td>2940</td>\n",
       "      <td>1045</td>\n",
       "      <td>0</td>\n",
       "      <td>0</td>\n",
       "      <td>3985</td>\n",
       "    </tr>\n",
       "    <tr>\n",
       "      <th>233</th>\n",
       "      <td>10007657.0</td>\n",
       "      <td>Writtle University College</td>\n",
       "      <td>230</td>\n",
       "      <td>50</td>\n",
       "      <td>0</td>\n",
       "      <td>0</td>\n",
       "      <td>280</td>\n",
       "    </tr>\n",
       "    <tr>\n",
       "      <th>234</th>\n",
       "      <td>10007713.0</td>\n",
       "      <td>York St John University</td>\n",
       "      <td>1890</td>\n",
       "      <td>1190</td>\n",
       "      <td>0</td>\n",
       "      <td>0</td>\n",
       "      <td>3085</td>\n",
       "    </tr>\n",
       "    <tr>\n",
       "      <th>235</th>\n",
       "      <td>10007167.0</td>\n",
       "      <td>The University of York</td>\n",
       "      <td>5450</td>\n",
       "      <td>3820</td>\n",
       "      <td>15</td>\n",
       "      <td>0</td>\n",
       "      <td>9285</td>\n",
       "    </tr>\n",
       "    <tr>\n",
       "      <th>236</th>\n",
       "      <td>NaN</td>\n",
       "      <td>Total</td>\n",
       "      <td>460265</td>\n",
       "      <td>356660</td>\n",
       "      <td>1475</td>\n",
       "      <td>35</td>\n",
       "      <td>818435</td>\n",
       "    </tr>\n",
       "  </tbody>\n",
       "</table>\n",
       "<p>237 rows × 7 columns</p>\n",
       "</div>"
      ],
      "text/plain": [
       "          UKPRN                        HE provider  Female    Male  Other  \\\n",
       "0    10008071.0          AA School of Architecture     205     170      0   \n",
       "1    10067853.0              ACM Guildford Limited     240     460     10   \n",
       "2    10000248.0  Academy of Live and Recorded Arts      55      50      0   \n",
       "3    10000163.0            AECC University College     120     150      0   \n",
       "4    10032036.0             Amity Global Education      15      20      0   \n",
       "..          ...                                ...     ...     ...    ...   \n",
       "232  10007139.0            University of Worcester    2940    1045      0   \n",
       "233  10007657.0         Writtle University College     230      50      0   \n",
       "234  10007713.0            York St John University    1890    1190      0   \n",
       "235  10007167.0             The University of York    5450    3820     15   \n",
       "236         NaN                              Total  460265  356660   1475   \n",
       "\n",
       "     Not known   Total  \n",
       "0            0     375  \n",
       "1            0     715  \n",
       "2            0     105  \n",
       "3            0     270  \n",
       "4            0      35  \n",
       "..         ...     ...  \n",
       "232          0    3985  \n",
       "233          0     280  \n",
       "234          0    3085  \n",
       "235          0    9285  \n",
       "236         35  818435  \n",
       "\n",
       "[237 rows x 7 columns]"
      ]
     },
     "execution_count": 11,
     "metadata": {},
     "output_type": "execute_result"
    }
   ],
   "source": [
    "df2 = pd.read_excel('HE student enrolments by HE provider 2020-1 FT.xlsx', skiprows=17)\n",
    "df2"
   ]
  },
  {
   "cell_type": "code",
   "execution_count": 12,
   "id": "03502f10",
   "metadata": {},
   "outputs": [
    {
     "data": {
      "text/plain": [
       "0         205\n",
       "1         240\n",
       "2          55\n",
       "3         120\n",
       "4          15\n",
       "        ...  \n",
       "232      2940\n",
       "233       230\n",
       "234      1890\n",
       "235      5450\n",
       "236    460265\n",
       "Name: Female, Length: 237, dtype: int64"
      ]
     },
     "execution_count": 12,
     "metadata": {},
     "output_type": "execute_result"
    }
   ],
   "source": [
    "df2['Female']"
   ]
  },
  {
   "cell_type": "code",
   "execution_count": 13,
   "id": "c88cd235",
   "metadata": {},
   "outputs": [],
   "source": [
    "percentage_change = ((460265 - 343065) / 343065) * 100"
   ]
  },
  {
   "cell_type": "code",
   "execution_count": 14,
   "id": "bd1fc47d",
   "metadata": {},
   "outputs": [
    {
     "data": {
      "text/plain": [
       "34.16262224359815"
      ]
     },
     "execution_count": 14,
     "metadata": {},
     "output_type": "execute_result"
    }
   ],
   "source": [
    "percentage_change"
   ]
  },
  {
   "cell_type": "markdown",
   "id": "d876f98f",
   "metadata": {},
   "source": [
    "The percentage change in the number of female students from 2014/5 to 2020/1 is +34.16%."
   ]
  },
  {
   "cell_type": "code",
   "execution_count": 15,
   "id": "80a05081",
   "metadata": {},
   "outputs": [],
   "source": [
    "df2 = df.iloc[-1:]"
   ]
  },
  {
   "cell_type": "code",
   "execution_count": 16,
   "id": "bd7349fa",
   "metadata": {},
   "outputs": [
    {
     "data": {
      "text/html": [
       "<div>\n",
       "<style scoped>\n",
       "    .dataframe tbody tr th:only-of-type {\n",
       "        vertical-align: middle;\n",
       "    }\n",
       "\n",
       "    .dataframe tbody tr th {\n",
       "        vertical-align: top;\n",
       "    }\n",
       "\n",
       "    .dataframe thead th {\n",
       "        text-align: right;\n",
       "    }\n",
       "</style>\n",
       "<table border=\"1\" class=\"dataframe\">\n",
       "  <thead>\n",
       "    <tr style=\"text-align: right;\">\n",
       "      <th></th>\n",
       "      <th>UKPRN</th>\n",
       "      <th>HE provider</th>\n",
       "      <th>Female</th>\n",
       "      <th>Male</th>\n",
       "      <th>Other</th>\n",
       "      <th>Not known</th>\n",
       "      <th>Total</th>\n",
       "    </tr>\n",
       "  </thead>\n",
       "  <tbody>\n",
       "    <tr>\n",
       "      <th>194</th>\n",
       "      <td>NaN</td>\n",
       "      <td>Total</td>\n",
       "      <td>343065</td>\n",
       "      <td>278605</td>\n",
       "      <td>90</td>\n",
       "      <td>15</td>\n",
       "      <td>621775</td>\n",
       "    </tr>\n",
       "  </tbody>\n",
       "</table>\n",
       "</div>"
      ],
      "text/plain": [
       "     UKPRN HE provider  Female    Male  Other  Not known   Total\n",
       "194    NaN       Total  343065  278605     90         15  621775"
      ]
     },
     "execution_count": 16,
     "metadata": {},
     "output_type": "execute_result"
    }
   ],
   "source": [
    "df2"
   ]
  },
  {
   "cell_type": "code",
   "execution_count": 17,
   "id": "655955b5",
   "metadata": {},
   "outputs": [
    {
     "data": {
      "text/plain": [
       "55.175103534236655"
      ]
     },
     "execution_count": 17,
     "metadata": {},
     "output_type": "execute_result"
    }
   ],
   "source": [
    "percentage_females_2014 = (343065 / 621775) * 100\n",
    "percentage_females_2014"
   ]
  },
  {
   "cell_type": "code",
   "execution_count": 18,
   "id": "1b4eb09e",
   "metadata": {},
   "outputs": [
    {
     "data": {
      "text/plain": [
       "56.237208819270926"
      ]
     },
     "execution_count": 18,
     "metadata": {},
     "output_type": "execute_result"
    }
   ],
   "source": [
    "percentage_females_2020 = (460265 / 818435) * 100\n",
    "percentage_females_2020 "
   ]
  },
  {
   "cell_type": "code",
   "execution_count": 19,
   "id": "0407e3a1",
   "metadata": {},
   "outputs": [
    {
     "data": {
      "text/plain": [
       "1.0621052850342707"
      ]
     },
     "execution_count": 19,
     "metadata": {},
     "output_type": "execute_result"
    }
   ],
   "source": [
    "difference_in_female_students = percentage_females_2020 -percentage_females_2014\n",
    "difference_in_female_students"
   ]
  },
  {
   "cell_type": "markdown",
   "id": "a998a48a",
   "metadata": {},
   "source": [
    "The percentage of female students as a percentage of all students was 55.18% in 2014/5.\n",
    "The percentage of female students as a percentage of all students was 56.28% in 2020/1.\n",
    "\n",
    "This is only an increase of 1.06% in 7 years."
   ]
  },
  {
   "cell_type": "code",
   "execution_count": 28,
   "id": "699dc823",
   "metadata": {},
   "outputs": [
    {
     "ename": "SyntaxError",
     "evalue": "cannot assign to function call (4128696761.py, line 7)",
     "output_type": "error",
     "traceback": [
      "\u001b[1;36m  Input \u001b[1;32mIn [28]\u001b[1;36m\u001b[0m\n\u001b[1;33m    plt.pie(no_students, labels=labels), autopct='%1.1f%%')\u001b[0m\n\u001b[1;37m    ^\u001b[0m\n\u001b[1;31mSyntaxError\u001b[0m\u001b[1;31m:\u001b[0m cannot assign to function call\n"
     ]
    }
   ],
   "source": [
    "import matplotlib.pyplot as plt\n",
    "\n",
    "HEprovider  = df ['HE provider'].tolist()\n",
    "labels = ['Female', 'Male', 'Other']\n",
    "no_students  = [df['Female'].sum(), df['Male'].sum(), df['Other'].sum()] \n",
    "plt.axis(\"equal\")\n",
    "plt.pie(no_students, labels=labels), autopct='%1.1f%%') \n",
    "plt.legend(loc='lower right') # optional\n",
    "plt.title('HE Student Enrolment by Gender Split 2014/5')\n",
    "plt.show()"
   ]
  },
  {
   "cell_type": "code",
   "execution_count": 29,
   "id": "4c674b3f",
   "metadata": {},
   "outputs": [
    {
     "data": {
      "image/png": "[encoded data removed]",
      "text/plain": [
       "<Figure size 432x288 with 1 Axes>"
      ]
     },
     "metadata": {},
     "output_type": "display_data"
    }
   ],
   "source": [
    "df = pd.read_excel('HE student enrolments by HE provider 2014-5 FT.xlsx', skiprows=17)\n",
    "\n",
    "HEprovider  = df ['HE provider'].tolist()\n",
    "labels = ['Female', 'Male', 'Other']\n",
    "stu_numbers  = [df ['Female'].sum(), df ['Male'].sum(), df ['Other'].sum()]\n",
    "plt.axis(\"equal\")\n",
    "plt.pie(stu_numbers, labels=labels, autopct='%1.1f%%')\n",
    "plt.legend(loc='lower right') # optional\n",
    "plt.title('HE Student Enrolment by Gender Split 2014/5')\n",
    "plt.show()"
   ]
  },
  {
   "cell_type": "code",
   "execution_count": 30,
   "id": "53e4c33c",
   "metadata": {},
   "outputs": [
    {
     "data": {
      "image/png": "[encoded data removed]",
      "text/plain": [
       "<Figure size 432x288 with 1 Axes>"
      ]
     },
     "metadata": {},
     "output_type": "display_data"
    }
   ],
   "source": [
    "df2 = pd.read_excel('HE student enrolments by HE provider 2014-5 FT.xlsx', skiprows=17)\n",
    "\n",
    "HEprovider  = df2 ['HE provider'].tolist()\n",
    "labels = ['Female', 'Male', 'Other']\n",
    "stu_numbers2  = [df2 ['Female'].sum(), df2 ['Male'].sum(), df2 ['Other'].sum()]\n",
    "plt.axis(\"equal\")\n",
    "plt.pie(stu_numbers2, labels=labels, autopct='%1.1f%%')\n",
    "plt.legend(loc='lower right') # optional\n",
    "plt.title('HE student enrolments by HE provider 2020-1 FT.xlsx')\n",
    "plt.show()"
   ]
  },
  {
   "cell_type": "code",
   "execution_count": null,
   "id": "56a805e2",
   "metadata": {},
   "outputs": [],
   "source": []
  }
 ],
 "metadata": {
  "kernelspec": {
   "display_name": "Python 3 (ipykernel)",
   "language": "python",
   "name": "python3"
  },
  "language_info": {
   "codemirror_mode": {
    "name": "ipython",
    "version": 3
   },
   "file_extension": ".py",
   "mimetype": "text/x-python",
   "name": "python",
   "nbconvert_exporter": "python",
   "pygments_lexer": "ipython3",
   "version": "3.9.12"
  }
 },
 "nbformat": 4,
 "nbformat_minor": 5
}
