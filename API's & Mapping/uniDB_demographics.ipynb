{
 "cells": [
  {
   "cell_type": "markdown",
   "source": [],
   "metadata": {
    "collapsed": false,
    "pycharm": {
     "name": "#%% md\n"
    }
   }
  },
  {
   "cell_type": "markdown",
   "source": [
    "Throughout I will be using an API, unidbapi, to assess demographics of universities in the UK to analyse the gender split across students. The API only returns female or male, so I can only analyse that here."
   ],
   "metadata": {
    "collapsed": false,
    "pycharm": {
     "name": "#%% md\n"
    }
   }
  },
  {
   "cell_type": "markdown",
   "source": [
    "### unidbapi endpoints:\n",
    "Initially, we will be focussing on the following two endpoints:\n",
    "- University demographics\n",
    "    - https://unidbapi.com/api/university/read_demographics?u={university name}&key={API key}\n",
    "    - https://unidbapi.com/api/university/read_demographics?u={university name}&key=56d0b15602\n",
    "- Degree demographics\n",
    "    - https://unidbapi.com/api/degree/read_demographics?d={degree}&key={API key}\n",
    "    - https://unidbapi.com/api/degree/read_demographics?d={degree}&key=56d0b15602"
   ],
   "metadata": {
    "collapsed": false,
    "pycharm": {
     "name": "#%% md\n"
    }
   }
  },
  {
   "cell_type": "markdown",
   "source": [
    "# API Keys"
   ],
   "metadata": {
    "collapsed": false,
    "pycharm": {
     "name": "#%% md\n"
    }
   }
  },
  {
   "cell_type": "code",
   "execution_count": 1,
   "outputs": [],
   "source": [
    "f = open(\"uniDB_api.txt\", \"r\")\n",
    "api_key = f.readline() #UniDB API Key\n",
    "\n",
    "f = open(\"geocode_ow_api.txt\", \"r\")\n",
    "location_api_key = f.readline() #OW API Key"
   ],
   "metadata": {
    "collapsed": false,
    "pycharm": {
     "name": "#%%\n"
    }
   }
  },
  {
   "cell_type": "markdown",
   "source": [
    "# Imports"
   ],
   "metadata": {
    "collapsed": false,
    "pycharm": {
     "name": "#%% md\n"
    }
   }
  },
  {
   "cell_type": "code",
   "execution_count": 2,
   "outputs": [],
   "source": [
    "import pandas as pd\n",
    "import requests\n",
    "import json\n",
    "from pprint import pprint as pp\n",
    "import numpy as np\n",
    "import matplotlib.pyplot as plt"
   ],
   "metadata": {
    "collapsed": false,
    "pycharm": {
     "name": "#%%\n"
    }
   }
  },
  {
   "cell_type": "markdown",
   "source": [
    "# UniDB"
   ],
   "metadata": {
    "collapsed": false,
    "pycharm": {
     "name": "#%% md\n"
    }
   }
  },
  {
   "cell_type": "markdown",
   "source": [
    "## Methods/functions:\n"
   ],
   "metadata": {
    "collapsed": false,
    "pycharm": {
     "name": "#%% md\n"
    }
   }
  },
  {
   "cell_type": "code",
   "execution_count": 3,
   "outputs": [],
   "source": [
    "def degree_endpoint(degree):\n",
    "    endpoint = \"https://unidbapi.com/api/degree/read_demographics?d={}&key={}\".format(degree, api_key)\n",
    "    return endpoint"
   ],
   "metadata": {
    "collapsed": false,
    "pycharm": {
     "name": "#%%\n"
    }
   }
  },
  {
   "cell_type": "code",
   "execution_count": 4,
   "outputs": [],
   "source": [
    "def uni_endpoint(uni):\n",
    "    endpoint = \"https://unidbapi.com/api/university/read_demographics?u={}&key={}\".format(uni, api_key)\n",
    "    return endpoint"
   ],
   "metadata": {
    "collapsed": false,
    "pycharm": {
     "name": "#%%\n"
    }
   }
  },
  {
   "cell_type": "code",
   "execution_count": 5,
   "outputs": [],
   "source": [
    "def ratio_female_to_male(males, females):\n",
    "    ratio = females / males\n",
    "    return ratio"
   ],
   "metadata": {
    "collapsed": false,
    "pycharm": {
     "name": "#%%\n"
    }
   }
  },
  {
   "cell_type": "code",
   "execution_count": 6,
   "outputs": [],
   "source": [
    "def extract_keys_to_list(dict):\n",
    "    list_to_return = []\n",
    "    for key in dict:\n",
    "        list_to_return.append(key)\n",
    "\n",
    "    return list_to_return"
   ],
   "metadata": {
    "collapsed": false,
    "pycharm": {
     "name": "#%%\n"
    }
   }
  },
  {
   "cell_type": "code",
   "execution_count": 7,
   "outputs": [],
   "source": [
    "def extract_values_to_list(dict):\n",
    "    list_to_return = []\n",
    "    for item in dict:\n",
    "        list_to_return.append(dict[item])\n",
    "\n",
    "    return list_to_return"
   ],
   "metadata": {
    "collapsed": false,
    "pycharm": {
     "name": "#%%\n"
    }
   }
  },
  {
   "cell_type": "code",
   "execution_count": 8,
   "outputs": [],
   "source": [
    "def remove_none_percentage(df):\n",
    "    for x in df.index:\n",
    "        if df.loc[x, \"Percentage\"] == None:\n",
    "            df.drop(x, inplace = True)\n"
   ],
   "metadata": {
    "collapsed": false,
    "pycharm": {
     "name": "#%%\n"
    }
   }
  },
  {
   "cell_type": "code",
   "execution_count": 9,
   "outputs": [],
   "source": [
    "def get_ratio_by_year_dict(degree):\n",
    "    endpoint = degree_endpoint(degree)\n",
    "    years = requests.get(endpoint).json()\n",
    "\n",
    "    amount_of_years = len(years)\n",
    "\n",
    "    ratio_by_year = {}\n",
    "\n",
    "    i = 0\n",
    "\n",
    "    while i < amount_of_years:\n",
    "        data = years[i]\n",
    "        year = data['year']\n",
    "        male_grad_number = int(data['male_grads'])\n",
    "        female_grad_number = int(data['female_grads'])\n",
    "        ratio = ratio_female_to_male(male_grad_number, female_grad_number)\n",
    "        ratio_by_year.update({ year : ratio})\n",
    "        i += 1\n",
    "\n",
    "    return ratio_by_year"
   ],
   "metadata": {
    "collapsed": false,
    "pycharm": {
     "name": "#%%\n"
    }
   }
  },
  {
   "cell_type": "code",
   "execution_count": 10,
   "outputs": [],
   "source": [
    "def turn_lists_into_df(dict_ratio_by_year):\n",
    "    year_list = extract_keys_to_list(dict_ratio_by_year)\n",
    "    ratio_list = extract_values_to_list(dict_ratio_by_year)\n",
    "\n",
    "    degree_by_year = {\n",
    "        \"Year\": year_list,\n",
    "        \"Ratio\": ratio_list\n",
    "    }\n",
    "\n",
    "    return pd.DataFrame(degree_by_year)"
   ],
   "metadata": {
    "collapsed": false,
    "pycharm": {
     "name": "#%%\n"
    }
   }
  },
  {
   "cell_type": "code",
   "execution_count": 11,
   "outputs": [],
   "source": [
    "def display_as_year_barchart(year_ratios):\n",
    "    year_ratios.plot(kind = 'bar', x =  'Year', y= 'Ratio')\n",
    "    plt.plot([-3, 10], [1, 1], 'k-', lw=2)"
   ],
   "metadata": {
    "collapsed": false,
    "pycharm": {
     "name": "#%%\n"
    }
   }
  },
  {
   "cell_type": "markdown",
   "source": [
    "\n",
    "## Degrees"
   ],
   "metadata": {
    "collapsed": false,
    "pycharm": {
     "name": "#%% md\n"
    }
   }
  },
  {
   "cell_type": "markdown",
   "source": [
    "I manually created a list of degrees from: https://www.britishuni.com/subject-guide/subject-list & https://www.open.ac.uk/courses/atoz\n",
    "I also found a 'demo' page from the API: https://unidbapi.com/demo and this has a small list of potential uni's and degrees. It is not exhaustive, as I have tested unis & degrees not within this list and had valid responses. So, the contents has been added to the list"
   ],
   "metadata": {
    "collapsed": false,
    "pycharm": {
     "name": "#%% md\n"
    }
   }
  },
  {
   "cell_type": "code",
   "execution_count": 12,
   "outputs": [],
   "source": [
    "degrees = ['Archaeology', 'Architecture', 'Ancient History', 'Art', 'Astrophysics', 'Accounting', 'Art History',  'Arts and Humanities', 'Business', 'Business and Management', 'Computer Science', 'Creative Writing', 'Criminology', 'Chemistry', 'Classical Studies', 'Combined Studies', 'Computing and IT', 'Counselling', 'Dentistry', 'Drama', 'Dance', 'Design', ' Early Years', 'Economics', 'Education', 'Engineering', 'Electrical Engineering', 'Electronic Engineering', 'Environment', 'Environmental Studies', 'Biology', 'French', 'Mathematics', 'English', 'Film and Media', 'Journalism', 'Geology', 'Geography', 'Health and Social Care', 'Health and Wellbeing', 'Health Sciences', 'History', 'International Business', 'International Studies', 'Languages', 'Literature', 'Latin', 'Law', 'Music', 'Marketing', 'Mental Health', 'Music', 'Midwifery', 'Nursing', 'Nursing and Healthcare', 'Philosophy','Physics', 'Politics','Psychology','Religion', 'Religious Studies', 'Science', 'Sociology', 'Social Care', 'Social Sciences', 'Social Work', 'Sociology', 'Software Engineering', 'Sport & Fitness', 'Statistics', 'Natural Sciences', 'Media and Communication', 'Hospitality', 'Medicine', 'Marine Biology', 'Astonomy', 'Mechanical Engineering', 'Politics', 'Anthropology', 'Medical Science', 'Agriculture']\n",
    "\n",
    "\n",
    "valid_degrees = []"
   ],
   "metadata": {
    "collapsed": false,
    "pycharm": {
     "name": "#%%\n"
    }
   }
  },
  {
   "cell_type": "markdown",
   "source": [
    "Find the degrees that return results in the API"
   ],
   "metadata": {
    "collapsed": false,
    "pycharm": {
     "name": "#%% md\n"
    }
   }
  },
  {
   "cell_type": "code",
   "execution_count": 13,
   "outputs": [],
   "source": [
    "for degree in degrees:\n",
    "    response = requests.get(degree_endpoint(degree))\n",
    "    if json.dumps(response.json()) != \"{\\\"error\\\": \\\"Invalid Query\\\"}\":\n",
    "        valid_degrees.append(degree)"
   ],
   "metadata": {
    "collapsed": false,
    "pycharm": {
     "name": "#%%\n"
    }
   }
  },
  {
   "cell_type": "code",
   "execution_count": 14,
   "outputs": [],
   "source": [
    "degree_average_ratio = {}"
   ],
   "metadata": {
    "collapsed": false,
    "pycharm": {
     "name": "#%%\n"
    }
   }
  },
  {
   "cell_type": "markdown",
   "source": [
    "Now that we have a list of degrees that are in the API's 'system', we can begin reading the API for data.\n",
    "\n",
    "The degrees end point returns the following, multiple times (e.g. 4x, presumably for each university record that matches this degree? :\n",
    "- \"degree\": {degree as a string},\n",
    "- \"male_grads\": \"number as a string\",\n",
    "- \"female_grads\": \"number as a string\",\n",
    "- \"year\": {as a string}"
   ],
   "metadata": {
    "collapsed": false,
    "pycharm": {
     "name": "#%% md\n"
    }
   }
  },
  {
   "cell_type": "code",
   "execution_count": 15,
   "outputs": [],
   "source": [
    "for degree in valid_degrees:\n",
    "    endpoint = degree_endpoint(degree)\n",
    "    lists = requests.get(endpoint).json()\n",
    "\n",
    "    amount_of_data = len(lists)\n",
    "\n",
    "    ratios_for_this_degree = []\n",
    "\n",
    "    i = 0\n",
    "    while i < amount_of_data:\n",
    "        data = lists[i]\n",
    "        male_grad_number = int(data['male_grads'])\n",
    "        female_grad_number = int(data['female_grads'])\n",
    "        ratio = ratio_female_to_male(male_grad_number, female_grad_number)\n",
    "        ratios_for_this_degree.append(ratio)\n",
    "        i += 1\n",
    "\n",
    "    arr = np.array(ratios_for_this_degree)\n",
    "    degree_average = np.average(arr)\n",
    "    degree_average_ratio.update({degree : degree_average})\n"
   ],
   "metadata": {
    "collapsed": false,
    "pycharm": {
     "name": "#%%\n"
    }
   }
  },
  {
   "cell_type": "code",
   "execution_count": 16,
   "outputs": [
    {
     "name": "stdout",
     "output_type": "stream",
     "text": [
      "{'Architecture': 0.6667655162233832, 'Computer Science': 0.2401670612170872, 'Biology': 1.674302568808816, 'Mathematics': 0.6377244698420046, 'History': 1.1608471190994043, 'Law': 1.5871251581299277, 'Medical Science': 3.7984104598084487, 'Agriculture': 1.8206130790914017}\n"
     ]
    }
   ],
   "source": [
    "print(degree_average_ratio)"
   ],
   "metadata": {
    "collapsed": false,
    "pycharm": {
     "name": "#%%\n"
    }
   }
  },
  {
   "cell_type": "markdown",
   "source": [
    "## Data Analysis"
   ],
   "metadata": {
    "collapsed": false,
    "pycharm": {
     "name": "#%% md\n"
    }
   }
  },
  {
   "cell_type": "markdown",
   "source": [
    "For a pandas dataframe, need dictionary where the key is the column name, and the values are an array\n",
    "We now have the following collated data:\n",
    "- degree_average_ratio\n",
    "    - average ratio of women : men per degree\n",
    "    - e.g. 1.7 = 1.7 women per 1 man, 0.6 = 0.6 women per 1 man"
   ],
   "metadata": {
    "collapsed": false,
    "pycharm": {
     "name": "#%% md\n"
    }
   }
  },
  {
   "cell_type": "markdown",
   "source": [
    "For each of the above, we need a list of the values and a list of the keys in the same order. Then we can make a pandas dataframe\n"
   ],
   "metadata": {
    "collapsed": false,
    "pycharm": {
     "name": "#%% md\n"
    }
   }
  },
  {
   "cell_type": "code",
   "execution_count": 17,
   "outputs": [],
   "source": [
    "degree_avg_ratio_degree_list = extract_keys_to_list(degree_average_ratio)\n",
    "degree_avg_ratio_ratio_list = extract_values_to_list(degree_average_ratio)"
   ],
   "metadata": {
    "collapsed": false,
    "pycharm": {
     "name": "#%%\n"
    }
   }
  },
  {
   "cell_type": "code",
   "execution_count": 18,
   "outputs": [
    {
     "name": "stdout",
     "output_type": "stream",
     "text": [
      "[0.6667655162233832, 0.2401670612170872, 1.674302568808816, 0.6377244698420046, 1.1608471190994043, 1.5871251581299277, 3.7984104598084487, 1.8206130790914017]\n"
     ]
    }
   ],
   "source": [
    "print(degree_avg_ratio_ratio_list)"
   ],
   "metadata": {
    "collapsed": false,
    "pycharm": {
     "name": "#%%\n"
    }
   }
  },
  {
   "cell_type": "code",
   "execution_count": 19,
   "outputs": [],
   "source": [
    "female_ratio_data = {\n",
    "    \"Degree\": degree_avg_ratio_degree_list,\n",
    "    \"Ratio\": degree_avg_ratio_ratio_list\n",
    "}"
   ],
   "metadata": {
    "collapsed": false,
    "pycharm": {
     "name": "#%%\n"
    }
   }
  },
  {
   "cell_type": "code",
   "execution_count": 20,
   "outputs": [
    {
     "name": "stdout",
     "output_type": "stream",
     "text": [
      "             Degree     Ratio\n",
      "0      Architecture  0.666766\n",
      "1  Computer Science  0.240167\n",
      "2           Biology  1.674303\n",
      "3       Mathematics  0.637724\n",
      "4           History  1.160847\n",
      "5               Law  1.587125\n",
      "6   Medical Science  3.798410\n",
      "7       Agriculture  1.820613\n"
     ]
    }
   ],
   "source": [
    "df_ratio = pd.DataFrame(female_ratio_data)\n",
    "print(df_ratio)"
   ],
   "metadata": {
    "collapsed": false,
    "pycharm": {
     "name": "#%%\n"
    }
   }
  },
  {
   "cell_type": "markdown",
   "source": [
    "Bar chart showing ratio of women:men on courses. Horizontal line indicates 1:1.\n",
    "lowest results are for Maths and Comp Sci"
   ],
   "metadata": {
    "collapsed": false,
    "pycharm": {
     "name": "#%% md\n"
    }
   }
  },
  {
   "cell_type": "code",
   "execution_count": 21,
   "outputs": [
    {
     "data": {
      "text/plain": "Text(0.5, 1.0, 'Ratio of males to females \\n by degree between 2014 - 2018')"
     },
     "execution_count": 21,
     "metadata": {},
     "output_type": "execute_result"
    },
    {
     "data": {
      "text/plain": "<Figure size 432x288 with 1 Axes>",
      "image/png": "[encoded data removed]"
     },
     "metadata": {
      "needs_background": "light"
     },
     "output_type": "display_data"
    }
   ],
   "source": [
    "\n",
    "df_ratio.plot(kind = 'bar', x =  'Degree', y= 'Ratio')\n",
    "plt.plot([-3, 10], [1, 1], 'k-', lw=2) #horizontal line for 1:1\n",
    "plt.title(\"Ratio of males to females \\n by degree between 2014 - 2018\")"
   ],
   "metadata": {
    "collapsed": false,
    "pycharm": {
     "name": "#%%\n"
    }
   }
  },
  {
   "cell_type": "code",
   "execution_count": 22,
   "outputs": [
    {
     "name": "stdout",
     "output_type": "stream",
     "text": [
      "1.4482444290275591\n"
     ]
    }
   ],
   "source": [
    "df_ratio_avg = df_ratio[\"Ratio\"].mean()\n",
    "print(df_ratio_avg)"
   ],
   "metadata": {
    "collapsed": false,
    "pycharm": {
     "name": "#%%\n"
    }
   }
  },
  {
   "cell_type": "markdown",
   "source": [
    "I have seen that the API endpoint returns the same degree over several years. Now that I have performed an overall analysis, as the range of degrees is relatively small, I shall analyse each degree per year."
   ],
   "metadata": {
    "collapsed": false,
    "pycharm": {
     "name": "#%% md\n"
    }
   }
  },
  {
   "cell_type": "markdown",
   "source": [
    "### degree = maths"
   ],
   "metadata": {
    "collapsed": false,
    "pycharm": {
     "name": "#%% md\n"
    }
   }
  },
  {
   "cell_type": "code",
   "execution_count": 23,
   "outputs": [],
   "source": [
    "math_ratio_by_year_dict = get_ratio_by_year_dict('Mathematics')"
   ],
   "metadata": {
    "collapsed": false,
    "pycharm": {
     "name": "#%%\n"
    }
   }
  },
  {
   "cell_type": "code",
   "execution_count": 24,
   "outputs": [
    {
     "name": "stdout",
     "output_type": "stream",
     "text": [
      "   Year     Ratio\n",
      "0  2014  0.652083\n",
      "1  2015  0.640698\n",
      "2  2016  0.642125\n",
      "3  2017  0.638471\n",
      "4  2018  0.615244\n"
     ]
    }
   ],
   "source": [
    "math_year_ratios = turn_lists_into_df(math_ratio_by_year_dict)\n",
    "print(math_year_ratios)"
   ],
   "metadata": {
    "collapsed": false,
    "pycharm": {
     "name": "#%%\n"
    }
   }
  },
  {
   "cell_type": "code",
   "execution_count": 25,
   "outputs": [
    {
     "data": {
      "text/plain": "<Figure size 432x288 with 1 Axes>",
      "image/png": "[encoded data removed]"
     },
     "metadata": {
      "needs_background": "light"
     },
     "output_type": "display_data"
    }
   ],
   "source": [
    "display_as_year_barchart(math_year_ratios)"
   ],
   "metadata": {
    "collapsed": false,
    "pycharm": {
     "name": "#%%\n"
    }
   }
  },
  {
   "cell_type": "markdown",
   "source": [
    "Average value"
   ],
   "metadata": {
    "collapsed": false,
    "pycharm": {
     "name": "#%% md\n"
    }
   }
  },
  {
   "cell_type": "code",
   "execution_count": 26,
   "outputs": [
    {
     "name": "stdout",
     "output_type": "stream",
     "text": [
      "0.6377244698420046\n"
     ]
    }
   ],
   "source": [
    "math_by_year = extract_values_to_list(math_ratio_by_year_dict)\n",
    "average_math = sum(math_by_year) / len(math_by_year)\n",
    "print(average_math)"
   ],
   "metadata": {
    "collapsed": false,
    "pycharm": {
     "name": "#%%\n"
    }
   }
  },
  {
   "cell_type": "markdown",
   "source": [
    "roughly predict growth models at the current rate:\n",
    "_not using machine learning as not enough data, may cause underfitting_"
   ],
   "metadata": {
    "collapsed": false,
    "pycharm": {
     "name": "#%% md\n"
    }
   }
  },
  {
   "cell_type": "code",
   "execution_count": 27,
   "outputs": [
    {
     "name": "stdout",
     "output_type": "stream",
     "text": [
      "-0.03683943089430897\n"
     ]
    }
   ],
   "source": [
    "four_year_change = math_by_year[4] - math_by_year[0]\n",
    "print(four_year_change)"
   ],
   "metadata": {
    "collapsed": false,
    "pycharm": {
     "name": "#%%\n"
    }
   }
  },
  {
   "cell_type": "markdown",
   "source": [
    "As the change is negative, it is not possible at the current growth rate o increase to a ratio of 1."
   ],
   "metadata": {
    "collapsed": false,
    "pycharm": {
     "name": "#%% md\n"
    }
   }
  },
  {
   "cell_type": "markdown",
   "source": [
    "### degree = Architecture"
   ],
   "metadata": {
    "collapsed": false,
    "pycharm": {
     "name": "#%% md\n"
    }
   }
  },
  {
   "cell_type": "code",
   "execution_count": 28,
   "outputs": [],
   "source": [
    "\n",
    "architecture_ratio_by_year_dict = get_ratio_by_year_dict('Architecture')"
   ],
   "metadata": {
    "collapsed": false,
    "pycharm": {
     "name": "#%%\n"
    }
   }
  },
  {
   "cell_type": "code",
   "execution_count": 29,
   "outputs": [
    {
     "name": "stdout",
     "output_type": "stream",
     "text": [
      "   Year     Ratio\n",
      "0  2014  0.608538\n",
      "1  2015  0.646432\n",
      "2  2016  0.666667\n",
      "3  2017  0.686292\n",
      "4  2018  0.725900\n"
     ]
    }
   ],
   "source": [
    "\n",
    "architecture_year_ratios = turn_lists_into_df(architecture_ratio_by_year_dict)\n",
    "print(architecture_year_ratios)"
   ],
   "metadata": {
    "collapsed": false,
    "pycharm": {
     "name": "#%%\n"
    }
   }
  },
  {
   "cell_type": "code",
   "execution_count": 30,
   "outputs": [
    {
     "data": {
      "text/plain": "<Figure size 432x288 with 1 Axes>",
      "image/png": "[encoded data removed]"
     },
     "metadata": {
      "needs_background": "light"
     },
     "output_type": "display_data"
    }
   ],
   "source": [
    "\n",
    "display_as_year_barchart(architecture_year_ratios)"
   ],
   "metadata": {
    "collapsed": false,
    "pycharm": {
     "name": "#%%\n"
    }
   }
  },
  {
   "cell_type": "markdown",
   "source": [
    "### degree = computer science"
   ],
   "metadata": {
    "collapsed": false,
    "pycharm": {
     "name": "#%% md\n"
    }
   }
  },
  {
   "cell_type": "code",
   "execution_count": 31,
   "outputs": [],
   "source": [
    "compsci_ratio_by_year_dict = get_ratio_by_year_dict('Computer Science')"
   ],
   "metadata": {
    "collapsed": false,
    "pycharm": {
     "name": "#%%\n"
    }
   }
  },
  {
   "cell_type": "code",
   "execution_count": 32,
   "outputs": [
    {
     "name": "stdout",
     "output_type": "stream",
     "text": [
      "   Year     Ratio\n",
      "0  2014  0.239120\n",
      "1  2015  0.242881\n",
      "2  2016  0.233533\n",
      "3  2017  0.235744\n",
      "4  2018  0.249558\n"
     ]
    }
   ],
   "source": [
    "compsci_year_ratios = turn_lists_into_df(compsci_ratio_by_year_dict)\n",
    "print(compsci_year_ratios)"
   ],
   "metadata": {
    "collapsed": false,
    "pycharm": {
     "name": "#%%\n"
    }
   }
  },
  {
   "cell_type": "code",
   "execution_count": 33,
   "outputs": [
    {
     "data": {
      "text/plain": "<Figure size 432x288 with 1 Axes>",
      "image/png": "[encoded data removed]"
     },
     "metadata": {
      "needs_background": "light"
     },
     "output_type": "display_data"
    }
   ],
   "source": [
    "display_as_year_barchart(compsci_year_ratios)"
   ],
   "metadata": {
    "collapsed": false,
    "pycharm": {
     "name": "#%%\n"
    }
   }
  },
  {
   "cell_type": "code",
   "execution_count": 34,
   "outputs": [
    {
     "name": "stdout",
     "output_type": "stream",
     "text": [
      "0.2401670612170872\n"
     ]
    }
   ],
   "source": [
    "comp_by_year = extract_values_to_list(compsci_ratio_by_year_dict)\n",
    "average_comp_sci = sum(comp_by_year) / len(comp_by_year)\n",
    "\n",
    "print(average_comp_sci)"
   ],
   "metadata": {
    "collapsed": false,
    "pycharm": {
     "name": "#%%\n"
    }
   }
  },
  {
   "cell_type": "markdown",
   "source": [
    "roughly predict growth models at the current rate:\n",
    "_not using machine learning as not enough data, may cause underfitting_"
   ],
   "metadata": {
    "collapsed": false,
    "pycharm": {
     "name": "#%% md\n"
    }
   }
  },
  {
   "cell_type": "code",
   "execution_count": 35,
   "outputs": [
    {
     "name": "stdout",
     "output_type": "stream",
     "text": [
      "0.010437151753523444\n"
     ]
    }
   ],
   "source": [
    "four_year_change = comp_by_year[4] - comp_by_year[0]\n",
    "print(four_year_change)"
   ],
   "metadata": {
    "collapsed": false,
    "pycharm": {
     "name": "#%%\n"
    }
   }
  },
  {
   "cell_type": "markdown",
   "source": [
    "Changing by 0.010437151753523444 every four years, the increase from a current of 0.249558:"
   ],
   "metadata": {
    "collapsed": false,
    "pycharm": {
     "name": "#%% md\n"
    }
   }
  },
  {
   "cell_type": "code",
   "execution_count": 36,
   "outputs": [
    {
     "name": "stdout",
     "output_type": "stream",
     "text": [
      "287.60413481452383\n"
     ]
    }
   ],
   "source": [
    "value_2018 = 0.249558\n",
    "four_year_inc = 0.010437151753523444\n",
    "change_to_be_made_to_get_to_one_to_one = 1 - value_2018\n",
    "amount_of_four_years_to_change = change_to_be_made_to_get_to_one_to_one / four_year_inc\n",
    "print(4 * amount_of_four_years_to_change)"
   ],
   "metadata": {
    "collapsed": false,
    "pycharm": {
     "name": "#%%\n"
    }
   }
  },
  {
   "cell_type": "markdown",
   "source": [
    "### Degree = 'Biology'"
   ],
   "metadata": {
    "collapsed": false,
    "pycharm": {
     "name": "#%% md\n"
    }
   }
  },
  {
   "cell_type": "code",
   "execution_count": 37,
   "outputs": [
    {
     "name": "stdout",
     "output_type": "stream",
     "text": [
      "   Year     Ratio\n",
      "0  2014  1.600216\n",
      "1  2015  1.568395\n",
      "2  2016  1.615935\n",
      "3  2017  1.738482\n",
      "4  2018  1.848485\n"
     ]
    },
    {
     "data": {
      "text/plain": "<Figure size 432x288 with 1 Axes>",
      "image/png": "[encoded data removed]"
     },
     "metadata": {
      "needs_background": "light"
     },
     "output_type": "display_data"
    }
   ],
   "source": [
    "biology_ratio_by_year_dict = get_ratio_by_year_dict('Biology')\n",
    "\n",
    "biology_year_ratios = turn_lists_into_df(biology_ratio_by_year_dict)\n",
    "print(biology_year_ratios)\n",
    "\n",
    "display_as_year_barchart(biology_year_ratios)"
   ],
   "metadata": {
    "collapsed": false,
    "pycharm": {
     "name": "#%%\n"
    }
   }
  },
  {
   "cell_type": "markdown",
   "source": [
    "### Degree = History"
   ],
   "metadata": {
    "collapsed": false,
    "pycharm": {
     "name": "#%% md\n"
    }
   }
  },
  {
   "cell_type": "code",
   "execution_count": 38,
   "outputs": [
    {
     "name": "stdout",
     "output_type": "stream",
     "text": [
      "   Year     Ratio\n",
      "0  2014  1.127883\n",
      "1  2015  1.140799\n",
      "2  2016  1.148148\n",
      "3  2017  1.183299\n",
      "4  2018  1.204107\n"
     ]
    },
    {
     "data": {
      "text/plain": "<Figure size 432x288 with 1 Axes>",
      "image/png": "[encoded data removed]"
     },
     "metadata": {
      "needs_background": "light"
     },
     "output_type": "display_data"
    }
   ],
   "source": [
    "history_ratio_by_year_dict = get_ratio_by_year_dict('History')\n",
    "\n",
    "history_year_ratios = turn_lists_into_df(history_ratio_by_year_dict)\n",
    "print(history_year_ratios)\n",
    "\n",
    "display_as_year_barchart(history_year_ratios)"
   ],
   "metadata": {
    "collapsed": false,
    "pycharm": {
     "name": "#%%\n"
    }
   }
  },
  {
   "cell_type": "markdown",
   "source": [
    "### Degree = Law"
   ],
   "metadata": {
    "collapsed": false,
    "pycharm": {
     "name": "#%% md\n"
    }
   }
  },
  {
   "cell_type": "code",
   "execution_count": 39,
   "outputs": [
    {
     "name": "stdout",
     "output_type": "stream",
     "text": [
      "   Year     Ratio\n",
      "0  2014  1.526082\n",
      "1  2015  1.545051\n",
      "2  2016  1.545051\n",
      "3  2017  1.602585\n",
      "4  2018  1.716858\n"
     ]
    },
    {
     "data": {
      "text/plain": "<Figure size 432x288 with 1 Axes>",
      "image/png": "[encoded data removed]"
     },
     "metadata": {
      "needs_background": "light"
     },
     "output_type": "display_data"
    }
   ],
   "source": [
    "law_ratio_by_year_dict = get_ratio_by_year_dict('Law')\n",
    "\n",
    "law_year_ratios = turn_lists_into_df(law_ratio_by_year_dict)\n",
    "print(law_year_ratios)\n",
    "\n",
    "display_as_year_barchart(law_year_ratios)"
   ],
   "metadata": {
    "collapsed": false,
    "pycharm": {
     "name": "#%%\n"
    }
   }
  },
  {
   "cell_type": "markdown",
   "source": [
    "### Degree = Medical Science"
   ],
   "metadata": {
    "collapsed": false,
    "pycharm": {
     "name": "#%% md\n"
    }
   }
  },
  {
   "cell_type": "code",
   "execution_count": 40,
   "outputs": [
    {
     "name": "stdout",
     "output_type": "stream",
     "text": [
      "   Year     Ratio\n",
      "0  2014  3.911880\n",
      "1  2015  3.799526\n",
      "2  2016  3.726893\n",
      "3  2017  3.799610\n",
      "4  2018  3.754144\n"
     ]
    },
    {
     "data": {
      "text/plain": "<Figure size 432x288 with 1 Axes>",
      "image/png": "[encoded data removed]"
     },
     "metadata": {
      "needs_background": "light"
     },
     "output_type": "display_data"
    }
   ],
   "source": [
    "medSci_ratio_by_year_dict = get_ratio_by_year_dict('Medical Science')\n",
    "\n",
    "medSci_year_ratios = turn_lists_into_df(medSci_ratio_by_year_dict)\n",
    "print(medSci_year_ratios)\n",
    "\n",
    "display_as_year_barchart(medSci_year_ratios)"
   ],
   "metadata": {
    "collapsed": false,
    "pycharm": {
     "name": "#%%\n"
    }
   }
  },
  {
   "cell_type": "markdown",
   "source": [
    "The average value over the years:"
   ],
   "metadata": {
    "collapsed": false,
    "pycharm": {
     "name": "#%% md\n"
    }
   }
  },
  {
   "cell_type": "code",
   "execution_count": 41,
   "outputs": [
    {
     "name": "stdout",
     "output_type": "stream",
     "text": [
      "3.7984104598084487\n"
     ]
    }
   ],
   "source": [
    "medical_by_year = extract_values_to_list(medSci_ratio_by_year_dict)\n",
    "average_med_sci = sum(medical_by_year) / len(medical_by_year)\n",
    "\n",
    "print(average_med_sci)"
   ],
   "metadata": {
    "collapsed": false,
    "pycharm": {
     "name": "#%%\n"
    }
   }
  },
  {
   "cell_type": "markdown",
   "source": [
    "### Degree = Agriculture"
   ],
   "metadata": {
    "collapsed": false,
    "pycharm": {
     "name": "#%% md\n"
    }
   }
  },
  {
   "cell_type": "code",
   "execution_count": 42,
   "outputs": [
    {
     "name": "stdout",
     "output_type": "stream",
     "text": [
      "   Year     Ratio\n",
      "0  2014  1.585837\n",
      "1  2015  1.700229\n",
      "2  2016  1.875878\n",
      "3  2017  1.873206\n",
      "4  2018  2.067916\n"
     ]
    },
    {
     "data": {
      "text/plain": "<Figure size 432x288 with 1 Axes>",
      "image/png": "[encoded data removed]"
     },
     "metadata": {
      "needs_background": "light"
     },
     "output_type": "display_data"
    }
   ],
   "source": [
    "agri_ratio_by_year_dict = get_ratio_by_year_dict('Agriculture')\n",
    "\n",
    "agri_year_ratios = turn_lists_into_df(agri_ratio_by_year_dict)\n",
    "print(agri_year_ratios)\n",
    "\n",
    "display_as_year_barchart(agri_year_ratios)"
   ],
   "metadata": {
    "collapsed": false,
    "pycharm": {
     "name": "#%%\n"
    }
   }
  },
  {
   "cell_type": "markdown",
   "source": [
    "Lets compare all degrees together"
   ],
   "metadata": {
    "collapsed": false,
    "pycharm": {
     "name": "#%% md\n"
    }
   }
  },
  {
   "cell_type": "code",
   "execution_count": 43,
   "outputs": [
    {
     "data": {
      "text/plain": "<Figure size 432x288 with 1 Axes>",
      "image/png": "[encoded data removed]"
     },
     "metadata": {
      "needs_background": "light"
     },
     "output_type": "display_data"
    }
   ],
   "source": [
    "x = np.arange(5)\n",
    "architecture_bars = extract_values_to_list(architecture_ratio_by_year_dict)\n",
    "math_bars = extract_values_to_list(math_ratio_by_year_dict)\n",
    "comp_sci_bars = extract_values_to_list(compsci_ratio_by_year_dict)\n",
    "biology_bars = extract_values_to_list(biology_ratio_by_year_dict)\n",
    "history_bars = extract_values_to_list(history_ratio_by_year_dict)\n",
    "law_bars = extract_values_to_list(law_ratio_by_year_dict)\n",
    "medical_bars = extract_values_to_list(medSci_ratio_by_year_dict)\n",
    "agri_bars = extract_values_to_list(agri_ratio_by_year_dict)\n",
    "width = 0.1\n",
    "\n",
    "# plot data in grouped manner of bar type\n",
    "plt.bar(x-0.3, comp_sci_bars, width, color='blue')\n",
    "plt.bar(x-0.2, architecture_bars, width, color='cyan')\n",
    "plt.bar(x-0.1, math_bars, width, color='orange')\n",
    "plt.bar(x, history_bars, width, color='green')\n",
    "plt.bar(x+0.1, law_bars, width, color='hotpink')\n",
    "plt.bar(x+0.2, biology_bars, width, color='purple')\n",
    "plt.bar(x+0.3, agri_bars, width, color='gold')\n",
    "plt.bar(x+0.4, medical_bars, width, color='red')\n",
    "plt.xticks(x, ['2014', '2015', '2016', '2017', '2018'])\n",
    "plt.xlabel(\"Years\")\n",
    "plt.ylabel(\"Ratios\")\n",
    "plt.legend([\"comp science\", \"architecture\", \"math\", \"history\", \"law\", \"biology\", \"agriculture\", \"medical science\"], loc='center left', bbox_to_anchor=(1, 0.5))\n",
    "plt.title(\"Ratio of males to females per year by degree\")\n",
    "\n",
    "plt.show()"
   ],
   "metadata": {
    "collapsed": false,
    "pycharm": {
     "name": "#%%\n"
    }
   }
  },
  {
   "cell_type": "markdown",
   "source": [
    "Lets plot all degrees on a scatter diagram - to do this we make a dataframe with all degrees - to see the trends in better detail"
   ],
   "metadata": {
    "collapsed": false,
    "pycharm": {
     "name": "#%% md\n"
    }
   }
  },
  {
   "cell_type": "code",
   "execution_count": 44,
   "outputs": [],
   "source": [
    "year_list = extract_keys_to_list(math_ratio_by_year_dict) #can be any, all the same\n",
    "architec_year_list = extract_values_to_list(architecture_ratio_by_year_dict)\n",
    "compSci_year_list = extract_values_to_list(compsci_ratio_by_year_dict)\n",
    "biology_year_list = extract_values_to_list(biology_ratio_by_year_dict)\n",
    "math_year_ratios = extract_values_to_list(math_ratio_by_year_dict)\n",
    "history_year_list = extract_values_to_list(history_ratio_by_year_dict)\n",
    "law_year_list = extract_values_to_list(law_ratio_by_year_dict)\n",
    "medSci_year_list = extract_values_to_list(medSci_ratio_by_year_dict)\n",
    "agric_year_list = extract_values_to_list(agri_ratio_by_year_dict)\n",
    "\n",
    "all_degrees_by_year = {\n",
    "    \"Year\": year_list,\n",
    "    \"Architecture\" : architec_year_list,\n",
    "    \"Computer Science\": compSci_year_list,\n",
    "    \"Biology\":biology_year_list,\n",
    "    \"Mathematics\": math_year_ratios,\n",
    "    \"History\" : history_year_list,\n",
    "    \"Law\": law_year_list,\n",
    "    \"Medical Science\": medSci_year_list,\n",
    "    \"Agriculture\": agric_year_list\n",
    "}"
   ],
   "metadata": {
    "collapsed": false,
    "pycharm": {
     "name": "#%%\n"
    }
   }
  },
  {
   "cell_type": "code",
   "execution_count": 45,
   "outputs": [
    {
     "data": {
      "text/plain": "<matplotlib.legend.Legend at 0x7faba4c9df70>"
     },
     "execution_count": 45,
     "metadata": {},
     "output_type": "execute_result"
    },
    {
     "data": {
      "text/plain": "<Figure size 432x288 with 1 Axes>",
      "image/png": "[encoded data removed]"
     },
     "metadata": {
      "needs_background": "light"
     },
     "output_type": "display_data"
    }
   ],
   "source": [
    "df_years = pd.DataFrame(all_degrees_by_year)\n",
    "\n",
    "df_years.plot()\n",
    "plt.title(\"Ratio of males to females \\n by degree between 2014 - 2018\")\n",
    "plt.xticks(x, ['2014', '2015', '2016', '2017', '2018'])\n",
    "plt.legend(loc='center left', bbox_to_anchor=(1, 0.5))"
   ],
   "metadata": {
    "collapsed": false,
    "pycharm": {
     "name": "#%%\n"
    }
   }
  },
  {
   "cell_type": "markdown",
   "source": [
    "## Universities"
   ],
   "metadata": {
    "collapsed": false,
    "pycharm": {
     "name": "#%% md\n"
    }
   }
  },
  {
   "cell_type": "markdown",
   "source": [
    "\n",
    "I have manually created a list of UK universities by extracting the names from an online list: https://www.university-list.net/uk/universities-1000.html & https://www.jeduka.com/articles-updates/uk/list-of-top-100-ranking-universities-in-uk\n",
    "As above, I have also added in the small amount from the Demo.\n",
    "To try and get accurate representation of the population, have included all ’University of’s"
   ],
   "metadata": {
    "collapsed": false,
    "pycharm": {
     "name": "#%% md\n"
    }
   }
  },
  {
   "cell_type": "code",
   "execution_count": 46,
   "outputs": [],
   "source": [
    "unis = [ 'Anglia Ruskin University', 'Coventry University', 'Newcastle University', 'Royal Veterinary College', 'The Open University', 'The University of Essex', 'The University of Kent', 'The University of Manchester', 'The University of Surrey', 'University of Birmingham', 'University of Bristol', 'University of Nottingham', 'Writtle University College', 'University of Bath', 'Bishop Grosseteste College', 'University of Bolton', 'Bournemouth University', 'The Arts University College at Bournemouth', 'The University of Bradford', 'Bretton Hall College', 'University of Brighton', 'University of Bristol', 'University of the West of England', 'Brunel University London', 'The University of Buckingham', 'Cambridge University', 'The University of Cambridge', 'Cannington College', 'Canterbury Christ Church University',  'University of Bedfordshire', 'University of Chester', 'University of Cumbria', 'University of  Derby', 'University of East Anglia', 'University of East London', 'University of Essex', 'University of Gloucestershire', 'University of Greenwich', 'University of Hertfordshire', 'University of Huddersfield', 'University of Hull', 'University of Kent', 'University of Central Lancashire', 'University of Leeds', 'University of Leicester', 'University of Lincoln', 'University of Liverpool', 'University of London', 'University of Northampton', 'University of  Oxford', 'University of Plymouth', 'University of Portsmouth', 'University of Reading', 'University of Salford', 'University of Sheffield', 'University of Southampton', 'University of Suffolk', 'University of Sunderland', 'University of Sussex', 'University of Law', 'University of Warwick', 'University of West London', 'University of Westminster', 'University of Winchester', 'University of Wolverhampton', 'University of Worcester', 'University of York']\n",
    "valid_unis = []\n",
    "invalid_unis = []"
   ],
   "metadata": {
    "collapsed": false,
    "pycharm": {
     "name": "#%%\n"
    }
   }
  },
  {
   "cell_type": "markdown",
   "source": [
    "Determine which of the above are valid for the API"
   ],
   "metadata": {
    "collapsed": false,
    "pycharm": {
     "name": "#%% md\n"
    }
   }
  },
  {
   "cell_type": "code",
   "execution_count": 47,
   "outputs": [],
   "source": [
    "for uni in unis:\n",
    "    endpoint = uni_endpoint(uni)\n",
    "    response = requests.get(endpoint)\n",
    "    if json.dumps(response.json()) != \"{\\\"error\\\": \\\"Invalid Query\\\"}\":\n",
    "        valid_unis.append(uni)\n",
    "    else:\n",
    "        invalid_unis.append(uni)"
   ],
   "metadata": {
    "collapsed": false,
    "pycharm": {
     "name": "#%%\n"
    }
   }
  },
  {
   "cell_type": "markdown",
   "source": [
    "sometimes universities are referenced with 'The' infront of the name. So, to ensure we check as many as possible, I will also check with a 'the' infront:\n",
    "uni of liverpool vs liverpool university"
   ],
   "metadata": {
    "collapsed": false,
    "pycharm": {
     "name": "#%% md\n"
    }
   }
  },
  {
   "cell_type": "markdown",
   "source": [
    "could perhaps try removing 'the' too in future studies"
   ],
   "metadata": {
    "collapsed": false,
    "pycharm": {
     "name": "#%% md\n"
    }
   }
  },
  {
   "cell_type": "code",
   "execution_count": 48,
   "outputs": [],
   "source": [
    "for unis in invalid_unis:\n",
    "    try_the = 'The ' + uni\n",
    "    endpoint = \"https://unidbapi.com/api/university/read_demographics?u={}&key={}\".format(try_the, api_key)\n",
    "    response = requests.get(endpoint)\n",
    "    if json.dumps(response.json()) != \"{\\\"error\\\": \\\"Invalid Query\\\"}\":\n",
    "        valid_unis.append(try_the)"
   ],
   "metadata": {
    "collapsed": false,
    "pycharm": {
     "name": "#%%\n"
    }
   }
  },
  {
   "cell_type": "code",
   "execution_count": 49,
   "outputs": [
    {
     "name": "stdout",
     "output_type": "stream",
     "text": [
      "['Anglia Ruskin University', 'Coventry University', 'Newcastle University', 'Royal Veterinary College', 'The Open University', 'The University of Essex', 'The University of Kent', 'The University of Manchester', 'The University of Surrey', 'University of Birmingham', 'University of Bristol', 'University of Nottingham', 'Writtle University College', 'University of Bath', 'Bishop Grosseteste College', 'University of Bolton', 'Bournemouth University', 'The Arts University College at Bournemouth', 'The University of Bradford', 'Bretton Hall College', 'University of Brighton', 'University of Bristol', 'University of the West of England', 'Brunel University London', 'The University of Buckingham', 'Cambridge University', 'The University of Cambridge', 'Cannington College', 'Canterbury Christ Church University', 'University of Bedfordshire', 'University of Chester', 'University of Cumbria', 'University of  Derby', 'University of East Anglia', 'University of East London', 'University of Essex', 'University of Gloucestershire', 'University of Greenwich', 'University of Hertfordshire', 'University of Huddersfield', 'University of Hull', 'University of Kent', 'University of Central Lancashire', 'University of Leeds', 'University of Leicester', 'University of Lincoln', 'University of Liverpool', 'University of London', 'University of Northampton', 'University of  Oxford', 'University of Plymouth', 'University of Portsmouth', 'University of Reading', 'University of Salford', 'University of Sheffield', 'University of Southampton', 'University of Suffolk', 'University of Sunderland', 'University of Sussex', 'University of Law', 'University of Warwick', 'University of West London', 'University of Westminster', 'University of Winchester', 'University of Wolverhampton', 'University of Worcester', 'University of York']\n"
     ]
    }
   ],
   "source": [
    "print(valid_unis)"
   ],
   "metadata": {
    "collapsed": false,
    "pycharm": {
     "name": "#%%\n"
    }
   }
  },
  {
   "cell_type": "code",
   "execution_count": 50,
   "outputs": [
    {
     "name": "stdout",
     "output_type": "stream",
     "text": [
      "67\n"
     ]
    }
   ],
   "source": [
    "print(len(valid_unis))"
   ],
   "metadata": {
    "collapsed": false,
    "pycharm": {
     "name": "#%%\n"
    }
   }
  },
  {
   "cell_type": "markdown",
   "source": [
    "Now that we have a list of universities that are in the API's 'system', we can begin reading the API for data.\n",
    "\n",
    "The university endpoint returns the following once:\n",
    "- \"name\": \"Anglia Ruskin University\",\n",
    "- \"male_grads\": \"36\",\n",
    "- \"female_grads\": \"64\",\n",
    "- \"male_staff\": \"60\",\n",
    "- \"female_staff\": \"40\",\n",
    "- \"year\": \"2020\""
   ],
   "metadata": {
    "collapsed": false,
    "pycharm": {
     "name": "#%% md\n"
    }
   }
  },
  {
   "cell_type": "markdown",
   "source": [
    "all university demographic responses have 6 responses, so I will extract the female_grads, and female_staff.\n",
    "\n",
    "Although we are assessing education, as there is the data available for percentage of staff that are female, I will perform the same analysis to see if there is any correlation."
   ],
   "metadata": {
    "collapsed": false,
    "pycharm": {
     "name": "#%% md\n"
    }
   }
  },
  {
   "cell_type": "code",
   "execution_count": 51,
   "outputs": [],
   "source": [
    "female_grad_percentage_per_uni = {}\n",
    "female_staff_percentage_per_uni = {}"
   ],
   "metadata": {
    "collapsed": false,
    "pycharm": {
     "name": "#%%\n"
    }
   }
  },
  {
   "cell_type": "code",
   "execution_count": 52,
   "outputs": [],
   "source": [
    "for university in valid_unis:\n",
    "    endpoint = uni_endpoint(university)\n",
    "    data = requests.get(endpoint).json()\n",
    "    # adding to a list without converting to int prior, as some return 'none' if data is missing\n",
    "    #pp(data)\n",
    "    female_grad_percentage_per_uni.update({university : data['female_grads']})\n",
    "    female_staff_percentage_per_uni.update({university : data['female_staff']})\n"
   ],
   "metadata": {
    "collapsed": false,
    "pycharm": {
     "name": "#%%\n"
    }
   }
  },
  {
   "cell_type": "markdown",
   "source": [
    "For a pandas dataframe, need dictionary where the key is the column name, and the values are an array\n",
    "We now have the following collated data:\n",
    "- female_staff_percentage_per_uni\n",
    "- female_grad_percentage_per_uni"
   ],
   "metadata": {
    "collapsed": false,
    "pycharm": {
     "name": "#%% md\n"
    }
   }
  },
  {
   "cell_type": "markdown",
   "source": [
    "For each of the above, we need a list of the values and a list of the keys in the same order. Then we can make a pandas dataframe"
   ],
   "metadata": {
    "collapsed": false,
    "pycharm": {
     "name": "#%% md\n"
    }
   }
  },
  {
   "cell_type": "code",
   "execution_count": 53,
   "outputs": [],
   "source": [
    "female_staff_percentage_list = extract_values_to_list(female_staff_percentage_per_uni)\n",
    "female_staff_uni_name_list = extract_keys_to_list(female_staff_percentage_per_uni)\n",
    "female_grad_percentage_list = extract_values_to_list(female_grad_percentage_per_uni)\n",
    "female_grad_uni_name_list = extract_keys_to_list(female_grad_percentage_per_uni)"
   ],
   "metadata": {
    "collapsed": false,
    "pycharm": {
     "name": "#%%\n"
    }
   }
  },
  {
   "cell_type": "code",
   "execution_count": 54,
   "outputs": [
    {
     "name": "stdout",
     "output_type": "stream",
     "text": [
      "['40', '46', '46', '31', '39', '44', '44', '50', '47', '47', '45', '47', '32', None, None, None, None, None, None, None, None, None, None, None, None, None, None, None, None, None, None, None, None, None, None, None, '46', '43', None, None, None, None, None, None, '46', None, None, None, None, None, None, None, None, None, None, None, None, None, None, None, None, None, None, None, None, None]\n"
     ]
    }
   ],
   "source": [
    "print(female_staff_percentage_list)"
   ],
   "metadata": {
    "collapsed": false,
    "pycharm": {
     "name": "#%%\n"
    }
   }
  },
  {
   "cell_type": "code",
   "execution_count": 55,
   "outputs": [
    {
     "name": "stdout",
     "output_type": "stream",
     "text": [
      "['64', '48', '15', '79', '61', '55', '53', '54', '54', '58', '56', '54', '79', None, None, None, None, None, None, None, None, None, None, None, None, None, None, None, None, None, None, None, None, None, None, None, '59', '58', None, None, None, None, None, None, '55', None, None, None, None, None, None, None, None, None, None, None, None, None, None, None, None, None, None, None, None, None]\n"
     ]
    }
   ],
   "source": [
    "print(female_grad_percentage_list)"
   ],
   "metadata": {
    "collapsed": false,
    "pycharm": {
     "name": "#%%\n"
    }
   }
  },
  {
   "cell_type": "markdown",
   "source": [
    "From the above, it is apparent that further data cleansing is needed for the University endpoint generated data (percentages). As, although the request was valid, 'none' has been returned. I will make this into a pandas dataframe first however, as I can then use pandas method to remove corrupted data."
   ],
   "metadata": {
    "collapsed": false,
    "pycharm": {
     "name": "#%% md\n"
    }
   }
  },
  {
   "cell_type": "code",
   "execution_count": 56,
   "outputs": [],
   "source": [
    "female_grad_data = {\n",
    "    \"University\": female_grad_uni_name_list,\n",
    "    \"Percentage\": female_grad_percentage_list\n",
    "}"
   ],
   "metadata": {
    "collapsed": false,
    "pycharm": {
     "name": "#%%\n"
    }
   }
  },
  {
   "cell_type": "code",
   "execution_count": 57,
   "outputs": [
    {
     "name": "stdout",
     "output_type": "stream",
     "text": [
      "                     University Percentage\n",
      "0      Anglia Ruskin University         64\n",
      "1           Coventry University         48\n",
      "2          Newcastle University         15\n",
      "3      Royal Veterinary College         79\n",
      "4           The Open University         61\n",
      "..                          ...        ...\n",
      "61    University of Westminster       None\n",
      "62     University of Winchester       None\n",
      "63  University of Wolverhampton       None\n",
      "64      University of Worcester       None\n",
      "65           University of York       None\n",
      "\n",
      "[66 rows x 2 columns]\n"
     ]
    }
   ],
   "source": [
    "df_grads = pd.DataFrame(female_grad_data)\n",
    "print(df_grads)"
   ],
   "metadata": {
    "collapsed": false,
    "pycharm": {
     "name": "#%%\n"
    }
   }
  },
  {
   "cell_type": "code",
   "execution_count": 58,
   "outputs": [
    {
     "name": "stdout",
     "output_type": "stream",
     "text": [
      "                     University Percentage\n",
      "0      Anglia Ruskin University         40\n",
      "1           Coventry University         46\n",
      "2          Newcastle University         46\n",
      "3      Royal Veterinary College         31\n",
      "4           The Open University         39\n",
      "..                          ...        ...\n",
      "61    University of Westminster       None\n",
      "62     University of Winchester       None\n",
      "63  University of Wolverhampton       None\n",
      "64      University of Worcester       None\n",
      "65           University of York       None\n",
      "\n",
      "[66 rows x 2 columns]\n"
     ]
    }
   ],
   "source": [
    "female_staff_data = {\n",
    "    \"University\": female_staff_uni_name_list,\n",
    "    \"Percentage\": female_staff_percentage_list\n",
    "}\n",
    "\n",
    "df_staff = pd.DataFrame(female_staff_data)\n",
    "print(df_staff)"
   ],
   "metadata": {
    "collapsed": false,
    "pycharm": {
     "name": "#%%\n"
    }
   }
  },
  {
   "cell_type": "markdown",
   "source": [
    "Now for the data cleansing of the staff & grad data, we create a cleaning method"
   ],
   "metadata": {
    "collapsed": false,
    "pycharm": {
     "name": "#%% md\n"
    }
   }
  },
  {
   "cell_type": "code",
   "execution_count": 59,
   "outputs": [],
   "source": [
    "remove_none_percentage(df_staff)\n",
    "remove_none_percentage(df_grads)"
   ],
   "metadata": {
    "collapsed": false,
    "pycharm": {
     "name": "#%%\n"
    }
   }
  },
  {
   "cell_type": "code",
   "execution_count": 60,
   "outputs": [
    {
     "name": "stdout",
     "output_type": "stream",
     "text": [
      "                      University Percentage\n",
      "0       Anglia Ruskin University         40\n",
      "1            Coventry University         46\n",
      "2           Newcastle University         46\n",
      "3       Royal Veterinary College         31\n",
      "4            The Open University         39\n",
      "5        The University of Essex         44\n",
      "6         The University of Kent         44\n",
      "7   The University of Manchester         50\n",
      "8       The University of Surrey         47\n",
      "9       University of Birmingham         47\n",
      "10         University of Bristol         45\n",
      "11      University of Nottingham         47\n",
      "12    Writtle University College         32\n",
      "36       University of Greenwich         46\n",
      "37   University of Hertfordshire         43\n",
      "44         University of Lincoln         46\n",
      "                      University Percentage\n",
      "0       Anglia Ruskin University         64\n",
      "1            Coventry University         48\n",
      "2           Newcastle University         15\n",
      "3       Royal Veterinary College         79\n",
      "4            The Open University         61\n",
      "5        The University of Essex         55\n",
      "6         The University of Kent         53\n",
      "7   The University of Manchester         54\n",
      "8       The University of Surrey         54\n",
      "9       University of Birmingham         58\n",
      "10         University of Bristol         56\n",
      "11      University of Nottingham         54\n",
      "12    Writtle University College         79\n",
      "36       University of Greenwich         59\n",
      "37   University of Hertfordshire         58\n",
      "44         University of Lincoln         55\n"
     ]
    }
   ],
   "source": [
    "print(df_staff)\n",
    "print(df_grads)"
   ],
   "metadata": {
    "collapsed": false,
    "pycharm": {
     "name": "#%%\n"
    }
   }
  },
  {
   "cell_type": "markdown",
   "source": [
    "These datasets are now cleaned of percentage with 'None', and can be analysed once the datatype has migrated."
   ],
   "metadata": {
    "collapsed": false,
    "pycharm": {
     "name": "#%% md\n"
    }
   },
   "outputs": []
  },
  {
   "cell_type": "code",
   "execution_count": 61,
   "outputs": [],
   "source": [
    "df_staff = df_staff.astype({'Percentage':'int'})\n",
    "df_grads = df_grads.astype({'Percentage':'int'})"
   ],
   "metadata": {
    "collapsed": false,
    "pycharm": {
     "name": "#%%\n"
    }
   }
  },
  {
   "cell_type": "markdown",
   "source": [],
   "metadata": {
    "collapsed": false,
    "pycharm": {
     "name": "#%% md\n"
    }
   }
  },
  {
   "cell_type": "markdown",
   "source": [
    "Firstly, the grads gender percentages:\n",
    "Horizontal line to show 50/50 split"
   ],
   "metadata": {
    "collapsed": false,
    "pycharm": {
     "name": "#%% md\n"
    }
   }
  },
  {
   "cell_type": "code",
   "execution_count": 62,
   "outputs": [
    {
     "data": {
      "text/plain": "<Figure size 432x288 with 1 Axes>",
      "image/png": "[encoded data removed]"
     },
     "metadata": {
      "needs_background": "light"
     },
     "output_type": "display_data"
    }
   ],
   "source": [
    "df_grads.plot(kind = 'bar', x =  'University', y= 'Percentage', color=\"green\")\n",
    "plt.plot([-3, 30], [50, 50], 'k-', lw=2)\n",
    "\n",
    "plt.title(\"Percentage of female students at UK Universities\", size=14)\n",
    "\n",
    "plt.show()"
   ],
   "metadata": {
    "collapsed": false,
    "pycharm": {
     "name": "#%%\n"
    }
   }
  },
  {
   "cell_type": "markdown",
   "source": [
    "Shows the majority of grads across universities are female\n"
   ],
   "metadata": {
    "collapsed": false,
    "pycharm": {
     "name": "#%% md\n"
    }
   },
   "outputs": []
  },
  {
   "cell_type": "code",
   "execution_count": 63,
   "outputs": [
    {
     "name": "stdout",
     "output_type": "stream",
     "text": [
      "56.375\n"
     ]
    }
   ],
   "source": [
    "df_grad_avg = df_grads[\"Percentage\"].mean()\n",
    "print(df_grad_avg)"
   ],
   "metadata": {
    "collapsed": false,
    "pycharm": {
     "name": "#%%\n"
    }
   }
  },
  {
   "cell_type": "markdown",
   "source": [
    "Next, the staff:"
   ],
   "metadata": {
    "collapsed": false,
    "pycharm": {
     "name": "#%% md\n"
    }
   }
  },
  {
   "cell_type": "code",
   "execution_count": 75,
   "outputs": [
    {
     "data": {
      "text/plain": "<Figure size 432x288 with 1 Axes>",
      "image/png": "[encoded data removed]"
     },
     "metadata": {
      "needs_background": "light"
     },
     "output_type": "display_data"
    }
   ],
   "source": [
    "df_staff.plot(kind = 'bar', x =  'University', y= 'Percentage', color=\"orange\")\n",
    "plt.plot([-3, 30], [50, 50], 'k-', lw=2)\n",
    "plt.title(\"Percentage of female staff at UK Universities\", size=14)\n",
    "\n",
    "plt.show()"
   ],
   "metadata": {
    "collapsed": false,
    "pycharm": {
     "name": "#%%\n"
    }
   }
  },
  {
   "cell_type": "markdown",
   "source": [
    "This shows a lower split, meaning there are on average more male staff members."
   ],
   "metadata": {
    "collapsed": false,
    "pycharm": {
     "name": "#%% md\n"
    }
   }
  },
  {
   "cell_type": "code",
   "execution_count": 65,
   "outputs": [
    {
     "name": "stdout",
     "output_type": "stream",
     "text": [
      "43.3125\n"
     ]
    }
   ],
   "source": [
    "df_staff_avg = df_staff[\"Percentage\"].mean()\n",
    "print(df_staff_avg)"
   ],
   "metadata": {
    "collapsed": false,
    "pycharm": {
     "name": "#%%\n"
    }
   }
  },
  {
   "cell_type": "markdown",
   "source": [
    "Lets compare the staff vs students at each university:"
   ],
   "metadata": {
    "collapsed": false,
    "pycharm": {
     "name": "#%% md\n"
    }
   }
  },
  {
   "cell_type": "code",
   "execution_count": 69,
   "outputs": [
    {
     "data": {
      "text/plain": "16"
     },
     "execution_count": 69,
     "metadata": {},
     "output_type": "execute_result"
    }
   ],
   "source": [
    "len(df_staff.index)\n",
    "len(df_grads.index)"
   ],
   "metadata": {
    "collapsed": false,
    "pycharm": {
     "name": "#%%\n"
    }
   }
  },
  {
   "cell_type": "code",
   "execution_count": 77,
   "outputs": [
    {
     "data": {
      "text/plain": "<Figure size 432x288 with 1 Axes>",
      "image/png": "[encoded data removed]"
     },
     "metadata": {
      "needs_background": "light"
     },
     "output_type": "display_data"
    }
   ],
   "source": [
    "x = np.arange(16)\n",
    "grad_bars = df_grads['Percentage']\n",
    "staff_bars = df_staff['Percentage']\n",
    "\n",
    "width = 0.4\n",
    "\n",
    "plt.bar(x+0.4, grad_bars, width, color='green')\n",
    "plt.bar(x, staff_bars, width, color='orange')\n",
    "plt.plot([-0.5, 16], [50, 50], 'k-', lw=2)\n",
    "\n",
    "plt.xticks(x, df_staff['University'].values.tolist())\n",
    "plt.xticks(rotation = 90)\n",
    "\n",
    "plt.legend([\"50%\", \"Students\", \"Staff\"])\n",
    "plt.title(\"Percentage of females by University\", size=14)\n",
    "\n",
    "plt.show()"
   ],
   "metadata": {
    "collapsed": false,
    "pycharm": {
     "name": "#%%\n"
    }
   }
  },
  {
   "cell_type": "markdown",
   "source": [
    "# Geocoding - OW API"
   ],
   "metadata": {
    "collapsed": false,
    "pycharm": {
     "name": "#%% md\n"
    }
   }
  },
  {
   "cell_type": "markdown",
   "source": [
    "Documentation: https://openweathermap.org/api/geocoding-api"
   ],
   "metadata": {
    "collapsed": false,
    "pycharm": {
     "name": "#%% md\n"
    }
   }
  },
  {
   "cell_type": "markdown",
   "source": [
    "## Methods & resources"
   ],
   "metadata": {
    "collapsed": false,
    "pycharm": {
     "name": "#%% md\n"
    }
   }
  },
  {
   "cell_type": "markdown",
   "source": [
    "A list of english cities, may be used to map the uk or places to their closest city. Obtained manually from https://www.britannica.com/topic/list-of-cities-and-towns-in-the-United-Kingdom-2034188"
   ],
   "metadata": {
    "collapsed": false,
    "pycharm": {
     "name": "#%% md\n"
    }
   }
  },
  {
   "cell_type": "code",
   "execution_count": 78,
   "outputs": [],
   "source": [
    "list_english_cities = ['Newcastle upon Tyne', 'Durham', 'York', 'Leeds', 'Manchester', 'Hull', 'Nottingham', 'Leicester', 'Skegness', 'Peterborough', 'Cambridge', 'Northampton', 'Liverpool', 'Chester',   'Plymouth', 'Exeter', 'Plymouth', 'Bournemouth', 'Brighton', 'Hastings', 'Catebury', 'London', 'Colchester', 'Manchester', 'Ipswich', 'Luton', 'Northampton', 'Oxford', 'Swindon', 'Birmingham', 'Whitby', 'Bristol']"
   ],
   "metadata": {
    "collapsed": false,
    "pycharm": {
     "name": "#%%\n"
    }
   }
  },
  {
   "cell_type": "code",
   "execution_count": 79,
   "outputs": [],
   "source": [
    "def city_endpoint(city):\n",
    "    endpoint = \"http://api.openweathermap.org/geo/1.0/direct?q={},GB&appid={}\".format(city, location_api_key)\n",
    "    return endpoint"
   ],
   "metadata": {
    "collapsed": false,
    "pycharm": {
     "name": "#%%\n"
    }
   }
  },
  {
   "cell_type": "code",
   "execution_count": 80,
   "outputs": [],
   "source": [
    "def get_city_api_data(city):\n",
    "    endpoint = city_endpoint(city)\n",
    "    response = requests.get(endpoint).json()\n",
    "    return response"
   ],
   "metadata": {
    "collapsed": false,
    "pycharm": {
     "name": "#%%\n"
    }
   }
  },
  {
   "cell_type": "code",
   "execution_count": 81,
   "outputs": [],
   "source": [
    "def get_lon_of_city(place):\n",
    "    results = get_city_api_data(place)\n",
    "    if len(results) == 1:\n",
    "        city_results = results[0]\n",
    "        lon_to_return = city_results['lon']\n",
    "    else:\n",
    "        i = 0\n",
    "        city_in_uk = False\n",
    "        while not city_in_uk:\n",
    "            city_to_try = results[i]\n",
    "            if city_to_try['country'] == 'GB':\n",
    "                city_in_uk = True\n",
    "            i+= 1\n",
    "        lon_to_return = city_to_try['lon']\n",
    "    return lon_to_return\n"
   ],
   "metadata": {
    "collapsed": false,
    "pycharm": {
     "name": "#%%\n"
    }
   }
  },
  {
   "cell_type": "code",
   "execution_count": 82,
   "outputs": [],
   "source": [
    "def get_lat_of_city(place):\n",
    "    results = get_city_api_data(place)\n",
    "    if len(results) == 1:\n",
    "        city_results = results[0]\n",
    "        lat_to_return = city_results['lat']\n",
    "    else:\n",
    "        i = 0\n",
    "        city_in_uk = False\n",
    "        while not city_in_uk:\n",
    "            city_to_try = results[i]\n",
    "            if city_to_try['country'] == 'GB':\n",
    "                city_in_uk = True\n",
    "            i+= 1\n",
    "        lat_to_return = city_to_try['lat']\n",
    "    return lat_to_return\n"
   ],
   "metadata": {
    "collapsed": false,
    "pycharm": {
     "name": "#%%\n"
    }
   }
  },
  {
   "cell_type": "markdown",
   "source": [
    "Lat/long conversions\n",
    "one degree longitude equals 288,200 feet (54.6 miles)\n",
    "one degree latitude equals approximately 364,000 feet (69 miles),"
   ],
   "metadata": {
    "collapsed": false,
    "pycharm": {
     "name": "#%% md\n"
    }
   }
  },
  {
   "cell_type": "code",
   "execution_count": 83,
   "outputs": [],
   "source": [
    " # 1 degree = 54.6 miles\n",
    "# 1 mile = 1/54.6 degrees\n",
    "\n",
    "def miles_to_lon(miles):\n",
    "    conversion = 1.0 / 54.60\n",
    "    return miles * conversion\n",
    "\n",
    "#similarly for latitude\n",
    "\n",
    "def miles_to_lat(miles):\n",
    "    conversion = 1.0 / 69.0\n",
    "    return miles * conversion\n",
    "\n",
    "def lat_to_miles(lat):\n",
    "    return lat * 69.0\n",
    "\n",
    "def long_to_miles(lon):\n",
    "    return lon * 54.60"
   ],
   "metadata": {
    "collapsed": false,
    "pycharm": {
     "name": "#%%\n"
    }
   }
  },
  {
   "cell_type": "code",
   "execution_count": 84,
   "outputs": [],
   "source": [
    "cities = []\n",
    "lons = []\n",
    "lats = []\n",
    "\n",
    "def add_city_details_to_list(list_to_check):\n",
    "    if len(list_to_check) == 1:\n",
    "        city_list = list_to_check[0]\n",
    "        lat = city_list['lat']\n",
    "        lon = city_list['lon']\n",
    "        cities.append(city)\n",
    "        lons.append(lon)\n",
    "        lats.append(lat)\n"
   ],
   "metadata": {
    "collapsed": false,
    "pycharm": {
     "name": "#%%\n"
    }
   }
  },
  {
   "cell_type": "markdown",
   "source": [
    "Coordinates for major cities to display on maps: obtained from maps, just picked reference cities at various latitudes"
   ],
   "metadata": {
    "collapsed": false,
    "pycharm": {
     "name": "#%% md\n"
    }
   }
  },
  {
   "cell_type": "code",
   "execution_count": 85,
   "outputs": [],
   "source": [
    "#coordinates\n",
    "x = np.array([-4, 4]) #for horizontal line\n",
    "y = np.array([50, 58]) #vertical line\n",
    "y_lon = np.array([51.5072, 51.5072]) #london\n",
    "x_lon = np.array([0.1276, 0.1276]) #london\n",
    "y_manchester = np.array([53.4808,53.4808])\n",
    "x_manchester = np.array([-2.2426, -2.2426])\n",
    "y_newcastle = np.array([54.9783,54.9783])\n",
    "y_edinburgh = np.array([55.48, 55.48]) #northernmost point of England\n",
    "y_plymouth = np.array([50.3755, 50.3755])"
   ],
   "metadata": {
    "collapsed": false,
    "pycharm": {
     "name": "#%%\n"
    }
   }
  },
  {
   "cell_type": "markdown",
   "source": [
    "The below methods were not used in the end,  but are to plot the lines for major cities as map references/markers"
   ],
   "metadata": {
    "collapsed": false,
    "pycharm": {
     "name": "#%% md\n"
    }
   }
  },
  {
   "cell_type": "code",
   "execution_count": 86,
   "outputs": [],
   "source": [
    "def plot_major_cities():\n",
    "    plt.plot(x, y_newcastle, color=\"aqua\", label=\"newcastle\")\n",
    "    plt.plot(x, y_manchester, color=\"orange\", label=\"manchester\")\n",
    "    plt.plot(x_manchester, y, color=\"orange\")\n",
    "    plt.plot(x, y_lon, color=\"hotpink\", label=\"london\")\n",
    "    plt.plot(x_lon, y, color=\"hotpink\")\n",
    "    plt.plot(x, y_plymouth, color=\"red\", label=\"plymouth\")\n",
    "    plt.legend(loc=\"upper right\")"
   ],
   "metadata": {
    "collapsed": false,
    "pycharm": {
     "name": "#%%\n"
    }
   }
  },
  {
   "cell_type": "code",
   "execution_count": 87,
   "outputs": [],
   "source": [
    "def plot_major_cities_no_legend():\n",
    "    plt.plot(x, y_newcastle, color=\"aqua\", label=\"newcastle\")\n",
    "    plt.plot(x, y_manchester, color=\"orange\", label=\"manchester\")\n",
    "    plt.plot(x_manchester, y, color=\"orange\")\n",
    "    plt.plot(x, y_lon, color=\"hotpink\", label=\"london\")\n",
    "    plt.plot(x_lon, y, color=\"hotpink\")\n",
    "    plt.plot(x, y_plymouth, color=\"red\", label=\"plymouth\")"
   ],
   "metadata": {
    "collapsed": false,
    "pycharm": {
     "name": "#%%\n"
    }
   }
  },
  {
   "cell_type": "code",
   "execution_count": 88,
   "outputs": [],
   "source": [
    "def plot_man_lon():\n",
    "    plt.plot(x, y_manchester, color=\"orange\", label=\"manchester\")\n",
    "    plt.plot(x_manchester, y, color=\"orange\")\n",
    "    plt.plot(x, y_lon, color=\"hotpink\", label=\"london\")\n",
    "    plt.plot(x_lon, y, color=\"hotpink\")\n",
    "    plt.legend([\"Universities\", \"Manchester\", \"\", \"London\"])"
   ],
   "metadata": {
    "collapsed": false,
    "pycharm": {
     "name": "#%%\n"
    }
   }
  },
  {
   "cell_type": "code",
   "execution_count": 89,
   "outputs": [],
   "source": [
    "def plot_man_lon_no_legend():\n",
    "    plt.plot(x, y_manchester, color=\"orange\", label=\"manchester\")\n",
    "    plt.plot(x_manchester, y, color=\"orange\")\n",
    "    plt.plot(x, y_lon, color=\"hotpink\", label=\"london\")\n",
    "    plt.plot(x_lon, y, color=\"hotpink\")"
   ],
   "metadata": {
    "collapsed": false,
    "pycharm": {
     "name": "#%%\n"
    }
   }
  },
  {
   "cell_type": "code",
   "execution_count": 90,
   "outputs": [],
   "source": [
    "def create_no_dupe_list(list_to_check):\n",
    "    unduped_list = []\n",
    "    for item in list_to_check:\n",
    "        occurences = list_to_check.count(item)\n",
    "        if occurences == 1:\n",
    "            unduped_list.append(item)\n",
    "\n",
    "    return unduped_list"
   ],
   "metadata": {
    "collapsed": false,
    "pycharm": {
     "name": "#%%\n"
    }
   }
  },
  {
   "cell_type": "markdown",
   "source": [
    "### Data cleansing/sorting/organising"
   ],
   "metadata": {
    "collapsed": false,
    "pycharm": {
     "name": "#%% md\n"
    }
   }
  },
  {
   "cell_type": "code",
   "execution_count": 91,
   "outputs": [
    {
     "name": "stdout",
     "output_type": "stream",
     "text": [
      "['Birmingham', 'Bournemouth', 'Brighton', 'Bristol', 'Cambridge', 'Catebury', 'Chester', 'Colchester', 'Durham', 'Exeter', 'Hastings', 'Hull', 'Ipswich', 'Leeds', 'Leicester', 'Liverpool', 'London', 'Luton', 'Manchester', 'Manchester', 'Newcastle upon Tyne', 'Northampton', 'Northampton', 'Nottingham', 'Oxford', 'Peterborough', 'Plymouth', 'Plymouth', 'Skegness', 'Swindon', 'Whitby', 'York']\n"
     ]
    }
   ],
   "source": [
    "list_english_cities.sort()\n",
    "print(list_english_cities)"
   ],
   "metadata": {
    "collapsed": false,
    "pycharm": {
     "name": "#%%\n"
    }
   }
  },
  {
   "cell_type": "markdown",
   "source": [
    "Can visibly see duplicates, e.g. Manchester, so shall now remove them"
   ],
   "metadata": {
    "collapsed": false,
    "pycharm": {
     "name": "#%% md\n"
    }
   }
  },
  {
   "cell_type": "code",
   "execution_count": 92,
   "outputs": [],
   "source": [
    "clean_english_cities_list = create_no_dupe_list(list_english_cities)"
   ],
   "metadata": {
    "collapsed": false,
    "pycharm": {
     "name": "#%%\n"
    }
   }
  },
  {
   "cell_type": "code",
   "execution_count": 93,
   "outputs": [
    {
     "name": "stdout",
     "output_type": "stream",
     "text": [
      "['Birmingham', 'Bournemouth', 'Brighton', 'Bristol', 'Cambridge', 'Catebury', 'Chester', 'Colchester', 'Durham', 'Exeter', 'Hastings', 'Hull', 'Ipswich', 'Leeds', 'Leicester', 'Liverpool', 'London', 'Luton', 'Manchester', 'Manchester', 'Newcastle upon Tyne', 'Northampton', 'Northampton', 'Nottingham', 'Oxford', 'Peterborough', 'Plymouth', 'Plymouth', 'Skegness', 'Swindon', 'Whitby', 'York']\n"
     ]
    }
   ],
   "source": [
    "print(list_english_cities)"
   ],
   "metadata": {
    "collapsed": false,
    "pycharm": {
     "name": "#%%\n"
    }
   }
  },
  {
   "cell_type": "code",
   "execution_count": 94,
   "outputs": [
    {
     "data": {
      "text/plain": "32"
     },
     "execution_count": 94,
     "metadata": {},
     "output_type": "execute_result"
    }
   ],
   "source": [
    "len(list_english_cities)"
   ],
   "metadata": {
    "collapsed": false,
    "pycharm": {
     "name": "#%%\n"
    }
   }
  },
  {
   "cell_type": "code",
   "execution_count": 95,
   "outputs": [
    {
     "data": {
      "text/plain": "26"
     },
     "execution_count": 95,
     "metadata": {},
     "output_type": "execute_result"
    }
   ],
   "source": [
    "len(clean_english_cities_list)"
   ],
   "metadata": {
    "collapsed": false,
    "pycharm": {
     "name": "#%%\n"
    }
   }
  },
  {
   "cell_type": "code",
   "execution_count": 96,
   "outputs": [
    {
     "name": "stdout",
     "output_type": "stream",
     "text": [
      "['Birmingham', 'Bournemouth', 'Brighton', 'Bristol', 'Cambridge', 'Catebury', 'Chester', 'Colchester', 'Durham', 'Exeter', 'Hastings', 'Hull', 'Ipswich', 'Leeds', 'Leicester', 'Liverpool', 'London', 'Luton', 'Newcastle upon Tyne', 'Nottingham', 'Oxford', 'Peterborough', 'Skegness', 'Swindon', 'Whitby', 'York']\n"
     ]
    }
   ],
   "source": [
    "print(clean_english_cities_list)"
   ],
   "metadata": {
    "collapsed": false,
    "pycharm": {
     "name": "#%%\n"
    }
   }
  },
  {
   "cell_type": "markdown",
   "source": [
    "Can also see spelling errors, check which will successfully call API"
   ],
   "metadata": {
    "collapsed": false,
    "pycharm": {
     "name": "#%% md\n"
    }
   }
  },
  {
   "cell_type": "code",
   "execution_count": 97,
   "outputs": [
    {
     "name": "stdout",
     "output_type": "stream",
     "text": [
      "Birmingham\n",
      "[{'name': 'Birmingham', 'local_names': {'oc': 'Birmingham', 'fa': 'بیرمنگام', 'bg': 'Бирмингам', 'ur': 'برمنگھم', 'pt': 'Birmingham', 'az': 'Birmingem', 'la': 'Birminghamia', 'hi': 'बर्मिंघम', 'kn': 'ಬರ್ಮಿಂಗ್ಹ್ಯಾಮ್', 'ru': 'Бирмингем', 'my': 'ဘာမင်ဂမ်မြို့', 'en': 'Birmingham', 'zh': '伯明翰', 'bn': 'বার্মিংহাম', 'ta': 'பர்மிங்காம் (ஐக்கிய இராச்சியம்)', 'th': 'เบอร์มิงแฮม', 'sr': 'Бирмингем', 'hy': 'Բիրմինգհեմ', 'el': 'Μπέρμιγχαμ', 'uk': 'Бірмінгем', 'pa': 'ਬਰਮਿੰਘਮ', 'ml': 'ബിർമിങ്ഹാം', 'te': 'బర్మింగ్\\u200cహామ్', 'ka': 'ბირმინგემი', 'gu': 'બર્મિંગહામ', 'lv': 'Birmingema', 'mk': 'Бирмингем', 'yi': 'בירמינגהאם', 'ug': \"Birmin'gxam\", 'he': 'ברמינגהאם', 'lt': 'Birmingamas', 'be': 'Бірмінгем', 'mr': 'बर्मिंगहॅम', 'hu': 'Birmingham', 'ja': 'バーミンガム', 'ar': 'برمنهام', 'am': 'በርሚንግሃም', 'ko': '버밍엄'}, 'lat': 52.4796992, 'lon': -1.9026911, 'country': 'GB', 'state': 'England'}]\n",
      "Bournemouth\n",
      "[{'name': 'Bournemouth', 'local_names': {'ru': 'Борнмут', 'sr': 'Борнмут', 'en': 'Bournemouth', 'ko': '본머스', 'lt': 'Bornmutas'}, 'lat': 50.7194784, 'lon': -1.8767712, 'country': 'GB', 'state': 'England'}]\n",
      "Brighton\n",
      "[{'name': 'Brighton', 'local_names': {'bg': 'Брайтън', 'ar': 'برايتن', 'he': 'ברייטון', 'ko': '브라이턴', 'sr': 'Брајтон', 'mk': 'Брајтон', 'zh': '布莱顿', 'lt': 'Braitonas', 'ru': 'Брайтон', 'fa': 'برایتون', 'uk': 'Брайтон', 'ur': 'برائٹن', 'en': 'Brighton'}, 'lat': 50.8214626, 'lon': -0.1400561, 'country': 'GB', 'state': 'England'}]\n",
      "Bristol\n",
      "[{'name': 'Bristol', 'local_names': {'ru': 'Бристоль', 'ar': 'برستل', 'eo': 'Bristolo', 'sr': 'Бристол', 'ja': 'ブリストル', 'cy': 'Bryste', 'en': 'Bristol', 'mk': 'Бристол', 'lt': 'Bristolis', 'uk': 'Бристоль', 'ko': '브리스틀', 'zh': '布里斯托'}, 'lat': 51.4538022, 'lon': -2.5972985, 'country': 'GB', 'state': 'England'}]\n",
      "Cambridge\n",
      "[{'name': 'Cambridge', 'local_names': {'mk': 'Кембриџ', 'eo': 'Kembriĝo', 'uk': 'Кембридж', 'lt': 'Kembridžas', 'sr': 'Кембриџ', 'en': 'Cambridge', 'ko': '케임브리지', 'hu': 'Cambridge', 'ru': 'Кембридж', 'be': 'Кембрыдж', 'cy': 'Caergrawnt', 'zh': '剑桥'}, 'lat': 52.2055314, 'lon': 0.1186637, 'country': 'GB', 'state': 'England'}]\n",
      "Catebury\n",
      "[]\n",
      "Chester\n",
      "[{'name': 'Chester', 'local_names': {'uk': 'Честер', 'hu': 'Chester', 'en': 'Chester', 'el': 'Τσέστερ', 'la': 'Castra Deva Victrix', 'sr': 'Честер', 'ar': 'تشستر', 'mk': 'Честер', 'eo': 'Ĉestro', 'ru': 'Честер', 'cy': 'Caer', 'ko': '체스터', 'lt': 'Česteris'}, 'lat': 53.1908873, 'lon': -2.8908955, 'country': 'GB', 'state': 'England'}]\n",
      "Colchester\n",
      "[{'name': 'Colchester', 'local_names': {'en': 'Colchester', 'ru': 'Колчестер', 'cy': 'Caerfuddai'}, 'lat': 51.8896903, 'lon': 0.8994651, 'country': 'GB', 'state': 'England'}]\n",
      "Durham\n",
      "[{'name': 'Durham', 'local_names': {'sr': 'Дарам', 'lt': 'Daramas', 'hu': 'Durham', 'mk': 'Дарем', 'ru': 'Дарем', 'ko': '더럼', 'zh': '达勒姆', 'en': 'Durham', 'uk': 'Дарем', 'la': 'Dunelmum'}, 'lat': 54.7764152, 'lon': -1.5758539, 'country': 'GB', 'state': 'England'}]\n",
      "Exeter\n",
      "[{'name': 'Exeter', 'local_names': {'br': 'Kêrwisg', 'hu': 'Exeter', 'lt': 'Ekseteris', 'ru': 'Эксетер', 'en': 'Exeter', 'be': 'Эксэтэр', 'mk': 'Ексетер', 'cy': 'Caerwysg', 'ko': '엑서터', 'la': 'Isca Dumnoniorum', 'uk': 'Ексетер', 'zh': '艾克斯特', 'sr': 'Ексетер'}, 'lat': 50.7255794, 'lon': -3.5269497, 'country': 'GB', 'state': 'England'}]\n",
      "Hastings\n",
      "[{'name': 'Hastings', 'local_names': {'ru': 'Гастингс', 'uk': 'Гастинґс', 'en': 'Hastings'}, 'lat': 50.8553888, 'lon': 0.5824703, 'country': 'GB', 'state': 'England'}]\n",
      "Hull\n",
      "[{'name': 'Hull', 'local_names': {'en': 'Hull', 'mk': 'Кингстон на Хал', 'uk': 'Кінгстон-апон-Галл', 'fa': 'کینگستون آپون هال', 'ar': 'كينغستون أبون هال', 'ko': '킹스턴어폰헐', 'fr': 'Hull', 'ru': 'Кингстон-апон-Халл', 'hu': 'Hull'}, 'lat': 53.7435722, 'lon': -0.3394758, 'country': 'GB', 'state': 'England'}]\n",
      "Ipswich\n",
      "[{'name': 'Ipswich', 'local_names': {'ru': 'Ипсуич', 'sr': 'Ипсвич', 'en': 'Ipswich', 'lt': 'Ipsvičas'}, 'lat': 52.0579495, 'lon': 1.1526345, 'country': 'GB', 'state': 'England'}]\n",
      "Leeds\n",
      "[{'name': 'Leeds', 'local_names': {'mk': 'Лидс', 'ja': 'リーズ', 'lt': 'Lidsas', 'fa': 'لیدز', 'sr': 'Лидс', 'en': 'Leeds', 'ru': 'Лидс', 'uk': 'Лідс', 'zh': '列斯', 'ar': 'ليدز', 'hu': 'Leeds', 'ko': '리즈', 'la': 'Ledesia', 'ur': 'لیڈز'}, 'lat': 53.7974185, 'lon': -1.5437941, 'country': 'GB', 'state': 'England'}]\n",
      "Leicester\n",
      "[{'name': 'Leicester', 'local_names': {'he': 'לסטר', 'en': 'Leicester', 'ur': 'لیسٹر', 'lt': 'Lesteris', 'hu': 'Leicester', 'kn': 'ಲೆಸ್ಟರ್', 'ru': 'Лестер', 'ko': '레스터', 'ar': 'ليستر', 'cy': 'Caerlŷr', 'fa': 'لستر', 'uk': 'Лестер', 'ja': 'レスター', 'mk': 'Лестер'}, 'lat': 52.6361398, 'lon': -1.1330789, 'country': 'GB', 'state': 'England'}]\n",
      "Liverpool\n",
      "[{'name': 'Liverpool', 'local_names': {'mk': 'Ливерпул', 'gd': \"Poll a' Ghrùthain\", 'hu': 'Liverpool', 'gv': 'Lerphoyll', 'en': 'Liverpool', 'ru': 'Ливерпуль', 'la': 'Liverpolium', 'fa': 'لیورپول', 'uk': 'Ліверпуль', 'zh': '利物浦', 'sr': 'Ливерпул', 'ja': 'リヴァプール', 'ga': 'Learpholl', 'ar': 'ليفربول', 'eo': 'Liverpolo', 'lv': 'Liverpūle', 'kn': 'ಲಿವರ್\\u200cಪೂಲ್', 'cy': 'Lerpwl', 'ko': '리버풀', 'be': 'Ліверпул'}, 'lat': 53.4071991, 'lon': -2.99168, 'country': 'GB', 'state': 'England'}]\n",
      "London\n",
      "[{'name': 'London', 'local_names': {'br': 'Londrez', 'zh': '伦敦', 'el': 'Λονδίνο', 'kw': 'Loundres', 'cs': 'Londýn', 'ne': 'लण्डन', 'ga': 'Londain', 'co': 'Londra', 'he': 'לונדון', 'pl': 'Londyn', 'ur': 'لندن', 'ro': 'Londra', 'kn': 'ಲಂಡನ್', 'yi': 'לאנדאן', 'hi': 'लंदन', 'mr': 'लंडन', 'tr': 'Londra', 'gu': 'લંડન', 'gd': 'Lunnainn', 'lv': 'Londona', 'gn': 'Londye', 'ml': 'ലണ്ടൻ', 'fi': 'Lontoo', 'or': 'ଲଣ୍ଡନ', 'ht': 'Lonn', 'mt': 'Londra', 'de': 'London', 'es': 'Londres', 'fr': 'Londres', 'kv': 'Лондон', 'ca': 'Londres', 'am': 'ለንደን', 'ascii': 'London', 'li': 'Londe', 'is': 'Lundúnir', 'tg': 'Лондон', 'be': 'Лондан', 'uk': 'Лондон', 'mn': 'Лондон', 'bo': 'ལོན་ཊོན།', 'mk': 'Лондон', 'hu': 'London', 'mi': 'Rānana', 'lo': 'ລອນດອນ', 'sr': 'Лондон', 'nl': 'Londen', 'an': 'Londres', 'fy': 'Londen', 'sc': 'Londra', 'gl': 'Londres', 'af': 'Londen', 'feature_name': 'London', 'kk': 'Лондон', 'eu': 'Londres', 'sl': 'London', 'vi': 'Luân Đôn', 'wo': 'Londar', 'pt': 'Londres', 'ar': 'لندن', 'sk': 'Londýn', 'tl': 'Londres', 'ja': 'ロンドン', 'rm': 'Londra', 'ky': 'Лондон', 'cu': 'Лондонъ', 'eo': 'Londono', 'ps': 'لندن', 'yo': 'Lọndọnu', 'sv': 'London', 'ka': 'ლონდონი', 'bn': 'লন্ডন', 'te': 'లండన్', 'gv': 'Lunnin', 'os': 'Лондон', 'cy': 'Llundain', 'th': 'ลอนดอน', 'tt': 'Лондон', 'ko': '런던', 'sa': 'लन्डन्', 'hy': 'Լոնդոն', 'my': 'လန်ဒန်မြို့', 'oc': 'Londres', 'ba': 'Лондон', 'lt': 'Londonas', 'bg': 'Лондон', 'ku': 'London', 'ta': 'இலண்டன்', 'zu': 'ILondon', 'ru': 'Лондон', 'si': 'ලන්ඩන්', 'cv': 'Лондон', 'en': 'London', 'sq': 'Londra', 'ln': 'Londoni', 'ab': 'Лондан', 'no': 'London', 'fa': 'لندن', 'it': 'Londra', 'et': 'London'}, 'lat': 51.5073219, 'lon': -0.1276474, 'country': 'GB', 'state': 'England'}]\n",
      "Luton\n",
      "[{'name': 'Luton', 'local_names': {'ru': 'Лутон', 'en': 'Luton'}, 'lat': 51.8784385, 'lon': -0.4152837, 'country': 'GB', 'state': 'England'}]\n",
      "Newcastle upon Tyne\n",
      "[{'name': 'Newcastle upon Tyne', 'local_names': {'fa': 'نیوکاسل آپون تاین', 'ur': 'نیوکاسڵ', 'pa': 'نیوکاسل', 'ja': 'ニューカッスル・アポン・タイン', 'ko': '뉴캐슬어폰타인', 'he': 'ניוקאסל', 'lt': 'Niukaslas prie Taino', 'el': 'Νιούκασλ', 'ar': 'نيوكاسل أبون تاين', 'en': 'Newcastle upon Tyne', 'sr': 'Њукасл на Тајну', 'ta': 'டைன் ஆற்றங்கரை நியூ காசில்', 'ka': 'ნიუკასლ-აპონ-ტაინი', 'fr': 'Newcastle upon Tyne', 'lv': 'Ņūkāsla pie Tainas', 'yi': 'ניוקאסטל', 'la': 'Novum Castellum super Tinam', 'uk': 'Ньюкасл-апон-Тайн', 'gd': 'An Caisteal Nuadh', 'be': 'Ньюкасл-апан-Тайн', 'vi': 'Newcastle trên sông Tyne', 'bn': 'নিউক্যাসল আপন ট্যাইন', 'hu': 'Newcastle', 'ru': 'Ньюкасл-апон-Тайн', 'az': 'Nyukasl apon Tayn', 'mk': 'Њукасл на Тајн', 'bg': 'Нюкасъл ъпон Тайн', 'th': 'นิวคาสเซิลอะพอนไทน์', 'zh': '紐卡素', 'mr': 'न्यूकॅसल अपॉन टाईन'}, 'lat': 54.9738474, 'lon': -1.6131572, 'country': 'GB', 'state': 'England'}]\n",
      "Nottingham\n",
      "[{'name': 'Nottingham', 'local_names': {'sr': 'Нотингем', 'hu': 'Nottingham', 'ar': 'مدينة نوتنهام', 'ko': '노팅엄', 'mk': 'Нотингем', 'ru': 'Ноттингем', 'fa': 'ناتینگهام', 'en': 'Nottingham', 'uk': 'Ноттінгем', 'ur': 'ناٹنگھم', 'ja': 'ノッティンガム', 'be': 'Но́тынгем'}, 'lat': 52.9534193, 'lon': -1.1496461, 'country': 'GB', 'state': 'England'}]\n",
      "Oxford\n",
      "[{'name': 'Oxford', 'local_names': {'lt': 'Oksfordas', 'hu': 'Oxford', 'ko': '옥스퍼드', 'kn': 'ಆಕ್ಸ್\\u200cಫರ್ಡ್', 'cy': 'Rhydychen', 'ga': 'Ocsanphort', 'en': 'Oxford', 'mk': 'Оксфорд', 'gd': 'Àth nan Damh', 'pl': 'Oksford', 'ar': 'أكسفورد', 'zh': '牛津', 'uk': 'Оксфорд', 'eo': 'Oksfordo', 'la': 'Oxonia', 'sr': 'Оксфорд', 'el': 'Οξφόρδη', 'ru': 'Оксфорд'}, 'lat': 51.7520131, 'lon': -1.2578499, 'country': 'GB', 'state': 'England'}]\n",
      "Peterborough\n",
      "[{'name': 'Peterborough', 'local_names': {'sr': 'Питерборо', 'uk': 'Пітерборо', 'ko': '피터버러', 'ru': 'Питерборо', 'en': 'Peterborough', 'hu': 'Peterborough', 'mk': 'Питерборо', 'lt': 'Piterboras', 'cy': 'Trebedr'}, 'lat': 52.5725769, 'lon': -0.2427336, 'country': 'GB', 'state': 'England'}]\n",
      "Skegness\n",
      "[{'name': 'Skegness', 'lat': 53.150227799999996, 'lon': 0.32909339328596654, 'country': 'GB', 'state': 'England'}]\n",
      "Swindon\n",
      "[{'name': 'Swindon', 'local_names': {'ru': 'Суиндон', 'en': 'Swindon', 'lt': 'Svindonas'}, 'lat': 51.5613683, 'lon': -1.7856853, 'country': 'GB', 'state': 'England'}]\n",
      "Whitby\n",
      "[{'name': 'Whitby', 'lat': 54.47997505, 'lon': -0.6242561969485891, 'country': 'GB', 'state': 'England'}]\n",
      "York\n",
      "[{'name': 'York', 'local_names': {'he': 'יורק', 'uk': 'Йорк', 'fa': 'یورک', 'lv': 'Jorka', 'hu': 'York', 'is': 'Jórvík', 'en': 'York', 'sr': 'Јорк', 'el': 'Υόρκη', 'ascii': 'York', 'lt': 'Jorkas', 'cy': 'Efrog', 'feature_name': 'York', 'ko': '요크', 'mk': 'Јорк', 'ur': 'یورک', 'eo': 'Jorko', 'ru': 'Йорк', 'ar': 'يورك', 'ga': 'Eabhrac', 'pt': 'Iorque'}, 'lat': 53.9590555, 'lon': -1.0815361, 'country': 'GB', 'state': 'England'}]\n"
     ]
    }
   ],
   "source": [
    "for city in clean_english_cities_list:\n",
    "    print(city)\n",
    "    print(get_city_api_data(city))"
   ],
   "metadata": {
    "collapsed": false,
    "pycharm": {
     "name": "#%%\n"
    }
   }
  },
  {
   "cell_type": "markdown",
   "source": [
    "Can see Cantebury doesn't work, as spelt incorrectly, and Cork has no results - will update & remove\n"
   ],
   "metadata": {
    "collapsed": false,
    "pycharm": {
     "name": "#%% md\n"
    }
   }
  },
  {
   "cell_type": "code",
   "execution_count": 98,
   "outputs": [],
   "source": [
    "clean_english_cities_list.remove(\"Catebury\")\n",
    "clean_english_cities_list.append(\"Canterbury\")"
   ],
   "metadata": {
    "collapsed": false,
    "pycharm": {
     "name": "#%%\n"
    }
   }
  },
  {
   "cell_type": "code",
   "execution_count": 99,
   "outputs": [
    {
     "name": "stdout",
     "output_type": "stream",
     "text": [
      "26\n"
     ]
    }
   ],
   "source": [
    "print(len(clean_english_cities_list))"
   ],
   "metadata": {
    "collapsed": false,
    "pycharm": {
     "name": "#%%\n"
    }
   }
  },
  {
   "cell_type": "markdown",
   "source": [
    "double check Cantebury now calls API successfully & changed succesfully"
   ],
   "metadata": {
    "collapsed": false,
    "pycharm": {
     "name": "#%% md\n"
    }
   }
  },
  {
   "cell_type": "code",
   "execution_count": 100,
   "outputs": [
    {
     "name": "stdout",
     "output_type": "stream",
     "text": [
      "successful\n",
      "[{'name': 'Canterbury', 'local_names': {'lt': 'Kenterberis', 'ar': 'كانتربيري', 'ko': '캔터베리', 'pt': 'Cantuária', 'sr': 'Кентербери', 'uk': 'Кентербері', 'ru': 'Кентербери', 'mk': 'Кантербери', 'lv': 'Kanterburija', 'hu': 'Canterbury', 'br': 'Canterbury', 'fr': 'Cantorbéry', 'cy': 'Caergaint', 'la': 'Cantuaria', 'en': 'Canterbury'}, 'lat': 51.2800275, 'lon': 1.0802533, 'country': 'GB', 'state': 'England'}]\n"
     ]
    }
   ],
   "source": [
    "if \"Canterbury\" in clean_english_cities_list:\n",
    "    print(\"successful\")\n",
    "    print(get_city_api_data(\"Canterbury\"))"
   ],
   "metadata": {
    "collapsed": false,
    "pycharm": {
     "name": "#%%\n"
    }
   }
  },
  {
   "cell_type": "markdown",
   "source": [
    "Confident that this has now been cleaned"
   ],
   "metadata": {
    "collapsed": false,
    "pycharm": {
     "name": "#%% md\n"
    }
   }
  },
  {
   "cell_type": "markdown",
   "source": [
    "### Using Geocoding to find the nearest city\n",
    "In the end, this function was not used. It was intended to allow us to assign universities to a nearby major city, adjusting the distance and list of cities 'accepted' above. This was not used, as we can obtain the city of the university directly from the API. However, in future studies this may be used for deeper analysis, perhaps using a dataset from the government rather than just the API."
   ],
   "metadata": {
    "collapsed": false,
    "pycharm": {
     "name": "#%% md\n"
    }
   }
  },
  {
   "cell_type": "markdown",
   "source": [
    "obtaining lats/lons of cities in clean_english_cities_lists"
   ],
   "metadata": {
    "collapsed": false,
    "pycharm": {
     "name": "#%% md\n"
    }
   }
  },
  {
   "cell_type": "code",
   "execution_count": 101,
   "outputs": [],
   "source": [
    "#ensure clean prior to use\n",
    "lats = []\n",
    "lons = []\n",
    "for city in clean_english_cities_list:\n",
    "    list_to_add = get_city_api_data(city)\n",
    "    add_city_details_to_list(list_to_add)\n"
   ],
   "metadata": {
    "collapsed": false,
    "pycharm": {
     "name": "#%%\n"
    }
   }
  },
  {
   "cell_type": "markdown",
   "source": [
    "ensure all have been added correctly, no duplicates etc"
   ],
   "metadata": {
    "collapsed": false,
    "pycharm": {
     "name": "#%% md\n"
    }
   }
  },
  {
   "cell_type": "code",
   "execution_count": 102,
   "outputs": [
    {
     "name": "stdout",
     "output_type": "stream",
     "text": [
      "26\n",
      "26\n",
      "26\n"
     ]
    }
   ],
   "source": [
    "print(len(lats))\n",
    "print(len(clean_english_cities_list))\n",
    "print(len(lons))"
   ],
   "metadata": {
    "collapsed": false,
    "pycharm": {
     "name": "#%%\n"
    }
   }
  },
  {
   "cell_type": "markdown",
   "source": [
    "We now have ordered lists of the uk cities with their lon&lats\n",
    "now we create a method to find the nearest city based on lat& lons"
   ],
   "metadata": {
    "collapsed": false,
    "pycharm": {
     "name": "#%% md\n"
    }
   }
  },
  {
   "cell_type": "markdown",
   "source": [
    "assumptions to make\n",
    "Northernmost point – Marshall Meadows Bay, Northumberland at 55°48′N 2°02′W (55.8, -2.033333)\n",
    "Southernmost point – Pednathise Head, Western Rocks at 49°51′N 6°24′W (49.85, -6.4)\n",
    "Westernmost point – Crim Rocks, Isles of Scilly at 49°53′N 6°27′W (49.883333, -6.45)\n",
    "Easternmost point – Lowestoft Ness, Suffolk at 52°29′N 1°46′E (52.483333, 1.766667)\n",
    "\n",
    "(lat, lon)\n",
    "Uk lats always positive, lons can be positive or negative. To allow for easier analysis, will scale the lons to be positive (this does not affect analysis, but if using the lons later will need to re-scale back\n",
    "\n",
    "The method to find the nearest city is not 100% accurate, as in it has not used the optimal way to find a nearest city. That was not the goal of this report, and it was just for representational purposes. Further studies would refine this."
   ],
   "metadata": {
    "collapsed": false,
    "pycharm": {
     "name": "#%% md\n"
    }
   }
  },
  {
   "cell_type": "code",
   "execution_count": 111,
   "outputs": [],
   "source": [
    "#all larger than -10, will just add 10 to all to bring positive\n",
    "lon_plus_ten = []\n",
    "\n",
    "for lon in lons:\n",
    "    to_add = lon + 10.00\n",
    "    lon_plus_ten.append(to_add)"
   ],
   "metadata": {
    "collapsed": false,
    "pycharm": {
     "name": "#%%\n"
    }
   }
  },
  {
   "cell_type": "code",
   "execution_count": 112,
   "outputs": [],
   "source": [
    "def find_nearest_city(city):\n",
    "    if city in list_english_cities:\n",
    "        answer = city\n",
    "    else:\n",
    "        city = 'Newark' #to be deleted\n",
    "        response = get_city_api_data(city)\n",
    "        data = response[0]\n",
    "\n",
    "        this_latitude = data['lat']\n",
    "        this_longitutde = data['lon'] + 10.00\n",
    "\n",
    "        potential_cities = []\n",
    "        potential_cities_lats_diff = {}\n",
    "        potential_cities_lons_diff = {}\n",
    "\n",
    "        for city in clean_english_cities_list:\n",
    "            index = clean_english_cities_list.index(city)\n",
    "            max_lat = lats[index] + miles_to_lat(50)\n",
    "            min_lat = lats[index] - miles_to_lat(50)\n",
    "            max_lon = lon_plus_ten[index] + miles_to_lon(50)\n",
    "            min_lon = lon_plus_ten[index] - miles_to_lon(50)\n",
    "\n",
    "            if this_latitude <= max_lat and this_latitude >= min_lat and this_longitutde <= max_lon and this_longitutde >= min_lon:\n",
    "                potential_cities.append(city)\n",
    "                lat_diff = this_latitude - lats[index]\n",
    "                lon_diff = this_longitutde - lons[index]\n",
    "                if lat_diff < 0:\n",
    "                    lat_diff = -lat_diff\n",
    "                if lon_diff < 0:\n",
    "                    lon_diff = - lon_diff\n",
    "                potential_cities_lats_diff[city] = lat_diff\n",
    "                potential_cities_lons_diff[city] = lon_diff\n",
    "\n",
    "        print(potential_cities)\n",
    "        print(potential_cities_lats_diff)\n",
    "\n",
    "        if len(potential_cities) == 1:\n",
    "            answer = potential_cities[0]\n",
    "        else:\n",
    "            lat_city_list = extract_keys_to_list(potential_cities_lats_diff)\n",
    "            lat_diff_list = extract_values_to_list(potential_cities_lats_diff)\n",
    "            lon_city_list = extract_keys_to_list(potential_cities_lons_diff)\n",
    "            lon_diff_list = extract_values_to_list(potential_cities_lons_diff)\n",
    "            smallest_lat_diff = min(lat_diff_list)\n",
    "            smallest_lon_diff = min(lon_diff_list)\n",
    "\n",
    "            city_position = lat_diff_list.index(smallest_lat_diff)\n",
    "            answer = lat_city_list[city_position]\n",
    "\n",
    "        print(answer)"
   ],
   "metadata": {
    "collapsed": false,
    "pycharm": {
     "name": "#%%\n"
    }
   }
  },
  {
   "cell_type": "code",
   "execution_count": 113,
   "outputs": [
    {
     "name": "stdout",
     "output_type": "stream",
     "text": [
      "['Hull', 'Leeds', 'Leicester', 'Nottingham', 'Peterborough']\n",
      "{'Hull': 0.6699456000000055, 'Leeds': 0.7237919000000019, 'Leicester': 0.43748679999999496, 'Nottingham': 0.12020729999999702, 'Peterborough': 0.5010496999999958}\n",
      "Nottingham\n"
     ]
    }
   ],
   "source": [
    "find_nearest_city('Witham St Hughs') #testing"
   ],
   "metadata": {
    "collapsed": false,
    "pycharm": {
     "name": "#%%\n"
    }
   }
  },
  {
   "cell_type": "markdown",
   "source": [
    "## Using Geocoding on UniDB data"
   ],
   "metadata": {
    "collapsed": false,
    "pycharm": {
     "name": "#%% md\n"
    }
   }
  },
  {
   "cell_type": "markdown",
   "source": [
    "Need to obtain the city of each university, can do this using the university endpoint https://unidbapi.com/api/university/read?u=Anglia Ruskin University&key=123"
   ],
   "metadata": {
    "collapsed": false,
    "pycharm": {
     "name": "#%% md\n"
    }
   }
  },
  {
   "cell_type": "markdown",
   "source": [
    "### Methods"
   ],
   "metadata": {
    "collapsed": false,
    "pycharm": {
     "name": "#%% md\n"
    }
   }
  },
  {
   "cell_type": "code",
   "execution_count": 114,
   "outputs": [],
   "source": [
    "def uni_city_endpoint(university):\n",
    "    endpoint = \"https://unidbapi.com/api/university/search?u={}&key={}\".format(university, api_key)\n",
    "    return endpoint"
   ],
   "metadata": {
    "collapsed": false,
    "pycharm": {
     "name": "#%%\n"
    }
   }
  },
  {
   "cell_type": "code",
   "execution_count": 115,
   "outputs": [],
   "source": [
    "def get_uni_city(university):\n",
    "    endpoint = uni_city_endpoint(university)\n",
    "    response = requests.get(endpoint)\n",
    "    university_info = response.json()\n",
    "    code = response.status_code\n",
    "\n",
    "    if code == 200:\n",
    "\n",
    "        if type(university_info) is list:\n",
    "            list_of_unis = university_info[0]\n",
    "            return list_of_unis['city']\n",
    "        elif type(university_info) == type(dict):\n",
    "            return university_info['city']\n",
    "        else:\n",
    "            list_of_unis = university_info[0]\n",
    "            return list_of_unis['city']\n"
   ],
   "metadata": {
    "collapsed": false,
    "pycharm": {
     "name": "#%%\n"
    }
   }
  },
  {
   "cell_type": "code",
   "execution_count": 116,
   "outputs": [],
   "source": [
    "list_of_universities_analysed = df_staff[\"University\"].values.tolist()"
   ],
   "metadata": {
    "collapsed": false,
    "pycharm": {
     "name": "#%%\n"
    }
   }
  },
  {
   "cell_type": "code",
   "execution_count": 117,
   "outputs": [
    {
     "name": "stdout",
     "output_type": "stream",
     "text": [
      "['Anglia Ruskin University', 'Coventry University', 'Newcastle University', 'Royal Veterinary College', 'The Open University', 'The University of Essex', 'The University of Kent', 'The University of Manchester', 'The University of Surrey', 'University of Birmingham', 'University of Bristol', 'University of Nottingham', 'Writtle University College', 'University of Greenwich', 'University of Hertfordshire', 'University of Lincoln']\n"
     ]
    }
   ],
   "source": [
    "print(list_of_universities_analysed)"
   ],
   "metadata": {
    "collapsed": false,
    "pycharm": {
     "name": "#%%\n"
    }
   }
  },
  {
   "cell_type": "markdown",
   "source": [
    "and then plot these on a 'map' - one where the coords are plotted, and a value (like bubble)"
   ],
   "metadata": {
    "collapsed": false,
    "pycharm": {
     "name": "#%% md\n"
    }
   }
  },
  {
   "cell_type": "code",
   "execution_count": 118,
   "outputs": [],
   "source": [
    "lons_of_unis = []\n",
    "lats_of_unis = []\n",
    "\n",
    "for university_name in list_of_universities_analysed:\n",
    "    university_location = get_uni_city(university_name)\n",
    "    this_long = get_lon_of_city(university_location)\n",
    "    lons_of_unis.append(this_long)\n",
    "    this_lat = get_lat_of_city(university_location)\n",
    "    lats_of_unis.append(this_lat)"
   ],
   "metadata": {
    "collapsed": false,
    "pycharm": {
     "name": "#%%\n"
    }
   }
  },
  {
   "cell_type": "markdown",
   "source": [
    "ensure all same length"
   ],
   "metadata": {
    "collapsed": false,
    "pycharm": {
     "name": "#%% md\n"
    }
   }
  },
  {
   "cell_type": "code",
   "execution_count": 119,
   "outputs": [
    {
     "name": "stdout",
     "output_type": "stream",
     "text": [
      "16\n",
      "16\n",
      "16\n"
     ]
    }
   ],
   "source": [
    "print(len(lats_of_unis))\n",
    "print(len(lons_of_unis))\n",
    "print(len(list_of_universities_analysed))"
   ],
   "metadata": {
    "collapsed": false,
    "pycharm": {
     "name": "#%%\n"
    }
   }
  },
  {
   "cell_type": "markdown",
   "source": [
    "# HERE"
   ],
   "metadata": {
    "collapsed": false,
    "pycharm": {
     "name": "#%% md\n"
    }
   }
  },
  {
   "cell_type": "code",
   "execution_count": 120,
   "outputs": [
    {
     "data": {
      "text/plain": "<Figure size 432x288 with 1 Axes>",
      "image/png": "[encoded data removed]"
     },
     "metadata": {
      "needs_background": "light"
     },
     "output_type": "display_data"
    }
   ],
   "source": [
    "\n",
    "plt.scatter(lons_of_unis, lats_of_unis)\n",
    "\n",
    "plt.plot(x, y_newcastle, color=\"aqua\", label=\"newcastle\")\n",
    "plt.plot(x, y_manchester, color=\"orange\", label=\"manchester\")\n",
    "plt.plot(x_manchester, y, color=\"orange\")\n",
    "plt.plot(x, y_lon, color=\"hotpink\", label=\"london\")\n",
    "plt.plot(x_lon, y, color=\"hotpink\")\n",
    "plt.plot(x, y_plymouth, color=\"red\", label=\"plymouth\")\n",
    "plt.legend(loc=\"upper right\")\n",
    "\n",
    "plt.xlabel(\"Longitude\", size=12)\n",
    "plt.ylabel(\"Latitude\", size=12)\n",
    "plt.title(\"Map of universites analysed\", size=14)\n",
    "\n",
    "plt.show()"
   ],
   "metadata": {
    "collapsed": false,
    "pycharm": {
     "name": "#%%\n"
    }
   }
  },
  {
   "cell_type": "markdown",
   "source": [
    "As you can see, we have a higher representative in the East/South-East of the UK. Rarely any West, or North, representation."
   ],
   "metadata": {
    "collapsed": false,
    "pycharm": {
     "name": "#%% md\n"
    }
   }
  },
  {
   "cell_type": "markdown",
   "source": [
    "Try displaying the percentages at each uni - Bubble Chart"
   ],
   "metadata": {
    "collapsed": false,
    "pycharm": {
     "name": "#%% md\n"
    }
   }
  },
  {
   "cell_type": "markdown",
   "source": [
    "Want a df with university, lat, lon, and the ratio - will do just for students for now\n",
    "df = pd.DataFrame({\n",
    "    'X': x,\n",
    "    'Y': y,\n",
    "    'Colors': colors,\n",
    "    \"bubble_size\":area})\n",
    "\n",
    "The lists have already been created above:\n",
    "lats_of_unis - y-axis\n",
    "lons_of_unis - x-axis\n",
    "list_of_universities_analysed - just a key\n",
    "\n",
    "We need the percentage"
   ],
   "metadata": {
    "collapsed": false,
    "pycharm": {
     "name": "#%% md\n"
    }
   }
  },
  {
   "cell_type": "markdown",
   "source": [
    "## Grads"
   ],
   "metadata": {
    "collapsed": false,
    "pycharm": {
     "name": "#%% md\n"
    }
   }
  },
  {
   "cell_type": "code",
   "execution_count": 121,
   "outputs": [],
   "source": [
    "list_of_unis_percentage_for_df_grads = df_grads['Percentage'].tolist()\n",
    "number_of_bubbles = len(lons_of_unis)\n",
    "colors = np.random.rand(number_of_bubbles)"
   ],
   "metadata": {
    "collapsed": false,
    "pycharm": {
     "name": "#%%\n"
    }
   }
  },
  {
   "cell_type": "code",
   "execution_count": 122,
   "outputs": [],
   "source": [
    "percentages_multiplied_by_10_grads = [] #scaling the percentage to excentuate the differences\n",
    "for percentage in list_of_unis_percentage_for_df_grads:\n",
    "    five_times_percentage = percentage * 40\n",
    "    percentages_multiplied_by_10_grads.append(five_times_percentage)"
   ],
   "metadata": {
    "collapsed": false,
    "pycharm": {
     "name": "#%%\n"
    }
   }
  },
  {
   "cell_type": "code",
   "execution_count": 123,
   "outputs": [],
   "source": [
    "df_for_mapping_bigger_bubbles_grads = pd.DataFrame({\n",
    "    'Unis': list_of_universities_analysed,\n",
    "    'X': lons_of_unis,\n",
    "    'Y': lats_of_unis,\n",
    "    'Colors': colors,\n",
    "    'Bubbles': percentages_multiplied_by_10_grads\n",
    "})"
   ],
   "metadata": {
    "collapsed": false,
    "pycharm": {
     "name": "#%%\n"
    }
   }
  },
  {
   "cell_type": "code",
   "execution_count": 124,
   "outputs": [
    {
     "data": {
      "text/plain": "Text(0.5, 1.0, 'Map of percentage of female grads \\n at Universities analysed')"
     },
     "execution_count": 124,
     "metadata": {},
     "output_type": "execute_result"
    },
    {
     "data": {
      "text/plain": "<Figure size 432x288 with 1 Axes>",
      "image/png": "[encoded data removed]"
     },
     "metadata": {
      "needs_background": "light"
     },
     "output_type": "display_data"
    }
   ],
   "source": [
    "plt.scatter('X', 'Y',\n",
    "            s='Bubbles',\n",
    "            c='Colors',\n",
    "            alpha=0.5,\n",
    "            edgecolors='black',\n",
    "            data=df_for_mapping_bigger_bubbles_grads)\n",
    "plt.xlabel(\"Longitude\", size=12)\n",
    "plt.ylabel(\"Latitude\", size=12)\n",
    "plt.title(\"Map of percentage of female grads \\n at Universities analysed\", size=14)"
   ],
   "metadata": {
    "collapsed": false,
    "pycharm": {
     "name": "#%%\n"
    }
   }
  },
  {
   "cell_type": "markdown",
   "source": [
    "## Mapping HESA Dataset analysis"
   ],
   "metadata": {
    "collapsed": false,
    "pycharm": {
     "name": "#%% md\n"
    }
   },
   "outputs": []
  },
  {
   "cell_type": "markdown",
   "source": [
    "### Top Ten Higher Education Providers by Number of First-year Enrolled Female Students"
   ],
   "metadata": {
    "collapsed": false,
    "pycharm": {
     "name": "#%% md\n"
    }
   }
  },
  {
   "cell_type": "code",
   "execution_count": 125,
   "outputs": [],
   "source": [
    "top_provider_1415_dict = {'The University of Manchester': 7855, 'University College London':6750, 'The University of Leeds': 6640, 'The Manchester Metropolitan University': 6175, 'King\\'s College London':6085, 'The University of Birmingham': 5945, 'University of Nottingham':5655, 'University of the Arts, London':5535, 'The University of Sheffield':5420, 'Coventry University':5410}\n",
    "\n",
    "top_provider_2021_dict = {'University College London':13705, 'The University of Manchester': 11130, 'King\\'s College London': 10555, 'The University of Leeds': 8755,'The University of Birmingham':7765,'The Manchester Metropolitan University':7725,'Anglia Ruskin University':7505,\n",
    "'The University of Sheffield':7415,'The Nottingham Trent University':7320,'Coventry University':7190}\n"
   ],
   "metadata": {
    "collapsed": false,
    "pycharm": {
     "name": "#%%\n"
    }
   }
  },
  {
   "cell_type": "code",
   "execution_count": 126,
   "outputs": [],
   "source": [
    "list_1415_city = ['Manchester', 'London', 'Leeds', 'Manchester', 'London', 'Birmingham', 'Nottingham', 'London', 'Sheffield', 'Coventry']\n",
    "list_2021_city = ['London', 'Manchester', 'London', 'Leeds', 'Birmingham', 'Manchester', 'Cambridge', 'Sheffield', 'Nottingham', 'Coventry']"
   ],
   "metadata": {
    "collapsed": false,
    "pycharm": {
     "name": "#%%\n"
    }
   }
  },
  {
   "cell_type": "markdown",
   "source": [
    "14/15"
   ],
   "metadata": {
    "collapsed": false,
    "pycharm": {
     "name": "#%% md\n"
    }
   }
  },
  {
   "cell_type": "code",
   "execution_count": 127,
   "outputs": [],
   "source": [
    "lon_1415 = []\n",
    "lat_1415 = []\n",
    "for city in list_1415_city:\n",
    "    lon_1415.append(get_lon_of_city(city))\n",
    "    lat_1415.append(get_lat_of_city(city))"
   ],
   "metadata": {
    "collapsed": false,
    "pycharm": {
     "name": "#%%\n"
    }
   }
  },
  {
   "cell_type": "code",
   "execution_count": 128,
   "outputs": [
    {
     "name": "stdout",
     "output_type": "stream",
     "text": [
      "10\n",
      "10\n",
      "10\n"
     ]
    }
   ],
   "source": [
    "print(len(lon_1415))\n",
    "print(len(lat_1415))\n",
    "print(len(list_1415_city))"
   ],
   "metadata": {
    "collapsed": false,
    "pycharm": {
     "name": "#%%\n"
    }
   }
  },
  {
   "cell_type": "code",
   "execution_count": 129,
   "outputs": [],
   "source": [
    "number_of_bubbles_here = len(lon_1415)\n",
    "colors = np.random.rand(number_of_bubbles_here)"
   ],
   "metadata": {
    "collapsed": false,
    "pycharm": {
     "name": "#%%\n"
    }
   }
  },
  {
   "cell_type": "code",
   "execution_count": 130,
   "outputs": [],
   "source": [
    "df_for_mapping_top_1415 = pd.DataFrame({\n",
    "    'Unis': list_1415_city,\n",
    "    'X': lon_1415,\n",
    "    'Y': lat_1415,\n",
    "    'Colors': colors\n",
    "})"
   ],
   "metadata": {
    "collapsed": false,
    "pycharm": {
     "name": "#%%\n"
    }
   }
  },
  {
   "cell_type": "code",
   "execution_count": 131,
   "outputs": [
    {
     "data": {
      "text/plain": "Text(0.5, 1.0, '14/15 Map Of Top Ten HE Providers by Number \\n of First-year Enrolled Female Students')"
     },
     "execution_count": 131,
     "metadata": {},
     "output_type": "execute_result"
    },
    {
     "data": {
      "text/plain": "<Figure size 432x288 with 1 Axes>",
      "image/png": "[encoded data removed]"
     },
     "metadata": {
      "needs_background": "light"
     },
     "output_type": "display_data"
    }
   ],
   "source": [
    "plt.scatter('X', 'Y',\n",
    "            c='Colors',\n",
    "            alpha=0.5,\n",
    "            edgecolors='black',\n",
    "            data=df_for_mapping_top_1415)\n",
    "\n",
    "plt.plot(x, y_newcastle, color=\"aqua\", label=\"newcastle\")\n",
    "plt.plot(x, y_manchester, color=\"orange\", label=\"manchester\")\n",
    "plt.plot(x_manchester, y, color=\"orange\")\n",
    "plt.plot(x, y_lon, color=\"hotpink\", label=\"london\")\n",
    "plt.plot(x_lon, y, color=\"hotpink\")\n",
    "plt.plot(x, y_plymouth, color=\"red\", label=\"plymouth\")\n",
    "plt.legend(loc=\"upper right\")\n",
    "\n",
    "plt.xlabel(\"Longitude\", size=12)\n",
    "plt.ylabel(\"Latitude\", size=12)\n",
    "plt.title(\"14/15 Map Of Top Ten HE Providers by Number \\n of First-year Enrolled Female Students\", size=14)"
   ],
   "metadata": {
    "collapsed": false,
    "pycharm": {
     "name": "#%%\n"
    }
   }
  },
  {
   "cell_type": "markdown",
   "source": [
    "20/21:"
   ],
   "metadata": {
    "collapsed": false,
    "pycharm": {
     "name": "#%% md\n"
    }
   }
  },
  {
   "cell_type": "code",
   "execution_count": 132,
   "outputs": [],
   "source": [
    "lon_2021 = []\n",
    "lat_2021 = []\n",
    "for city in list_2021_city:\n",
    "    lon_2021.append(get_lon_of_city(city))\n",
    "    lat_2021.append(get_lat_of_city(city))"
   ],
   "metadata": {
    "collapsed": false,
    "pycharm": {
     "name": "#%%\n"
    }
   }
  },
  {
   "cell_type": "code",
   "execution_count": 133,
   "outputs": [],
   "source": [
    "\n",
    "number_of_bubbles_here = len(lon_2021)\n",
    "colors = np.random.rand(number_of_bubbles_here)"
   ],
   "metadata": {
    "collapsed": false,
    "pycharm": {
     "name": "#%%\n"
    }
   }
  },
  {
   "cell_type": "code",
   "execution_count": 134,
   "outputs": [
    {
     "data": {
      "text/plain": "Text(0.5, 1.0, '20/21 Map Of Top Ten HE Providers by Number \\n of First-year Enrolled Female Students')"
     },
     "execution_count": 134,
     "metadata": {},
     "output_type": "execute_result"
    },
    {
     "data": {
      "text/plain": "<Figure size 432x288 with 1 Axes>",
      "image/png": "[encoded data removed]"
     },
     "metadata": {
      "needs_background": "light"
     },
     "output_type": "display_data"
    }
   ],
   "source": [
    "df_for_mapping_top_2021 = pd.DataFrame({\n",
    "    'Unis': list_2021_city,\n",
    "    'X': lon_2021,\n",
    "    'Y': lat_2021,\n",
    "    'Colors': colors,\n",
    "})\n",
    "\n",
    "plt.scatter('X', 'Y',\n",
    "            c='Colors',\n",
    "            alpha=0.5,\n",
    "            edgecolors='black',\n",
    "            data=df_for_mapping_top_2021)\n",
    "\n",
    "plt.plot(x, y_newcastle, color=\"aqua\", label=\"newcastle\")\n",
    "plt.plot(x, y_manchester, color=\"orange\", label=\"manchester\")\n",
    "plt.plot(x_manchester, y, color=\"orange\")\n",
    "plt.plot(x, y_lon, color=\"hotpink\", label=\"london\")\n",
    "plt.plot(x_lon, y, color=\"hotpink\")\n",
    "plt.plot(x, y_plymouth, color=\"red\", label=\"plymouth\")\n",
    "plt.legend(loc=\"upper right\")\n",
    "\n",
    "\n",
    "plt.xlabel(\"Longitude\", size=12)\n",
    "plt.ylabel(\"Latitude\", size=12)\n",
    "plt.title(\"20/21 Map Of Top Ten HE Providers by Number \\n of First-year Enrolled Female Students\", size=14)"
   ],
   "metadata": {
    "collapsed": false,
    "pycharm": {
     "name": "#%%\n"
    }
   }
  },
  {
   "cell_type": "markdown",
   "source": [
    "For comparison with all maps, we should create a map of the UK perhaps? Using the list we had above"
   ],
   "metadata": {
    "collapsed": false,
    "pycharm": {
     "name": "#%% md\n"
    }
   }
  }
 ],
 "metadata": {
  "kernelspec": {
   "display_name": "Python 3",
   "language": "python",
   "name": "python3"
  },
  "language_info": {
   "codemirror_mode": {
    "name": "ipython",
    "version": 2
   },
   "file_extension": ".py",
   "mimetype": "text/x-python",
   "name": "python",
   "nbconvert_exporter": "python",
   "pygments_lexer": "ipython2",
   "version": "2.7.6"
  }
 },
 "nbformat": 4,
 "nbformat_minor": 0
}