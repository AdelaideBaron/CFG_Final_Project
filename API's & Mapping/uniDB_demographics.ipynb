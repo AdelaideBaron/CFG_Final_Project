{
 "cells": [
  {
   "cell_type": "markdown",
   "source": [],
   "metadata": {
    "collapsed": false,
    "pycharm": {
     "name": "#%% md\n"
    }
   }
  },
  {
   "cell_type": "markdown",
   "source": [
    "Throughout I will be using an API, unidbapi, to assess demographics of universities in the UK to analyse the gender split across students. The API only returns female or male, so I can only analyse that here."
   ],
   "metadata": {
    "collapsed": false,
    "pycharm": {
     "name": "#%% md\n"
    }
   }
  },
  {
   "cell_type": "markdown",
   "source": [
    "### unidbapi endpoints:\n",
    "Initially, we will be focussing on the following two endpoints:\n",
    "- University demographics\n",
    "    - https://unidbapi.com/api/university/read_demographics?u={university name}&key={API key}\n",
    "    - https://unidbapi.com/api/university/read_demographics?u={university name}&key=56d0b15602\n",
    "- Degree demographics\n",
    "    - https://unidbapi.com/api/degree/read_demographics?d={degree}&key={API key}\n",
    "    - https://unidbapi.com/api/degree/read_demographics?d={degree}&key=56d0b15602"
   ],
   "metadata": {
    "collapsed": false,
    "pycharm": {
     "name": "#%% md\n"
    }
   }
  },
  {
   "cell_type": "markdown",
   "source": [
    "# API Keys"
   ],
   "metadata": {
    "collapsed": false,
    "pycharm": {
     "name": "#%% md\n"
    }
   }
  },
  {
   "cell_type": "code",
   "execution_count": 624,
   "outputs": [],
   "source": [
    "f = open(\"uniDB_api.txt\", \"r\")\n",
    "api_key = f.readline() #UniDB API Key\n",
    "\n",
    "f = open(\"geocode_ow_api.txt\", \"r\")\n",
    "location_api_key = f.readline() #OW API Key"
   ],
   "metadata": {
    "collapsed": false,
    "pycharm": {
     "name": "#%%\n"
    }
   }
  },
  {
   "cell_type": "markdown",
   "source": [
    "# Imports"
   ],
   "metadata": {
    "collapsed": false,
    "pycharm": {
     "name": "#%% md\n"
    }
   }
  },
  {
   "cell_type": "code",
   "execution_count": 625,
   "outputs": [],
   "source": [
    "import pandas as pd\n",
    "import requests\n",
    "import json\n",
    "from pprint import pprint as pp\n",
    "import numpy as np\n",
    "import matplotlib.pyplot as plt"
   ],
   "metadata": {
    "collapsed": false,
    "pycharm": {
     "name": "#%%\n"
    }
   }
  },
  {
   "cell_type": "markdown",
   "source": [
    "# UniDB"
   ],
   "metadata": {
    "collapsed": false,
    "pycharm": {
     "name": "#%% md\n"
    }
   }
  },
  {
   "cell_type": "markdown",
   "source": [
    "## Methods/functions:\n"
   ],
   "metadata": {
    "collapsed": false,
    "pycharm": {
     "name": "#%% md\n"
    }
   }
  },
  {
   "cell_type": "code",
   "execution_count": 626,
   "outputs": [],
   "source": [
    "def degree_endpoint(degree):\n",
    "    endpoint = \"https://unidbapi.com/api/degree/read_demographics?d={}&key={}\".format(degree, api_key)\n",
    "    return endpoint"
   ],
   "metadata": {
    "collapsed": false,
    "pycharm": {
     "name": "#%%\n"
    }
   }
  },
  {
   "cell_type": "code",
   "execution_count": 627,
   "outputs": [],
   "source": [
    "def uni_endpoint(uni):\n",
    "    endpoint = \"https://unidbapi.com/api/university/read_demographics?u={}&key={}\".format(uni, api_key)\n",
    "    return endpoint"
   ],
   "metadata": {
    "collapsed": false,
    "pycharm": {
     "name": "#%%\n"
    }
   }
  },
  {
   "cell_type": "code",
   "execution_count": 628,
   "outputs": [],
   "source": [
    "def ratio_female_to_male(males, females):\n",
    "    ratio = females / males\n",
    "    return ratio"
   ],
   "metadata": {
    "collapsed": false,
    "pycharm": {
     "name": "#%%\n"
    }
   }
  },
  {
   "cell_type": "code",
   "execution_count": 629,
   "outputs": [],
   "source": [
    "def extract_keys_to_list(dict):\n",
    "    list_to_return = []\n",
    "    for key in dict:\n",
    "        list_to_return.append(key)\n",
    "\n",
    "    return list_to_return"
   ],
   "metadata": {
    "collapsed": false,
    "pycharm": {
     "name": "#%%\n"
    }
   }
  },
  {
   "cell_type": "code",
   "execution_count": 630,
   "outputs": [],
   "source": [
    "def extract_values_to_list(dict):\n",
    "    list_to_return = []\n",
    "    for item in dict:\n",
    "        list_to_return.append(dict[item])\n",
    "\n",
    "    return list_to_return"
   ],
   "metadata": {
    "collapsed": false,
    "pycharm": {
     "name": "#%%\n"
    }
   }
  },
  {
   "cell_type": "code",
   "execution_count": 631,
   "outputs": [],
   "source": [
    "def remove_none_percentage(df):\n",
    "    for x in df.index:\n",
    "        if df.loc[x, \"Percentage\"] == None:\n",
    "            df.drop(x, inplace = True)\n"
   ],
   "metadata": {
    "collapsed": false,
    "pycharm": {
     "name": "#%%\n"
    }
   }
  },
  {
   "cell_type": "code",
   "execution_count": 632,
   "outputs": [],
   "source": [
    "def get_ratio_by_year_dict(degree):\n",
    "    endpoint = degree_endpoint(degree)\n",
    "    years = requests.get(endpoint).json()\n",
    "\n",
    "    amount_of_years = len(years)\n",
    "\n",
    "    ratio_by_year = {}\n",
    "\n",
    "    i = 0\n",
    "\n",
    "    while i < amount_of_years:\n",
    "        data = years[i]\n",
    "        year = data['year']\n",
    "        male_grad_number = int(data['male_grads'])\n",
    "        female_grad_number = int(data['female_grads'])\n",
    "        ratio = ratio_female_to_male(male_grad_number, female_grad_number)\n",
    "        ratio_by_year.update({ year : ratio})\n",
    "        i += 1\n",
    "\n",
    "    return ratio_by_year"
   ],
   "metadata": {
    "collapsed": false,
    "pycharm": {
     "name": "#%%\n"
    }
   }
  },
  {
   "cell_type": "code",
   "execution_count": 633,
   "outputs": [],
   "source": [
    "def turn_lists_into_df(dict_ratio_by_year):\n",
    "    year_list = extract_keys_to_list(dict_ratio_by_year)\n",
    "    ratio_list = extract_values_to_list(dict_ratio_by_year)\n",
    "\n",
    "    degree_by_year = {\n",
    "        \"Year\": year_list,\n",
    "        \"Ratio\": ratio_list\n",
    "    }\n",
    "\n",
    "    return pd.DataFrame(degree_by_year)"
   ],
   "metadata": {
    "collapsed": false,
    "pycharm": {
     "name": "#%%\n"
    }
   }
  },
  {
   "cell_type": "code",
   "execution_count": 634,
   "outputs": [],
   "source": [
    "def display_as_year_barchart(year_ratios):\n",
    "    year_ratios.plot(kind = 'bar', x =  'Year', y= 'Ratio')\n",
    "    plt.plot([-3, 10], [1, 1], 'k-', lw=2)"
   ],
   "metadata": {
    "collapsed": false,
    "pycharm": {
     "name": "#%%\n"
    }
   }
  },
  {
   "cell_type": "markdown",
   "source": [
    "\n",
    "## Degrees"
   ],
   "metadata": {
    "collapsed": false,
    "pycharm": {
     "name": "#%% md\n"
    }
   }
  },
  {
   "cell_type": "markdown",
   "source": [
    "I manually created a list of degrees from: https://www.britishuni.com/subject-guide/subject-list & https://www.open.ac.uk/courses/atoz\n",
    "I also found a 'demo' page from the API: https://unidbapi.com/demo and this has a small list of potential uni's and degrees. It is not exhaustive, as I have tested unis & degrees not within this list and had valid responses. So, the contents has been added to the list"
   ],
   "metadata": {
    "collapsed": false,
    "pycharm": {
     "name": "#%% md\n"
    }
   }
  },
  {
   "cell_type": "code",
   "execution_count": 635,
   "outputs": [],
   "source": [
    "degrees = ['Archaeology', 'Architecture', 'Ancient History', 'Art', 'Astrophysics', 'Accounting', 'Art History',  'Arts and Humanities', 'Business', 'Business and Management', 'Computer Science', 'Creative Writing', 'Criminology', 'Chemistry', 'Classical Studies', 'Combined Studies', 'Computing and IT', 'Counselling', 'Dentistry', 'Drama', 'Dance', 'Design', ' Early Years', 'Economics', 'Education', 'Engineering', 'Electrical Engineering', 'Electronic Engineering', 'Environment', 'Environmental Studies', 'Biology', 'French', 'Mathematics', 'English', 'Film and Media', 'Journalism', 'Geology', 'Geography', 'Health and Social Care', 'Health and Wellbeing', 'Health Sciences', 'History', 'International Business', 'International Studies', 'Languages', 'Literature', 'Latin', 'Law', 'Music', 'Marketing', 'Mental Health', 'Music', 'Midwifery', 'Nursing', 'Nursing and Healthcare', 'Philosophy','Physics', 'Politics','Psychology','Religion', 'Religious Studies', 'Science', 'Sociology', 'Social Care', 'Social Sciences', 'Social Work', 'Sociology', 'Software Engineering', 'Sport & Fitness', 'Statistics', 'Natural Sciences', 'Media and Communication', 'Hospitality', 'Medicine', 'Marine Biology', 'Astonomy', 'Mechanical Engineering', 'Politics', 'Anthropology', 'Medical Science', 'Agriculture']\n",
    "\n",
    "\n",
    "valid_degrees = []"
   ],
   "metadata": {
    "collapsed": false,
    "pycharm": {
     "name": "#%%\n"
    }
   }
  },
  {
   "cell_type": "markdown",
   "source": [
    "Find the degrees that return results in the API"
   ],
   "metadata": {
    "collapsed": false,
    "pycharm": {
     "name": "#%% md\n"
    }
   }
  },
  {
   "cell_type": "code",
   "execution_count": 636,
   "outputs": [],
   "source": [
    "for degree in degrees:\n",
    "    response = requests.get(degree_endpoint(degree))\n",
    "    if json.dumps(response.json()) != \"{\\\"error\\\": \\\"Invalid Query\\\"}\":\n",
    "        valid_degrees.append(degree)"
   ],
   "metadata": {
    "collapsed": false,
    "pycharm": {
     "name": "#%%\n"
    }
   }
  },
  {
   "cell_type": "code",
   "execution_count": 637,
   "outputs": [],
   "source": [
    "degree_average_ratio = {}"
   ],
   "metadata": {
    "collapsed": false,
    "pycharm": {
     "name": "#%%\n"
    }
   }
  },
  {
   "cell_type": "markdown",
   "source": [
    "Now that we have a list of degrees that are in the API's 'system', we can begin reading the API for data.\n",
    "\n",
    "The degrees end point returns the following, multiple times (e.g. 4x, presumably for each university record that matches this degree? :\n",
    "- \"degree\": {degree as a string},\n",
    "- \"male_grads\": \"number as a string\",\n",
    "- \"female_grads\": \"number as a string\",\n",
    "- \"year\": {as a string}"
   ],
   "metadata": {
    "collapsed": false,
    "pycharm": {
     "name": "#%% md\n"
    }
   }
  },
  {
   "cell_type": "code",
   "execution_count": 638,
   "outputs": [],
   "source": [
    "for degree in valid_degrees:\n",
    "    endpoint = degree_endpoint(degree)\n",
    "    lists = requests.get(endpoint).json()\n",
    "\n",
    "    amount_of_data = len(lists)\n",
    "\n",
    "    ratios_for_this_degree = []\n",
    "\n",
    "    i = 0\n",
    "    while i < amount_of_data:\n",
    "        data = lists[i]\n",
    "        male_grad_number = int(data['male_grads'])\n",
    "        female_grad_number = int(data['female_grads'])\n",
    "        ratio = ratio_female_to_male(male_grad_number, female_grad_number)\n",
    "        ratios_for_this_degree.append(ratio)\n",
    "        i += 1\n",
    "\n",
    "    arr = np.array(ratios_for_this_degree)\n",
    "    degree_average = np.average(arr)\n",
    "    degree_average_ratio.update({degree : degree_average})\n"
   ],
   "metadata": {
    "collapsed": false,
    "pycharm": {
     "name": "#%%\n"
    }
   }
  },
  {
   "cell_type": "code",
   "execution_count": 639,
   "outputs": [
    {
     "name": "stdout",
     "output_type": "stream",
     "text": [
      "{'Architecture': 0.6667655162233832, 'Computer Science': 0.2401670612170872, 'Biology': 1.674302568808816, 'Mathematics': 0.6377244698420046, 'History': 1.1608471190994043, 'Law': 1.5871251581299277, 'Medical Science': 3.7984104598084487, 'Agriculture': 1.8206130790914017}\n"
     ]
    }
   ],
   "source": [
    "print(degree_average_ratio)"
   ],
   "metadata": {
    "collapsed": false,
    "pycharm": {
     "name": "#%%\n"
    }
   }
  },
  {
   "cell_type": "markdown",
   "source": [
    "## Data Analysis"
   ],
   "metadata": {
    "collapsed": false,
    "pycharm": {
     "name": "#%% md\n"
    }
   }
  },
  {
   "cell_type": "markdown",
   "source": [
    "For a pandas dataframe, need dictionary where the key is the column name, and the values are an array\n",
    "We now have the following collated data:\n",
    "- degree_average_ratio\n",
    "    - average ratio of women : men per degree\n",
    "    - e.g. 1.7 = 1.7 women per 1 man, 0.6 = 0.6 women per 1 man"
   ],
   "metadata": {
    "collapsed": false,
    "pycharm": {
     "name": "#%% md\n"
    }
   }
  },
  {
   "cell_type": "markdown",
   "source": [
    "For each of the above, we need a list of the values and a list of the keys in the same order. Then we can make a pandas dataframe\n"
   ],
   "metadata": {
    "collapsed": false,
    "pycharm": {
     "name": "#%% md\n"
    }
   }
  },
  {
   "cell_type": "code",
   "execution_count": 640,
   "outputs": [],
   "source": [
    "degree_avg_ratio_degree_list = extract_keys_to_list(degree_average_ratio)\n",
    "degree_avg_ratio_ratio_list = extract_values_to_list(degree_average_ratio)"
   ],
   "metadata": {
    "collapsed": false,
    "pycharm": {
     "name": "#%%\n"
    }
   }
  },
  {
   "cell_type": "code",
   "execution_count": 641,
   "outputs": [
    {
     "name": "stdout",
     "output_type": "stream",
     "text": [
      "[0.6667655162233832, 0.2401670612170872, 1.674302568808816, 0.6377244698420046, 1.1608471190994043, 1.5871251581299277, 3.7984104598084487, 1.8206130790914017]\n"
     ]
    }
   ],
   "source": [
    "print(degree_avg_ratio_ratio_list)"
   ],
   "metadata": {
    "collapsed": false,
    "pycharm": {
     "name": "#%%\n"
    }
   }
  },
  {
   "cell_type": "code",
   "execution_count": 642,
   "outputs": [],
   "source": [
    "female_ratio_data = {\n",
    "    \"Degree\": degree_avg_ratio_degree_list,\n",
    "    \"Ratio\": degree_avg_ratio_ratio_list\n",
    "}"
   ],
   "metadata": {
    "collapsed": false,
    "pycharm": {
     "name": "#%%\n"
    }
   }
  },
  {
   "cell_type": "code",
   "execution_count": 643,
   "outputs": [
    {
     "name": "stdout",
     "output_type": "stream",
     "text": [
      "             Degree     Ratio\n",
      "0      Architecture  0.666766\n",
      "1  Computer Science  0.240167\n",
      "2           Biology  1.674303\n",
      "3       Mathematics  0.637724\n",
      "4           History  1.160847\n",
      "5               Law  1.587125\n",
      "6   Medical Science  3.798410\n",
      "7       Agriculture  1.820613\n"
     ]
    }
   ],
   "source": [
    "df_ratio = pd.DataFrame(female_ratio_data)\n",
    "print(df_ratio)"
   ],
   "metadata": {
    "collapsed": false,
    "pycharm": {
     "name": "#%%\n"
    }
   }
  },
  {
   "cell_type": "markdown",
   "source": [
    "Bar chart showing ratio of women:men on courses. Horizontal line indicates 1:1.\n",
    "lowest results are for Maths and Comp Sci"
   ],
   "metadata": {
    "collapsed": false,
    "pycharm": {
     "name": "#%% md\n"
    }
   }
  },
  {
   "cell_type": "code",
   "execution_count": 644,
   "outputs": [
    {
     "data": {
      "text/plain": "Text(0.5, 1.0, 'Ratio of males to females \\n by degree between 2014 - 2018')"
     },
     "execution_count": 644,
     "metadata": {},
     "output_type": "execute_result"
    },
    {
     "data": {
      "text/plain": "<Figure size 432x288 with 1 Axes>",
      "image/png": "[encoded data removed]"
     },
     "metadata": {
      "needs_background": "light"
     },
     "output_type": "display_data"
    }
   ],
   "source": [
    "\n",
    "df_ratio.plot(kind = 'bar', x =  'Degree', y= 'Ratio')\n",
    "plt.plot([-3, 10], [1, 1], 'k-', lw=2) #horizontal line for 1:1\n",
    "plt.title(\"Ratio of males to females \\n by degree between 2014 - 2018\")"
   ],
   "metadata": {
    "collapsed": false,
    "pycharm": {
     "name": "#%%\n"
    }
   }
  },
  {
   "cell_type": "code",
   "execution_count": 645,
   "outputs": [
    {
     "name": "stdout",
     "output_type": "stream",
     "text": [
      "1.4482444290275591\n"
     ]
    }
   ],
   "source": [
    "df_ratio_avg = df_ratio[\"Ratio\"].mean()\n",
    "print(df_ratio_avg)"
   ],
   "metadata": {
    "collapsed": false,
    "pycharm": {
     "name": "#%%\n"
    }
   }
  },
  {
   "cell_type": "markdown",
   "source": [
    "I have seen that the API endpoint returns the same degree over several years. Now that I have performed an overall analysis, as the range of degrees is relatively small, I shall analyse each degree per year."
   ],
   "metadata": {
    "collapsed": false,
    "pycharm": {
     "name": "#%% md\n"
    }
   }
  },
  {
   "cell_type": "markdown",
   "source": [
    "### degree = maths"
   ],
   "metadata": {
    "collapsed": false,
    "pycharm": {
     "name": "#%% md\n"
    }
   }
  },
  {
   "cell_type": "code",
   "execution_count": 646,
   "outputs": [],
   "source": [
    "math_ratio_by_year_dict = get_ratio_by_year_dict('Mathematics')"
   ],
   "metadata": {
    "collapsed": false,
    "pycharm": {
     "name": "#%%\n"
    }
   }
  },
  {
   "cell_type": "code",
   "execution_count": 647,
   "outputs": [
    {
     "name": "stdout",
     "output_type": "stream",
     "text": [
      "   Year     Ratio\n",
      "0  2014  0.652083\n",
      "1  2015  0.640698\n",
      "2  2016  0.642125\n",
      "3  2017  0.638471\n",
      "4  2018  0.615244\n"
     ]
    }
   ],
   "source": [
    "math_year_ratios = turn_lists_into_df(math_ratio_by_year_dict)\n",
    "print(math_year_ratios)"
   ],
   "metadata": {
    "collapsed": false,
    "pycharm": {
     "name": "#%%\n"
    }
   }
  },
  {
   "cell_type": "code",
   "execution_count": 648,
   "outputs": [
    {
     "data": {
      "text/plain": "<Figure size 432x288 with 1 Axes>",
      "image/png": "[encoded data removed]"
     },
     "metadata": {
      "needs_background": "light"
     },
     "output_type": "display_data"
    }
   ],
   "source": [
    "display_as_year_barchart(math_year_ratios)"
   ],
   "metadata": {
    "collapsed": false,
    "pycharm": {
     "name": "#%%\n"
    }
   }
  },
  {
   "cell_type": "markdown",
   "source": [
    "Average value"
   ],
   "metadata": {
    "collapsed": false,
    "pycharm": {
     "name": "#%% md\n"
    }
   }
  },
  {
   "cell_type": "code",
   "execution_count": 649,
   "outputs": [
    {
     "name": "stdout",
     "output_type": "stream",
     "text": [
      "0.6377244698420046\n"
     ]
    }
   ],
   "source": [
    "math_by_year = extract_values_to_list(math_ratio_by_year_dict)\n",
    "average_math = sum(math_by_year) / len(math_by_year)\n",
    "print(average_math)"
   ],
   "metadata": {
    "collapsed": false,
    "pycharm": {
     "name": "#%%\n"
    }
   }
  },
  {
   "cell_type": "markdown",
   "source": [
    "roughly predict growth models at the current rate:\n",
    "_not using machine learning as not enough data, may cause underfitting_"
   ],
   "metadata": {
    "collapsed": false,
    "pycharm": {
     "name": "#%% md\n"
    }
   }
  },
  {
   "cell_type": "code",
   "execution_count": 651,
   "outputs": [
    {
     "name": "stdout",
     "output_type": "stream",
     "text": [
      "-0.03683943089430897\n"
     ]
    }
   ],
   "source": [
    "four_year_change = math_by_year[4] - math_by_year[0]\n",
    "print(four_year_change)"
   ],
   "metadata": {
    "collapsed": false,
    "pycharm": {
     "name": "#%%\n"
    }
   }
  },
  {
   "cell_type": "markdown",
   "source": [
    "As the change is negative, it is not possible at the current growth rate o increase to a ratio of 1."
   ],
   "metadata": {
    "collapsed": false,
    "pycharm": {
     "name": "#%% md\n"
    }
   }
  },
  {
   "cell_type": "markdown",
   "source": [
    "### degree = Architecture"
   ],
   "metadata": {
    "collapsed": false,
    "pycharm": {
     "name": "#%% md\n"
    }
   }
  },
  {
   "cell_type": "code",
   "execution_count": null,
   "outputs": [],
   "source": [
    "\n",
    "architecture_ratio_by_year_dict = get_ratio_by_year_dict('Architecture')"
   ],
   "metadata": {
    "collapsed": false,
    "pycharm": {
     "name": "#%%\n"
    }
   }
  },
  {
   "cell_type": "code",
   "execution_count": null,
   "outputs": [],
   "source": [
    "\n",
    "architecture_year_ratios = turn_lists_into_df(architecture_ratio_by_year_dict)\n",
    "print(architecture_year_ratios)"
   ],
   "metadata": {
    "collapsed": false,
    "pycharm": {
     "name": "#%%\n"
    }
   }
  },
  {
   "cell_type": "code",
   "execution_count": null,
   "outputs": [],
   "source": [
    "\n",
    "display_as_year_barchart(architecture_year_ratios)"
   ],
   "metadata": {
    "collapsed": false,
    "pycharm": {
     "name": "#%%\n"
    }
   }
  },
  {
   "cell_type": "markdown",
   "source": [
    "### degree = computer science"
   ],
   "metadata": {
    "collapsed": false,
    "pycharm": {
     "name": "#%% md\n"
    }
   }
  },
  {
   "cell_type": "code",
   "execution_count": null,
   "outputs": [],
   "source": [
    "compsci_ratio_by_year_dict = get_ratio_by_year_dict('Computer Science')"
   ],
   "metadata": {
    "collapsed": false,
    "pycharm": {
     "name": "#%%\n"
    }
   }
  },
  {
   "cell_type": "code",
   "execution_count": null,
   "outputs": [],
   "source": [
    "compsci_year_ratios = turn_lists_into_df(compsci_ratio_by_year_dict)\n",
    "print(compsci_year_ratios)"
   ],
   "metadata": {
    "collapsed": false,
    "pycharm": {
     "name": "#%%\n"
    }
   }
  },
  {
   "cell_type": "code",
   "execution_count": null,
   "outputs": [],
   "source": [
    "display_as_year_barchart(compsci_year_ratios)"
   ],
   "metadata": {
    "collapsed": false,
    "pycharm": {
     "name": "#%%\n"
    }
   }
  },
  {
   "cell_type": "code",
   "execution_count": null,
   "outputs": [],
   "source": [
    "comp_by_year = extract_values_to_list(compsci_ratio_by_year_dict)\n",
    "average_comp_sci = sum(comp_by_year) / len(comp_by_year)\n",
    "\n",
    "print(average_comp_sci)"
   ],
   "metadata": {
    "collapsed": false,
    "pycharm": {
     "name": "#%%\n"
    }
   }
  },
  {
   "cell_type": "markdown",
   "source": [
    "roughly predict growth models at the current rate:\n",
    "_not using machine learning as not enough data, may cause underfitting_"
   ],
   "metadata": {
    "collapsed": false,
    "pycharm": {
     "name": "#%% md\n"
    }
   }
  },
  {
   "cell_type": "code",
   "execution_count": null,
   "outputs": [],
   "source": [
    "four_year_change = comp_by_year[4] - comp_by_year[0]\n",
    "print(four_year_change)"
   ],
   "metadata": {
    "collapsed": false,
    "pycharm": {
     "name": "#%%\n"
    }
   }
  },
  {
   "cell_type": "markdown",
   "source": [
    "Changing by 0.010437151753523444 every four years, the increase from a current of 0.249558:"
   ],
   "metadata": {
    "collapsed": false,
    "pycharm": {
     "name": "#%% md\n"
    }
   }
  },
  {
   "cell_type": "code",
   "execution_count": null,
   "outputs": [],
   "source": [
    "value_2018 = 0.249558\n",
    "four_year_inc = 0.010437151753523444\n",
    "change_to_be_made_to_get_to_one_to_one = 1 - value_2018\n",
    "amount_of_four_years_to_change = change_to_be_made_to_get_to_one_to_one / four_year_inc\n",
    "print(4 * amount_of_four_years_to_change)"
   ],
   "metadata": {
    "collapsed": false,
    "pycharm": {
     "name": "#%%\n"
    }
   }
  },
  {
   "cell_type": "markdown",
   "source": [
    "### Degree = 'Biology'"
   ],
   "metadata": {
    "collapsed": false,
    "pycharm": {
     "name": "#%% md\n"
    }
   }
  },
  {
   "cell_type": "code",
   "execution_count": null,
   "outputs": [],
   "source": [
    "biology_ratio_by_year_dict = get_ratio_by_year_dict('Biology')\n",
    "\n",
    "biology_year_ratios = turn_lists_into_df(biology_ratio_by_year_dict)\n",
    "print(biology_year_ratios)\n",
    "\n",
    "display_as_year_barchart(biology_year_ratios)"
   ],
   "metadata": {
    "collapsed": false,
    "pycharm": {
     "name": "#%%\n"
    }
   }
  },
  {
   "cell_type": "markdown",
   "source": [
    "### Degree = History"
   ],
   "metadata": {
    "collapsed": false,
    "pycharm": {
     "name": "#%% md\n"
    }
   }
  },
  {
   "cell_type": "code",
   "execution_count": null,
   "outputs": [],
   "source": [
    "history_ratio_by_year_dict = get_ratio_by_year_dict('History')\n",
    "\n",
    "history_year_ratios = turn_lists_into_df(history_ratio_by_year_dict)\n",
    "print(history_year_ratios)\n",
    "\n",
    "display_as_year_barchart(history_year_ratios)"
   ],
   "metadata": {
    "collapsed": false,
    "pycharm": {
     "name": "#%%\n"
    }
   }
  },
  {
   "cell_type": "markdown",
   "source": [
    "### Degree = Law"
   ],
   "metadata": {
    "collapsed": false,
    "pycharm": {
     "name": "#%% md\n"
    }
   }
  },
  {
   "cell_type": "code",
   "execution_count": null,
   "outputs": [],
   "source": [
    "law_ratio_by_year_dict = get_ratio_by_year_dict('Law')\n",
    "\n",
    "law_year_ratios = turn_lists_into_df(law_ratio_by_year_dict)\n",
    "print(law_year_ratios)\n",
    "\n",
    "display_as_year_barchart(law_year_ratios)"
   ],
   "metadata": {
    "collapsed": false,
    "pycharm": {
     "name": "#%%\n"
    }
   }
  },
  {
   "cell_type": "markdown",
   "source": [
    "### Degree = Medical Science"
   ],
   "metadata": {
    "collapsed": false,
    "pycharm": {
     "name": "#%% md\n"
    }
   }
  },
  {
   "cell_type": "code",
   "execution_count": null,
   "outputs": [],
   "source": [
    "medSci_ratio_by_year_dict = get_ratio_by_year_dict('Medical Science')\n",
    "\n",
    "medSci_year_ratios = turn_lists_into_df(medSci_ratio_by_year_dict)\n",
    "print(medSci_year_ratios)\n",
    "\n",
    "display_as_year_barchart(medSci_year_ratios)"
   ],
   "metadata": {
    "collapsed": false,
    "pycharm": {
     "name": "#%%\n"
    }
   }
  },
  {
   "cell_type": "markdown",
   "source": [
    "The average value over the years:"
   ],
   "metadata": {
    "collapsed": false,
    "pycharm": {
     "name": "#%% md\n"
    }
   }
  },
  {
   "cell_type": "code",
   "execution_count": null,
   "outputs": [],
   "source": [
    "medical_by_year = extract_values_to_list(medSci_ratio_by_year_dict)\n",
    "average_med_sci = sum(medical_by_year) / len(medical_by_year)\n",
    "\n",
    "print(average_med_sci)"
   ],
   "metadata": {
    "collapsed": false,
    "pycharm": {
     "name": "#%%\n"
    }
   }
  },
  {
   "cell_type": "markdown",
   "source": [
    "### Degree = Agriculture"
   ],
   "metadata": {
    "collapsed": false,
    "pycharm": {
     "name": "#%% md\n"
    }
   }
  },
  {
   "cell_type": "code",
   "execution_count": null,
   "outputs": [],
   "source": [
    "agri_ratio_by_year_dict = get_ratio_by_year_dict('Agriculture')\n",
    "\n",
    "agri_year_ratios = turn_lists_into_df(agri_ratio_by_year_dict)\n",
    "print(agri_year_ratios)\n",
    "\n",
    "display_as_year_barchart(agri_year_ratios)"
   ],
   "metadata": {
    "collapsed": false,
    "pycharm": {
     "name": "#%%\n"
    }
   }
  },
  {
   "cell_type": "markdown",
   "source": [
    "Lets compare all degrees together"
   ],
   "metadata": {
    "collapsed": false,
    "pycharm": {
     "name": "#%% md\n"
    }
   }
  },
  {
   "cell_type": "code",
   "execution_count": null,
   "outputs": [],
   "source": [
    "x = np.arange(5)\n",
    "architecture_bars = extract_values_to_list(architecture_ratio_by_year_dict)\n",
    "math_bars = extract_values_to_list(math_ratio_by_year_dict)\n",
    "comp_sci_bars = extract_values_to_list(compsci_ratio_by_year_dict)\n",
    "biology_bars = extract_values_to_list(biology_ratio_by_year_dict)\n",
    "history_bars = extract_values_to_list(history_ratio_by_year_dict)\n",
    "law_bars = extract_values_to_list(law_ratio_by_year_dict)\n",
    "medical_bars = extract_values_to_list(medSci_ratio_by_year_dict)\n",
    "agri_bars = extract_values_to_list(agri_ratio_by_year_dict)\n",
    "width = 0.1\n",
    "\n",
    "# plot data in grouped manner of bar type\n",
    "plt.bar(x-0.3, comp_sci_bars, width, color='blue')\n",
    "plt.bar(x-0.2, architecture_bars, width, color='cyan')\n",
    "plt.bar(x-0.1, math_bars, width, color='orange')\n",
    "plt.bar(x, history_bars, width, color='green')\n",
    "plt.bar(x+0.1, law_bars, width, color='hotpink')\n",
    "plt.bar(x+0.2, biology_bars, width, color='purple')\n",
    "plt.bar(x+0.3, agri_bars, width, color='gold')\n",
    "plt.bar(x+0.4, medical_bars, width, color='red')\n",
    "plt.xticks(x, ['2014', '2015', '2016', '2017', '2018'])\n",
    "plt.xlabel(\"Years\")\n",
    "plt.ylabel(\"Ratios\")\n",
    "plt.legend([\"comp science\", \"architecture\", \"math\", \"history\", \"law\", \"biology\", \"agriculture\", \"medical science\"], loc='center left', bbox_to_anchor=(1, 0.5))\n",
    "plt.title(\"Ratio of males to females per year by degree\")\n",
    "\n",
    "plt.show()"
   ],
   "metadata": {
    "collapsed": false,
    "pycharm": {
     "name": "#%%\n"
    }
   }
  },
  {
   "cell_type": "markdown",
   "source": [
    "Lets plot all degrees on a scatter diagram - to do this we make a dataframe with all degrees - to see the trends in better detail"
   ],
   "metadata": {
    "collapsed": false,
    "pycharm": {
     "name": "#%% md\n"
    }
   }
  },
  {
   "cell_type": "code",
   "execution_count": null,
   "outputs": [],
   "source": [
    "year_list = extract_keys_to_list(math_ratio_by_year_dict) #can be any, all the same\n",
    "architec_year_list = extract_values_to_list(architecture_ratio_by_year_dict)\n",
    "compSci_year_list = extract_values_to_list(compsci_ratio_by_year_dict)\n",
    "biology_year_list = extract_values_to_list(biology_ratio_by_year_dict)\n",
    "math_year_ratios = extract_values_to_list(math_ratio_by_year_dict)\n",
    "history_year_list = extract_values_to_list(history_ratio_by_year_dict)\n",
    "law_year_list = extract_values_to_list(law_ratio_by_year_dict)\n",
    "medSci_year_list = extract_values_to_list(medSci_ratio_by_year_dict)\n",
    "agric_year_list = extract_values_to_list(agri_ratio_by_year_dict)\n",
    "\n",
    "all_degrees_by_year = {\n",
    "    \"Year\": year_list,\n",
    "    \"Architecture\" : architec_year_list,\n",
    "    \"Computer Science\": compSci_year_list,\n",
    "    \"Biology\":biology_year_list,\n",
    "    \"Mathematics\": math_year_ratios,\n",
    "    \"History\" : history_year_list,\n",
    "    \"Law\": law_year_list,\n",
    "    \"Medical Science\": medSci_year_list,\n",
    "    \"Agriculture\": agric_year_list\n",
    "}"
   ],
   "metadata": {
    "collapsed": false,
    "pycharm": {
     "name": "#%%\n"
    }
   }
  },
  {
   "cell_type": "code",
   "execution_count": null,
   "outputs": [],
   "source": [
    "df_years = pd.DataFrame(all_degrees_by_year)\n",
    "\n",
    "df_years.plot()\n",
    "plt.title(\"Ratio of males to females \\n by degree between 2014 - 2018\")\n",
    "plt.xticks(x, ['2014', '2015', '2016', '2017', '2018'])\n",
    "plt.legend(loc='center left', bbox_to_anchor=(1, 0.5))"
   ],
   "metadata": {
    "collapsed": false,
    "pycharm": {
     "name": "#%%\n"
    }
   }
  },
  {
   "cell_type": "markdown",
   "source": [
    "## Universities"
   ],
   "metadata": {
    "collapsed": false,
    "pycharm": {
     "name": "#%% md\n"
    }
   }
  },
  {
   "cell_type": "markdown",
   "source": [
    "\n",
    "I have manually created a list of UK universities by extracting the names from an online list: https://www.university-list.net/uk/universities-1000.html & https://www.jeduka.com/articles-updates/uk/list-of-top-100-ranking-universities-in-uk\n",
    "As above, I have also added in the small amount from the Demo.\n",
    "To try and get accurate representation of the population, have included all ’University of’s"
   ],
   "metadata": {
    "collapsed": false,
    "pycharm": {
     "name": "#%% md\n"
    }
   }
  },
  {
   "cell_type": "code",
   "execution_count": null,
   "outputs": [],
   "source": [
    "unis = [ 'Anglia Ruskin University', 'Coventry University', 'Newcastle University', 'Royal Veterinary College', 'The Open University', 'The University of Essex', 'The University of Kent', 'The University of Manchester', 'The University of Surrey', 'University of Birmingham', 'University of Bristol', 'University of Nottingham', 'Writtle University College', 'University of Bath', 'Bishop Grosseteste College', 'University of Bolton', 'Bournemouth University', 'The Arts University College at Bournemouth', 'The University of Bradford', 'Bretton Hall College', 'University of Brighton', 'University of Bristol', 'University of the West of England', 'Brunel University London', 'The University of Buckingham', 'Cambridge University', 'The University of Cambridge', 'Cannington College', 'Canterbury Christ Church University',  'University of Bedfordshire', 'University of Chester', 'University of Cumbria', 'University of  Derby', 'University of East Anglia', 'University of East London', 'University of Essex', 'University of Gloucestershire', 'University of Greenwich', 'University of Hertfordshire', 'University of Huddersfield', 'University of Hull', 'University of Kent', 'University of Central Lancashire', 'University of Leeds', 'University of Leicester', 'University of Lincoln', 'University of Liverpool', 'University of London', 'University of Northampton', 'University of  Oxford', 'University of Plymouth', 'University of Portsmouth', 'University of Reading', 'University of Salford', 'University of Sheffield', 'University of Southampton', 'University of Suffolk', 'University of Sunderland', 'University of Sussex', 'University of Law', 'University of Warwick', 'University of West London', 'University of Westminster', 'University of Winchester', 'University of Wolverhampton', 'University of Worcester', 'University of York']\n",
    "valid_unis = []\n",
    "invalid_unis = []"
   ],
   "metadata": {
    "collapsed": false,
    "pycharm": {
     "name": "#%%\n"
    }
   }
  },
  {
   "cell_type": "markdown",
   "source": [
    "Determine which of the above are valid for the API"
   ],
   "metadata": {
    "collapsed": false,
    "pycharm": {
     "name": "#%% md\n"
    }
   }
  },
  {
   "cell_type": "code",
   "execution_count": null,
   "outputs": [],
   "source": [
    "for uni in unis:\n",
    "    endpoint = uni_endpoint(uni)\n",
    "    response = requests.get(endpoint)\n",
    "    if json.dumps(response.json()) != \"{\\\"error\\\": \\\"Invalid Query\\\"}\":\n",
    "        valid_unis.append(uni)\n",
    "    else:\n",
    "        invalid_unis.append(uni)"
   ],
   "metadata": {
    "collapsed": false,
    "pycharm": {
     "name": "#%%\n"
    }
   }
  },
  {
   "cell_type": "markdown",
   "source": [
    "sometimes universities are referenced with 'The' infront of the name. So, to ensure we check as many as possible, I will also check with a 'the' infront:\n",
    "uni of liverpool vs liverpool university"
   ],
   "metadata": {
    "collapsed": false,
    "pycharm": {
     "name": "#%% md\n"
    }
   }
  },
  {
   "cell_type": "markdown",
   "source": [
    "could perhaps try removing 'the' too in future studies"
   ],
   "metadata": {
    "collapsed": false,
    "pycharm": {
     "name": "#%% md\n"
    }
   }
  },
  {
   "cell_type": "code",
   "execution_count": null,
   "outputs": [],
   "source": [
    "for unis in invalid_unis:\n",
    "    try_the = 'The ' + uni\n",
    "    endpoint = \"https://unidbapi.com/api/university/read_demographics?u={}&key={}\".format(try_the, api_key)\n",
    "    response = requests.get(endpoint)\n",
    "    if json.dumps(response.json()) != \"{\\\"error\\\": \\\"Invalid Query\\\"}\":\n",
    "        valid_unis.append(try_the)"
   ],
   "metadata": {
    "collapsed": false,
    "pycharm": {
     "name": "#%%\n"
    }
   }
  },
  {
   "cell_type": "code",
   "execution_count": null,
   "outputs": [],
   "source": [
    "print(valid_unis)"
   ],
   "metadata": {
    "collapsed": false,
    "pycharm": {
     "name": "#%%\n"
    }
   }
  },
  {
   "cell_type": "code",
   "execution_count": null,
   "outputs": [],
   "source": [
    "print(len(valid_unis))"
   ],
   "metadata": {
    "collapsed": false,
    "pycharm": {
     "name": "#%%\n"
    }
   }
  },
  {
   "cell_type": "markdown",
   "source": [
    "Now that we have a list of universities that are in the API's 'system', we can begin reading the API for data.\n",
    "\n",
    "The university endpoint returns the following once:\n",
    "- \"name\": \"Anglia Ruskin University\",\n",
    "- \"male_grads\": \"36\",\n",
    "- \"female_grads\": \"64\",\n",
    "- \"male_staff\": \"60\",\n",
    "- \"female_staff\": \"40\",\n",
    "- \"year\": \"2020\""
   ],
   "metadata": {
    "collapsed": false,
    "pycharm": {
     "name": "#%% md\n"
    }
   }
  },
  {
   "cell_type": "markdown",
   "source": [
    "all university demographic responses have 6 responses, so I will extract the female_grads, and female_staff.\n",
    "\n",
    "Although we are assessing education, as there is the data available for percentage of staff that are female, I will perform the same analysis to see if there is any correlation."
   ],
   "metadata": {
    "collapsed": false,
    "pycharm": {
     "name": "#%% md\n"
    }
   }
  },
  {
   "cell_type": "code",
   "execution_count": null,
   "outputs": [],
   "source": [
    "female_grad_percentage_per_uni = {}\n",
    "female_staff_percentage_per_uni = {}"
   ],
   "metadata": {
    "collapsed": false,
    "pycharm": {
     "name": "#%%\n"
    }
   }
  },
  {
   "cell_type": "code",
   "execution_count": null,
   "outputs": [],
   "source": [
    "for university in valid_unis:\n",
    "    endpoint = uni_endpoint(university)\n",
    "    data = requests.get(endpoint).json()\n",
    "    # adding to a list without converting to int prior, as some return 'none' if data is missing\n",
    "    #pp(data)\n",
    "    female_grad_percentage_per_uni.update({university : data['female_grads']})\n",
    "    female_staff_percentage_per_uni.update({university : data['female_staff']})\n"
   ],
   "metadata": {
    "collapsed": false,
    "pycharm": {
     "name": "#%%\n"
    }
   }
  },
  {
   "cell_type": "markdown",
   "source": [
    "For a pandas dataframe, need dictionary where the key is the column name, and the values are an array\n",
    "We now have the following collated data:\n",
    "- female_staff_percentage_per_uni\n",
    "- female_grad_percentage_per_uni"
   ],
   "metadata": {
    "collapsed": false,
    "pycharm": {
     "name": "#%% md\n"
    }
   }
  },
  {
   "cell_type": "markdown",
   "source": [
    "For each of the above, we need a list of the values and a list of the keys in the same order. Then we can make a pandas dataframe"
   ],
   "metadata": {
    "collapsed": false,
    "pycharm": {
     "name": "#%% md\n"
    }
   }
  },
  {
   "cell_type": "code",
   "execution_count": null,
   "outputs": [],
   "source": [
    "female_staff_percentage_list = extract_values_to_list(female_staff_percentage_per_uni)\n",
    "female_staff_uni_name_list = extract_keys_to_list(female_staff_percentage_per_uni)\n",
    "female_grad_percentage_list = extract_values_to_list(female_grad_percentage_per_uni)\n",
    "female_grad_uni_name_list = extract_keys_to_list(female_grad_percentage_per_uni)"
   ],
   "metadata": {
    "collapsed": false,
    "pycharm": {
     "name": "#%%\n"
    }
   }
  },
  {
   "cell_type": "code",
   "execution_count": null,
   "outputs": [],
   "source": [
    "print(female_staff_percentage_list)"
   ],
   "metadata": {
    "collapsed": false,
    "pycharm": {
     "name": "#%%\n"
    }
   }
  },
  {
   "cell_type": "code",
   "execution_count": null,
   "outputs": [],
   "source": [
    "print(female_grad_percentage_list)"
   ],
   "metadata": {
    "collapsed": false,
    "pycharm": {
     "name": "#%%\n"
    }
   }
  },
  {
   "cell_type": "markdown",
   "source": [
    "From the above, it is apparent that further data cleansing is needed for the University endpoint generated data (percentages). As, although the request was valid, 'none' has been returned. I will make this into a pandas dataframe first however, as I can then use pandas method to remove corrupted data."
   ],
   "metadata": {
    "collapsed": false,
    "pycharm": {
     "name": "#%% md\n"
    }
   }
  },
  {
   "cell_type": "code",
   "execution_count": null,
   "outputs": [],
   "source": [
    "female_grad_data = {\n",
    "    \"University\": female_grad_uni_name_list,\n",
    "    \"Percentage\": female_grad_percentage_list\n",
    "}"
   ],
   "metadata": {
    "collapsed": false,
    "pycharm": {
     "name": "#%%\n"
    }
   }
  },
  {
   "cell_type": "code",
   "execution_count": null,
   "outputs": [],
   "source": [
    "df_grads = pd.DataFrame(female_grad_data)\n",
    "print(df_grads)"
   ],
   "metadata": {
    "collapsed": false,
    "pycharm": {
     "name": "#%%\n"
    }
   }
  },
  {
   "cell_type": "code",
   "execution_count": null,
   "outputs": [],
   "source": [
    "female_staff_data = {\n",
    "    \"University\": female_staff_uni_name_list,\n",
    "    \"Percentage\": female_staff_percentage_list\n",
    "}\n",
    "\n",
    "df_staff = pd.DataFrame(female_staff_data)\n",
    "print(df_staff)"
   ],
   "metadata": {
    "collapsed": false,
    "pycharm": {
     "name": "#%%\n"
    }
   }
  },
  {
   "cell_type": "markdown",
   "source": [
    "Now for the data cleansing of the staff & grad data, we create a cleaning method"
   ],
   "metadata": {
    "collapsed": false,
    "pycharm": {
     "name": "#%% md\n"
    }
   }
  },
  {
   "cell_type": "code",
   "execution_count": null,
   "outputs": [],
   "source": [
    "remove_none_percentage(df_staff)\n",
    "remove_none_percentage(df_grads)"
   ],
   "metadata": {
    "collapsed": false,
    "pycharm": {
     "name": "#%%\n"
    }
   }
  },
  {
   "cell_type": "code",
   "execution_count": null,
   "outputs": [],
   "source": [
    "print(df_staff)\n",
    "print(df_grads)"
   ],
   "metadata": {
    "collapsed": false,
    "pycharm": {
     "name": "#%%\n"
    }
   }
  },
  {
   "cell_type": "markdown",
   "source": [
    "These datasets are now cleaned of percentage with 'None', and can be analysed once the datatype has migrated."
   ],
   "metadata": {
    "collapsed": false,
    "pycharm": {
     "name": "#%% md\n"
    }
   },
   "outputs": []
  },
  {
   "cell_type": "code",
   "execution_count": null,
   "outputs": [],
   "source": [
    "df_staff = df_staff.astype({'Percentage':'int'})\n",
    "df_grads = df_grads.astype({'Percentage':'int'})"
   ],
   "metadata": {
    "collapsed": false,
    "pycharm": {
     "name": "#%%\n"
    }
   }
  },
  {
   "cell_type": "markdown",
   "source": [],
   "metadata": {
    "collapsed": false,
    "pycharm": {
     "name": "#%% md\n"
    }
   }
  },
  {
   "cell_type": "markdown",
   "source": [
    "Firstly, the grads gender percentages:\n",
    "Horizontal line to show 50/50 split"
   ],
   "metadata": {
    "collapsed": false,
    "pycharm": {
     "name": "#%% md\n"
    }
   }
  },
  {
   "cell_type": "code",
   "execution_count": null,
   "outputs": [],
   "source": [
    "df_grads.plot(kind = 'bar', x =  'University', y= 'Percentage', color=\"green\")\n",
    "plt.plot([-3, 30], [50, 50], 'k-', lw=2)\n",
    "\n",
    "plt.title(\"Percentage of female students at UK Universities\", size=14)\n",
    "\n",
    "plt.show()"
   ],
   "metadata": {
    "collapsed": false,
    "pycharm": {
     "name": "#%%\n"
    }
   }
  },
  {
   "cell_type": "markdown",
   "source": [
    "Shows the majority of grads across universities are female\n"
   ],
   "metadata": {
    "collapsed": false,
    "pycharm": {
     "name": "#%% md\n"
    }
   },
   "outputs": []
  },
  {
   "cell_type": "code",
   "execution_count": null,
   "outputs": [],
   "source": [
    "df_grad_avg = df_grads[\"Percentage\"].mean()\n",
    "print(df_grad_avg)"
   ],
   "metadata": {
    "collapsed": false,
    "pycharm": {
     "name": "#%%\n"
    }
   }
  },
  {
   "cell_type": "markdown",
   "source": [
    "Next, the staff:"
   ],
   "metadata": {
    "collapsed": false,
    "pycharm": {
     "name": "#%% md\n"
    }
   }
  },
  {
   "cell_type": "code",
   "execution_count": null,
   "outputs": [],
   "source": [
    "df_staff.plot(kind = 'bar', x =  'University', y= 'Percentage', color=\"orange\")\n",
    "plt.plot([-3, 30], [50, 50], 'k-', lw=2)\n",
    "\n",
    "plt.show()"
   ],
   "metadata": {
    "collapsed": false,
    "pycharm": {
     "name": "#%%\n"
    }
   }
  },
  {
   "cell_type": "markdown",
   "source": [
    "This shows a lower split, meaning there are on average more male staff members."
   ],
   "metadata": {
    "collapsed": false,
    "pycharm": {
     "name": "#%% md\n"
    }
   }
  },
  {
   "cell_type": "code",
   "execution_count": null,
   "outputs": [],
   "source": [
    "df_staff_avg = df_staff[\"Percentage\"].mean()\n",
    "print(df_staff_avg)"
   ],
   "metadata": {
    "collapsed": false,
    "pycharm": {
     "name": "#%%\n"
    }
   }
  },
  {
   "cell_type": "markdown",
   "source": [
    "Lets compare the staff vs students at each university:"
   ],
   "metadata": {
    "collapsed": false,
    "pycharm": {
     "name": "#%% md\n"
    }
   }
  },
  {
   "cell_type": "code",
   "execution_count": null,
   "outputs": [],
   "source": [
    "x = np.arange(18)\n",
    "grad_bars = df_grads['Percentage']\n",
    "staff_bars = df_staff['Percentage']\n",
    "\n",
    "width = 0.4\n",
    "\n",
    "plt.bar(x+0.4, grad_bars, width, color='green')\n",
    "plt.bar(x, staff_bars, width, color='orange')\n",
    "plt.plot([-0.5, 18], [50, 50], 'k-', lw=2)\n",
    "\n",
    "plt.xticks(x, df_staff['University'].values.tolist())\n",
    "plt.xticks(rotation = 90)\n",
    "\n",
    "plt.legend([\"50%\", \"Students\", \"Staff\"])\n",
    "plt.title(\"Percentage of females by University\", size=14)\n",
    "\n",
    "plt.show()"
   ],
   "metadata": {
    "collapsed": false,
    "pycharm": {
     "name": "#%%\n"
    }
   }
  },
  {
   "cell_type": "markdown",
   "source": [
    "Compare the staff vs students difference"
   ],
   "metadata": {
    "collapsed": false,
    "pycharm": {
     "name": "#%% md\n"
    }
   }
  },
  {
   "cell_type": "markdown",
   "source": [
    "# Geocoding - OW API"
   ],
   "metadata": {
    "collapsed": false,
    "pycharm": {
     "name": "#%% md\n"
    }
   }
  },
  {
   "cell_type": "markdown",
   "source": [
    "Documentation: https://openweathermap.org/api/geocoding-api"
   ],
   "metadata": {
    "collapsed": false,
    "pycharm": {
     "name": "#%% md\n"
    }
   }
  },
  {
   "cell_type": "markdown",
   "source": [
    "## Methods & resources"
   ],
   "metadata": {
    "collapsed": false,
    "pycharm": {
     "name": "#%% md\n"
    }
   }
  },
  {
   "cell_type": "markdown",
   "source": [
    "A list of english cities, may be used to map the uk or places to their closest city. Obtained manually from https://www.britannica.com/topic/list-of-cities-and-towns-in-the-United-Kingdom-2034188"
   ],
   "metadata": {
    "collapsed": false,
    "pycharm": {
     "name": "#%% md\n"
    }
   }
  },
  {
   "cell_type": "code",
   "execution_count": null,
   "outputs": [],
   "source": [
    "list_english_cities = ['Newcastle upon Tyne', 'Durham', 'York', 'Leeds', 'Manchester', 'Hull', 'Nottingham', 'Leicester', 'Skegness', 'Peterborough', 'Cambridge', 'Northampton', 'Liverpool', 'Chester',   'Plymouth', 'Exeter', 'Plymouth', 'Bournemouth', 'Brighton', 'Hastings', 'Catebury', 'London', 'Colchester', 'Manchester', 'Ipswich', 'Luton', 'Northampton', 'Oxford', 'Swindon', 'Birmingham', 'Whitby', 'Bristol']"
   ],
   "metadata": {
    "collapsed": false,
    "pycharm": {
     "name": "#%%\n"
    }
   }
  },
  {
   "cell_type": "code",
   "execution_count": null,
   "outputs": [],
   "source": [
    "def city_endpoint(city):\n",
    "    endpoint = \"http://api.openweathermap.org/geo/1.0/direct?q={},GB&appid={}\".format(city, location_api_key)\n",
    "    return endpoint"
   ],
   "metadata": {
    "collapsed": false,
    "pycharm": {
     "name": "#%%\n"
    }
   }
  },
  {
   "cell_type": "code",
   "execution_count": null,
   "outputs": [],
   "source": [
    "def get_city_api_data(city):\n",
    "    endpoint = city_endpoint(city)\n",
    "    response = requests.get(endpoint).json()\n",
    "    return response"
   ],
   "metadata": {
    "collapsed": false,
    "pycharm": {
     "name": "#%%\n"
    }
   }
  },
  {
   "cell_type": "code",
   "execution_count": null,
   "outputs": [],
   "source": [
    "def get_lon_of_city(place):\n",
    "    results = get_city_api_data(place)\n",
    "    if len(results) == 1:\n",
    "        city_results = results[0]\n",
    "        lon_to_return = city_results['lon']\n",
    "    else:\n",
    "        i = 0\n",
    "        city_in_uk = False\n",
    "        while not city_in_uk:\n",
    "            city_to_try = results[i]\n",
    "            if city_to_try['country'] == 'GB':\n",
    "                city_in_uk = True\n",
    "            i+= 1\n",
    "        lon_to_return = city_to_try['lon']\n",
    "    return lon_to_return\n"
   ],
   "metadata": {
    "collapsed": false,
    "pycharm": {
     "name": "#%%\n"
    }
   }
  },
  {
   "cell_type": "code",
   "execution_count": null,
   "outputs": [],
   "source": [
    "def get_lat_of_city(place):\n",
    "    results = get_city_api_data(place)\n",
    "    if len(results) == 1:\n",
    "        city_results = results[0]\n",
    "        lat_to_return = city_results['lat']\n",
    "    else:\n",
    "        i = 0\n",
    "        city_in_uk = False\n",
    "        while not city_in_uk:\n",
    "            city_to_try = results[i]\n",
    "            if city_to_try['country'] == 'GB':\n",
    "                city_in_uk = True\n",
    "            i+= 1\n",
    "        lat_to_return = city_to_try['lat']\n",
    "    return lat_to_return\n"
   ],
   "metadata": {
    "collapsed": false,
    "pycharm": {
     "name": "#%%\n"
    }
   }
  },
  {
   "cell_type": "markdown",
   "source": [
    "Lat/long conversions\n",
    "one degree longitude equals 288,200 feet (54.6 miles)\n",
    "one degree latitude equals approximately 364,000 feet (69 miles),"
   ],
   "metadata": {
    "collapsed": false,
    "pycharm": {
     "name": "#%% md\n"
    }
   }
  },
  {
   "cell_type": "code",
   "execution_count": null,
   "outputs": [],
   "source": [
    " # 1 degree = 54.6 miles\n",
    "# 1 mile = 1/54.6 degrees\n",
    "\n",
    "def miles_to_lon(miles):\n",
    "    conversion = 1.0 / 54.60\n",
    "    return miles * conversion\n",
    "\n",
    "#similarly for latitude\n",
    "\n",
    "def miles_to_lat(miles):\n",
    "    conversion = 1.0 / 69.0\n",
    "    return miles * conversion\n",
    "\n",
    "def lat_to_miles(lat):\n",
    "    return lat * 69.0\n",
    "\n",
    "def long_to_miles(lon):\n",
    "    return lon * 54.60"
   ],
   "metadata": {
    "collapsed": false,
    "pycharm": {
     "name": "#%%\n"
    }
   }
  },
  {
   "cell_type": "code",
   "execution_count": null,
   "outputs": [],
   "source": [
    "cities = []\n",
    "lons = []\n",
    "lats = []\n",
    "\n",
    "def add_city_details_to_list(list_to_check):\n",
    "    if len(list_to_check) == 1:\n",
    "        city_list = list_to_check[0]\n",
    "        lat = city_list['lat']\n",
    "        lon = city_list['lon']\n",
    "        cities.append(city)\n",
    "        lons.append(lon)\n",
    "        lats.append(lat)\n"
   ],
   "metadata": {
    "collapsed": false,
    "pycharm": {
     "name": "#%%\n"
    }
   }
  },
  {
   "cell_type": "markdown",
   "source": [
    "Coordinates for major cities to display on maps: obtained from maps, just picked reference cities at various latitudes"
   ],
   "metadata": {
    "collapsed": false,
    "pycharm": {
     "name": "#%% md\n"
    }
   }
  },
  {
   "cell_type": "code",
   "execution_count": null,
   "outputs": [],
   "source": [
    "#coordinates\n",
    "x = np.array([-4, 4]) #for horizontal line\n",
    "y = np.array([50, 58]) #vertical line\n",
    "y_lon = np.array([51.5072, 51.5072]) #london\n",
    "x_lon = np.array([0.1276, 0.1276]) #london\n",
    "y_manchester = np.array([53.4808,53.4808])\n",
    "x_manchester = np.array([-2.2426, -2.2426])\n",
    "y_newcastle = np.array([54.9783,54.9783])\n",
    "y_edinburgh = np.array([55.48, 55.48]) #northernmost point of England\n",
    "y_plymouth = np.array([50.3755, 50.3755])"
   ],
   "metadata": {
    "collapsed": false,
    "pycharm": {
     "name": "#%%\n"
    }
   }
  },
  {
   "cell_type": "markdown",
   "source": [
    "The below methods were not used in the end,  but are to plot the lines for major cities as map references/markers"
   ],
   "metadata": {
    "collapsed": false,
    "pycharm": {
     "name": "#%% md\n"
    }
   }
  },
  {
   "cell_type": "code",
   "execution_count": null,
   "outputs": [],
   "source": [
    "def plot_major_cities():\n",
    "    plt.plot(x, y_newcastle, color=\"aqua\", label=\"newcastle\")\n",
    "    plt.plot(x, y_manchester, color=\"orange\", label=\"manchester\")\n",
    "    plt.plot(x_manchester, y, color=\"orange\")\n",
    "    plt.plot(x, y_lon, color=\"hotpink\", label=\"london\")\n",
    "    plt.plot(x_lon, y, color=\"hotpink\")\n",
    "    plt.plot(x, y_plymouth, color=\"red\", label=\"plymouth\")\n",
    "    plt.legend(loc=\"upper right\")"
   ],
   "metadata": {
    "collapsed": false,
    "pycharm": {
     "name": "#%%\n"
    }
   }
  },
  {
   "cell_type": "code",
   "execution_count": null,
   "outputs": [],
   "source": [
    "def plot_major_cities_no_legend():\n",
    "    plt.plot(x, y_newcastle, color=\"aqua\", label=\"newcastle\")\n",
    "    plt.plot(x, y_manchester, color=\"orange\", label=\"manchester\")\n",
    "    plt.plot(x_manchester, y, color=\"orange\")\n",
    "    plt.plot(x, y_lon, color=\"hotpink\", label=\"london\")\n",
    "    plt.plot(x_lon, y, color=\"hotpink\")\n",
    "    plt.plot(x, y_plymouth, color=\"red\", label=\"plymouth\")"
   ],
   "metadata": {
    "collapsed": false,
    "pycharm": {
     "name": "#%%\n"
    }
   }
  },
  {
   "cell_type": "code",
   "execution_count": null,
   "outputs": [],
   "source": [
    "def plot_man_lon():\n",
    "    plt.plot(x, y_manchester, color=\"orange\", label=\"manchester\")\n",
    "    plt.plot(x_manchester, y, color=\"orange\")\n",
    "    plt.plot(x, y_lon, color=\"hotpink\", label=\"london\")\n",
    "    plt.plot(x_lon, y, color=\"hotpink\")\n",
    "    plt.legend([\"Universities\", \"Manchester\", \"\", \"London\"])"
   ],
   "metadata": {
    "collapsed": false,
    "pycharm": {
     "name": "#%%\n"
    }
   }
  },
  {
   "cell_type": "code",
   "execution_count": null,
   "outputs": [],
   "source": [
    "def plot_man_lon_no_legend():\n",
    "    plt.plot(x, y_manchester, color=\"orange\", label=\"manchester\")\n",
    "    plt.plot(x_manchester, y, color=\"orange\")\n",
    "    plt.plot(x, y_lon, color=\"hotpink\", label=\"london\")\n",
    "    plt.plot(x_lon, y, color=\"hotpink\")"
   ],
   "metadata": {
    "collapsed": false,
    "pycharm": {
     "name": "#%%\n"
    }
   }
  },
  {
   "cell_type": "code",
   "execution_count": null,
   "outputs": [],
   "source": [
    "def create_no_dupe_list(list_to_check):\n",
    "    unduped_list = []\n",
    "    for item in list_to_check:\n",
    "        occurences = list_to_check.count(item)\n",
    "        if occurences == 1:\n",
    "            unduped_list.append(item)\n",
    "\n",
    "    return unduped_list"
   ],
   "metadata": {
    "collapsed": false,
    "pycharm": {
     "name": "#%%\n"
    }
   }
  },
  {
   "cell_type": "markdown",
   "source": [
    "### Data cleansing/sorting/organising"
   ],
   "metadata": {
    "collapsed": false,
    "pycharm": {
     "name": "#%% md\n"
    }
   }
  },
  {
   "cell_type": "code",
   "execution_count": null,
   "outputs": [],
   "source": [
    "list_english_cities.sort()\n",
    "print(list_english_cities)"
   ],
   "metadata": {
    "collapsed": false,
    "pycharm": {
     "name": "#%%\n"
    }
   }
  },
  {
   "cell_type": "markdown",
   "source": [
    "Can visibly see duplicates, e.g. Manchester, so shall now remove them"
   ],
   "metadata": {
    "collapsed": false,
    "pycharm": {
     "name": "#%% md\n"
    }
   }
  },
  {
   "cell_type": "code",
   "execution_count": null,
   "outputs": [],
   "source": [
    "clean_english_cities_list = create_no_dupe_list(list_english_cities)"
   ],
   "metadata": {
    "collapsed": false,
    "pycharm": {
     "name": "#%%\n"
    }
   }
  },
  {
   "cell_type": "code",
   "execution_count": null,
   "outputs": [],
   "source": [
    "print(list_english_cities)"
   ],
   "metadata": {
    "collapsed": false,
    "pycharm": {
     "name": "#%%\n"
    }
   }
  },
  {
   "cell_type": "code",
   "execution_count": null,
   "outputs": [],
   "source": [
    "len(list_english_cities)"
   ],
   "metadata": {
    "collapsed": false,
    "pycharm": {
     "name": "#%%\n"
    }
   }
  },
  {
   "cell_type": "code",
   "execution_count": null,
   "outputs": [],
   "source": [
    "len(clean_english_cities_list)"
   ],
   "metadata": {
    "collapsed": false,
    "pycharm": {
     "name": "#%%\n"
    }
   }
  },
  {
   "cell_type": "code",
   "execution_count": null,
   "outputs": [],
   "source": [
    "print(clean_english_cities_list)"
   ],
   "metadata": {
    "collapsed": false,
    "pycharm": {
     "name": "#%%\n"
    }
   }
  },
  {
   "cell_type": "markdown",
   "source": [
    "Can also see spelling errors, check which will successfully call API"
   ],
   "metadata": {
    "collapsed": false,
    "pycharm": {
     "name": "#%% md\n"
    }
   }
  },
  {
   "cell_type": "code",
   "execution_count": null,
   "outputs": [],
   "source": [
    "for city in clean_english_cities_list:\n",
    "    print(city)\n",
    "    print(get_city_api_data(city))"
   ],
   "metadata": {
    "collapsed": false,
    "pycharm": {
     "name": "#%%\n"
    }
   }
  },
  {
   "cell_type": "markdown",
   "source": [
    "Can see Cantebury doesn't work, as spelt incorrectly, and Cork has no results - will update & remove\n"
   ],
   "metadata": {
    "collapsed": false,
    "pycharm": {
     "name": "#%% md\n"
    }
   }
  },
  {
   "cell_type": "code",
   "execution_count": null,
   "outputs": [],
   "source": [
    "clean_english_cities_list.remove(\"Catebury\")\n",
    "clean_english_cities_list.append(\"Canterbury\")"
   ],
   "metadata": {
    "collapsed": false,
    "pycharm": {
     "name": "#%%\n"
    }
   }
  },
  {
   "cell_type": "code",
   "execution_count": null,
   "outputs": [],
   "source": [
    "print(len(clean_english_cities_list))"
   ],
   "metadata": {
    "collapsed": false,
    "pycharm": {
     "name": "#%%\n"
    }
   }
  },
  {
   "cell_type": "markdown",
   "source": [
    "double check Cantebury now calls API successfully & changed succesfully"
   ],
   "metadata": {
    "collapsed": false,
    "pycharm": {
     "name": "#%% md\n"
    }
   }
  },
  {
   "cell_type": "code",
   "execution_count": null,
   "outputs": [],
   "source": [
    "if \"Canterbury\" in clean_english_cities_list:\n",
    "    print(\"successful\")\n",
    "    print(get_city_api_data(\"Canterbury\"))"
   ],
   "metadata": {
    "collapsed": false,
    "pycharm": {
     "name": "#%%\n"
    }
   }
  },
  {
   "cell_type": "markdown",
   "source": [
    "Confident that this has now been cleaned"
   ],
   "metadata": {
    "collapsed": false,
    "pycharm": {
     "name": "#%% md\n"
    }
   }
  },
  {
   "cell_type": "markdown",
   "source": [
    "### Using Geocoding to find the nearest city\n",
    "In the end, this function was not used. It was intended to allow us to assign universities to a nearby major city, adjusting the distance and list of cities 'accepted' above. This was not used, as we can obtain the city of the university directly from the API. However, in future studies this may be used for deeper analysis, perhaps using a dataset from the government rather than just the API."
   ],
   "metadata": {
    "collapsed": false,
    "pycharm": {
     "name": "#%% md\n"
    }
   }
  },
  {
   "cell_type": "markdown",
   "source": [
    "obtaining lats/lons of cities in clean_english_cities_lists"
   ],
   "metadata": {
    "collapsed": false,
    "pycharm": {
     "name": "#%% md\n"
    }
   }
  },
  {
   "cell_type": "code",
   "execution_count": null,
   "outputs": [],
   "source": [
    "#ensure clean prior to use\n",
    "lats = []\n",
    "lons = []\n",
    "for city in clean_english_cities_list:\n",
    "    list_to_add = get_city_api_data(city)\n",
    "    add_city_details_to_list(list_to_add)\n"
   ],
   "metadata": {
    "collapsed": false,
    "pycharm": {
     "name": "#%%\n"
    }
   }
  },
  {
   "cell_type": "markdown",
   "source": [
    "ensure all have been added correctly, no duplicates etc"
   ],
   "metadata": {
    "collapsed": false,
    "pycharm": {
     "name": "#%% md\n"
    }
   }
  },
  {
   "cell_type": "code",
   "execution_count": null,
   "outputs": [],
   "source": [
    "print(len(lats))\n",
    "print(len(clean_english_cities_list))\n",
    "print(len(lons))"
   ],
   "metadata": {
    "collapsed": false,
    "pycharm": {
     "name": "#%%\n"
    }
   }
  },
  {
   "cell_type": "markdown",
   "source": [
    "We now have ordered lists of the uk cities with their lon&lats\n",
    "now we create a method to find the nearest city based on lat& lons"
   ],
   "metadata": {
    "collapsed": false,
    "pycharm": {
     "name": "#%% md\n"
    }
   }
  },
  {
   "cell_type": "markdown",
   "source": [
    "assumptions to make\n",
    "Northernmost point – Marshall Meadows Bay, Northumberland at 55°48′N 2°02′W (55.8, -2.033333)\n",
    "Southernmost point – Pednathise Head, Western Rocks at 49°51′N 6°24′W (49.85, -6.4)\n",
    "Westernmost point – Crim Rocks, Isles of Scilly at 49°53′N 6°27′W (49.883333, -6.45)\n",
    "Easternmost point – Lowestoft Ness, Suffolk at 52°29′N 1°46′E (52.483333, 1.766667)\n",
    "\n",
    "(lat, lon)\n",
    "Uk lats always positive, lons can be positive or negative. To allow for easier analysis, will scale the lons to be positive (this does not affect analysis, but if using the lons later will need to re-scale back"
   ],
   "metadata": {
    "collapsed": false,
    "pycharm": {
     "name": "#%% md\n"
    }
   }
  },
  {
   "cell_type": "code",
   "execution_count": null,
   "outputs": [],
   "source": [
    "#all larger than -10, will just add 10 to all to bring positive\n",
    "lon_plus_ten = []\n",
    "\n",
    "for lon in lons:\n",
    "    to_add = lon + 10.00\n",
    "    lon_plus_ten.append(to_add)"
   ],
   "metadata": {
    "collapsed": false,
    "pycharm": {
     "name": "#%%\n"
    }
   }
  },
  {
   "cell_type": "code",
   "execution_count": null,
   "outputs": [],
   "source": [
    "def find_nearest_city(city):\n",
    "    if city in list_english_cities:\n",
    "        answer = city\n",
    "    else:\n",
    "        city = 'Newark' #to be deleted\n",
    "        response = get_city_api_data(city)\n",
    "        data = response[0]\n",
    "\n",
    "        this_latitude = data['lat']\n",
    "        this_longitutde = data['lon'] + 10.00\n",
    "\n",
    "        potential_cities = []\n",
    "        potential_cities_lats_diff = {}\n",
    "        potential_cities_lons_diff = {}\n",
    "\n",
    "        for city in clean_english_cities_list:\n",
    "            index = clean_english_cities_list.index(city)\n",
    "            max_lat = lats[index] + miles_to_lat(50)\n",
    "            min_lat = lats[index] - miles_to_lat(50)\n",
    "            max_lon = lon_plus_ten[index] + miles_to_lon(50)\n",
    "            min_lon = lon_plus_ten[index] - miles_to_lon(50)\n",
    "\n",
    "            if this_latitude <= max_lat and this_latitude >= min_lat and this_longitutde <= max_lon and this_longitutde >= min_lon:\n",
    "                potential_cities.append(city)\n",
    "                lat_diff = this_latitude - lats[index]\n",
    "                lon_diff = this_longitutde - lons[index]\n",
    "                if lat_diff < 0:\n",
    "                    lat_diff = -lat_diff\n",
    "                if lon_diff < 0:\n",
    "                    lon_diff = - lon_diff\n",
    "                potential_cities_lats_diff[city] = lat_diff\n",
    "                potential_cities_lons_diff[city] = lon_diff\n",
    "\n",
    "        print(potential_cities)\n",
    "        print(potential_cities_lats_diff)\n",
    "\n",
    "        if len(potential_cities) == 1:\n",
    "            answer = potential_cities[0]\n",
    "        else:\n",
    "            lat_city_list = extract_keys_to_list(potential_cities_lats_diff)\n",
    "            lat_diff_list = extract_values_to_list(potential_cities_lats_diff)\n",
    "            lon_city_list = extract_keys_to_list(potential_cities_lons_diff)\n",
    "            lon_diff_list = extract_values_to_list(potential_cities_lons_diff)\n",
    "            smallest_lat_diff = min(lat_diff_list)\n",
    "            smallest_lon_diff = min(lon_diff_list)\n",
    "\n",
    "            city_position = lat_diff_list.index(smallest_lat_diff)\n",
    "            answer = lat_city_list[city_position]\n",
    "\n",
    "        print(answer)"
   ],
   "metadata": {
    "collapsed": false,
    "pycharm": {
     "name": "#%%\n"
    }
   }
  },
  {
   "cell_type": "code",
   "execution_count": null,
   "outputs": [],
   "source": [
    "find_nearest_city('Witham St Hughs') #testing"
   ],
   "metadata": {
    "collapsed": false,
    "pycharm": {
     "name": "#%%\n"
    }
   }
  },
  {
   "cell_type": "markdown",
   "source": [
    "## Using Geocoding on UniDB data"
   ],
   "metadata": {
    "collapsed": false,
    "pycharm": {
     "name": "#%% md\n"
    }
   }
  },
  {
   "cell_type": "markdown",
   "source": [
    "Need to obtain the city of each university, can do this using the university endpoint https://unidbapi.com/api/university/read?u=Anglia Ruskin University&key=123"
   ],
   "metadata": {
    "collapsed": false,
    "pycharm": {
     "name": "#%% md\n"
    }
   }
  },
  {
   "cell_type": "markdown",
   "source": [
    "### Methods"
   ],
   "metadata": {
    "collapsed": false,
    "pycharm": {
     "name": "#%% md\n"
    }
   }
  },
  {
   "cell_type": "code",
   "execution_count": null,
   "outputs": [],
   "source": [
    "def uni_city_endpoint(university):\n",
    "    endpoint = \"https://unidbapi.com/api/university/search?u={}&key={}\".format(university, api_key)\n",
    "    return endpoint"
   ],
   "metadata": {
    "collapsed": false,
    "pycharm": {
     "name": "#%%\n"
    }
   }
  },
  {
   "cell_type": "code",
   "execution_count": null,
   "outputs": [],
   "source": [
    "def get_uni_city(university):\n",
    "    endpoint = uni_city_endpoint(university)\n",
    "    response = requests.get(endpoint)\n",
    "    university_info = response.json()\n",
    "    code = response.status_code\n",
    "\n",
    "    if code == 200:\n",
    "\n",
    "        if type(university_info) is list:\n",
    "            list_of_unis = university_info[0]\n",
    "            return list_of_unis['city']\n",
    "        elif type(university_info) == type(dict):\n",
    "            return university_info['city']\n",
    "        else:\n",
    "            list_of_unis = university_info[0]\n",
    "            return list_of_unis['city']\n"
   ],
   "metadata": {
    "collapsed": false,
    "pycharm": {
     "name": "#%%\n"
    }
   }
  },
  {
   "cell_type": "code",
   "execution_count": null,
   "outputs": [],
   "source": [
    "list_of_universities_analysed = df_staff[\"University\"].values.tolist()"
   ],
   "metadata": {
    "collapsed": false,
    "pycharm": {
     "name": "#%%\n"
    }
   }
  },
  {
   "cell_type": "code",
   "execution_count": null,
   "outputs": [],
   "source": [
    "print(list_of_universities_analysed)"
   ],
   "metadata": {
    "collapsed": false,
    "pycharm": {
     "name": "#%%\n"
    }
   }
  },
  {
   "cell_type": "markdown",
   "source": [
    "and then plot these on a 'map' - one where the coords are plotted, and a value (like bubble)"
   ],
   "metadata": {
    "collapsed": false,
    "pycharm": {
     "name": "#%% md\n"
    }
   }
  },
  {
   "cell_type": "code",
   "execution_count": null,
   "outputs": [],
   "source": [
    "lons_of_unis = []\n",
    "lats_of_unis = []\n",
    "\n",
    "for university_name in list_of_universities_analysed:\n",
    "    university_location = get_uni_city(university_name)\n",
    "    this_long = get_lon_of_city(university_location)\n",
    "    lons_of_unis.append(this_long)\n",
    "    this_lat = get_lat_of_city(university_location)\n",
    "    lats_of_unis.append(this_lat)"
   ],
   "metadata": {
    "collapsed": false,
    "pycharm": {
     "name": "#%%\n"
    }
   }
  },
  {
   "cell_type": "markdown",
   "source": [
    "ensure all same length"
   ],
   "metadata": {
    "collapsed": false,
    "pycharm": {
     "name": "#%% md\n"
    }
   }
  },
  {
   "cell_type": "code",
   "execution_count": null,
   "outputs": [],
   "source": [
    "print(len(lats_of_unis))\n",
    "print(len(lons_of_unis))\n",
    "print(len(list_of_universities_analysed))"
   ],
   "metadata": {
    "collapsed": false,
    "pycharm": {
     "name": "#%%\n"
    }
   }
  },
  {
   "cell_type": "markdown",
   "source": [
    "# HERE"
   ],
   "metadata": {
    "collapsed": false,
    "pycharm": {
     "name": "#%% md\n"
    }
   }
  },
  {
   "cell_type": "code",
   "execution_count": null,
   "outputs": [],
   "source": [
    "\n",
    "plt.scatter(lons_of_unis, lats_of_unis)\n",
    "\n",
    "plt.plot(x, y_newcastle, color=\"aqua\", label=\"newcastle\")\n",
    "plt.plot(x, y_manchester, color=\"orange\", label=\"manchester\")\n",
    "plt.plot(x_manchester, y, color=\"orange\")\n",
    "plt.plot(x, y_lon, color=\"hotpink\", label=\"london\")\n",
    "plt.plot(x_lon, y, color=\"hotpink\")\n",
    "plt.plot(x, y_plymouth, color=\"red\", label=\"plymouth\")\n",
    "plt.legend(loc=\"upper right\")\n",
    "\n",
    "plt.xlabel(\"Longitude\", size=12)\n",
    "plt.ylabel(\"Latitude\", size=12)\n",
    "plt.title(\"Map of universites analysed\", size=14)\n",
    "\n",
    "plt.show()"
   ],
   "metadata": {
    "collapsed": false,
    "pycharm": {
     "name": "#%%\n"
    }
   }
  },
  {
   "cell_type": "markdown",
   "source": [
    "As you can see, we have a higher representative in the East/South-East of the UK. Rarely any West, or North, representation."
   ],
   "metadata": {
    "collapsed": false,
    "pycharm": {
     "name": "#%% md\n"
    }
   }
  },
  {
   "cell_type": "markdown",
   "source": [
    "Try displaying the percentages at each uni - Bubble Chart"
   ],
   "metadata": {
    "collapsed": false,
    "pycharm": {
     "name": "#%% md\n"
    }
   }
  },
  {
   "cell_type": "markdown",
   "source": [
    "Want a df with university, lat, lon, and the ratio - will do just for students for now\n",
    "df = pd.DataFrame({\n",
    "    'X': x,\n",
    "    'Y': y,\n",
    "    'Colors': colors,\n",
    "    \"bubble_size\":area})\n",
    "\n",
    "The lists have already been created above:\n",
    "lats_of_unis - y-axis\n",
    "lons_of_unis - x-axis\n",
    "list_of_universities_analysed - just a key\n",
    "\n",
    "We need the percentage"
   ],
   "metadata": {
    "collapsed": false,
    "pycharm": {
     "name": "#%% md\n"
    }
   }
  },
  {
   "cell_type": "markdown",
   "source": [
    "## Grads"
   ],
   "metadata": {
    "collapsed": false,
    "pycharm": {
     "name": "#%% md\n"
    }
   }
  },
  {
   "cell_type": "code",
   "execution_count": null,
   "outputs": [],
   "source": [
    "list_of_unis_percentage_for_df_grads = df_grads['Percentage'].tolist()\n",
    "number_of_bubbles = len(lons_of_unis)\n",
    "colors = np.random.rand(number_of_bubbles)"
   ],
   "metadata": {
    "collapsed": false,
    "pycharm": {
     "name": "#%%\n"
    }
   }
  },
  {
   "cell_type": "code",
   "execution_count": null,
   "outputs": [],
   "source": [
    "percentages_multiplied_by_10_grads = [] #scaling the percentage to excentuate the differences\n",
    "for percentage in list_of_unis_percentage_for_df_grads:\n",
    "    five_times_percentage = percentage * 40\n",
    "    percentages_multiplied_by_10_grads.append(five_times_percentage)"
   ],
   "metadata": {
    "collapsed": false,
    "pycharm": {
     "name": "#%%\n"
    }
   }
  },
  {
   "cell_type": "code",
   "execution_count": null,
   "outputs": [],
   "source": [
    "df_for_mapping_bigger_bubbles_grads = pd.DataFrame({\n",
    "    'Unis': list_of_universities_analysed,\n",
    "    'X': lons_of_unis,\n",
    "    'Y': lats_of_unis,\n",
    "    'Colors': colors,\n",
    "    'Bubbles': percentages_multiplied_by_10_grads\n",
    "})"
   ],
   "metadata": {
    "collapsed": false,
    "pycharm": {
     "name": "#%%\n"
    }
   }
  },
  {
   "cell_type": "code",
   "execution_count": null,
   "outputs": [],
   "source": [
    "plt.scatter('X', 'Y',\n",
    "            s='Bubbles',\n",
    "            c='Colors',\n",
    "            alpha=0.5,\n",
    "            edgecolors='black',\n",
    "            data=df_for_mapping_bigger_bubbles_grads)\n",
    "plt.xlabel(\"Longitude\", size=12)\n",
    "plt.ylabel(\"Latitude\", size=12)\n",
    "plt.title(\"Map of percentage of female grads \\n at Universities analysed\", size=14)"
   ],
   "metadata": {
    "collapsed": false,
    "pycharm": {
     "name": "#%%\n"
    }
   }
  },
  {
   "cell_type": "markdown",
   "source": [
    "## Mapping HESA Dataset analysis"
   ],
   "metadata": {
    "collapsed": false,
    "pycharm": {
     "name": "#%% md\n"
    }
   },
   "outputs": []
  },
  {
   "cell_type": "markdown",
   "source": [
    "### Top Ten Higher Education Providers by Number of First-year Enrolled Female Students"
   ],
   "metadata": {
    "collapsed": false,
    "pycharm": {
     "name": "#%% md\n"
    }
   }
  },
  {
   "cell_type": "code",
   "execution_count": null,
   "outputs": [],
   "source": [
    "top_provider_1415_dict = {'The University of Manchester': 7855, 'University College London':6750, 'The University of Leeds': 6640, 'The Manchester Metropolitan University': 6175, 'King\\'s College London':6085, 'The University of Birmingham': 5945, 'University of Nottingham':5655, 'University of the Arts, London':5535, 'The University of Sheffield':5420, 'Coventry University':5410}\n",
    "\n",
    "top_provider_2021_dict = {'University College London':13705, 'The University of Manchester': 11130, 'King\\'s College London': 10555, 'The University of Leeds': 8755,'The University of Birmingham':7765,'The Manchester Metropolitan University':7725,'Anglia Ruskin University':7505,\n",
    "'The University of Sheffield':7415,'The Nottingham Trent University':7320,'Coventry University':7190}\n"
   ],
   "metadata": {
    "collapsed": false,
    "pycharm": {
     "name": "#%%\n"
    }
   }
  },
  {
   "cell_type": "code",
   "execution_count": null,
   "outputs": [],
   "source": [
    "list_1415_city = ['Manchester', 'London', 'Leeds', 'Manchester', 'London', 'Birmingham', 'Nottingham', 'London', 'Sheffield', 'Coventry']\n",
    "list_2021_city = ['London', 'Manchester', 'London', 'Leeds', 'Birmingham', 'Manchester', 'Cambridge', 'Sheffield', 'Nottingham', 'Coventry']"
   ],
   "metadata": {
    "collapsed": false,
    "pycharm": {
     "name": "#%%\n"
    }
   }
  },
  {
   "cell_type": "markdown",
   "source": [
    "14/15"
   ],
   "metadata": {
    "collapsed": false,
    "pycharm": {
     "name": "#%% md\n"
    }
   }
  },
  {
   "cell_type": "code",
   "execution_count": null,
   "outputs": [],
   "source": [
    "lon_1415 = []\n",
    "lat_1415 = []\n",
    "for city in list_1415_city:\n",
    "    lon_1415.append(get_lon_of_city(city))\n",
    "    lat_1415.append(get_lat_of_city(city))"
   ],
   "metadata": {
    "collapsed": false,
    "pycharm": {
     "name": "#%%\n"
    }
   }
  },
  {
   "cell_type": "code",
   "execution_count": null,
   "outputs": [],
   "source": [
    "print(len(lon_1415))\n",
    "print(len(lat_1415))\n",
    "print(len(list_1415_city))"
   ],
   "metadata": {
    "collapsed": false,
    "pycharm": {
     "name": "#%%\n"
    }
   }
  },
  {
   "cell_type": "code",
   "execution_count": null,
   "outputs": [],
   "source": [
    "number_of_bubbles_here = len(lon_1415)\n",
    "colors = np.random.rand(number_of_bubbles_here)"
   ],
   "metadata": {
    "collapsed": false,
    "pycharm": {
     "name": "#%%\n"
    }
   }
  },
  {
   "cell_type": "code",
   "execution_count": null,
   "outputs": [],
   "source": [
    "df_for_mapping_top_1415 = pd.DataFrame({\n",
    "    'Unis': list_1415_city,\n",
    "    'X': lon_1415,\n",
    "    'Y': lat_1415,\n",
    "    'Colors': colors\n",
    "})"
   ],
   "metadata": {
    "collapsed": false,
    "pycharm": {
     "name": "#%%\n"
    }
   }
  },
  {
   "cell_type": "code",
   "execution_count": null,
   "outputs": [],
   "source": [
    "plt.scatter('X', 'Y',\n",
    "            c='Colors',\n",
    "            alpha=0.5,\n",
    "            edgecolors='black',\n",
    "            data=df_for_mapping_top_1415)\n",
    "\n",
    "plt.plot(x, y_newcastle, color=\"aqua\", label=\"newcastle\")\n",
    "plt.plot(x, y_manchester, color=\"orange\", label=\"manchester\")\n",
    "plt.plot(x_manchester, y, color=\"orange\")\n",
    "plt.plot(x, y_lon, color=\"hotpink\", label=\"london\")\n",
    "plt.plot(x_lon, y, color=\"hotpink\")\n",
    "plt.plot(x, y_plymouth, color=\"red\", label=\"plymouth\")\n",
    "plt.legend(loc=\"upper right\")\n",
    "\n",
    "plt.xlabel(\"Longitude\", size=12)\n",
    "plt.ylabel(\"Latitude\", size=12)\n",
    "plt.title(\"14/15 Map Of Top Ten HE Providers by Number \\n of First-year Enrolled Female Students\", size=14)"
   ],
   "metadata": {
    "collapsed": false,
    "pycharm": {
     "name": "#%%\n"
    }
   }
  },
  {
   "cell_type": "markdown",
   "source": [
    "20/21:"
   ],
   "metadata": {
    "collapsed": false,
    "pycharm": {
     "name": "#%% md\n"
    }
   }
  },
  {
   "cell_type": "code",
   "execution_count": null,
   "outputs": [],
   "source": [
    "lon_2021 = []\n",
    "lat_2021 = []\n",
    "for city in list_2021_city:\n",
    "    lon_2021.append(get_lon_of_city(city))\n",
    "    lat_2021.append(get_lat_of_city(city))"
   ],
   "metadata": {
    "collapsed": false,
    "pycharm": {
     "name": "#%%\n"
    }
   }
  },
  {
   "cell_type": "code",
   "execution_count": null,
   "outputs": [],
   "source": [
    "\n",
    "number_of_bubbles_here = len(lon_2021)\n",
    "colors = np.random.rand(number_of_bubbles_here)"
   ],
   "metadata": {
    "collapsed": false,
    "pycharm": {
     "name": "#%%\n"
    }
   }
  },
  {
   "cell_type": "code",
   "execution_count": null,
   "outputs": [],
   "source": [
    "df_for_mapping_top_2021 = pd.DataFrame({\n",
    "    'Unis': list_2021_city,\n",
    "    'X': lon_2021,\n",
    "    'Y': lat_2021,\n",
    "    'Colors': colors,\n",
    "})\n",
    "\n",
    "plt.scatter('X', 'Y',\n",
    "            c='Colors',\n",
    "            alpha=0.5,\n",
    "            edgecolors='black',\n",
    "            data=df_for_mapping_top_2021)\n",
    "\n",
    "plt.plot(x, y_newcastle, color=\"aqua\", label=\"newcastle\")\n",
    "plt.plot(x, y_manchester, color=\"orange\", label=\"manchester\")\n",
    "plt.plot(x_manchester, y, color=\"orange\")\n",
    "plt.plot(x, y_lon, color=\"hotpink\", label=\"london\")\n",
    "plt.plot(x_lon, y, color=\"hotpink\")\n",
    "plt.plot(x, y_plymouth, color=\"red\", label=\"plymouth\")\n",
    "plt.legend(loc=\"upper right\")\n",
    "\n",
    "\n",
    "plt.xlabel(\"Longitude\", size=12)\n",
    "plt.ylabel(\"Latitude\", size=12)\n",
    "plt.title(\"20/21 Map Of Top Ten HE Providers by Number \\n of First-year Enrolled Female Students\", size=14)"
   ],
   "metadata": {
    "collapsed": false,
    "pycharm": {
     "name": "#%%\n"
    }
   }
  },
  {
   "cell_type": "markdown",
   "source": [
    "For comparison with all maps, we should create a map of the UK perhaps? Using the list we had above"
   ],
   "metadata": {
    "collapsed": false,
    "pycharm": {
     "name": "#%% md\n"
    }
   }
  }
 ],
 "metadata": {
  "kernelspec": {
   "display_name": "Python 3",
   "language": "python",
   "name": "python3"
  },
  "language_info": {
   "codemirror_mode": {
    "name": "ipython",
    "version": 2
   },
   "file_extension": ".py",
   "mimetype": "text/x-python",
   "name": "python",
   "nbconvert_exporter": "python",
   "pygments_lexer": "ipython2",
   "version": "2.7.6"
  }
 },
 "nbformat": 4,
 "nbformat_minor": 0
}
