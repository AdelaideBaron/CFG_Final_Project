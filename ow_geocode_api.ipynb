{
 "cells": [
  {
   "cell_type": "markdown",
   "source": [
    "API keys, have a 'passwords' doc - the first line is the XYZ Api\n",
    "second line is the geocoding Open Weather API\n",
    "Not currently using as 'broken' - but here is the code"
   ],
   "metadata": {
    "collapsed": false,
    "pycharm": {
     "name": "#%% md\n"
    }
   }
  },
  {
   "cell_type": "code",
   "execution_count": 63,
   "outputs": [],
   "source": [
    "f = open(\"geocode_ow_api.txt\", \"r\")\n",
    "api_key = f.readline()"
   ],
   "metadata": {
    "collapsed": false,
    "pycharm": {
     "name": "#%%\n"
    }
   }
  },
  {
   "cell_type": "markdown",
   "source": [
    "Following is the geocode API\n",
    "the api link is:\n",
    "- http://api.openweathermap.org/geo/1.0/direct?q=Lincoln,GB&appid=1c3c909cbbfd5d08c401a92e1549d409\n",
    "- we are only considering GB cities, so will just need to insert the city\n"
   ],
   "metadata": {
    "collapsed": false,
    "pycharm": {
     "name": "#%% md\n"
    }
   }
  },
  {
   "cell_type": "code",
   "execution_count": null,
   "outputs": [],
   "source": [
    "base_url = \"http://api.openweathermap.org/geo/1.0/direct?q=\"\n",
    "\n",
    "def create_endpoint(city, api_key):\n",
    "    endpoint = \"{},GB&appid=1c3c909cbbfd5d08c401a92e1549d409\".format(city)\n",
    "    return endpoint"
   ],
   "metadata": {
    "collapsed": false,
    "pycharm": {
     "name": "#%%\n"
    }
   }
  },
  {
   "cell_type": "markdown",
   "source": [
    "#need to get the API from a seperate file"
   ],
   "metadata": {
    "collapsed": false,
    "pycharm": {
     "name": "#%% md\n"
    }
   }
  },
  {
   "cell_type": "code",
   "execution_count": 22,
   "outputs": [],
   "source": [
    "endpoint_lincoln = create_endpoint('Lincoln', api_key)\n",
    "\n",
    "total_url = base_url + endpoint_lincoln"
   ],
   "metadata": {
    "collapsed": false,
    "pycharm": {
     "name": "#%%\n"
    }
   }
  },
  {
   "cell_type": "code",
   "execution_count": 60,
   "outputs": [
    {
     "name": "stdout",
     "output_type": "stream",
     "text": [
      "[{'country': 'GB',\n",
      "  'lat': 53.2336301,\n",
      "  'local_names': {'be': 'Лінкальн',\n",
      "                  'en': 'Lincoln',\n",
      "                  'he': 'לינקולן',\n",
      "                  'hu': 'Lincoln',\n",
      "                  'ko': '링컨',\n",
      "                  'lt': 'Linkolnas',\n",
      "                  'mk': 'Линколн',\n",
      "                  'ru': 'Линкольн',\n",
      "                  'sr': 'Линколн',\n",
      "                  'uk': 'Лінкольн'},\n",
      "  'lon': -0.5392172,\n",
      "  'name': 'Lincoln',\n",
      "  'state': 'England'}]\n"
     ]
    }
   ],
   "source": [
    "import requests\n",
    "import json\n",
    "from pprint import pprint as pp\n",
    "response = requests.get(total_url)\n",
    "data = response.json()\n",
    "pp(data)"
   ],
   "metadata": {
    "collapsed": false,
    "pycharm": {
     "name": "#%%\n"
    }
   }
  },
  {
   "cell_type": "code",
   "execution_count": 61,
   "outputs": [
    {
     "ename": "TypeError",
     "evalue": "list indices must be integers or slices, not str",
     "output_type": "error",
     "traceback": [
      "\u001B[0;31m---------------------------------------------------------------------------\u001B[0m",
      "\u001B[0;31mTypeError\u001B[0m                                 Traceback (most recent call last)",
      "Input \u001B[0;32mIn [61]\u001B[0m, in \u001B[0;36m<cell line: 1>\u001B[0;34m()\u001B[0m\n\u001B[0;32m----> 1\u001B[0m \u001B[43mdata\u001B[49m\u001B[43m[\u001B[49m\u001B[38;5;124;43m'\u001B[39;49m\u001B[38;5;124;43mcountry\u001B[39;49m\u001B[38;5;124;43m'\u001B[39;49m\u001B[43m]\u001B[49m\n",
      "\u001B[0;31mTypeError\u001B[0m: list indices must be integers or slices, not str"
     ]
    }
   ],
   "source": [
    "data['country']"
   ],
   "metadata": {
    "collapsed": false,
    "pycharm": {
     "name": "#%%\n"
    }
   }
  },
  {
   "cell_type": "code",
   "execution_count": null,
   "outputs": [],
   "source": [],
   "metadata": {
    "collapsed": false,
    "pycharm": {
     "name": "#%%\n"
    }
   }
  }
 ],
 "metadata": {
  "kernelspec": {
   "display_name": "Python 3",
   "language": "python",
   "name": "python3"
  },
  "language_info": {
   "codemirror_mode": {
    "name": "ipython",
    "version": 2
   },
   "file_extension": ".py",
   "mimetype": "text/x-python",
   "name": "python",
   "nbconvert_exporter": "python",
   "pygments_lexer": "ipython2",
   "version": "2.7.6"
  }
 },
 "nbformat": 4,
 "nbformat_minor": 0
}