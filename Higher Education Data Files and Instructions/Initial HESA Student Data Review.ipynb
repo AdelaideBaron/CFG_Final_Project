{
 "cells": [
  {
   "cell_type": "markdown",
   "id": "5648b5ad",
   "metadata": {},
   "source": [
    "# Initial  review of HESA Student Data"
   ]
  },
  {
   "cell_type": "code",
   "execution_count": 1,
   "id": "57a59072",
   "metadata": {},
   "outputs": [],
   "source": [
    "import pandas as pd"
   ]
  },
  {
   "cell_type": "code",
   "execution_count": 4,
   "id": "91d926de",
   "metadata": {},
   "outputs": [
    {
     "data": {
      "text/html": [
       "<div>\n",
       "<style scoped>\n",
       "    .dataframe tbody tr th:only-of-type {\n",
       "        vertical-align: middle;\n",
       "    }\n",
       "\n",
       "    .dataframe tbody tr th {\n",
       "        vertical-align: top;\n",
       "    }\n",
       "\n",
       "    .dataframe thead th {\n",
       "        text-align: right;\n",
       "    }\n",
       "</style>\n",
       "<table border=\"1\" class=\"dataframe\">\n",
       "  <thead>\n",
       "    <tr style=\"text-align: right;\">\n",
       "      <th></th>\n",
       "      <th>Category Marker</th>\n",
       "      <th>Category</th>\n",
       "      <th>First year marker</th>\n",
       "      <th>Level of study</th>\n",
       "      <th>Mode of study</th>\n",
       "      <th>Country of HE provider</th>\n",
       "      <th>Domicile</th>\n",
       "      <th>Academic Year</th>\n",
       "      <th>Number</th>\n",
       "      <th>Percentage</th>\n",
       "    </tr>\n",
       "  </thead>\n",
       "  <tbody>\n",
       "    <tr>\n",
       "      <th>0</th>\n",
       "      <td>Sex</td>\n",
       "      <td>Female</td>\n",
       "      <td>All</td>\n",
       "      <td>All</td>\n",
       "      <td>All</td>\n",
       "      <td>All</td>\n",
       "      <td>All</td>\n",
       "      <td>2016/17</td>\n",
       "      <td>1344635.0</td>\n",
       "      <td>0.57</td>\n",
       "    </tr>\n",
       "    <tr>\n",
       "      <th>1</th>\n",
       "      <td>Sex</td>\n",
       "      <td>Female</td>\n",
       "      <td>All</td>\n",
       "      <td>All</td>\n",
       "      <td>All</td>\n",
       "      <td>All</td>\n",
       "      <td>England</td>\n",
       "      <td>2016/17</td>\n",
       "      <td>906090.0</td>\n",
       "      <td>0.57</td>\n",
       "    </tr>\n",
       "    <tr>\n",
       "      <th>2</th>\n",
       "      <td>Sex</td>\n",
       "      <td>Female</td>\n",
       "      <td>All</td>\n",
       "      <td>All</td>\n",
       "      <td>All</td>\n",
       "      <td>All</td>\n",
       "      <td>European Union</td>\n",
       "      <td>2016/17</td>\n",
       "      <td>76070.0</td>\n",
       "      <td>0.55</td>\n",
       "    </tr>\n",
       "    <tr>\n",
       "      <th>3</th>\n",
       "      <td>Sex</td>\n",
       "      <td>Female</td>\n",
       "      <td>All</td>\n",
       "      <td>All</td>\n",
       "      <td>All</td>\n",
       "      <td>All</td>\n",
       "      <td>Non-European Union</td>\n",
       "      <td>2016/17</td>\n",
       "      <td>165460.0</td>\n",
       "      <td>0.53</td>\n",
       "    </tr>\n",
       "    <tr>\n",
       "      <th>4</th>\n",
       "      <td>Sex</td>\n",
       "      <td>Female</td>\n",
       "      <td>All</td>\n",
       "      <td>All</td>\n",
       "      <td>All</td>\n",
       "      <td>All</td>\n",
       "      <td>Northern Ireland</td>\n",
       "      <td>2016/17</td>\n",
       "      <td>35870.0</td>\n",
       "      <td>0.57</td>\n",
       "    </tr>\n",
       "  </tbody>\n",
       "</table>\n",
       "</div>"
      ],
      "text/plain": [
       "  Category Marker Category First year marker Level of study Mode of study  \\\n",
       "0             Sex   Female               All            All           All   \n",
       "1             Sex   Female               All            All           All   \n",
       "2             Sex   Female               All            All           All   \n",
       "3             Sex   Female               All            All           All   \n",
       "4             Sex   Female               All            All           All   \n",
       "\n",
       "  Country of HE provider            Domicile Academic Year     Number  \\\n",
       "0                    All                 All       2016/17  1344635.0   \n",
       "1                    All             England       2016/17   906090.0   \n",
       "2                    All      European Union       2016/17    76070.0   \n",
       "3                    All  Non-European Union       2016/17   165460.0   \n",
       "4                    All    Northern Ireland       2016/17    35870.0   \n",
       "\n",
       "   Percentage  \n",
       "0        0.57  \n",
       "1        0.57  \n",
       "2        0.55  \n",
       "3        0.53  \n",
       "4        0.57  "
      ]
     },
     "execution_count": 4,
     "metadata": {},
     "output_type": "execute_result"
    }
   ],
   "source": [
    "student_df = pd.read_excel(\"HESA Data - Personal Characteristics.xlsx\", skiprows=18)\n",
    "student_df.head()\n",
    "\n",
    "# skiprows is used to remove the data information and guidance above the table in the Excel spreadsheet."
   ]
  },
  {
   "cell_type": "code",
   "execution_count": 5,
   "id": "34f74ad7",
   "metadata": {},
   "outputs": [
    {
     "name": "stdout",
     "output_type": "stream",
     "text": [
      "<class 'pandas.core.frame.DataFrame'>\n",
      "RangeIndex: 386780 entries, 0 to 386779\n",
      "Data columns (total 10 columns):\n",
      " #   Column                  Non-Null Count   Dtype  \n",
      "---  ------                  --------------   -----  \n",
      " 0   Category Marker         386780 non-null  object \n",
      " 1   Category                386780 non-null  object \n",
      " 2   First year marker       386780 non-null  object \n",
      " 3   Level of study          386780 non-null  object \n",
      " 4   Mode of study           386780 non-null  object \n",
      " 5   Country of HE provider  386780 non-null  object \n",
      " 6   Domicile                386780 non-null  object \n",
      " 7   Academic Year           386780 non-null  object \n",
      " 8   Number                  328486 non-null  float64\n",
      " 9   Percentage              275002 non-null  float64\n",
      "dtypes: float64(2), object(8)\n",
      "memory usage: 29.5+ MB\n"
     ]
    }
   ],
   "source": [
    "student_df.info()"
   ]
  },
  {
   "cell_type": "markdown",
   "id": "e54e6897",
   "metadata": {},
   "source": [
    "- There are 10 columns and 386780 rows in the dataset. First year marker, level of study, mode of study, country of HE provider  and Domicile all have a value of 'All' so different values are being grouped together.\n",
    "- The data is measured by an academic year in the academic year column.\n",
    "- There is a number and percentage column which refers to the student numbers and corresponding percentages for the row.\n",
    "- There are two different data types in the dataset - float and object and there are no null values in any of the columns.\n"
   ]
  },
  {
   "cell_type": "code",
   "execution_count": 6,
   "id": "6e1ac137",
   "metadata": {},
   "outputs": [
    {
     "data": {
      "text/html": [
       "<div>\n",
       "<style scoped>\n",
       "    .dataframe tbody tr th:only-of-type {\n",
       "        vertical-align: middle;\n",
       "    }\n",
       "\n",
       "    .dataframe tbody tr th {\n",
       "        vertical-align: top;\n",
       "    }\n",
       "\n",
       "    .dataframe thead th {\n",
       "        text-align: right;\n",
       "    }\n",
       "</style>\n",
       "<table border=\"1\" class=\"dataframe\">\n",
       "  <thead>\n",
       "    <tr style=\"text-align: right;\">\n",
       "      <th></th>\n",
       "      <th>Number</th>\n",
       "      <th>Percentage</th>\n",
       "    </tr>\n",
       "  </thead>\n",
       "  <tbody>\n",
       "    <tr>\n",
       "      <th>count</th>\n",
       "      <td>3.284860e+05</td>\n",
       "      <td>275002.000000</td>\n",
       "    </tr>\n",
       "    <tr>\n",
       "      <th>mean</th>\n",
       "      <td>1.704747e+04</td>\n",
       "      <td>0.325762</td>\n",
       "    </tr>\n",
       "    <tr>\n",
       "      <th>std</th>\n",
       "      <td>8.918171e+04</td>\n",
       "      <td>0.359019</td>\n",
       "    </tr>\n",
       "    <tr>\n",
       "      <th>min</th>\n",
       "      <td>0.000000e+00</td>\n",
       "      <td>0.000000</td>\n",
       "    </tr>\n",
       "    <tr>\n",
       "      <th>25%</th>\n",
       "      <td>1.000000e+01</td>\n",
       "      <td>0.020000</td>\n",
       "    </tr>\n",
       "    <tr>\n",
       "      <th>50%</th>\n",
       "      <td>1.750000e+02</td>\n",
       "      <td>0.150000</td>\n",
       "    </tr>\n",
       "    <tr>\n",
       "      <th>75%</th>\n",
       "      <td>2.825000e+03</td>\n",
       "      <td>0.570000</td>\n",
       "    </tr>\n",
       "    <tr>\n",
       "      <th>max</th>\n",
       "      <td>2.751865e+06</td>\n",
       "      <td>1.000000</td>\n",
       "    </tr>\n",
       "  </tbody>\n",
       "</table>\n",
       "</div>"
      ],
      "text/plain": [
       "             Number     Percentage\n",
       "count  3.284860e+05  275002.000000\n",
       "mean   1.704747e+04       0.325762\n",
       "std    8.918171e+04       0.359019\n",
       "min    0.000000e+00       0.000000\n",
       "25%    1.000000e+01       0.020000\n",
       "50%    1.750000e+02       0.150000\n",
       "75%    2.825000e+03       0.570000\n",
       "max    2.751865e+06       1.000000"
      ]
     },
     "execution_count": 6,
     "metadata": {},
     "output_type": "execute_result"
    }
   ],
   "source": [
    "student_df.describe()"
   ]
  },
  {
   "cell_type": "markdown",
   "id": "de24030e",
   "metadata": {},
   "source": [
    "- Statistical summary data for student number and percentage"
   ]
  },
  {
   "cell_type": "code",
   "execution_count": 9,
   "id": "fe31f422",
   "metadata": {},
   "outputs": [
    {
     "data": {
      "text/plain": [
       "count               386780\n",
       "unique                   7\n",
       "top       Religious belief\n",
       "freq                145735\n",
       "Name: Category Marker, dtype: object"
      ]
     },
     "execution_count": 9,
     "metadata": {},
     "output_type": "execute_result"
    }
   ],
   "source": [
    "student_df[\"Category Marker\"].describe()"
   ]
  },
  {
   "cell_type": "markdown",
   "id": "065c70a2",
   "metadata": {},
   "source": [
    "The Category Marker column contains 7 unique values and the data type is object"
   ]
  },
  {
   "cell_type": "code",
   "execution_count": 10,
   "id": "16dce0df",
   "metadata": {},
   "outputs": [
    {
     "data": {
      "text/plain": [
       "count        386780\n",
       "unique           26\n",
       "top       Not known\n",
       "freq          30415\n",
       "Name: Category, dtype: object"
      ]
     },
     "execution_count": 10,
     "metadata": {},
     "output_type": "execute_result"
    }
   ],
   "source": [
    "student_df[\"Category\"].describe()"
   ]
  },
  {
   "cell_type": "markdown",
   "id": "5cb64500",
   "metadata": {},
   "source": [
    "The Category Marker column contains 26 unique values and the data type is object. The top value shows that this column has values designated as not known."
   ]
  },
  {
   "cell_type": "code",
   "execution_count": 12,
   "id": "b6d824fb",
   "metadata": {},
   "outputs": [
    {
     "data": {
      "text/plain": [
       "count     386780\n",
       "unique         3\n",
       "top          All\n",
       "freq      131595\n",
       "Name: First year marker, dtype: object"
      ]
     },
     "execution_count": 12,
     "metadata": {},
     "output_type": "execute_result"
    }
   ],
   "source": [
    "student_df[\"First year marker\"].describe()"
   ]
  },
  {
   "cell_type": "markdown",
   "id": "d15c25b5",
   "metadata": {},
   "source": [
    "The First year marker column contains 3 unique values and has data type object. The All value indicated in top shows that values in this column are being grouped together."
   ]
  },
  {
   "cell_type": "code",
   "execution_count": 13,
   "id": "471a0e40",
   "metadata": {},
   "outputs": [
    {
     "data": {
      "text/plain": [
       "count     386780\n",
       "unique         7\n",
       "top          All\n",
       "freq       59130\n",
       "Name: Level of study, dtype: object"
      ]
     },
     "execution_count": 13,
     "metadata": {},
     "output_type": "execute_result"
    }
   ],
   "source": [
    "student_df[\"Level of study\"].describe()"
   ]
  },
  {
   "cell_type": "markdown",
   "id": "6768a232",
   "metadata": {},
   "source": [
    "The Level of study column contains 7 unique values and has data type object. The All value indicated in top shows that values in this column are being grouped together."
   ]
  },
  {
   "cell_type": "code",
   "execution_count": 14,
   "id": "5ce5fa64",
   "metadata": {},
   "outputs": [
    {
     "data": {
      "text/plain": [
       "count     386780\n",
       "unique         3\n",
       "top          All\n",
       "freq      133505\n",
       "Name: Mode of study, dtype: object"
      ]
     },
     "execution_count": 14,
     "metadata": {},
     "output_type": "execute_result"
    }
   ],
   "source": [
    "student_df[\"Mode of study\"].describe()"
   ]
  },
  {
   "cell_type": "markdown",
   "id": "1c60f8a2",
   "metadata": {},
   "source": [
    "The Mode of study column contains 3 unique values and has data type object. The All value indicated in top shows that values in this column are being grouped together."
   ]
  },
  {
   "cell_type": "code",
   "execution_count": 15,
   "id": "11d480da",
   "metadata": {},
   "outputs": [
    {
     "data": {
      "text/plain": [
       "count     386780\n",
       "unique         5\n",
       "top          All\n",
       "freq       86310\n",
       "Name: Country of HE provider, dtype: object"
      ]
     },
     "execution_count": 15,
     "metadata": {},
     "output_type": "execute_result"
    }
   ],
   "source": [
    "student_df[\"Country of HE provider\"].describe()"
   ]
  },
  {
   "cell_type": "markdown",
   "id": "4c59cdf3",
   "metadata": {},
   "source": [
    "The Country of HE provider column contains 5 unique values and has data type object. The All value indicated in top shows that values in this column are being grouped together."
   ]
  },
  {
   "cell_type": "code",
   "execution_count": 16,
   "id": "e5ebcf73",
   "metadata": {},
   "outputs": [
    {
     "data": {
      "text/plain": [
       "count     386780\n",
       "unique        11\n",
       "top          All\n",
       "freq       44000\n",
       "Name: Domicile, dtype: object"
      ]
     },
     "execution_count": 16,
     "metadata": {},
     "output_type": "execute_result"
    }
   ],
   "source": [
    "student_df[\"Domicile\"].describe()"
   ]
  },
  {
   "cell_type": "markdown",
   "id": "72a8197a",
   "metadata": {},
   "source": [
    "The Domicile column contains 11 unique values and has data type object. The All value indicated in top shows that values in this column are being grouped together."
   ]
  },
  {
   "cell_type": "code",
   "execution_count": 17,
   "id": "80d4555b",
   "metadata": {},
   "outputs": [
    {
     "data": {
      "text/plain": [
       "count      386780\n",
       "unique          5\n",
       "top       2016/17\n",
       "freq        77356\n",
       "Name: Academic Year, dtype: object"
      ]
     },
     "execution_count": 17,
     "metadata": {},
     "output_type": "execute_result"
    }
   ],
   "source": [
    "student_df[\"Academic Year\"].describe()"
   ]
  },
  {
   "cell_type": "markdown",
   "id": "6e5a7154",
   "metadata": {},
   "source": [
    "The Academic Year column contains 5 unique values and has data type object, indicating there are 5 years worth of data in the dataset."
   ]
  },
  {
   "cell_type": "code",
   "execution_count": 19,
   "id": "a752da43",
   "metadata": {},
   "outputs": [
    {
     "data": {
      "text/html": [
       "<div>\n",
       "<style scoped>\n",
       "    .dataframe tbody tr th:only-of-type {\n",
       "        vertical-align: middle;\n",
       "    }\n",
       "\n",
       "    .dataframe tbody tr th {\n",
       "        vertical-align: top;\n",
       "    }\n",
       "\n",
       "    .dataframe thead th {\n",
       "        text-align: right;\n",
       "    }\n",
       "</style>\n",
       "<table border=\"1\" class=\"dataframe\">\n",
       "  <thead>\n",
       "    <tr style=\"text-align: right;\">\n",
       "      <th></th>\n",
       "      <th>Category Marker</th>\n",
       "      <th>Category</th>\n",
       "      <th>First year marker</th>\n",
       "      <th>Level of study</th>\n",
       "      <th>Mode of study</th>\n",
       "      <th>Country of HE provider</th>\n",
       "      <th>Domicile</th>\n",
       "      <th>Academic Year</th>\n",
       "      <th>Number</th>\n",
       "      <th>Percentage</th>\n",
       "    </tr>\n",
       "  </thead>\n",
       "  <tbody>\n",
       "    <tr>\n",
       "      <th>0</th>\n",
       "      <td>Sex</td>\n",
       "      <td>Female</td>\n",
       "      <td>All</td>\n",
       "      <td>All</td>\n",
       "      <td>All</td>\n",
       "      <td>All</td>\n",
       "      <td>All</td>\n",
       "      <td>2016/17</td>\n",
       "      <td>1344635.0</td>\n",
       "      <td>0.57</td>\n",
       "    </tr>\n",
       "    <tr>\n",
       "      <th>51573</th>\n",
       "      <td>Religious belief</td>\n",
       "      <td>Spiritual</td>\n",
       "      <td>All</td>\n",
       "      <td>All</td>\n",
       "      <td>All</td>\n",
       "      <td>Wales</td>\n",
       "      <td>All</td>\n",
       "      <td>2016/17</td>\n",
       "      <td>NaN</td>\n",
       "      <td>NaN</td>\n",
       "    </tr>\n",
       "    <tr>\n",
       "      <th>51572</th>\n",
       "      <td>Religious belief</td>\n",
       "      <td>Spiritual</td>\n",
       "      <td>All</td>\n",
       "      <td>All</td>\n",
       "      <td>All</td>\n",
       "      <td>Scotland</td>\n",
       "      <td>Wales</td>\n",
       "      <td>2016/17</td>\n",
       "      <td>NaN</td>\n",
       "      <td>NaN</td>\n",
       "    </tr>\n",
       "    <tr>\n",
       "      <th>51571</th>\n",
       "      <td>Religious belief</td>\n",
       "      <td>Spiritual</td>\n",
       "      <td>All</td>\n",
       "      <td>All</td>\n",
       "      <td>All</td>\n",
       "      <td>Scotland</td>\n",
       "      <td>Total UK</td>\n",
       "      <td>2016/17</td>\n",
       "      <td>NaN</td>\n",
       "      <td>NaN</td>\n",
       "    </tr>\n",
       "    <tr>\n",
       "      <th>51570</th>\n",
       "      <td>Religious belief</td>\n",
       "      <td>Spiritual</td>\n",
       "      <td>All</td>\n",
       "      <td>All</td>\n",
       "      <td>All</td>\n",
       "      <td>Scotland</td>\n",
       "      <td>Total Non-UK</td>\n",
       "      <td>2016/17</td>\n",
       "      <td>NaN</td>\n",
       "      <td>NaN</td>\n",
       "    </tr>\n",
       "    <tr>\n",
       "      <th>...</th>\n",
       "      <td>...</td>\n",
       "      <td>...</td>\n",
       "      <td>...</td>\n",
       "      <td>...</td>\n",
       "      <td>...</td>\n",
       "      <td>...</td>\n",
       "      <td>...</td>\n",
       "      <td>...</td>\n",
       "      <td>...</td>\n",
       "      <td>...</td>\n",
       "    </tr>\n",
       "    <tr>\n",
       "      <th>335206</th>\n",
       "      <td>Disability Status</td>\n",
       "      <td>Known disability</td>\n",
       "      <td>Other years</td>\n",
       "      <td>Other undergraduate</td>\n",
       "      <td>Part-time</td>\n",
       "      <td>Scotland</td>\n",
       "      <td>England</td>\n",
       "      <td>2020/21</td>\n",
       "      <td>15.0</td>\n",
       "      <td>0.09</td>\n",
       "    </tr>\n",
       "    <tr>\n",
       "      <th>335205</th>\n",
       "      <td>Disability Status</td>\n",
       "      <td>Known disability</td>\n",
       "      <td>Other years</td>\n",
       "      <td>Other undergraduate</td>\n",
       "      <td>Part-time</td>\n",
       "      <td>Scotland</td>\n",
       "      <td>All</td>\n",
       "      <td>2020/21</td>\n",
       "      <td>725.0</td>\n",
       "      <td>0.21</td>\n",
       "    </tr>\n",
       "    <tr>\n",
       "      <th>335204</th>\n",
       "      <td>Disability Status</td>\n",
       "      <td>Known disability</td>\n",
       "      <td>Other years</td>\n",
       "      <td>Other undergraduate</td>\n",
       "      <td>Part-time</td>\n",
       "      <td>Northern Ireland</td>\n",
       "      <td>Total UK</td>\n",
       "      <td>2020/21</td>\n",
       "      <td>80.0</td>\n",
       "      <td>0.18</td>\n",
       "    </tr>\n",
       "    <tr>\n",
       "      <th>335202</th>\n",
       "      <td>Disability Status</td>\n",
       "      <td>Known disability</td>\n",
       "      <td>Other years</td>\n",
       "      <td>Other undergraduate</td>\n",
       "      <td>Part-time</td>\n",
       "      <td>Northern Ireland</td>\n",
       "      <td>Scotland</td>\n",
       "      <td>2020/21</td>\n",
       "      <td>0.0</td>\n",
       "      <td>NaN</td>\n",
       "    </tr>\n",
       "    <tr>\n",
       "      <th>386779</th>\n",
       "      <td>Sex</td>\n",
       "      <td>Not known</td>\n",
       "      <td>Other years</td>\n",
       "      <td>All undergraduate</td>\n",
       "      <td>Part-time</td>\n",
       "      <td>England</td>\n",
       "      <td>Total UK</td>\n",
       "      <td>2020/21</td>\n",
       "      <td>0.0</td>\n",
       "      <td>NaN</td>\n",
       "    </tr>\n",
       "  </tbody>\n",
       "</table>\n",
       "<p>386780 rows × 10 columns</p>\n",
       "</div>"
      ],
      "text/plain": [
       "          Category Marker          Category First year marker  \\\n",
       "0                     Sex            Female               All   \n",
       "51573    Religious belief         Spiritual               All   \n",
       "51572    Religious belief         Spiritual               All   \n",
       "51571    Religious belief         Spiritual               All   \n",
       "51570    Religious belief         Spiritual               All   \n",
       "...                   ...               ...               ...   \n",
       "335206  Disability Status  Known disability       Other years   \n",
       "335205  Disability Status  Known disability       Other years   \n",
       "335204  Disability Status  Known disability       Other years   \n",
       "335202  Disability Status  Known disability       Other years   \n",
       "386779                Sex         Not known       Other years   \n",
       "\n",
       "             Level of study Mode of study Country of HE provider  \\\n",
       "0                       All           All                    All   \n",
       "51573                   All           All                  Wales   \n",
       "51572                   All           All               Scotland   \n",
       "51571                   All           All               Scotland   \n",
       "51570                   All           All               Scotland   \n",
       "...                     ...           ...                    ...   \n",
       "335206  Other undergraduate     Part-time               Scotland   \n",
       "335205  Other undergraduate     Part-time               Scotland   \n",
       "335204  Other undergraduate     Part-time       Northern Ireland   \n",
       "335202  Other undergraduate     Part-time       Northern Ireland   \n",
       "386779    All undergraduate     Part-time                England   \n",
       "\n",
       "            Domicile Academic Year     Number  Percentage  \n",
       "0                All       2016/17  1344635.0        0.57  \n",
       "51573            All       2016/17        NaN         NaN  \n",
       "51572          Wales       2016/17        NaN         NaN  \n",
       "51571       Total UK       2016/17        NaN         NaN  \n",
       "51570   Total Non-UK       2016/17        NaN         NaN  \n",
       "...              ...           ...        ...         ...  \n",
       "335206       England       2020/21       15.0        0.09  \n",
       "335205           All       2020/21      725.0        0.21  \n",
       "335204      Total UK       2020/21       80.0        0.18  \n",
       "335202      Scotland       2020/21        0.0         NaN  \n",
       "386779      Total UK       2020/21        0.0         NaN  \n",
       "\n",
       "[386780 rows x 10 columns]"
      ]
     },
     "execution_count": 19,
     "metadata": {},
     "output_type": "execute_result"
    }
   ],
   "source": [
    "student_df.sort_values(by=['Academic Year'],ascending=True, inplace=True )\n",
    "student_df"
   ]
  },
  {
   "cell_type": "markdown",
   "id": "9a63317e",
   "metadata": {},
   "source": [
    "The data has now been sorted by Academic Year in ascending order, from 2016/7 to 2020/1."
   ]
  },
  {
   "cell_type": "markdown",
   "id": "04047ce1",
   "metadata": {},
   "source": [
    "The data now needs to be reviewed to identify information which can be removed from the dataset. We want to retain data that is relevant in answering our project questions, but remove the data which are outside the scope of the project."
   ]
  },
  {
   "cell_type": "markdown",
   "id": "bd08ab93",
   "metadata": {},
   "source": [
    "**Category Marker**\n",
    "\n",
    "Our project is focusing on gender, but there are a number of other markers which are included. For example, in the above dataframe, we can see religious belief and disability status. We need to review the data in this column."
   ]
  },
  {
   "cell_type": "code",
   "execution_count": 20,
   "id": "bb451d9e",
   "metadata": {},
   "outputs": [],
   "source": [
    "# group by example\n",
    "#movies_mean = movies_df.groupby(['Year','IMDB Score'], as_index=False)['Gross Earnings', 'IMDB Score'].mean()\n",
    "#movies_mean\n",
    "#movies_by_country_count = movies_df.groupby(['Country','Year'])['Budget'].count()\n",
    "#movies_by_country_count \n",
    "#movies_mean = movies_df.groupby('Year')['Gross Earnings'].mean()\n",
    "#movies_mean"
   ]
  },
  {
   "cell_type": "code",
   "execution_count": 21,
   "id": "0c29d770",
   "metadata": {},
   "outputs": [
    {
     "data": {
      "text/plain": [
       "array(['Sex', 'Religious belief', 'Ethnicity',\n",
       "       'Total UK domiciled students', 'Total', 'Age Group',\n",
       "       'Disability Status'], dtype=object)"
      ]
     },
     "execution_count": 21,
     "metadata": {},
     "output_type": "execute_result"
    }
   ],
   "source": [
    "student_df[\"Category Marker\"].unique()"
   ]
  },
  {
   "cell_type": "markdown",
   "id": "8608a206",
   "metadata": {},
   "source": [
    "Sex is the only category marker we require for our analysis so we will want to drop the other values."
   ]
  },
  {
   "cell_type": "code",
   "execution_count": 22,
   "id": "08729048",
   "metadata": {},
   "outputs": [],
   "source": [
    "# drop rows where category marker values not equal to gender"
   ]
  },
  {
   "cell_type": "markdown",
   "id": "42a28b4e",
   "metadata": {},
   "source": [
    "**Category**\n",
    "\n",
    "We are focusing on gender and need to review the values in this column."
   ]
  },
  {
   "cell_type": "code",
   "execution_count": 23,
   "id": "160d3e9f",
   "metadata": {},
   "outputs": [
    {
     "data": {
      "text/plain": [
       "array(['Female', 'Spiritual', 'Sikh', 'Not known', 'Buddhist',\n",
       "       'Christian', 'Any other religion or belief', 'Hindu', 'Jewish',\n",
       "       'No religion', 'Muslim', 'Total UK domiciled students', 'Other',\n",
       "       'Total', '21-24 years', '20 and under', '25-29 years',\n",
       "       '30 years and over', 'Male', 'Black', 'White',\n",
       "       'No known disability', 'Asian', 'Mixed', 'Age unknown',\n",
       "       'Known disability'], dtype=object)"
      ]
     },
     "execution_count": 23,
     "metadata": {},
     "output_type": "execute_result"
    }
   ],
   "source": [
    "student_df[\"Category\"].unique()"
   ]
  },
  {
   "cell_type": "markdown",
   "id": "839e773d",
   "metadata": {},
   "source": [
    "The only categories relating to gender are female, male and other. As our project is focusing on gender, we only want to retain rows with these values for our analysis."
   ]
  },
  {
   "cell_type": "code",
   "execution_count": 34,
   "id": "cf9b7c57",
   "metadata": {},
   "outputs": [],
   "source": [
    "# look to remove rows where the value is not a gender value"
   ]
  },
  {
   "cell_type": "markdown",
   "id": "e87af388",
   "metadata": {},
   "source": [
    "**First year marker**"
   ]
  },
  {
   "cell_type": "code",
   "execution_count": 25,
   "id": "18354fa7",
   "metadata": {},
   "outputs": [
    {
     "data": {
      "text/plain": [
       "array(['All', 'Other years', 'First year'], dtype=object)"
      ]
     },
     "execution_count": 25,
     "metadata": {},
     "output_type": "execute_result"
    }
   ],
   "source": [
    "student_df[\"First year marker\"].unique()"
   ]
  },
  {
   "cell_type": "markdown",
   "id": "d3f54332",
   "metadata": {},
   "source": [
    "First year marker is whether a student is in their first year of study for their degree or other years. For higher education data in our project, we are looking at first year students and then graduates to get an idea of completion, i.e. who starts vs who finishes. \n",
    "\n",
    "In the First year marker column, we only want to retain the value of 'First year'. We will want to drop rows with the 'All' and 'Other years' values."
   ]
  },
  {
   "cell_type": "code",
   "execution_count": 26,
   "id": "96797557",
   "metadata": {},
   "outputs": [],
   "source": [
    "# drop rows where first year marker values not equal to first year."
   ]
  },
  {
   "cell_type": "markdown",
   "id": "8414e528",
   "metadata": {},
   "source": [
    "**Level of study**"
   ]
  },
  {
   "cell_type": "code",
   "execution_count": 27,
   "id": "b6ae80a9",
   "metadata": {},
   "outputs": [
    {
     "data": {
      "text/plain": [
       "array(['All', 'Postgraduate (research)', 'Postgraduate (taught)',\n",
       "       'All undergraduate', 'First degree', 'Other undergraduate',\n",
       "       'All postgraduate'], dtype=object)"
      ]
     },
     "execution_count": 27,
     "metadata": {},
     "output_type": "execute_result"
    }
   ],
   "source": [
    "student_df[\"Level of study\"].unique()"
   ]
  },
  {
   "cell_type": "markdown",
   "id": "d269f701",
   "metadata": {},
   "source": [
    "Looking at the values in this column, it would be interesting to see the number and proportion of females starting different levels of degree. \n",
    "\n",
    "To get the breakdown, we will remove rows with a value of 'All'. We will need to begin analysing the data to review the merits of retaining the 'All undergraduate' and 'All postgraduate' values. \n",
    "\n",
    "Postgraduate combines all postgraduate taught and postgraduate research students, whereas I think we would be better splitting these out. \n",
    "\n",
    "'All undergraduate' contains first degrees and other degrees - we may not want to include other degrees in our analysis as it is a broad category where we cannot specify the degree achieved as an outcome."
   ]
  },
  {
   "cell_type": "markdown",
   "id": "66263ea5",
   "metadata": {},
   "source": [
    "**Mode of study**"
   ]
  },
  {
   "cell_type": "code",
   "execution_count": 28,
   "id": "3a82ac5c",
   "metadata": {},
   "outputs": [
    {
     "data": {
      "text/plain": [
       "array(['All', 'Full-time', 'Part-time'], dtype=object)"
      ]
     },
     "execution_count": 28,
     "metadata": {},
     "output_type": "execute_result"
    }
   ],
   "source": [
    "student_df[\"Mode of study\"].unique()"
   ]
  },
  {
   "cell_type": "markdown",
   "id": "74490bcf",
   "metadata": {},
   "source": [
    "This column contains information on whether students are studying full or part-time. Here I think it will be useful to retain all values initially. We might want to use all to get the general trends but can then look at full-time and part-time split by gender to see if women are more or less likely to study full-time than males. "
   ]
  },
  {
   "cell_type": "markdown",
   "id": "601a8a38",
   "metadata": {},
   "source": [
    "**Country of HE provider**"
   ]
  },
  {
   "cell_type": "code",
   "execution_count": 29,
   "id": "c57e75a6",
   "metadata": {},
   "outputs": [
    {
     "data": {
      "text/plain": [
       "array(['All', 'Wales', 'Scotland', 'Northern Ireland', 'England'],\n",
       "      dtype=object)"
      ]
     },
     "execution_count": 29,
     "metadata": {},
     "output_type": "execute_result"
    }
   ],
   "source": [
    "student_df[\"Country of HE provider\"].unique()"
   ]
  },
  {
   "cell_type": "markdown",
   "id": "0b884b52",
   "metadata": {},
   "source": [
    "Student data is available for the four devolved nations. As the secondary level education data we have is only available for England, we should only retain rows with a value of England for our project."
   ]
  },
  {
   "cell_type": "markdown",
   "id": "6fb9d060",
   "metadata": {},
   "source": [
    "**Domicile**"
   ]
  },
  {
   "cell_type": "code",
   "execution_count": 30,
   "id": "e66eb06c",
   "metadata": {},
   "outputs": [
    {
     "data": {
      "text/plain": [
       "array(['All', 'Wales', 'Total UK', 'Total Non-UK', 'Scotland', 'Other UK',\n",
       "       'England', 'Northern Ireland', 'European Union',\n",
       "       'Non-European Union', 'Not known'], dtype=object)"
      ]
     },
     "execution_count": 30,
     "metadata": {},
     "output_type": "execute_result"
    }
   ],
   "source": [
    "student_df[\"Domicile\"].unique()"
   ]
  },
  {
   "cell_type": "markdown",
   "id": "6d846835",
   "metadata": {},
   "source": [
    "Our project is focusing on gender in relation to education. We are not looking at where the students are coming from (Although this would be an intersting question to follow on from our project). \n",
    "\n",
    "The domicile column can be removed from the dataset."
   ]
  },
  {
   "cell_type": "code",
   "execution_count": 31,
   "id": "3935fce5",
   "metadata": {},
   "outputs": [],
   "source": [
    "# remove/ drop domicile column."
   ]
  },
  {
   "cell_type": "markdown",
   "id": "2e2b223f",
   "metadata": {},
   "source": [
    "**Academic year**"
   ]
  },
  {
   "cell_type": "code",
   "execution_count": 33,
   "id": "3128d732",
   "metadata": {},
   "outputs": [
    {
     "data": {
      "text/plain": [
       "array(['2016/17', '2017/18', '2018/19', '2019/20', '2020/21'],\n",
       "      dtype=object)"
      ]
     },
     "execution_count": 33,
     "metadata": {},
     "output_type": "execute_result"
    }
   ],
   "source": [
    "student_df[\"Academic Year\"].unique()"
   ]
  },
  {
   "cell_type": "markdown",
   "id": "131ed141",
   "metadata": {},
   "source": [
    "Data is available in this column for the years 2016/7 to 2020/1, which means we will be able to undertake a time series analysis on how many females are entering higher education for the past 5 years. All values will be included"
   ]
  },
  {
   "cell_type": "code",
   "execution_count": null,
   "id": "117b8cb9",
   "metadata": {},
   "outputs": [],
   "source": []
  }
 ],
 "metadata": {
  "kernelspec": {
   "display_name": "Python 3 (ipykernel)",
   "language": "python",
   "name": "python3"
  },
  "language_info": {
   "codemirror_mode": {
    "name": "ipython",
    "version": 3
   },
   "file_extension": ".py",
   "mimetype": "text/x-python",
   "name": "python",
   "nbconvert_exporter": "python",
   "pygments_lexer": "ipython3",
   "version": "3.9.12"
  }
 },
 "nbformat": 4,
 "nbformat_minor": 5
}
