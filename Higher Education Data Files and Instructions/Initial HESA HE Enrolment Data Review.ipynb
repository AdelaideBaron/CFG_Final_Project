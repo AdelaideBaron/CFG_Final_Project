{
 "cells": [
  {
   "cell_type": "markdown",
   "id": "f7381256",
   "metadata": {},
   "source": [
    "# Initial HESA HE Enrolment Data Review"
   ]
  },
  {
   "cell_type": "code",
   "execution_count": 1,
   "id": "f8f579e0",
   "metadata": {},
   "outputs": [],
   "source": [
    "import pandas as pd"
   ]
  },
  {
   "cell_type": "markdown",
   "id": "d5cecad8",
   "metadata": {},
   "source": [
    "## HE enrolment by Subject"
   ]
  },
  {
   "cell_type": "code",
   "execution_count": 3,
   "id": "49ad7096",
   "metadata": {},
   "outputs": [
    {
     "data": {
      "text/html": [
       "<div>\n",
       "<style scoped>\n",
       "    .dataframe tbody tr th:only-of-type {\n",
       "        vertical-align: middle;\n",
       "    }\n",
       "\n",
       "    .dataframe tbody tr th {\n",
       "        vertical-align: top;\n",
       "    }\n",
       "\n",
       "    .dataframe thead th {\n",
       "        text-align: right;\n",
       "    }\n",
       "</style>\n",
       "<table border=\"1\" class=\"dataframe\">\n",
       "  <thead>\n",
       "    <tr style=\"text-align: right;\">\n",
       "      <th></th>\n",
       "      <th>CAH level marker</th>\n",
       "      <th>CAH level subject</th>\n",
       "      <th>Level of study</th>\n",
       "      <th>Mode of study</th>\n",
       "      <th>Academic Year</th>\n",
       "      <th>Category marker</th>\n",
       "      <th>Category</th>\n",
       "      <th>Number</th>\n",
       "    </tr>\n",
       "  </thead>\n",
       "  <tbody>\n",
       "    <tr>\n",
       "      <th>0</th>\n",
       "      <td>CAH level 1</td>\n",
       "      <td>01 Medicine and dentistry</td>\n",
       "      <td>All</td>\n",
       "      <td>Full-time</td>\n",
       "      <td>2020/21</td>\n",
       "      <td>Sex</td>\n",
       "      <td>Female</td>\n",
       "      <td>39790</td>\n",
       "    </tr>\n",
       "    <tr>\n",
       "      <th>1</th>\n",
       "      <td>CAH level 1</td>\n",
       "      <td>01 Medicine and dentistry</td>\n",
       "      <td>All</td>\n",
       "      <td>Full-time</td>\n",
       "      <td>2020/21</td>\n",
       "      <td>Sex</td>\n",
       "      <td>Male</td>\n",
       "      <td>24740</td>\n",
       "    </tr>\n",
       "    <tr>\n",
       "      <th>2</th>\n",
       "      <td>CAH level 1</td>\n",
       "      <td>01 Medicine and dentistry</td>\n",
       "      <td>All</td>\n",
       "      <td>Full-time</td>\n",
       "      <td>2020/21</td>\n",
       "      <td>Sex</td>\n",
       "      <td>Other</td>\n",
       "      <td>110</td>\n",
       "    </tr>\n",
       "    <tr>\n",
       "      <th>3</th>\n",
       "      <td>CAH level 1</td>\n",
       "      <td>01 Medicine and dentistry</td>\n",
       "      <td>All</td>\n",
       "      <td>Full-time</td>\n",
       "      <td>2020/21</td>\n",
       "      <td>Domicile</td>\n",
       "      <td>Not known</td>\n",
       "      <td>0</td>\n",
       "    </tr>\n",
       "    <tr>\n",
       "      <th>4</th>\n",
       "      <td>CAH level 1</td>\n",
       "      <td>01 Medicine and dentistry</td>\n",
       "      <td>All</td>\n",
       "      <td>Full-time</td>\n",
       "      <td>2020/21</td>\n",
       "      <td>Domicile</td>\n",
       "      <td>England</td>\n",
       "      <td>43530</td>\n",
       "    </tr>\n",
       "  </tbody>\n",
       "</table>\n",
       "</div>"
      ],
      "text/plain": [
       "  CAH level marker          CAH level subject Level of study Mode of study  \\\n",
       "0      CAH level 1  01 Medicine and dentistry            All     Full-time   \n",
       "1      CAH level 1  01 Medicine and dentistry            All     Full-time   \n",
       "2      CAH level 1  01 Medicine and dentistry            All     Full-time   \n",
       "3      CAH level 1  01 Medicine and dentistry            All     Full-time   \n",
       "4      CAH level 1  01 Medicine and dentistry            All     Full-time   \n",
       "\n",
       "  Academic Year Category marker   Category  Number  \n",
       "0       2020/21             Sex     Female   39790  \n",
       "1       2020/21             Sex       Male   24740  \n",
       "2       2020/21             Sex      Other     110  \n",
       "3       2020/21        Domicile  Not known       0  \n",
       "4       2020/21        Domicile    England   43530  "
      ]
     },
     "execution_count": 3,
     "metadata": {},
     "output_type": "execute_result"
    }
   ],
   "source": [
    "enrol_sub_df = pd.read_csv(\"HE enrolment by Subject.csv\")\n",
    "enrol_sub_df.head()"
   ]
  },
  {
   "cell_type": "code",
   "execution_count": 4,
   "id": "75c2dc96",
   "metadata": {},
   "outputs": [
    {
     "name": "stdout",
     "output_type": "stream",
     "text": [
      "<class 'pandas.core.frame.DataFrame'>\n",
      "RangeIndex: 119175 entries, 0 to 119174\n",
      "Data columns (total 8 columns):\n",
      " #   Column             Non-Null Count   Dtype \n",
      "---  ------             --------------   ----- \n",
      " 0   CAH level marker   119175 non-null  object\n",
      " 1   CAH level subject  119175 non-null  object\n",
      " 2   Level of study     119175 non-null  object\n",
      " 3   Mode of study      119175 non-null  object\n",
      " 4   Academic Year      119175 non-null  object\n",
      " 5   Category marker    119175 non-null  object\n",
      " 6   Category           119175 non-null  object\n",
      " 7   Number             119175 non-null  int64 \n",
      "dtypes: int64(1), object(7)\n",
      "memory usage: 7.3+ MB\n"
     ]
    }
   ],
   "source": [
    "enrol_sub_df.info()"
   ]
  },
  {
   "cell_type": "markdown",
   "id": "cca1877b",
   "metadata": {},
   "source": [
    "The dataset contains 119175 rows and 8 columns. There is one column with a data type of integer and the remaining columns are objects. An index column has been created for the dataframe. There are no nulls in the dataset."
   ]
  },
  {
   "cell_type": "code",
   "execution_count": 5,
   "id": "6e021cea",
   "metadata": {},
   "outputs": [
    {
     "data": {
      "text/html": [
       "<div>\n",
       "<style scoped>\n",
       "    .dataframe tbody tr th:only-of-type {\n",
       "        vertical-align: middle;\n",
       "    }\n",
       "\n",
       "    .dataframe tbody tr th {\n",
       "        vertical-align: top;\n",
       "    }\n",
       "\n",
       "    .dataframe thead th {\n",
       "        text-align: right;\n",
       "    }\n",
       "</style>\n",
       "<table border=\"1\" class=\"dataframe\">\n",
       "  <thead>\n",
       "    <tr style=\"text-align: right;\">\n",
       "      <th></th>\n",
       "      <th>Number</th>\n",
       "    </tr>\n",
       "  </thead>\n",
       "  <tbody>\n",
       "    <tr>\n",
       "      <th>count</th>\n",
       "      <td>1.191750e+05</td>\n",
       "    </tr>\n",
       "    <tr>\n",
       "      <th>mean</th>\n",
       "      <td>6.384784e+03</td>\n",
       "    </tr>\n",
       "    <tr>\n",
       "      <th>std</th>\n",
       "      <td>5.914515e+04</td>\n",
       "    </tr>\n",
       "    <tr>\n",
       "      <th>min</th>\n",
       "      <td>0.000000e+00</td>\n",
       "    </tr>\n",
       "    <tr>\n",
       "      <th>25%</th>\n",
       "      <td>0.000000e+00</td>\n",
       "    </tr>\n",
       "    <tr>\n",
       "      <th>50%</th>\n",
       "      <td>5.500000e+01</td>\n",
       "    </tr>\n",
       "    <tr>\n",
       "      <th>75%</th>\n",
       "      <td>6.750000e+02</td>\n",
       "    </tr>\n",
       "    <tr>\n",
       "      <th>max</th>\n",
       "      <td>2.751865e+06</td>\n",
       "    </tr>\n",
       "  </tbody>\n",
       "</table>\n",
       "</div>"
      ],
      "text/plain": [
       "             Number\n",
       "count  1.191750e+05\n",
       "mean   6.384784e+03\n",
       "std    5.914515e+04\n",
       "min    0.000000e+00\n",
       "25%    0.000000e+00\n",
       "50%    5.500000e+01\n",
       "75%    6.750000e+02\n",
       "max    2.751865e+06"
      ]
     },
     "execution_count": 5,
     "metadata": {},
     "output_type": "execute_result"
    }
   ],
   "source": [
    "enrol_sub_df.describe()"
   ]
  },
  {
   "cell_type": "markdown",
   "id": "45fa3a38",
   "metadata": {},
   "source": [
    "Summary statistcs for the number column for enrolment data."
   ]
  },
  {
   "cell_type": "markdown",
   "id": "ae034371",
   "metadata": {},
   "source": [
    "**CAH level marker**"
   ]
  },
  {
   "cell_type": "markdown",
   "id": "7e56f939",
   "metadata": {},
   "source": [
    "CAH is the Common Aggregation Hierarchy used to code subjects."
   ]
  },
  {
   "cell_type": "code",
   "execution_count": 7,
   "id": "604190e9",
   "metadata": {},
   "outputs": [
    {
     "data": {
      "text/plain": [
       "count          119175\n",
       "unique              2\n",
       "top       CAH level 3\n",
       "freq           103425\n",
       "Name: CAH level marker, dtype: object"
      ]
     },
     "execution_count": 7,
     "metadata": {},
     "output_type": "execute_result"
    }
   ],
   "source": [
    "enrol_sub_df[\"CAH level marker\"].describe()"
   ]
  },
  {
   "cell_type": "markdown",
   "id": "189f299e",
   "metadata": {},
   "source": [
    "The data in this column has 2 unique values and the data type is object."
   ]
  },
  {
   "cell_type": "code",
   "execution_count": 8,
   "id": "641a77b2",
   "metadata": {},
   "outputs": [
    {
     "data": {
      "text/plain": [
       "array(['CAH level 1', 'CAH level 3'], dtype=object)"
      ]
     },
     "execution_count": 8,
     "metadata": {},
     "output_type": "execute_result"
    }
   ],
   "source": [
    "enrol_sub_df[\"CAH level marker\"].unique()"
   ]
  },
  {
   "cell_type": "markdown",
   "id": "800dc583",
   "metadata": {},
   "source": [
    "CAH Level 1 is the high level subject e.g. CAH01 medicine and dentistry and CAH Level 3 is the detailed subject e.g. CAH01-01-01 is medical sciences (non-specific). This may not be relevant to include in our analysis as we want to look at detailed subject level to investigate what women are studying.\n"
   ]
  },
  {
   "cell_type": "code",
   "execution_count": 11,
   "id": "14218f30",
   "metadata": {},
   "outputs": [],
   "source": [
    "# look at removing/dropiint CAH level marker"
   ]
  },
  {
   "cell_type": "markdown",
   "id": "de5eadff",
   "metadata": {},
   "source": [
    "**CAH level subject**"
   ]
  },
  {
   "cell_type": "code",
   "execution_count": 9,
   "id": "8ba15eac",
   "metadata": {},
   "outputs": [
    {
     "data": {
      "text/plain": [
       "count     119175\n",
       "unique       193\n",
       "top        Total\n",
       "freq        1260\n",
       "Name: CAH level subject, dtype: object"
      ]
     },
     "execution_count": 9,
     "metadata": {},
     "output_type": "execute_result"
    }
   ],
   "source": [
    "enrol_sub_df[\"CAH level subject\"].describe()"
   ]
  },
  {
   "cell_type": "markdown",
   "id": "6358670b",
   "metadata": {},
   "source": [
    "The data in this column has 193 unique values and the data type is object."
   ]
  },
  {
   "cell_type": "code",
   "execution_count": 10,
   "id": "2cbf9ddd",
   "metadata": {},
   "outputs": [
    {
     "data": {
      "text/plain": [
       "array(['01 Medicine and dentistry', '02 Subjects allied to medicine',\n",
       "       '03 Biological and sport sciences', '04 Psychology',\n",
       "       '05 Veterinary sciences',\n",
       "       '06 Agriculture, food and related studies', '07 Physical sciences',\n",
       "       '09 Mathematical sciences', '10 Engineering and technology',\n",
       "       '11 Computing', '13 Architecture, building and planning',\n",
       "       '26 Geography, earth and environmental studies (natural sciences)',\n",
       "       'Total science CAH level 1', '15 Social sciences', '16 Law',\n",
       "       '17 Business and management',\n",
       "       '24 Media, journalism and communications',\n",
       "       '19 Language and area studies',\n",
       "       '20 Historical, philosophical and religious studies',\n",
       "       '25 Design, and creative and performing arts',\n",
       "       '22 Education and teaching', '23 Combined and general studies',\n",
       "       '26 Geography, earth and environmental studies (social sciences)',\n",
       "       'Total non-science CAH level 1', 'Total',\n",
       "       '01-01-01 Medical sciences (non-specific)',\n",
       "       '01-01-02 Medicine (non-specific)',\n",
       "       '01-01-03 Medicine by specialism', '01-01-04 Dentistry',\n",
       "       '02-02-01 Pharmacology', '02-02-02 Toxicology',\n",
       "       '02-02-03 Pharmacy', '02-04-01 Nursing (non-specific)',\n",
       "       '02-04-02 Adult nursing', '02-04-03 Community nursing',\n",
       "       '02-04-04 Midwifery', \"02-04-05 Children's nursing\",\n",
       "       '02-04-06 Dental nursing', '02-04-07 Mental health nursing',\n",
       "       '02-04-08 Learning disabilities nursing',\n",
       "       '02-04-09 Others in nursing', '02-05-01 Medical technology',\n",
       "       '02-05-02 Healthcare science (non-specific)',\n",
       "       '02-05-03 Biomedical sciences (non-specific)',\n",
       "       '02-05-04 Anatomy, physiology and pathology',\n",
       "       '02-06-01 Health sciences (non-specific)',\n",
       "       '02-06-02 Nutrition and dietetics', '02-06-03 Ophthalmics',\n",
       "       '02-06-04 Environmental and public health',\n",
       "       '02-06-05 Physiotherapy',\n",
       "       '02-06-06 Complementary and alternative medicine',\n",
       "       '02-06-07 Counselling, psychotherapy and occupational therapy',\n",
       "       '03-01-01 Biosciences (non-specific)',\n",
       "       '03-01-02 Biology (non-specific)',\n",
       "       '03-01-03 Ecology and environmental biology',\n",
       "       '03-01-04 Microbiology and cell science',\n",
       "       '03-01-05 Plant sciences', '03-01-06 Zoology', '03-01-07 Genetics',\n",
       "       '03-01-08 Molecular biology, biophysics and biochemistry',\n",
       "       '03-01-09 Hair and beauty sciences',\n",
       "       '03-01-10 Others in biosciences',\n",
       "       '03-02-01 Sport and exercise sciences',\n",
       "       '04-01-01 Psychology (non-specific)',\n",
       "       '04-01-02 Applied psychology', '04-01-03 Developmental psychology',\n",
       "       '04-01-04 Psychology and health', '04-01-05 Others in psychology',\n",
       "       '05-01-01 Veterinary medicine and dentistry',\n",
       "       '05-01-02 Others in veterinary sciences',\n",
       "       '06-01-01 Animal science', '06-01-02 Agricultural sciences',\n",
       "       '06-01-03 Agriculture', '06-01-04 Rural estate management',\n",
       "       '06-01-05 Forestry and arboriculture',\n",
       "       '06-01-06 Food and beverage studies (non-specific)',\n",
       "       '06-01-07 Food sciences', '06-01-08 Food and beverage production',\n",
       "       '07-01-01 Physics', '07-01-02 Astronomy', '07-02-01 Chemistry',\n",
       "       '07-04-01 Physical sciences (non-specific)',\n",
       "       '07-04-02 Forensic and archaeological sciences',\n",
       "       '07-04-03 Sciences (non-specific)',\n",
       "       '07-04-04 Natural sciences (non-specific)', '09-01-01 Mathematics',\n",
       "       '09-01-02 Operational research', '09-01-03 Statistics',\n",
       "       '10-01-01 Engineering (non-specific)',\n",
       "       '10-01-02 Mechanical engineering',\n",
       "       '10-01-03 Production and manufacturing engineering',\n",
       "       '10-01-04 Aeronautical and aerospace engineering',\n",
       "       '10-01-05 Naval architecture',\n",
       "       '10-01-06 Bioengineering, medical and biomedical engineering',\n",
       "       '10-01-07 Civil engineering',\n",
       "       '10-01-08 Electrical and electronic engineering',\n",
       "       '10-01-09 Chemical, process and energy engineering',\n",
       "       '10-01-10 Others in engineering', '10-03-01 Minerals technology',\n",
       "       '10-03-02 Materials technology', '10-03-03 Polymers and textiles',\n",
       "       '10-03-04 Maritime technology', '10-03-05 Biotechnology',\n",
       "       '10-03-06 Others in technology', '10-03-07 Materials science',\n",
       "       '11-01-01 Computer science', '11-01-02 Information technology',\n",
       "       '11-01-03 Information systems', '11-01-04 Software engineering',\n",
       "       '11-01-05 Artificial intelligence',\n",
       "       '11-01-06 Computer games and animation',\n",
       "       '11-01-07 Business computing', '11-01-08 Others in computing',\n",
       "       '13-01-01 Architecture', '13-01-02 Building',\n",
       "       '13-01-03 Landscape design',\n",
       "       '13-01-04 Planning (urban, rural and regional)',\n",
       "       '26-01-01 Geography (non-specific)',\n",
       "       '26-01-02 Physical geographical sciences',\n",
       "       '26-01-04 Environmental sciences',\n",
       "       '26-01-05 Others in geographical studies',\n",
       "       '26-01-06 Earth sciences', 'Total science CAH level 3',\n",
       "       '15-01-01 Social sciences (non-specific)', '15-01-02 Sociology',\n",
       "       '15-01-03 Social policy', '15-01-04 Anthropology',\n",
       "       '15-01-05 Development studies', '15-01-06 Cultural studies',\n",
       "       '15-02-01 Economics', '15-03-01 Politics', '15-04-01 Social work',\n",
       "       '15-04-02 Childhood and youth studies', '15-04-03 Health studies',\n",
       "       '16-01-01 Law', '17-01-01 Business and management (non-specific)',\n",
       "       '17-01-02 Business studies', '17-01-03 Marketing',\n",
       "       '17-01-04 Management studies',\n",
       "       '17-01-05 Human resource management',\n",
       "       '17-01-06 Tourism, transport and travel', '17-01-07 Finance',\n",
       "       '17-01-08 Accounting',\n",
       "       '17-01-09 Others in business and management',\n",
       "       '19-01-01 English studies (non-specific)',\n",
       "       '19-01-02 English language', '19-01-03 Literature in English',\n",
       "       '19-01-04 Studies of specific authors',\n",
       "       '19-01-05 Creative writing', '19-01-06 Others in English studies',\n",
       "       '19-01-07 Linguistics', '19-02-01 Celtic studies (non-specific)',\n",
       "       '19-02-02 Gaelic studies', '19-02-03 Welsh studies',\n",
       "       '19-02-04 Others in Celtic studies', '19-04-01 French studies',\n",
       "       '19-04-02 German and Scandinavian studies',\n",
       "       '19-04-03 Italian studies', '19-04-04 Iberian studies',\n",
       "       '19-04-05 Slavic studies', '19-04-06 Asian studies',\n",
       "       '19-04-07 African and modern Middle Eastern studies',\n",
       "       '19-04-08 American and Australasian studies',\n",
       "       '19-04-09 Others in language and area studies', '20-01-01 History',\n",
       "       '20-01-02 History of art, architecture and design',\n",
       "       '20-01-03 Archaeology', '20-01-04 Heritage studies',\n",
       "       '20-01-05 Classics', '20-02-01 Philosophy',\n",
       "       '20-02-02 Theology and religious studies', '22-01-01 Education',\n",
       "       '22-01-02 Teacher training',\n",
       "       '23-01-01 Combined, general or negotiated studies',\n",
       "       '23-01-02 Personal development',\n",
       "       '23-01-03 Humanities (non-specific)',\n",
       "       '23-01-04 Liberal arts (non-specific)',\n",
       "       '24-01-01 Information services', '24-01-02 Publicity studies',\n",
       "       '24-01-03 Publishing', '24-01-04 Journalism',\n",
       "       '24-01-05 Media studies',\n",
       "       '25-01-01 Creative arts and design (non-specific)', '25-01-02 Art',\n",
       "       '25-01-03 Design studies', '25-01-04 Cinematics and photography',\n",
       "       '25-01-05 Others in creative arts and design',\n",
       "       '25-02-01 Performing arts (non-specific)', '25-02-02 Music',\n",
       "       '25-02-03 Drama', '25-02-04 Dance', '26-01-03 Human geography',\n",
       "       'Total non-science CAH level 3'], dtype=object)"
      ]
     },
     "execution_count": 10,
     "metadata": {},
     "output_type": "execute_result"
    }
   ],
   "source": [
    "enrol_sub_df[\"CAH level subject\"].unique()"
   ]
  },
  {
   "cell_type": "markdown",
   "id": "704235ea",
   "metadata": {},
   "source": [
    "**Level of study**"
   ]
  },
  {
   "cell_type": "code",
   "execution_count": 12,
   "id": "4376e949",
   "metadata": {},
   "outputs": [
    {
     "data": {
      "text/plain": [
       "count     119175\n",
       "unique         7\n",
       "top          All\n",
       "freq       17400\n",
       "Name: Level of study, dtype: object"
      ]
     },
     "execution_count": 12,
     "metadata": {},
     "output_type": "execute_result"
    }
   ],
   "source": [
    "enrol_sub_df[\"Level of study\"].describe()"
   ]
  },
  {
   "cell_type": "markdown",
   "id": "7a3b9183",
   "metadata": {},
   "source": [
    "The data in this column has 7 unique values and the data type is object."
   ]
  },
  {
   "cell_type": "code",
   "execution_count": 13,
   "id": "f8f47a15",
   "metadata": {},
   "outputs": [
    {
     "data": {
      "text/plain": [
       "array(['All', 'Postgraduate (research)', 'Postgraduate (taught)',\n",
       "       'All postgraduate', 'First degree', 'Other undergraduate',\n",
       "       'All undergraduate'], dtype=object)"
      ]
     },
     "execution_count": 13,
     "metadata": {},
     "output_type": "execute_result"
    }
   ],
   "source": [
    "enrol_sub_df[\"Level of study\"].unique()"
   ]
  },
  {
   "cell_type": "markdown",
   "id": "555b0c50",
   "metadata": {},
   "source": [
    "Looking at the values in this column, it would be interesting to see the number and proportion of females studying different subjects at different levels.\n",
    "\n",
    "To get the breakdown, we will remove rows with a value of 'All'. We will need to begin analysing the data to review the merits of retaining the 'All undergraduate' and 'All postgraduate' values.\n",
    "\n",
    "Postgraduate combines all postgraduate taught and postgraduate research students, whereas I think we would be better splitting these out.\n",
    "\n",
    "'All undergraduate' contains first degrees and other degrees - we may not want to include other degrees in our analysis as it is a broad category where we cannot specify the degree achieved as an outcome.\n",
    "\n",
    "We will need to be consistent with the approach to the Student data analysis."
   ]
  },
  {
   "cell_type": "code",
   "execution_count": 14,
   "id": "dcfc6679",
   "metadata": {},
   "outputs": [],
   "source": [
    "# look to remove rows with a value of 'All'"
   ]
  },
  {
   "cell_type": "markdown",
   "id": "25044b7e",
   "metadata": {},
   "source": [
    "**Mode of study**"
   ]
  },
  {
   "cell_type": "code",
   "execution_count": 15,
   "id": "02d45e5f",
   "metadata": {},
   "outputs": [
    {
     "data": {
      "text/plain": [
       "count     119175\n",
       "unique         3\n",
       "top          All\n",
       "freq       40140\n",
       "Name: Mode of study, dtype: object"
      ]
     },
     "execution_count": 15,
     "metadata": {},
     "output_type": "execute_result"
    }
   ],
   "source": [
    "enrol_sub_df[\"Mode of study\"].describe()"
   ]
  },
  {
   "cell_type": "markdown",
   "id": "36515e15",
   "metadata": {},
   "source": [
    "The data in this column has 3 unique values and the data type is object."
   ]
  },
  {
   "cell_type": "code",
   "execution_count": 16,
   "id": "a0888684",
   "metadata": {},
   "outputs": [
    {
     "data": {
      "text/plain": [
       "array(['Full-time', 'Part-time', 'All'], dtype=object)"
      ]
     },
     "execution_count": 16,
     "metadata": {},
     "output_type": "execute_result"
    }
   ],
   "source": [
    "enrol_sub_df[\"Mode of study\"].unique()"
   ]
  },
  {
   "cell_type": "markdown",
   "id": "1444618c",
   "metadata": {},
   "source": [
    "This column contains information on whether students are studying full or part-time. Here I think it will be useful to retain all values initially. We might want to use all to get the general trends but can then look at full-time and part-time split by gender to see which subjects females are studying full or part-time."
   ]
  },
  {
   "cell_type": "markdown",
   "id": "447bb339",
   "metadata": {},
   "source": [
    "**Academic Year**"
   ]
  },
  {
   "cell_type": "code",
   "execution_count": 17,
   "id": "82cf5677",
   "metadata": {},
   "outputs": [
    {
     "data": {
      "text/plain": [
       "count      119175\n",
       "unique          2\n",
       "top       2019/20\n",
       "freq        59670\n",
       "Name: Academic Year, dtype: object"
      ]
     },
     "execution_count": 17,
     "metadata": {},
     "output_type": "execute_result"
    }
   ],
   "source": [
    "enrol_sub_df[\"Academic Year\"].describe()"
   ]
  },
  {
   "cell_type": "markdown",
   "id": "9a5cd694",
   "metadata": {},
   "source": [
    "The data in this column has 2 unique values and the data type is object."
   ]
  },
  {
   "cell_type": "code",
   "execution_count": 18,
   "id": "1d4abb31",
   "metadata": {},
   "outputs": [
    {
     "data": {
      "text/plain": [
       "array(['2020/21', '2019/20'], dtype=object)"
      ]
     },
     "execution_count": 18,
     "metadata": {},
     "output_type": "execute_result"
    }
   ],
   "source": [
    "enrol_sub_df[\"Academic Year\"].unique()"
   ]
  },
  {
   "cell_type": "markdown",
   "id": "267f9421",
   "metadata": {},
   "source": [
    "We only have two years worth of data - 2019/20 and 2020/21 which is insufficient to undertake a time series analysis. The reason for this is that there was a change to subject coding which was implemented ahead of 2019/0. Previous data is not suitable for comparison. It will still be interesting to discover what subjects women are studying and this is something that can then be further investigated in the future as more data becomes available."
   ]
  },
  {
   "cell_type": "markdown",
   "id": "8781c677",
   "metadata": {},
   "source": [
    "**Category marker**"
   ]
  },
  {
   "cell_type": "code",
   "execution_count": 19,
   "id": "1ddac700",
   "metadata": {},
   "outputs": [
    {
     "data": {
      "text/plain": [
       "count       119175\n",
       "unique           4\n",
       "top       Domicile\n",
       "freq         79450\n",
       "Name: Category marker, dtype: object"
      ]
     },
     "execution_count": 19,
     "metadata": {},
     "output_type": "execute_result"
    }
   ],
   "source": [
    "enrol_sub_df[\"Category marker\"].describe()"
   ]
  },
  {
   "cell_type": "markdown",
   "id": "5164ecf0",
   "metadata": {},
   "source": [
    "The data in this column has 4 unique values and the data type is object."
   ]
  },
  {
   "cell_type": "code",
   "execution_count": 20,
   "id": "bf0e50b9",
   "metadata": {},
   "outputs": [
    {
     "data": {
      "text/plain": [
       "array(['Sex', 'Domicile', 'Error', 'Total'], dtype=object)"
      ]
     },
     "execution_count": 20,
     "metadata": {},
     "output_type": "execute_result"
    }
   ],
   "source": [
    "enrol_sub_df[\"Category marker\"].unique()"
   ]
  },
  {
   "cell_type": "markdown",
   "id": "7330a566",
   "metadata": {},
   "source": [
    "An immediate flag on this dataset is the inclusion of 'Error' as a value. The reason behind this value will need to be investigated to see what could be included in this grouping. Our project is focusing on gender, so we will retain only rows where the value is sex. We will need to confirm if a value for sex is available for all rows in the dataset."
   ]
  },
  {
   "cell_type": "code",
   "execution_count": 21,
   "id": "b59f28cb",
   "metadata": {},
   "outputs": [],
   "source": [
    "# look to remove rows where the value is not equal to sex."
   ]
  },
  {
   "cell_type": "markdown",
   "id": "646af0eb",
   "metadata": {},
   "source": [
    "**Category**"
   ]
  },
  {
   "cell_type": "code",
   "execution_count": 22,
   "id": "2d79ece4",
   "metadata": {},
   "outputs": [
    {
     "data": {
      "text/plain": [
       "count     119175\n",
       "unique        15\n",
       "top       Female\n",
       "freq        7945\n",
       "Name: Category, dtype: object"
      ]
     },
     "execution_count": 22,
     "metadata": {},
     "output_type": "execute_result"
    }
   ],
   "source": [
    "enrol_sub_df[\"Category\"].describe()"
   ]
  },
  {
   "cell_type": "markdown",
   "id": "7e19553e",
   "metadata": {},
   "source": [
    "The data in this column has 15 unique values and the data type is object."
   ]
  },
  {
   "cell_type": "code",
   "execution_count": 23,
   "id": "1b98d4b0",
   "metadata": {},
   "outputs": [
    {
     "data": {
      "text/plain": [
       "array(['Female', 'Male', 'Other', 'Not known', 'England', 'Wales',\n",
       "       'Scotland', 'Northern Ireland', 'Other UK', 'Total UK',\n",
       "       'European Union', 'Non-European Union', 'Total Non-UK',\n",
       "       'Not known ', 'Total'], dtype=object)"
      ]
     },
     "execution_count": 23,
     "metadata": {},
     "output_type": "execute_result"
    }
   ],
   "source": [
    "enrol_sub_df[\"Category\"].unique()"
   ]
  },
  {
   "cell_type": "markdown",
   "id": "2d3b5aa8",
   "metadata": {},
   "source": [
    "We can see from the values in the above array that those which map to the category marker 'Sex' are 'Female', 'Male' and 'Other'. There are no error values in this column but we will need to check the category column against the category marker column to check for inconsistencies. \n",
    "\n",
    "We will retain only the 'Sex' values for our analysis."
   ]
  },
  {
   "cell_type": "code",
   "execution_count": 24,
   "id": "2a5a10d2",
   "metadata": {},
   "outputs": [],
   "source": [
    "# look to remove rows where the value is not a gender value"
   ]
  },
  {
   "cell_type": "markdown",
   "id": "c01bc23f",
   "metadata": {},
   "source": [
    "## HE students by CAH level 1 and sex"
   ]
  },
  {
   "cell_type": "code",
   "execution_count": 25,
   "id": "2f769f11",
   "metadata": {},
   "outputs": [
    {
     "data": {
      "text/html": [
       "<div>\n",
       "<style scoped>\n",
       "    .dataframe tbody tr th:only-of-type {\n",
       "        vertical-align: middle;\n",
       "    }\n",
       "\n",
       "    .dataframe tbody tr th {\n",
       "        vertical-align: top;\n",
       "    }\n",
       "\n",
       "    .dataframe thead th {\n",
       "        text-align: right;\n",
       "    }\n",
       "</style>\n",
       "<table border=\"1\" class=\"dataframe\">\n",
       "  <thead>\n",
       "    <tr style=\"text-align: right;\">\n",
       "      <th></th>\n",
       "      <th>CAH level 1</th>\n",
       "      <th>Sex</th>\n",
       "      <th>Academic Year</th>\n",
       "      <th>Number</th>\n",
       "    </tr>\n",
       "  </thead>\n",
       "  <tbody>\n",
       "    <tr>\n",
       "      <th>0</th>\n",
       "      <td>01 Medicine and dentistry</td>\n",
       "      <td>Female</td>\n",
       "      <td>2019/20</td>\n",
       "      <td>42610</td>\n",
       "    </tr>\n",
       "    <tr>\n",
       "      <th>1</th>\n",
       "      <td>01 Medicine and dentistry</td>\n",
       "      <td>Male</td>\n",
       "      <td>2019/20</td>\n",
       "      <td>27605</td>\n",
       "    </tr>\n",
       "    <tr>\n",
       "      <th>2</th>\n",
       "      <td>01 Medicine and dentistry</td>\n",
       "      <td>Female</td>\n",
       "      <td>2020/21</td>\n",
       "      <td>47435</td>\n",
       "    </tr>\n",
       "    <tr>\n",
       "      <th>3</th>\n",
       "      <td>01 Medicine and dentistry</td>\n",
       "      <td>Male</td>\n",
       "      <td>2020/21</td>\n",
       "      <td>29445</td>\n",
       "    </tr>\n",
       "    <tr>\n",
       "      <th>4</th>\n",
       "      <td>02 Subjects allied to medicine</td>\n",
       "      <td>Female</td>\n",
       "      <td>2019/20</td>\n",
       "      <td>233810</td>\n",
       "    </tr>\n",
       "  </tbody>\n",
       "</table>\n",
       "</div>"
      ],
      "text/plain": [
       "                      CAH level 1     Sex Academic Year  Number\n",
       "0       01 Medicine and dentistry  Female       2019/20   42610\n",
       "1       01 Medicine and dentistry    Male       2019/20   27605\n",
       "2       01 Medicine and dentistry  Female       2020/21   47435\n",
       "3       01 Medicine and dentistry    Male       2020/21   29445\n",
       "4  02 Subjects allied to medicine  Female       2019/20  233810"
      ]
     },
     "execution_count": 25,
     "metadata": {},
     "output_type": "execute_result"
    }
   ],
   "source": [
    "enrol_CAH1_df = pd.read_csv(\"HE students by CAH level 1 and sex.csv\")\n",
    "enrol_CAH1_df.head()"
   ]
  },
  {
   "cell_type": "code",
   "execution_count": 27,
   "id": "5ac14d19",
   "metadata": {},
   "outputs": [
    {
     "name": "stdout",
     "output_type": "stream",
     "text": [
      "<class 'pandas.core.frame.DataFrame'>\n",
      "RangeIndex: 88 entries, 0 to 87\n",
      "Data columns (total 4 columns):\n",
      " #   Column         Non-Null Count  Dtype \n",
      "---  ------         --------------  ----- \n",
      " 0   CAH level 1    88 non-null     object\n",
      " 1   Sex            88 non-null     object\n",
      " 2   Academic Year  88 non-null     object\n",
      " 3   Number         88 non-null     int64 \n",
      "dtypes: int64(1), object(3)\n",
      "memory usage: 2.9+ KB\n"
     ]
    }
   ],
   "source": [
    "enrol_CAH1_df.info()"
   ]
  },
  {
   "cell_type": "markdown",
   "id": "120e00ab",
   "metadata": {},
   "source": [
    "There are 88 rows and 4 columns in the data set, which includes data on the level 1 CAH grouping and sex. One column has a data tyoe if number and the remaining columns are objects."
   ]
  },
  {
   "cell_type": "code",
   "execution_count": 26,
   "id": "e46a6b6f",
   "metadata": {},
   "outputs": [
    {
     "data": {
      "text/html": [
       "<div>\n",
       "<style scoped>\n",
       "    .dataframe tbody tr th:only-of-type {\n",
       "        vertical-align: middle;\n",
       "    }\n",
       "\n",
       "    .dataframe tbody tr th {\n",
       "        vertical-align: top;\n",
       "    }\n",
       "\n",
       "    .dataframe thead th {\n",
       "        text-align: right;\n",
       "    }\n",
       "</style>\n",
       "<table border=\"1\" class=\"dataframe\">\n",
       "  <thead>\n",
       "    <tr style=\"text-align: right;\">\n",
       "      <th></th>\n",
       "      <th>Number</th>\n",
       "    </tr>\n",
       "  </thead>\n",
       "  <tbody>\n",
       "    <tr>\n",
       "      <th>count</th>\n",
       "      <td>88.000000</td>\n",
       "    </tr>\n",
       "    <tr>\n",
       "      <th>mean</th>\n",
       "      <td>59941.193182</td>\n",
       "    </tr>\n",
       "    <tr>\n",
       "      <th>std</th>\n",
       "      <td>61212.355741</td>\n",
       "    </tr>\n",
       "    <tr>\n",
       "      <th>min</th>\n",
       "      <td>1945.000000</td>\n",
       "    </tr>\n",
       "    <tr>\n",
       "      <th>25%</th>\n",
       "      <td>21277.500000</td>\n",
       "    </tr>\n",
       "    <tr>\n",
       "      <th>50%</th>\n",
       "      <td>36875.000000</td>\n",
       "    </tr>\n",
       "    <tr>\n",
       "      <th>75%</th>\n",
       "      <td>71757.500000</td>\n",
       "    </tr>\n",
       "    <tr>\n",
       "      <th>max</th>\n",
       "      <td>269305.000000</td>\n",
       "    </tr>\n",
       "  </tbody>\n",
       "</table>\n",
       "</div>"
      ],
      "text/plain": [
       "              Number\n",
       "count      88.000000\n",
       "mean    59941.193182\n",
       "std     61212.355741\n",
       "min      1945.000000\n",
       "25%     21277.500000\n",
       "50%     36875.000000\n",
       "75%     71757.500000\n",
       "max    269305.000000"
      ]
     },
     "execution_count": 26,
     "metadata": {},
     "output_type": "execute_result"
    }
   ],
   "source": [
    "enrol_CAH1_df.describe()"
   ]
  },
  {
   "cell_type": "markdown",
   "id": "7662b293",
   "metadata": {},
   "source": [
    "Summary statistics for the number column"
   ]
  },
  {
   "cell_type": "markdown",
   "id": "7e010d5f",
   "metadata": {},
   "source": [
    "**CAH level 1**"
   ]
  },
  {
   "cell_type": "code",
   "execution_count": 28,
   "id": "eb2a786f",
   "metadata": {},
   "outputs": [
    {
     "data": {
      "text/plain": [
       "count                            88\n",
       "unique                           22\n",
       "top       01 Medicine and dentistry\n",
       "freq                              4\n",
       "Name: CAH level 1, dtype: object"
      ]
     },
     "execution_count": 28,
     "metadata": {},
     "output_type": "execute_result"
    }
   ],
   "source": [
    "enrol_CAH1_df[\"CAH level 1\"].describe()"
   ]
  },
  {
   "cell_type": "markdown",
   "id": "776cfe0a",
   "metadata": {},
   "source": [
    "The data in this column has 22 unique values and the data type is object."
   ]
  },
  {
   "cell_type": "code",
   "execution_count": 29,
   "id": "1b21d6d1",
   "metadata": {},
   "outputs": [
    {
     "data": {
      "text/plain": [
       "array(['01 Medicine and dentistry', '02 Subjects allied to medicine',\n",
       "       '03 Biological and sport sciences', '04 Psychology',\n",
       "       '05 Veterinary sciences',\n",
       "       '06 Agriculture, food and related studies', '07 Physical sciences',\n",
       "       '09 Mathematical sciences', '10 Engineering and technology',\n",
       "       '11 Computing', '13 Architecture, building and planning',\n",
       "       '26 Geography, earth and environmental studies (natural sciences)',\n",
       "       '15 Social sciences', '16 Law', '17 Business and management',\n",
       "       '19 Language and area studies',\n",
       "       '20 Historical, philosophical and religious studies',\n",
       "       '22 Education and teaching', '23 Combined and general studies',\n",
       "       '24 Media, journalism and communications',\n",
       "       '25 Design, and creative and performing arts',\n",
       "       '26 Geography, earth and environmental studies (social sciences)'],\n",
       "      dtype=object)"
      ]
     },
     "execution_count": 29,
     "metadata": {},
     "output_type": "execute_result"
    }
   ],
   "source": [
    "enrol_CAH1_df[\"CAH level 1\"].unique()"
   ]
  },
  {
   "cell_type": "markdown",
   "id": "7b82f010",
   "metadata": {},
   "source": [
    "This is the level 1 CAH grouping for subject. We will include all values here as we wish to investigate the subjects being studied by women."
   ]
  },
  {
   "cell_type": "markdown",
   "id": "faf72495",
   "metadata": {},
   "source": [
    "**Sex**"
   ]
  },
  {
   "cell_type": "code",
   "execution_count": 30,
   "id": "ad4cb338",
   "metadata": {},
   "outputs": [
    {
     "data": {
      "text/plain": [
       "count         88\n",
       "unique         2\n",
       "top       Female\n",
       "freq          44\n",
       "Name: Sex, dtype: object"
      ]
     },
     "execution_count": 30,
     "metadata": {},
     "output_type": "execute_result"
    }
   ],
   "source": [
    "enrol_CAH1_df[\"Sex\"].describe()"
   ]
  },
  {
   "cell_type": "markdown",
   "id": "6d10fb30",
   "metadata": {},
   "source": [
    "The data in this column has 2 unique values and the data type is object."
   ]
  },
  {
   "cell_type": "code",
   "execution_count": 31,
   "id": "5d04126d",
   "metadata": {},
   "outputs": [
    {
     "data": {
      "text/plain": [
       "array(['Female', 'Male'], dtype=object)"
      ]
     },
     "execution_count": 31,
     "metadata": {},
     "output_type": "execute_result"
    }
   ],
   "source": [
    "enrol_CAH1_df[\"Sex\"].unique()"
   ]
  },
  {
   "cell_type": "markdown",
   "id": "39dc5eac",
   "metadata": {},
   "source": [
    "There are only two values recorded for sex- male and female. We will need to be aware that our student and graduate datasets have the additional value of 'other' when undertaking our analysis."
   ]
  },
  {
   "cell_type": "markdown",
   "id": "97b5290b",
   "metadata": {},
   "source": [
    "**Academic Year**"
   ]
  },
  {
   "cell_type": "code",
   "execution_count": 32,
   "id": "8675a16a",
   "metadata": {},
   "outputs": [
    {
     "data": {
      "text/plain": [
       "count          88\n",
       "unique          2\n",
       "top       2019/20\n",
       "freq           44\n",
       "Name: Academic Year, dtype: object"
      ]
     },
     "execution_count": 32,
     "metadata": {},
     "output_type": "execute_result"
    }
   ],
   "source": [
    "enrol_CAH1_df[\"Academic Year\"].describe()"
   ]
  },
  {
   "cell_type": "markdown",
   "id": "0df3657b",
   "metadata": {},
   "source": [
    "The data in this column has 2 unique values and the data type is object."
   ]
  },
  {
   "cell_type": "code",
   "execution_count": 33,
   "id": "a1b23b86",
   "metadata": {},
   "outputs": [
    {
     "data": {
      "text/plain": [
       "array(['2019/20', '2020/21'], dtype=object)"
      ]
     },
     "execution_count": 33,
     "metadata": {},
     "output_type": "execute_result"
    }
   ],
   "source": [
    "enrol_CAH1_df[\"Academic Year\"].unique()"
   ]
  },
  {
   "cell_type": "markdown",
   "id": "7e14919a",
   "metadata": {},
   "source": [
    "There are only two academic years worth of data for us to analyse due to the changes in subject coding introduced ahead of 2019/20. Whilst this is insufficient to undertake a time series analysis, it will be interesting to see which subjects are being studied by women in each year. This also something that can be investigated further as more data becomes available."
   ]
  },
  {
   "cell_type": "markdown",
   "id": "732c5b30",
   "metadata": {},
   "source": [
    "## Percentage of HE Student Enrolments in  Science Subjects by Personal Characteristics"
   ]
  },
  {
   "cell_type": "code",
   "execution_count": 34,
   "id": "cf53c35d",
   "metadata": {},
   "outputs": [
    {
     "data": {
      "text/html": [
       "<div>\n",
       "<style scoped>\n",
       "    .dataframe tbody tr th:only-of-type {\n",
       "        vertical-align: middle;\n",
       "    }\n",
       "\n",
       "    .dataframe tbody tr th {\n",
       "        vertical-align: top;\n",
       "    }\n",
       "\n",
       "    .dataframe thead th {\n",
       "        text-align: right;\n",
       "    }\n",
       "</style>\n",
       "<table border=\"1\" class=\"dataframe\">\n",
       "  <thead>\n",
       "    <tr style=\"text-align: right;\">\n",
       "      <th></th>\n",
       "      <th>Category Marker</th>\n",
       "      <th>Category</th>\n",
       "      <th>First year marker</th>\n",
       "      <th>Level of study</th>\n",
       "      <th>Mode of study</th>\n",
       "      <th>Country of HE provider</th>\n",
       "      <th>Academic Year</th>\n",
       "      <th>Percentage</th>\n",
       "    </tr>\n",
       "  </thead>\n",
       "  <tbody>\n",
       "    <tr>\n",
       "      <th>0</th>\n",
       "      <td>Sex</td>\n",
       "      <td>Female</td>\n",
       "      <td>All</td>\n",
       "      <td>All</td>\n",
       "      <td>All</td>\n",
       "      <td>All</td>\n",
       "      <td>2019/20</td>\n",
       "      <td>41%</td>\n",
       "    </tr>\n",
       "    <tr>\n",
       "      <th>1</th>\n",
       "      <td>Sex</td>\n",
       "      <td>Female</td>\n",
       "      <td>All</td>\n",
       "      <td>All</td>\n",
       "      <td>All</td>\n",
       "      <td>All</td>\n",
       "      <td>2020/21</td>\n",
       "      <td>42%</td>\n",
       "    </tr>\n",
       "    <tr>\n",
       "      <th>2</th>\n",
       "      <td>Sex</td>\n",
       "      <td>Female</td>\n",
       "      <td>All</td>\n",
       "      <td>All</td>\n",
       "      <td>All</td>\n",
       "      <td>England</td>\n",
       "      <td>2019/20</td>\n",
       "      <td>40%</td>\n",
       "    </tr>\n",
       "    <tr>\n",
       "      <th>3</th>\n",
       "      <td>Sex</td>\n",
       "      <td>Female</td>\n",
       "      <td>All</td>\n",
       "      <td>All</td>\n",
       "      <td>All</td>\n",
       "      <td>England</td>\n",
       "      <td>2020/21</td>\n",
       "      <td>41%</td>\n",
       "    </tr>\n",
       "    <tr>\n",
       "      <th>4</th>\n",
       "      <td>Sex</td>\n",
       "      <td>Female</td>\n",
       "      <td>All</td>\n",
       "      <td>All</td>\n",
       "      <td>All</td>\n",
       "      <td>Northern Ireland</td>\n",
       "      <td>2019/20</td>\n",
       "      <td>51%</td>\n",
       "    </tr>\n",
       "  </tbody>\n",
       "</table>\n",
       "</div>"
      ],
      "text/plain": [
       "  Category Marker Category First year marker Level of study Mode of study  \\\n",
       "0             Sex   Female               All            All           All   \n",
       "1             Sex   Female               All            All           All   \n",
       "2             Sex   Female               All            All           All   \n",
       "3             Sex   Female               All            All           All   \n",
       "4             Sex   Female               All            All           All   \n",
       "\n",
       "  Country of HE provider Academic Year Percentage  \n",
       "0                    All       2019/20        41%  \n",
       "1                    All       2020/21        42%  \n",
       "2                England       2019/20        40%  \n",
       "3                England       2020/21        41%  \n",
       "4       Northern Ireland       2019/20        51%  "
      ]
     },
     "execution_count": 34,
     "metadata": {},
     "output_type": "execute_result"
    }
   ],
   "source": [
    "enrol_science_df = pd.read_csv(\"Percentage of HE student enrolments in science subjects by personal characteristics.csv\")\n",
    "enrol_science_df.head()"
   ]
  },
  {
   "cell_type": "code",
   "execution_count": 35,
   "id": "5326fdc2",
   "metadata": {},
   "outputs": [
    {
     "name": "stdout",
     "output_type": "stream",
     "text": [
      "<class 'pandas.core.frame.DataFrame'>\n",
      "RangeIndex: 7232 entries, 0 to 7231\n",
      "Data columns (total 8 columns):\n",
      " #   Column                  Non-Null Count  Dtype \n",
      "---  ------                  --------------  ----- \n",
      " 0   Category Marker         7232 non-null   object\n",
      " 1   Category                7232 non-null   object\n",
      " 2   First year marker       7232 non-null   object\n",
      " 3   Level of study          7232 non-null   object\n",
      " 4   Mode of study           7232 non-null   object\n",
      " 5   Country of HE provider  7232 non-null   object\n",
      " 6   Academic Year           7232 non-null   object\n",
      " 7   Percentage              6824 non-null   object\n",
      "dtypes: object(8)\n",
      "memory usage: 452.1+ KB\n"
     ]
    }
   ],
   "source": [
    "enrol_science_df.info()"
   ]
  },
  {
   "cell_type": "markdown",
   "id": "78624b65",
   "metadata": {},
   "source": [
    "There are 7232 rows and 8 columns in the dataset. All columns contain object data type. It looks as though there are nulls in the percentage column."
   ]
  },
  {
   "cell_type": "code",
   "execution_count": 36,
   "id": "cd73d3f6",
   "metadata": {},
   "outputs": [
    {
     "data": {
      "text/html": [
       "<div>\n",
       "<style scoped>\n",
       "    .dataframe tbody tr th:only-of-type {\n",
       "        vertical-align: middle;\n",
       "    }\n",
       "\n",
       "    .dataframe tbody tr th {\n",
       "        vertical-align: top;\n",
       "    }\n",
       "\n",
       "    .dataframe thead th {\n",
       "        text-align: right;\n",
       "    }\n",
       "</style>\n",
       "<table border=\"1\" class=\"dataframe\">\n",
       "  <thead>\n",
       "    <tr style=\"text-align: right;\">\n",
       "      <th></th>\n",
       "      <th>Category Marker</th>\n",
       "      <th>Category</th>\n",
       "      <th>First year marker</th>\n",
       "      <th>Level of study</th>\n",
       "      <th>Mode of study</th>\n",
       "      <th>Country of HE provider</th>\n",
       "      <th>Academic Year</th>\n",
       "      <th>Percentage</th>\n",
       "    </tr>\n",
       "  </thead>\n",
       "  <tbody>\n",
       "    <tr>\n",
       "      <th>count</th>\n",
       "      <td>7232</td>\n",
       "      <td>7232</td>\n",
       "      <td>7232</td>\n",
       "      <td>7232</td>\n",
       "      <td>7232</td>\n",
       "      <td>7232</td>\n",
       "      <td>7232</td>\n",
       "      <td>6824</td>\n",
       "    </tr>\n",
       "    <tr>\n",
       "      <th>unique</th>\n",
       "      <td>7</td>\n",
       "      <td>26</td>\n",
       "      <td>3</td>\n",
       "      <td>3</td>\n",
       "      <td>3</td>\n",
       "      <td>5</td>\n",
       "      <td>2</td>\n",
       "      <td>89</td>\n",
       "    </tr>\n",
       "    <tr>\n",
       "      <th>top</th>\n",
       "      <td>Religious Belief</td>\n",
       "      <td>Other</td>\n",
       "      <td>All</td>\n",
       "      <td>All</td>\n",
       "      <td>All</td>\n",
       "      <td>All</td>\n",
       "      <td>2019/20</td>\n",
       "      <td>44%</td>\n",
       "    </tr>\n",
       "    <tr>\n",
       "      <th>freq</th>\n",
       "      <td>2430</td>\n",
       "      <td>534</td>\n",
       "      <td>2418</td>\n",
       "      <td>2418</td>\n",
       "      <td>2420</td>\n",
       "      <td>1458</td>\n",
       "      <td>3616</td>\n",
       "      <td>426</td>\n",
       "    </tr>\n",
       "  </tbody>\n",
       "</table>\n",
       "</div>"
      ],
      "text/plain": [
       "         Category Marker Category First year marker Level of study  \\\n",
       "count               7232     7232              7232           7232   \n",
       "unique                 7       26                 3              3   \n",
       "top     Religious Belief    Other               All            All   \n",
       "freq                2430      534              2418           2418   \n",
       "\n",
       "       Mode of study Country of HE provider Academic Year Percentage  \n",
       "count           7232                   7232          7232       6824  \n",
       "unique             3                      5             2         89  \n",
       "top              All                    All       2019/20        44%  \n",
       "freq            2420                   1458          3616        426  "
      ]
     },
     "execution_count": 36,
     "metadata": {},
     "output_type": "execute_result"
    }
   ],
   "source": [
    "enrol_science_df.describe()"
   ]
  },
  {
   "cell_type": "markdown",
   "id": "ec55c5ff",
   "metadata": {},
   "source": [
    "Summary statistics for science enrolments"
   ]
  },
  {
   "cell_type": "markdown",
   "id": "3325efb3",
   "metadata": {},
   "source": [
    "**Category Marker**"
   ]
  },
  {
   "cell_type": "code",
   "execution_count": 38,
   "id": "e9f19929",
   "metadata": {},
   "outputs": [
    {
     "data": {
      "text/plain": [
       "count                 7232\n",
       "unique                   7\n",
       "top       Religious Belief\n",
       "freq                  2430\n",
       "Name: Category Marker, dtype: object"
      ]
     },
     "execution_count": 38,
     "metadata": {},
     "output_type": "execute_result"
    }
   ],
   "source": [
    "enrol_science_df[\"Category Marker\"].describe()"
   ]
  },
  {
   "cell_type": "markdown",
   "id": "89400534",
   "metadata": {},
   "source": [
    "The data in this column has 7 unique values and the data type is object."
   ]
  },
  {
   "cell_type": "code",
   "execution_count": 39,
   "id": "67a01c74",
   "metadata": {},
   "outputs": [
    {
     "data": {
      "text/plain": [
       "array(['Sex', 'Age Group', 'Disability Status', 'Religious Belief',\n",
       "       'Ethnicity', 'Total UK domiciled students', 'Total'], dtype=object)"
      ]
     },
     "execution_count": 39,
     "metadata": {},
     "output_type": "execute_result"
    }
   ],
   "source": [
    "enrol_science_df[\"Category Marker\"].unique()"
   ]
  },
  {
   "cell_type": "markdown",
   "id": "938163f9",
   "metadata": {},
   "source": [
    "As our project focuses on gender, we will only retain rows where the value is 'Sex'."
   ]
  },
  {
   "cell_type": "code",
   "execution_count": 40,
   "id": "118e2668",
   "metadata": {},
   "outputs": [],
   "source": [
    "# remove rows where the value is not equal to sex."
   ]
  },
  {
   "cell_type": "markdown",
   "id": "cf3367c9",
   "metadata": {},
   "source": [
    "**Category**"
   ]
  },
  {
   "cell_type": "code",
   "execution_count": 41,
   "id": "733d44bb",
   "metadata": {},
   "outputs": [
    {
     "data": {
      "text/plain": [
       "count      7232\n",
       "unique       26\n",
       "top       Other\n",
       "freq        534\n",
       "Name: Category, dtype: object"
      ]
     },
     "execution_count": 41,
     "metadata": {},
     "output_type": "execute_result"
    }
   ],
   "source": [
    "enrol_science_df[\"Category\"].describe()"
   ]
  },
  {
   "cell_type": "markdown",
   "id": "bb5bd4ad",
   "metadata": {},
   "source": [
    "The data in this column has 26 unique values and the data type is object."
   ]
  },
  {
   "cell_type": "code",
   "execution_count": 42,
   "id": "60cb38dc",
   "metadata": {},
   "outputs": [
    {
     "data": {
      "text/plain": [
       "array(['Female', 'Male', 'Other', '20 and under', '21-24 years',\n",
       "       '25-29 years', '30 years and over', 'Age unknown',\n",
       "       'Known disability', 'No known disability', 'No religion',\n",
       "       'Buddhist', 'Christian', 'Hindu', 'Jewish', 'Muslim', 'Sikh',\n",
       "       'Spiritual', 'Any other religion or belief', 'White', 'Black',\n",
       "       'Asian', 'Mixed', 'Not known', 'Total UK domiciled students',\n",
       "       'Total'], dtype=object)"
      ]
     },
     "execution_count": 42,
     "metadata": {},
     "output_type": "execute_result"
    }
   ],
   "source": [
    "enrol_science_df[\"Category\"].unique()"
   ]
  },
  {
   "cell_type": "markdown",
   "id": "c7cd3167",
   "metadata": {},
   "source": [
    "As we are investigating gender, we will only retain the values of female, male and other."
   ]
  },
  {
   "cell_type": "code",
   "execution_count": 43,
   "id": "b8e1b803",
   "metadata": {},
   "outputs": [],
   "source": [
    "# remove rows where the value is not a gender value."
   ]
  },
  {
   "cell_type": "markdown",
   "id": "7bcf0ca6",
   "metadata": {},
   "source": [
    "**First year marker**"
   ]
  },
  {
   "cell_type": "code",
   "execution_count": 44,
   "id": "701cb0b7",
   "metadata": {},
   "outputs": [
    {
     "data": {
      "text/plain": [
       "count     7232\n",
       "unique       3\n",
       "top        All\n",
       "freq      2418\n",
       "Name: First year marker, dtype: object"
      ]
     },
     "execution_count": 44,
     "metadata": {},
     "output_type": "execute_result"
    }
   ],
   "source": [
    "enrol_science_df[\"First year marker\"].describe()"
   ]
  },
  {
   "cell_type": "markdown",
   "id": "104a4731",
   "metadata": {},
   "source": [
    "The data in this column has 3 unique values and the data type is object."
   ]
  },
  {
   "cell_type": "code",
   "execution_count": 45,
   "id": "d9629f4d",
   "metadata": {},
   "outputs": [
    {
     "data": {
      "text/plain": [
       "array(['All', 'First year', 'Other years'], dtype=object)"
      ]
     },
     "execution_count": 45,
     "metadata": {},
     "output_type": "execute_result"
    }
   ],
   "source": [
    "enrol_science_df[\"First year marker\"].unique()"
   ]
  },
  {
   "cell_type": "markdown",
   "id": "c887edc1",
   "metadata": {},
   "source": [
    "First year marker is whether a student is in their first year of study for their degree or other years. For higher education data in our project, we are looking at first year students and then graduates to get an idea of completion, i.e. who starts vs who finishes.\n",
    "\n",
    "In the First year marker column, we only want to retain the value of 'First year'. We will want to drop rows with the 'All' and 'Other years' values."
   ]
  },
  {
   "cell_type": "code",
   "execution_count": 48,
   "id": "be1b2ec4",
   "metadata": {},
   "outputs": [],
   "source": [
    "# remove rows where the value is not equal to first year."
   ]
  },
  {
   "cell_type": "markdown",
   "id": "da760fb3",
   "metadata": {},
   "source": [
    "**Level of study**"
   ]
  },
  {
   "cell_type": "code",
   "execution_count": 46,
   "id": "99ae80bc",
   "metadata": {},
   "outputs": [
    {
     "data": {
      "text/plain": [
       "count     7232\n",
       "unique       3\n",
       "top        All\n",
       "freq      2418\n",
       "Name: Level of study, dtype: object"
      ]
     },
     "execution_count": 46,
     "metadata": {},
     "output_type": "execute_result"
    }
   ],
   "source": [
    "enrol_science_df[\"Level of study\"].describe()"
   ]
  },
  {
   "cell_type": "markdown",
   "id": "b0d61c71",
   "metadata": {},
   "source": [
    "The data in this column has 3 unique values and the data type is object."
   ]
  },
  {
   "cell_type": "code",
   "execution_count": 47,
   "id": "91a196df",
   "metadata": {},
   "outputs": [
    {
     "data": {
      "text/plain": [
       "array(['All', 'Postgraduate', 'Undergraduate'], dtype=object)"
      ]
     },
     "execution_count": 47,
     "metadata": {},
     "output_type": "execute_result"
    }
   ],
   "source": [
    "enrol_science_df[\"Level of study\"].unique()"
   ]
  },
  {
   "cell_type": "markdown",
   "id": "e77c0fdc",
   "metadata": {},
   "source": [
    "Looking at the values in this column, it would be interesting to see the number and proportion of females starting different levels of degree.\n",
    "\n",
    "To get the breakdown, we will remove rows with a value of 'All'. \n"
   ]
  },
  {
   "cell_type": "code",
   "execution_count": 49,
   "id": "1b42be53",
   "metadata": {},
   "outputs": [],
   "source": [
    "# look to remove rows where the value is all."
   ]
  },
  {
   "cell_type": "markdown",
   "id": "c9e0d84b",
   "metadata": {},
   "source": [
    "**Mode of study**"
   ]
  },
  {
   "cell_type": "code",
   "execution_count": 50,
   "id": "a08c499d",
   "metadata": {},
   "outputs": [
    {
     "data": {
      "text/plain": [
       "count     7232\n",
       "unique       3\n",
       "top        All\n",
       "freq      2420\n",
       "Name: Mode of study, dtype: object"
      ]
     },
     "execution_count": 50,
     "metadata": {},
     "output_type": "execute_result"
    }
   ],
   "source": [
    "enrol_science_df[\"Mode of study\"].describe()"
   ]
  },
  {
   "cell_type": "markdown",
   "id": "fb2b7ced",
   "metadata": {},
   "source": [
    "The data in this column has 3 unique values and the data type is object."
   ]
  },
  {
   "cell_type": "code",
   "execution_count": 51,
   "id": "76eeb005",
   "metadata": {},
   "outputs": [
    {
     "data": {
      "text/plain": [
       "array(['All', 'Full-time', 'Part-time'], dtype=object)"
      ]
     },
     "execution_count": 51,
     "metadata": {},
     "output_type": "execute_result"
    }
   ],
   "source": [
    "enrol_science_df[\"Mode of study\"].unique()"
   ]
  },
  {
   "cell_type": "markdown",
   "id": "9c9d96f5",
   "metadata": {},
   "source": [
    "This column contains information on whether students are studying full or part-time. Here I think it will be useful to retain all values initially. We might want to use all to get the general trends but can then look at full-time and part-time split by gender to see if women are more or less likely to study full-time than males."
   ]
  },
  {
   "cell_type": "markdown",
   "id": "bcf37a0d",
   "metadata": {},
   "source": [
    "**Country of HE provider**"
   ]
  },
  {
   "cell_type": "code",
   "execution_count": 52,
   "id": "35120219",
   "metadata": {},
   "outputs": [
    {
     "data": {
      "text/plain": [
       "count     7232\n",
       "unique       5\n",
       "top        All\n",
       "freq      1458\n",
       "Name: Country of HE provider, dtype: object"
      ]
     },
     "execution_count": 52,
     "metadata": {},
     "output_type": "execute_result"
    }
   ],
   "source": [
    "enrol_science_df[\"Country of HE provider\"].describe()"
   ]
  },
  {
   "cell_type": "markdown",
   "id": "5290e551",
   "metadata": {},
   "source": [
    "The data in this column has 5 unique values and the data type is object."
   ]
  },
  {
   "cell_type": "code",
   "execution_count": 53,
   "id": "d95499f4",
   "metadata": {},
   "outputs": [
    {
     "data": {
      "text/plain": [
       "array(['All', 'England', 'Northern Ireland', 'Scotland', 'Wales'],\n",
       "      dtype=object)"
      ]
     },
     "execution_count": 53,
     "metadata": {},
     "output_type": "execute_result"
    }
   ],
   "source": [
    "enrol_science_df[\"Country of HE provider\"].unique()"
   ]
  },
  {
   "cell_type": "markdown",
   "id": "3a108291",
   "metadata": {},
   "source": [
    "Data is available for the four devolved nations. As the secondary level education data we have is only available for England, we should only retain rows with a value of England for our project."
   ]
  },
  {
   "cell_type": "code",
   "execution_count": 54,
   "id": "5bc66d3d",
   "metadata": {},
   "outputs": [],
   "source": [
    "# look to remove rows where value is not equal to England."
   ]
  },
  {
   "cell_type": "markdown",
   "id": "800659fb",
   "metadata": {},
   "source": [
    "**Academic Year**"
   ]
  },
  {
   "cell_type": "code",
   "execution_count": 55,
   "id": "74301863",
   "metadata": {},
   "outputs": [
    {
     "data": {
      "text/plain": [
       "count        7232\n",
       "unique          2\n",
       "top       2019/20\n",
       "freq         3616\n",
       "Name: Academic Year, dtype: object"
      ]
     },
     "execution_count": 55,
     "metadata": {},
     "output_type": "execute_result"
    }
   ],
   "source": [
    "enrol_science_df[\"Academic Year\"].describe()"
   ]
  },
  {
   "cell_type": "markdown",
   "id": "500c5ec6",
   "metadata": {},
   "source": [
    "The data in this column has 2 unique values and the data type is object."
   ]
  },
  {
   "cell_type": "code",
   "execution_count": 56,
   "id": "025db177",
   "metadata": {},
   "outputs": [
    {
     "data": {
      "text/plain": [
       "array(['2019/20', '2020/21'], dtype=object)"
      ]
     },
     "execution_count": 56,
     "metadata": {},
     "output_type": "execute_result"
    }
   ],
   "source": [
    "enrol_science_df[\"Academic Year\"].unique()"
   ]
  },
  {
   "cell_type": "markdown",
   "id": "061f6436",
   "metadata": {},
   "source": [
    "There are only two academic years worth of data for us to analyse due to the changes in subject coding introduced ahead of 2019/20. Whilst this is insufficient to undertake a time series analysis, it will be interesting to see which science subjects are being studied by women in each year. This also something that can be investigated further as more data becomes available."
   ]
  },
  {
   "cell_type": "code",
   "execution_count": null,
   "id": "8465e000",
   "metadata": {},
   "outputs": [],
   "source": []
  }
 ],
 "metadata": {
  "kernelspec": {
   "display_name": "Python 3 (ipykernel)",
   "language": "python",
   "name": "python3"
  },
  "language_info": {
   "codemirror_mode": {
    "name": "ipython",
    "version": 3
   },
   "file_extension": ".py",
   "mimetype": "text/x-python",
   "name": "python",
   "nbconvert_exporter": "python",
   "pygments_lexer": "ipython3",
   "version": "3.9.12"
  }
 },
 "nbformat": 4,
 "nbformat_minor": 5
}
