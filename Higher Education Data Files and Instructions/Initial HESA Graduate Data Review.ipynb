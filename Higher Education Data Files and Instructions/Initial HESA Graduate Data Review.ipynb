{
 "cells": [
  {
   "cell_type": "markdown",
   "id": "050909b5",
   "metadata": {},
   "source": [
    "# Initial HESA Graduate Data Review"
   ]
  },
  {
   "cell_type": "code",
   "execution_count": 1,
   "id": "da8c0059",
   "metadata": {},
   "outputs": [],
   "source": [
    "import pandas as pd"
   ]
  },
  {
   "cell_type": "markdown",
   "id": "5dfa8e2e",
   "metadata": {},
   "source": [
    "## 2017/8 Dataset"
   ]
  },
  {
   "cell_type": "code",
   "execution_count": 3,
   "id": "2a5691c5",
   "metadata": {},
   "outputs": [
    {
     "data": {
      "text/html": [
       "<div>\n",
       "<style scoped>\n",
       "    .dataframe tbody tr th:only-of-type {\n",
       "        vertical-align: middle;\n",
       "    }\n",
       "\n",
       "    .dataframe tbody tr th {\n",
       "        vertical-align: top;\n",
       "    }\n",
       "\n",
       "    .dataframe thead th {\n",
       "        text-align: right;\n",
       "    }\n",
       "</style>\n",
       "<table border=\"1\" class=\"dataframe\">\n",
       "  <thead>\n",
       "    <tr style=\"text-align: right;\">\n",
       "      <th></th>\n",
       "      <th>Personal characteristic category filter</th>\n",
       "      <th>Personal characteristic category</th>\n",
       "      <th>Activity</th>\n",
       "      <th>Country of provider</th>\n",
       "      <th>Domicile</th>\n",
       "      <th>Provider type</th>\n",
       "      <th>Level of qualification obtained</th>\n",
       "      <th>Mode of former study</th>\n",
       "      <th>Interim study marker</th>\n",
       "      <th>Academic year</th>\n",
       "      <th>Number</th>\n",
       "      <th>Percent</th>\n",
       "      <th>95% confidence interval</th>\n",
       "    </tr>\n",
       "  </thead>\n",
       "  <tbody>\n",
       "    <tr>\n",
       "      <th>0</th>\n",
       "      <td>Sex</td>\n",
       "      <td>Female</td>\n",
       "      <td>Employment and further study</td>\n",
       "      <td>All</td>\n",
       "      <td>All</td>\n",
       "      <td>All</td>\n",
       "      <td>All</td>\n",
       "      <td>All</td>\n",
       "      <td>Exclude significant interim study</td>\n",
       "      <td>2017/18</td>\n",
       "      <td>19695</td>\n",
       "      <td>10%</td>\n",
       "      <td>(9%-10%)</td>\n",
       "    </tr>\n",
       "    <tr>\n",
       "      <th>1</th>\n",
       "      <td>Sex</td>\n",
       "      <td>Female</td>\n",
       "      <td>Full-time employment</td>\n",
       "      <td>All</td>\n",
       "      <td>All</td>\n",
       "      <td>All</td>\n",
       "      <td>All</td>\n",
       "      <td>All</td>\n",
       "      <td>Exclude significant interim study</td>\n",
       "      <td>2017/18</td>\n",
       "      <td>120700</td>\n",
       "      <td>59%</td>\n",
       "      <td>(59%-59%)</td>\n",
       "    </tr>\n",
       "    <tr>\n",
       "      <th>2</th>\n",
       "      <td>Sex</td>\n",
       "      <td>Female</td>\n",
       "      <td>Full-time further study</td>\n",
       "      <td>All</td>\n",
       "      <td>All</td>\n",
       "      <td>All</td>\n",
       "      <td>All</td>\n",
       "      <td>All</td>\n",
       "      <td>Exclude significant interim study</td>\n",
       "      <td>2017/18</td>\n",
       "      <td>14930</td>\n",
       "      <td>7%</td>\n",
       "      <td>(7%-8%)</td>\n",
       "    </tr>\n",
       "    <tr>\n",
       "      <th>3</th>\n",
       "      <td>Sex</td>\n",
       "      <td>Female</td>\n",
       "      <td>Non-respondents</td>\n",
       "      <td>All</td>\n",
       "      <td>All</td>\n",
       "      <td>All</td>\n",
       "      <td>All</td>\n",
       "      <td>All</td>\n",
       "      <td>Exclude significant interim study</td>\n",
       "      <td>2017/18</td>\n",
       "      <td>216065</td>\n",
       "      <td>NaN</td>\n",
       "      <td>NaN</td>\n",
       "    </tr>\n",
       "    <tr>\n",
       "      <th>4</th>\n",
       "      <td>Sex</td>\n",
       "      <td>Female</td>\n",
       "      <td>Other including travel, caring for someone or ...</td>\n",
       "      <td>All</td>\n",
       "      <td>All</td>\n",
       "      <td>All</td>\n",
       "      <td>All</td>\n",
       "      <td>All</td>\n",
       "      <td>Exclude significant interim study</td>\n",
       "      <td>2017/18</td>\n",
       "      <td>11730</td>\n",
       "      <td>6%</td>\n",
       "      <td>(6%-6%)</td>\n",
       "    </tr>\n",
       "  </tbody>\n",
       "</table>\n",
       "</div>"
      ],
      "text/plain": [
       "  Personal characteristic category filter Personal characteristic category  \\\n",
       "0                                     Sex                           Female   \n",
       "1                                     Sex                           Female   \n",
       "2                                     Sex                           Female   \n",
       "3                                     Sex                           Female   \n",
       "4                                     Sex                           Female   \n",
       "\n",
       "                                            Activity Country of provider  \\\n",
       "0                       Employment and further study                 All   \n",
       "1                               Full-time employment                 All   \n",
       "2                            Full-time further study                 All   \n",
       "3                                    Non-respondents                 All   \n",
       "4  Other including travel, caring for someone or ...                 All   \n",
       "\n",
       "  Domicile Provider type Level of qualification obtained Mode of former study  \\\n",
       "0      All           All                             All                  All   \n",
       "1      All           All                             All                  All   \n",
       "2      All           All                             All                  All   \n",
       "3      All           All                             All                  All   \n",
       "4      All           All                             All                  All   \n",
       "\n",
       "                Interim study marker Academic year  Number Percent  \\\n",
       "0  Exclude significant interim study       2017/18   19695     10%   \n",
       "1  Exclude significant interim study       2017/18  120700     59%   \n",
       "2  Exclude significant interim study       2017/18   14930      7%   \n",
       "3  Exclude significant interim study       2017/18  216065     NaN   \n",
       "4  Exclude significant interim study       2017/18   11730      6%   \n",
       "\n",
       "  95% confidence interval  \n",
       "0                (9%-10%)  \n",
       "1               (59%-59%)  \n",
       "2                 (7%-8%)  \n",
       "3                     NaN  \n",
       "4                 (6%-6%)  "
      ]
     },
     "execution_count": 3,
     "metadata": {},
     "output_type": "execute_result"
    }
   ],
   "source": [
    "graduate_1718_df = pd.read_csv(\"Graduate Outcomes by activity and personal characteristics - 2017-18.csv\")\n",
    "graduate_1718_df.head()"
   ]
  },
  {
   "cell_type": "code",
   "execution_count": 33,
   "id": "e4c045fa",
   "metadata": {},
   "outputs": [],
   "source": [
    "# NaN values in row 3"
   ]
  },
  {
   "cell_type": "code",
   "execution_count": 4,
   "id": "4d9131be",
   "metadata": {},
   "outputs": [
    {
     "name": "stdout",
     "output_type": "stream",
     "text": [
      "<class 'pandas.core.frame.DataFrame'>\n",
      "RangeIndex: 427620 entries, 0 to 427619\n",
      "Data columns (total 13 columns):\n",
      " #   Column                                   Non-Null Count   Dtype \n",
      "---  ------                                   --------------   ----- \n",
      " 0   Personal characteristic category filter  427620 non-null  object\n",
      " 1   Personal characteristic category         427620 non-null  object\n",
      " 2   Activity                                 427620 non-null  object\n",
      " 3   Country of provider                      427620 non-null  object\n",
      " 4   Domicile                                 427620 non-null  object\n",
      " 5   Provider type                            427620 non-null  object\n",
      " 6   Level of qualification obtained          427620 non-null  object\n",
      " 7   Mode of former study                     427620 non-null  object\n",
      " 8   Interim study marker                     427620 non-null  object\n",
      " 9   Academic year                            427620 non-null  object\n",
      " 10  Number                                   427620 non-null  int64 \n",
      " 11  Percent                                  227799 non-null  object\n",
      " 12  95% confidence interval                  210276 non-null  object\n",
      "dtypes: int64(1), object(12)\n",
      "memory usage: 42.4+ MB\n"
     ]
    }
   ],
   "source": [
    "graduate_1718_df.info()"
   ]
  },
  {
   "cell_type": "markdown",
   "id": "4a28085a",
   "metadata": {},
   "source": [
    "The 2017-18 graduate dataset contains 427620 rows and 13 columns. There is one column with a data type of integer and the remaining columns are objects. An index column has been created for the dataframe."
   ]
  },
  {
   "cell_type": "code",
   "execution_count": null,
   "id": "ec6138dd",
   "metadata": {},
   "outputs": [],
   "source": [
    "# note percentage has 227999 in the non-null column above."
   ]
  },
  {
   "cell_type": "code",
   "execution_count": 5,
   "id": "36be9631",
   "metadata": {},
   "outputs": [
    {
     "data": {
      "text/html": [
       "<div>\n",
       "<style scoped>\n",
       "    .dataframe tbody tr th:only-of-type {\n",
       "        vertical-align: middle;\n",
       "    }\n",
       "\n",
       "    .dataframe tbody tr th {\n",
       "        vertical-align: top;\n",
       "    }\n",
       "\n",
       "    .dataframe thead th {\n",
       "        text-align: right;\n",
       "    }\n",
       "</style>\n",
       "<table border=\"1\" class=\"dataframe\">\n",
       "  <thead>\n",
       "    <tr style=\"text-align: right;\">\n",
       "      <th></th>\n",
       "      <th>Number</th>\n",
       "    </tr>\n",
       "  </thead>\n",
       "  <tbody>\n",
       "    <tr>\n",
       "      <th>count</th>\n",
       "      <td>427620.000000</td>\n",
       "    </tr>\n",
       "    <tr>\n",
       "      <th>mean</th>\n",
       "      <td>1897.995978</td>\n",
       "    </tr>\n",
       "    <tr>\n",
       "      <th>std</th>\n",
       "      <td>15487.864387</td>\n",
       "    </tr>\n",
       "    <tr>\n",
       "      <th>min</th>\n",
       "      <td>0.000000</td>\n",
       "    </tr>\n",
       "    <tr>\n",
       "      <th>25%</th>\n",
       "      <td>0.000000</td>\n",
       "    </tr>\n",
       "    <tr>\n",
       "      <th>50%</th>\n",
       "      <td>5.000000</td>\n",
       "    </tr>\n",
       "    <tr>\n",
       "      <th>75%</th>\n",
       "      <td>85.000000</td>\n",
       "    </tr>\n",
       "    <tr>\n",
       "      <th>max</th>\n",
       "      <td>769210.000000</td>\n",
       "    </tr>\n",
       "  </tbody>\n",
       "</table>\n",
       "</div>"
      ],
      "text/plain": [
       "              Number\n",
       "count  427620.000000\n",
       "mean     1897.995978\n",
       "std     15487.864387\n",
       "min         0.000000\n",
       "25%         0.000000\n",
       "50%         5.000000\n",
       "75%        85.000000\n",
       "max    769210.000000"
      ]
     },
     "execution_count": 5,
     "metadata": {},
     "output_type": "execute_result"
    }
   ],
   "source": [
    "graduate_1718_df.describe()"
   ]
  },
  {
   "cell_type": "markdown",
   "id": "7c0806ad",
   "metadata": {},
   "source": [
    "Statistical summary data for graduate numbers"
   ]
  },
  {
   "cell_type": "markdown",
   "id": "5f545769",
   "metadata": {},
   "source": [
    "**Personal characteristic category filter**"
   ]
  },
  {
   "cell_type": "code",
   "execution_count": 6,
   "id": "2d07f345",
   "metadata": {},
   "outputs": [
    {
     "data": {
      "text/plain": [
       "count        427620\n",
       "unique            5\n",
       "top       Age Group\n",
       "freq         130500\n",
       "Name: Personal characteristic category filter, dtype: object"
      ]
     },
     "execution_count": 6,
     "metadata": {},
     "output_type": "execute_result"
    }
   ],
   "source": [
    "graduate_1718_df[\"Personal characteristic category filter\"].describe()"
   ]
  },
  {
   "cell_type": "markdown",
   "id": "33d237ce",
   "metadata": {},
   "source": [
    "The data in this column has 5 unique values and the data type is object."
   ]
  },
  {
   "cell_type": "code",
   "execution_count": 7,
   "id": "91733a7b",
   "metadata": {},
   "outputs": [
    {
     "data": {
      "text/plain": [
       "array(['Sex', 'Ethnicity', 'Age Group', 'Disability', 'Total'],\n",
       "      dtype=object)"
      ]
     },
     "execution_count": 7,
     "metadata": {},
     "output_type": "execute_result"
    }
   ],
   "source": [
    "graduate_1718_df[\"Personal characteristic category filter\"].unique()"
   ]
  },
  {
   "cell_type": "markdown",
   "id": "ec4f6818",
   "metadata": {},
   "source": [
    "Our project is focusing on gender in relation to education outcomes. For that reason, we can remove rows in the dataset which have a Personal characteristic category filter value that is not equal to sex."
   ]
  },
  {
   "cell_type": "code",
   "execution_count": 8,
   "id": "c901ced3",
   "metadata": {},
   "outputs": [],
   "source": [
    "# look at dropping rows with a value not equal to sex."
   ]
  },
  {
   "cell_type": "markdown",
   "id": "fe8a1d21",
   "metadata": {},
   "source": [
    "**Personal characteristic category**"
   ]
  },
  {
   "cell_type": "code",
   "execution_count": 9,
   "id": "30d32f3f",
   "metadata": {},
   "outputs": [
    {
     "data": {
      "text/plain": [
       "count                  427620\n",
       "unique                     17\n",
       "top       No known disability\n",
       "freq                    36660\n",
       "Name: Personal characteristic category, dtype: object"
      ]
     },
     "execution_count": 9,
     "metadata": {},
     "output_type": "execute_result"
    }
   ],
   "source": [
    "graduate_1718_df[\"Personal characteristic category\"].describe()"
   ]
  },
  {
   "cell_type": "markdown",
   "id": "f9b15463",
   "metadata": {},
   "source": [
    "The data in this column has 17 unique values and the data type is object."
   ]
  },
  {
   "cell_type": "code",
   "execution_count": 10,
   "id": "02297d87",
   "metadata": {},
   "outputs": [
    {
     "data": {
      "text/plain": [
       "array(['Female', 'Male', 'Other', '20 and under', '21-24 years',\n",
       "       '25-29 years', '30 years and over', 'Age unknown',\n",
       "       'Known disability', 'No known disability', 'White', 'Black',\n",
       "       'Asian', 'Mixed', 'Not known', 'Total UK domiciled', 'Total'],\n",
       "      dtype=object)"
      ]
     },
     "execution_count": 10,
     "metadata": {},
     "output_type": "execute_result"
    }
   ],
   "source": [
    "graduate_1718_df[\"Personal characteristic category\"].unique()"
   ]
  },
  {
   "cell_type": "markdown",
   "id": "7aa442e7",
   "metadata": {},
   "source": [
    "Our project is focusing on gender, and as such, we only want to include values that relate to gender. In this dataset, we have female, male and other. Whilst the other category should be included, we will need to be aware in undertaking our analysis that for the student and secondary level data, gender information is only available for a male/female split."
   ]
  },
  {
   "cell_type": "markdown",
   "id": "24ea1602",
   "metadata": {},
   "source": [
    "**Activity**"
   ]
  },
  {
   "cell_type": "code",
   "execution_count": 11,
   "id": "e1cf3881",
   "metadata": {},
   "outputs": [
    {
     "data": {
      "text/plain": [
       "count                           427620\n",
       "unique                              15\n",
       "top       Employment and further study\n",
       "freq                             28508\n",
       "Name: Activity, dtype: object"
      ]
     },
     "execution_count": 11,
     "metadata": {},
     "output_type": "execute_result"
    }
   ],
   "source": [
    "graduate_1718_df[\"Activity\"].describe()"
   ]
  },
  {
   "cell_type": "markdown",
   "id": "fbf0bf18",
   "metadata": {},
   "source": [
    "The data in this column has 15 unique values and the data type is object."
   ]
  },
  {
   "cell_type": "code",
   "execution_count": 12,
   "id": "3e99e91c",
   "metadata": {},
   "outputs": [
    {
     "data": {
      "text/plain": [
       "array(['Employment and further study', 'Full-time employment',\n",
       "       'Full-time further study', 'Non-respondents',\n",
       "       'Other including travel, caring for someone or retired',\n",
       "       'Part-time employment', 'Part-time further study', 'Total',\n",
       "       'Total with known outcomes', 'Unemployed',\n",
       "       'Unemployed and due to start further study',\n",
       "       'Unemployed and due to start work',\n",
       "       'Unknown pattern of employment',\n",
       "       'Unknown pattern of further study', 'Voluntary or unpaid work'],\n",
       "      dtype=object)"
      ]
     },
     "execution_count": 12,
     "metadata": {},
     "output_type": "execute_result"
    }
   ],
   "source": [
    "graduate_1718_df[\"Activity\"].unique()"
   ]
  },
  {
   "cell_type": "markdown",
   "id": "661d39f8",
   "metadata": {},
   "source": [
    "The values in this column relate to what the graduate goes on to do after completing their degree. For our analysis, all values here should be included so that we have a complete analysis of the higher education outcome."
   ]
  },
  {
   "cell_type": "markdown",
   "id": "39bbf103",
   "metadata": {},
   "source": [
    "**Country of provider**"
   ]
  },
  {
   "cell_type": "code",
   "execution_count": 13,
   "id": "86796120",
   "metadata": {},
   "outputs": [
    {
     "data": {
      "text/plain": [
       "count     427620\n",
       "unique         5\n",
       "top          All\n",
       "freq      107760\n",
       "Name: Country of provider, dtype: object"
      ]
     },
     "execution_count": 13,
     "metadata": {},
     "output_type": "execute_result"
    }
   ],
   "source": [
    "graduate_1718_df[\"Country of provider\"].describe()"
   ]
  },
  {
   "cell_type": "markdown",
   "id": "87d05033",
   "metadata": {},
   "source": [
    "The data in this column has 5 unique values and the data type is object."
   ]
  },
  {
   "cell_type": "code",
   "execution_count": 14,
   "id": "e43c9641",
   "metadata": {},
   "outputs": [
    {
     "data": {
      "text/plain": [
       "array(['All', 'England', 'Northern Ireland', 'Scotland', 'Wales'],\n",
       "      dtype=object)"
      ]
     },
     "execution_count": 14,
     "metadata": {},
     "output_type": "execute_result"
    }
   ],
   "source": [
    "graduate_1718_df[\"Country of provider\"].unique()"
   ]
  },
  {
   "cell_type": "markdown",
   "id": "9ab1e238",
   "metadata": {},
   "source": [
    "Data is available for graduates in the four devolved nations. However, as the secondary level data we have is only for England, we will only retain England as a value in the Country of Provide column so that we have a consistent approach."
   ]
  },
  {
   "cell_type": "code",
   "execution_count": 15,
   "id": "abe15888",
   "metadata": {},
   "outputs": [],
   "source": [
    "# look at dropping rows with a value not equal to England"
   ]
  },
  {
   "cell_type": "markdown",
   "id": "b7bd7719",
   "metadata": {},
   "source": [
    "**Domicile**"
   ]
  },
  {
   "cell_type": "code",
   "execution_count": 16,
   "id": "7a163671",
   "metadata": {},
   "outputs": [
    {
     "data": {
      "text/plain": [
       "count     427620\n",
       "unique        11\n",
       "top       All UK\n",
       "freq       57360\n",
       "Name: Domicile, dtype: object"
      ]
     },
     "execution_count": 16,
     "metadata": {},
     "output_type": "execute_result"
    }
   ],
   "source": [
    "graduate_1718_df[\"Domicile\"].describe()"
   ]
  },
  {
   "cell_type": "markdown",
   "id": "3fb3a244",
   "metadata": {},
   "source": [
    "The data in this column has 11 unique values and the data type is object."
   ]
  },
  {
   "cell_type": "code",
   "execution_count": 17,
   "id": "8f28e6c9",
   "metadata": {},
   "outputs": [
    {
     "data": {
      "text/plain": [
       "array(['All', 'All UK', 'All non-UK', 'England', 'Non-European Union',\n",
       "       'Northern Ireland', 'Not known', 'Other European Union',\n",
       "       'Other UK', 'Scotland', 'Wales'], dtype=object)"
      ]
     },
     "execution_count": 17,
     "metadata": {},
     "output_type": "execute_result"
    }
   ],
   "source": [
    "graduate_1718_df[\"Domicile\"].unique()"
   ]
  },
  {
   "cell_type": "markdown",
   "id": "cdf1d210",
   "metadata": {},
   "source": [
    "The Domicile is where graduates come from. Whilst an interesting metric, our project is focusing on gender in relation to education outcomes.For that reason, we will exclude the Domicile column from our analysis. It would be an interesting follow on from our project to see if domicile also has an impact."
   ]
  },
  {
   "cell_type": "code",
   "execution_count": 20,
   "id": "ccde73d6",
   "metadata": {},
   "outputs": [],
   "source": [
    "# look at removing/dropping domicile column."
   ]
  },
  {
   "cell_type": "markdown",
   "id": "61cf0a58",
   "metadata": {},
   "source": [
    "**Provider type**"
   ]
  },
  {
   "cell_type": "code",
   "execution_count": 18,
   "id": "04d2a4f2",
   "metadata": {},
   "outputs": [
    {
     "data": {
      "text/plain": [
       "count     427620\n",
       "unique         3\n",
       "top          All\n",
       "freq      173850\n",
       "Name: Provider type, dtype: object"
      ]
     },
     "execution_count": 18,
     "metadata": {},
     "output_type": "execute_result"
    }
   ],
   "source": [
    "graduate_1718_df[\"Provider type\"].describe()"
   ]
  },
  {
   "cell_type": "markdown",
   "id": "dc3ee3e6",
   "metadata": {},
   "source": [
    "The data in this column has 3 unique values and the data type is object."
   ]
  },
  {
   "cell_type": "code",
   "execution_count": 19,
   "id": "19f5845f",
   "metadata": {},
   "outputs": [
    {
     "data": {
      "text/plain": [
       "array(['All', 'Further education colleges (FECs)',\n",
       "       'Higher education providers (HEPs)'], dtype=object)"
      ]
     },
     "execution_count": 19,
     "metadata": {},
     "output_type": "execute_result"
    }
   ],
   "source": [
    "graduate_1718_df[\"Provider type\"].unique()"
   ]
  },
  {
   "cell_type": "markdown",
   "id": "87b94c92",
   "metadata": {},
   "source": [
    "The provider type has an 'All' category which we can exclude from our analysis. We can look at whether there are differences in the outcome for Further education college versus Higher education providers."
   ]
  },
  {
   "cell_type": "code",
   "execution_count": 21,
   "id": "6b3acf48",
   "metadata": {},
   "outputs": [],
   "source": [
    "# look at removing rows with a value of 'All'"
   ]
  },
  {
   "cell_type": "markdown",
   "id": "7b22e34c",
   "metadata": {},
   "source": [
    "**Level of qualification obtained**"
   ]
  },
  {
   "cell_type": "code",
   "execution_count": 22,
   "id": "05880791",
   "metadata": {},
   "outputs": [
    {
     "data": {
      "text/plain": [
       "count     427620\n",
       "unique         3\n",
       "top          All\n",
       "freq      153570\n",
       "Name: Level of qualification obtained, dtype: object"
      ]
     },
     "execution_count": 22,
     "metadata": {},
     "output_type": "execute_result"
    }
   ],
   "source": [
    "graduate_1718_df[\"Level of qualification obtained\"].describe()"
   ]
  },
  {
   "cell_type": "markdown",
   "id": "9b1f4015",
   "metadata": {},
   "source": [
    "The data in this column has 3 unique values and the data type is object."
   ]
  },
  {
   "cell_type": "code",
   "execution_count": 23,
   "id": "57cbb651",
   "metadata": {},
   "outputs": [
    {
     "data": {
      "text/plain": [
       "array(['All', 'Postgraduate', 'Undergraduate'], dtype=object)"
      ]
     },
     "execution_count": 23,
     "metadata": {},
     "output_type": "execute_result"
    }
   ],
   "source": [
    "graduate_1718_df[\"Level of qualification obtained\"].unique()"
   ]
  },
  {
   "cell_type": "markdown",
   "id": "1da997fb",
   "metadata": {},
   "source": [
    "Looking at the values in this column, it would be interesting to see the number and proportion of females completing different levels of degree.\n",
    "\n",
    "We will remove rows with a value of 'All' at look at the undergraduate/postgraduate split to see if there is a difference in the level of study females complete."
   ]
  },
  {
   "cell_type": "markdown",
   "id": "b9984b04",
   "metadata": {},
   "source": [
    "**Mode of former study**"
   ]
  },
  {
   "cell_type": "code",
   "execution_count": 24,
   "id": "a7c08180",
   "metadata": {},
   "outputs": [
    {
     "data": {
      "text/plain": [
       "count     427620\n",
       "unique         3\n",
       "top          All\n",
       "freq      149280\n",
       "Name: Mode of former study, dtype: object"
      ]
     },
     "execution_count": 24,
     "metadata": {},
     "output_type": "execute_result"
    }
   ],
   "source": [
    "graduate_1718_df[\"Mode of former study\"].describe()"
   ]
  },
  {
   "cell_type": "markdown",
   "id": "024cbab5",
   "metadata": {},
   "source": [
    "The data in this column has 3 unique values and the data type is object."
   ]
  },
  {
   "cell_type": "code",
   "execution_count": 25,
   "id": "04495693",
   "metadata": {},
   "outputs": [
    {
     "data": {
      "text/plain": [
       "array(['All', 'Full-time', 'Part-time'], dtype=object)"
      ]
     },
     "execution_count": 25,
     "metadata": {},
     "output_type": "execute_result"
    }
   ],
   "source": [
    "graduate_1718_df[\"Mode of former study\"].unique()"
   ]
  },
  {
   "cell_type": "markdown",
   "id": "e738e370",
   "metadata": {},
   "source": [
    "This column contains information on whether graduates were studying part-time. Here I think it will be useful to retain all values initially. We might want to use all to get the general trends but can then look at full-time and part-time split by gender to see if women are more or less likely to complete after studying full-time than males."
   ]
  },
  {
   "cell_type": "markdown",
   "id": "b30d86e0",
   "metadata": {},
   "source": [
    "**Interim study marker**"
   ]
  },
  {
   "cell_type": "code",
   "execution_count": 27,
   "id": "4fd65513",
   "metadata": {},
   "outputs": [
    {
     "data": {
      "text/plain": [
       "count                                427620\n",
       "unique                                    2\n",
       "top       Include significant interim study\n",
       "freq                                 213840\n",
       "Name: Interim study marker, dtype: object"
      ]
     },
     "execution_count": 27,
     "metadata": {},
     "output_type": "execute_result"
    }
   ],
   "source": [
    "graduate_1718_df[\"Interim study marker\"].describe()"
   ]
  },
  {
   "cell_type": "markdown",
   "id": "ba381e65",
   "metadata": {},
   "source": [
    "The data in this column has 2 unique values and the data type is object."
   ]
  },
  {
   "cell_type": "code",
   "execution_count": 28,
   "id": "de3f09f6",
   "metadata": {},
   "outputs": [
    {
     "data": {
      "text/plain": [
       "array(['Exclude significant interim study',\n",
       "       'Include significant interim study'], dtype=object)"
      ]
     },
     "execution_count": 28,
     "metadata": {},
     "output_type": "execute_result"
    }
   ],
   "source": [
    "graduate_1718_df[\"Interim study marker\"].unique()"
   ]
  },
  {
   "cell_type": "markdown",
   "id": "29cf1e59",
   "metadata": {},
   "source": [
    "The interim study marker is not directly relevant to our analysis and the column can be removed from the dataframe."
   ]
  },
  {
   "cell_type": "code",
   "execution_count": 29,
   "id": "4178392b",
   "metadata": {},
   "outputs": [],
   "source": [
    "# look at removing/dropping interim study marker"
   ]
  },
  {
   "cell_type": "markdown",
   "id": "241fb62c",
   "metadata": {},
   "source": [
    "**Academic year**"
   ]
  },
  {
   "cell_type": "code",
   "execution_count": 30,
   "id": "9be0ca41",
   "metadata": {},
   "outputs": [
    {
     "data": {
      "text/plain": [
       "count      427620\n",
       "unique          1\n",
       "top       2017/18\n",
       "freq       427620\n",
       "Name: Academic year, dtype: object"
      ]
     },
     "execution_count": 30,
     "metadata": {},
     "output_type": "execute_result"
    }
   ],
   "source": [
    "graduate_1718_df[\"Academic year\"].describe()"
   ]
  },
  {
   "cell_type": "markdown",
   "id": "5c70b044",
   "metadata": {},
   "source": [
    "The data in this column has 1 unique values and the data type is object."
   ]
  },
  {
   "cell_type": "code",
   "execution_count": 31,
   "id": "35beb0dd",
   "metadata": {},
   "outputs": [
    {
     "data": {
      "text/plain": [
       "array(['2017/18'], dtype=object)"
      ]
     },
     "execution_count": 31,
     "metadata": {},
     "output_type": "execute_result"
    }
   ],
   "source": [
    "graduate_1718_df[\"Academic year\"].unique()"
   ]
  },
  {
   "cell_type": "markdown",
   "id": "44f74225",
   "metadata": {},
   "source": [
    "This data set is for academic year 2017/8. We have datasets from 2018/9 and 2019/0 which we will look to combine to create a time series analysis."
   ]
  },
  {
   "cell_type": "markdown",
   "id": "baa8bb57",
   "metadata": {},
   "source": [
    "## 2018/9 Dataset"
   ]
  },
  {
   "cell_type": "code",
   "execution_count": 32,
   "id": "1fc46530",
   "metadata": {},
   "outputs": [
    {
     "data": {
      "text/html": [
       "<div>\n",
       "<style scoped>\n",
       "    .dataframe tbody tr th:only-of-type {\n",
       "        vertical-align: middle;\n",
       "    }\n",
       "\n",
       "    .dataframe tbody tr th {\n",
       "        vertical-align: top;\n",
       "    }\n",
       "\n",
       "    .dataframe thead th {\n",
       "        text-align: right;\n",
       "    }\n",
       "</style>\n",
       "<table border=\"1\" class=\"dataframe\">\n",
       "  <thead>\n",
       "    <tr style=\"text-align: right;\">\n",
       "      <th></th>\n",
       "      <th>Personal characteristic category filter</th>\n",
       "      <th>Personal characteristic category</th>\n",
       "      <th>Activity</th>\n",
       "      <th>Country of provider</th>\n",
       "      <th>Domicile</th>\n",
       "      <th>Provider type</th>\n",
       "      <th>Level of qualification obtained</th>\n",
       "      <th>Mode of former study</th>\n",
       "      <th>Interim study marker</th>\n",
       "      <th>Academic year</th>\n",
       "      <th>Number</th>\n",
       "      <th>Percent</th>\n",
       "      <th>95% confidence interval</th>\n",
       "    </tr>\n",
       "  </thead>\n",
       "  <tbody>\n",
       "    <tr>\n",
       "      <th>0</th>\n",
       "      <td>Sex</td>\n",
       "      <td>Female</td>\n",
       "      <td>Employment and further study</td>\n",
       "      <td>All</td>\n",
       "      <td>All</td>\n",
       "      <td>All</td>\n",
       "      <td>All</td>\n",
       "      <td>All</td>\n",
       "      <td>Exclude significant interim study</td>\n",
       "      <td>2018/19</td>\n",
       "      <td>23305</td>\n",
       "      <td>11%</td>\n",
       "      <td>(10%-11%)</td>\n",
       "    </tr>\n",
       "    <tr>\n",
       "      <th>1</th>\n",
       "      <td>Sex</td>\n",
       "      <td>Female</td>\n",
       "      <td>Full-time employment</td>\n",
       "      <td>All</td>\n",
       "      <td>All</td>\n",
       "      <td>All</td>\n",
       "      <td>All</td>\n",
       "      <td>All</td>\n",
       "      <td>Exclude significant interim study</td>\n",
       "      <td>2018/19</td>\n",
       "      <td>125470</td>\n",
       "      <td>57%</td>\n",
       "      <td>(56%-57%)</td>\n",
       "    </tr>\n",
       "    <tr>\n",
       "      <th>2</th>\n",
       "      <td>Sex</td>\n",
       "      <td>Female</td>\n",
       "      <td>Full-time further study</td>\n",
       "      <td>All</td>\n",
       "      <td>All</td>\n",
       "      <td>All</td>\n",
       "      <td>All</td>\n",
       "      <td>All</td>\n",
       "      <td>Exclude significant interim study</td>\n",
       "      <td>2018/19</td>\n",
       "      <td>15680</td>\n",
       "      <td>7%</td>\n",
       "      <td>(7%-7%)</td>\n",
       "    </tr>\n",
       "    <tr>\n",
       "      <th>3</th>\n",
       "      <td>Sex</td>\n",
       "      <td>Female</td>\n",
       "      <td>Non-respondents</td>\n",
       "      <td>All</td>\n",
       "      <td>All</td>\n",
       "      <td>All</td>\n",
       "      <td>All</td>\n",
       "      <td>All</td>\n",
       "      <td>Exclude significant interim study</td>\n",
       "      <td>2018/19</td>\n",
       "      <td>220640</td>\n",
       "      <td>NaN</td>\n",
       "      <td>NaN</td>\n",
       "    </tr>\n",
       "    <tr>\n",
       "      <th>4</th>\n",
       "      <td>Sex</td>\n",
       "      <td>Female</td>\n",
       "      <td>Other including travel, caring for someone or ...</td>\n",
       "      <td>All</td>\n",
       "      <td>All</td>\n",
       "      <td>All</td>\n",
       "      <td>All</td>\n",
       "      <td>All</td>\n",
       "      <td>Exclude significant interim study</td>\n",
       "      <td>2018/19</td>\n",
       "      <td>12215</td>\n",
       "      <td>6%</td>\n",
       "      <td>(5%-6%)</td>\n",
       "    </tr>\n",
       "  </tbody>\n",
       "</table>\n",
       "</div>"
      ],
      "text/plain": [
       "  Personal characteristic category filter Personal characteristic category  \\\n",
       "0                                     Sex                           Female   \n",
       "1                                     Sex                           Female   \n",
       "2                                     Sex                           Female   \n",
       "3                                     Sex                           Female   \n",
       "4                                     Sex                           Female   \n",
       "\n",
       "                                            Activity Country of provider  \\\n",
       "0                       Employment and further study                 All   \n",
       "1                               Full-time employment                 All   \n",
       "2                            Full-time further study                 All   \n",
       "3                                    Non-respondents                 All   \n",
       "4  Other including travel, caring for someone or ...                 All   \n",
       "\n",
       "  Domicile Provider type Level of qualification obtained Mode of former study  \\\n",
       "0      All           All                             All                  All   \n",
       "1      All           All                             All                  All   \n",
       "2      All           All                             All                  All   \n",
       "3      All           All                             All                  All   \n",
       "4      All           All                             All                  All   \n",
       "\n",
       "                Interim study marker Academic year  Number Percent  \\\n",
       "0  Exclude significant interim study       2018/19   23305     11%   \n",
       "1  Exclude significant interim study       2018/19  125470     57%   \n",
       "2  Exclude significant interim study       2018/19   15680      7%   \n",
       "3  Exclude significant interim study       2018/19  220640     NaN   \n",
       "4  Exclude significant interim study       2018/19   12215      6%   \n",
       "\n",
       "  95% confidence interval  \n",
       "0               (10%-11%)  \n",
       "1               (56%-57%)  \n",
       "2                 (7%-7%)  \n",
       "3                     NaN  \n",
       "4                 (5%-6%)  "
      ]
     },
     "execution_count": 32,
     "metadata": {},
     "output_type": "execute_result"
    }
   ],
   "source": [
    "graduate_1819_df = pd.read_csv(\"Graduate Outcomes by activity and personal characteristics- 2018-19.csv\")\n",
    "graduate_1819_df.head()"
   ]
  },
  {
   "cell_type": "code",
   "execution_count": 34,
   "id": "911a55ad",
   "metadata": {},
   "outputs": [
    {
     "name": "stdout",
     "output_type": "stream",
     "text": [
      "<class 'pandas.core.frame.DataFrame'>\n",
      "RangeIndex: 427620 entries, 0 to 427619\n",
      "Data columns (total 13 columns):\n",
      " #   Column                                   Non-Null Count   Dtype \n",
      "---  ------                                   --------------   ----- \n",
      " 0   Personal characteristic category filter  427620 non-null  object\n",
      " 1   Personal characteristic category         427620 non-null  object\n",
      " 2   Activity                                 427620 non-null  object\n",
      " 3   Country of provider                      427620 non-null  object\n",
      " 4   Domicile                                 427620 non-null  object\n",
      " 5   Provider type                            427620 non-null  object\n",
      " 6   Level of qualification obtained          427620 non-null  object\n",
      " 7   Mode of former study                     427620 non-null  object\n",
      " 8   Interim study marker                     427620 non-null  object\n",
      " 9   Academic year                            427620 non-null  object\n",
      " 10  Number                                   427620 non-null  int64 \n",
      " 11  Percent                                  229879 non-null  object\n",
      " 12  95% confidence interval                  212196 non-null  object\n",
      "dtypes: int64(1), object(12)\n",
      "memory usage: 42.4+ MB\n"
     ]
    }
   ],
   "source": [
    "graduate_1819_df.info()"
   ]
  },
  {
   "cell_type": "markdown",
   "id": "c650ca64",
   "metadata": {},
   "source": [
    "The 2018-19 graduate dataset contains 427620 rows and 13 columns. There is one column with a data type of integer and the remaining columns are objects. An index column has been created for the dataframe."
   ]
  },
  {
   "cell_type": "code",
   "execution_count": 35,
   "id": "b73e3475",
   "metadata": {},
   "outputs": [
    {
     "data": {
      "text/html": [
       "<div>\n",
       "<style scoped>\n",
       "    .dataframe tbody tr th:only-of-type {\n",
       "        vertical-align: middle;\n",
       "    }\n",
       "\n",
       "    .dataframe tbody tr th {\n",
       "        vertical-align: top;\n",
       "    }\n",
       "\n",
       "    .dataframe thead th {\n",
       "        text-align: right;\n",
       "    }\n",
       "</style>\n",
       "<table border=\"1\" class=\"dataframe\">\n",
       "  <thead>\n",
       "    <tr style=\"text-align: right;\">\n",
       "      <th></th>\n",
       "      <th>Number</th>\n",
       "    </tr>\n",
       "  </thead>\n",
       "  <tbody>\n",
       "    <tr>\n",
       "      <th>count</th>\n",
       "      <td>427620.000000</td>\n",
       "    </tr>\n",
       "    <tr>\n",
       "      <th>mean</th>\n",
       "      <td>1969.222440</td>\n",
       "    </tr>\n",
       "    <tr>\n",
       "      <th>std</th>\n",
       "      <td>15805.372415</td>\n",
       "    </tr>\n",
       "    <tr>\n",
       "      <th>min</th>\n",
       "      <td>0.000000</td>\n",
       "    </tr>\n",
       "    <tr>\n",
       "      <th>25%</th>\n",
       "      <td>0.000000</td>\n",
       "    </tr>\n",
       "    <tr>\n",
       "      <th>50%</th>\n",
       "      <td>5.000000</td>\n",
       "    </tr>\n",
       "    <tr>\n",
       "      <th>75%</th>\n",
       "      <td>95.000000</td>\n",
       "    </tr>\n",
       "    <tr>\n",
       "      <th>max</th>\n",
       "      <td>793445.000000</td>\n",
       "    </tr>\n",
       "  </tbody>\n",
       "</table>\n",
       "</div>"
      ],
      "text/plain": [
       "              Number\n",
       "count  427620.000000\n",
       "mean     1969.222440\n",
       "std     15805.372415\n",
       "min         0.000000\n",
       "25%         0.000000\n",
       "50%         5.000000\n",
       "75%        95.000000\n",
       "max    793445.000000"
      ]
     },
     "execution_count": 35,
     "metadata": {},
     "output_type": "execute_result"
    }
   ],
   "source": [
    "graduate_1819_df.describe()"
   ]
  },
  {
   "cell_type": "markdown",
   "id": "45acab7e",
   "metadata": {},
   "source": [
    "Statistical summary data for graduate numbers"
   ]
  },
  {
   "cell_type": "markdown",
   "id": "b951cecd",
   "metadata": {},
   "source": [
    "**Personal characteristic category filter**"
   ]
  },
  {
   "cell_type": "code",
   "execution_count": 36,
   "id": "f9c83bcd",
   "metadata": {},
   "outputs": [
    {
     "data": {
      "text/plain": [
       "count        427620\n",
       "unique            5\n",
       "top       Age Group\n",
       "freq         130755\n",
       "Name: Personal characteristic category filter, dtype: object"
      ]
     },
     "execution_count": 36,
     "metadata": {},
     "output_type": "execute_result"
    }
   ],
   "source": [
    "graduate_1819_df[\"Personal characteristic category filter\"].describe()"
   ]
  },
  {
   "cell_type": "markdown",
   "id": "83535476",
   "metadata": {},
   "source": [
    "The data in this column has 5 unique values and the data type is object."
   ]
  },
  {
   "cell_type": "code",
   "execution_count": 37,
   "id": "53abda7d",
   "metadata": {},
   "outputs": [
    {
     "data": {
      "text/plain": [
       "array(['Sex', 'Ethnicity', 'Age Group', 'Disability', 'Total'],\n",
       "      dtype=object)"
      ]
     },
     "execution_count": 37,
     "metadata": {},
     "output_type": "execute_result"
    }
   ],
   "source": [
    "graduate_1819_df[\"Personal characteristic category filter\"].unique()"
   ]
  },
  {
   "cell_type": "markdown",
   "id": "3143478c",
   "metadata": {},
   "source": [
    "Our project is focusing on gender in relation to education outcomes. For that reason, we can remove rows in the dataset which have a Personal characteristic category filter value that is not equal to sex. This matches the values for the 2017/8 dataset."
   ]
  },
  {
   "cell_type": "code",
   "execution_count": 53,
   "id": "004b8608",
   "metadata": {},
   "outputs": [],
   "source": [
    "# look to remove rows with a value not equal to sex."
   ]
  },
  {
   "cell_type": "markdown",
   "id": "1c3c2e87",
   "metadata": {},
   "source": [
    "**Personal characteristic category**"
   ]
  },
  {
   "cell_type": "code",
   "execution_count": 38,
   "id": "088eacfd",
   "metadata": {},
   "outputs": [
    {
     "data": {
      "text/plain": [
       "count                  427620\n",
       "unique                     17\n",
       "top       No known disability\n",
       "freq                    35160\n",
       "Name: Personal characteristic category, dtype: object"
      ]
     },
     "execution_count": 38,
     "metadata": {},
     "output_type": "execute_result"
    }
   ],
   "source": [
    "graduate_1819_df[\"Personal characteristic category\"].describe()"
   ]
  },
  {
   "cell_type": "markdown",
   "id": "0b1b5928",
   "metadata": {},
   "source": [
    "The data in this column has 17 unique values and the data type is object."
   ]
  },
  {
   "cell_type": "code",
   "execution_count": 39,
   "id": "1ffc4c50",
   "metadata": {},
   "outputs": [
    {
     "data": {
      "text/plain": [
       "array(['Female', 'Male', 'Other', '20 and under', '21-24 years',\n",
       "       '25-29 years', '30 years and over', 'Age unknown',\n",
       "       'Known disability', 'No known disability', 'White', 'Black',\n",
       "       'Asian', 'Mixed', 'Not known', 'Total UK domiciled', 'Total'],\n",
       "      dtype=object)"
      ]
     },
     "execution_count": 39,
     "metadata": {},
     "output_type": "execute_result"
    }
   ],
   "source": [
    "graduate_1819_df[\"Personal characteristic category\"].unique()"
   ]
  },
  {
   "cell_type": "markdown",
   "id": "c09a9bc7",
   "metadata": {},
   "source": [
    "Our project is focusing on gender, and as such, we only want to include values that relate to gender. In this dataset, we have female, male and other. Whilst the other category should be included, we will need to be aware in undertaking our analysis that for the student and secondary level data, gender information is only available for a male/female split. The values will then match the 2017/8 dataset."
   ]
  },
  {
   "cell_type": "code",
   "execution_count": null,
   "id": "8a870eb9",
   "metadata": {},
   "outputs": [],
   "source": [
    "# look to remove rows where value is not equal to a gender value"
   ]
  },
  {
   "cell_type": "markdown",
   "id": "42bd57d8",
   "metadata": {},
   "source": [
    "**Activity**"
   ]
  },
  {
   "cell_type": "code",
   "execution_count": 40,
   "id": "eb16c6c2",
   "metadata": {},
   "outputs": [
    {
     "data": {
      "text/plain": [
       "count                           427620\n",
       "unique                              15\n",
       "top       Employment and further study\n",
       "freq                             28508\n",
       "Name: Activity, dtype: object"
      ]
     },
     "execution_count": 40,
     "metadata": {},
     "output_type": "execute_result"
    }
   ],
   "source": [
    "graduate_1819_df[\"Activity\"].describe()"
   ]
  },
  {
   "cell_type": "markdown",
   "id": "f1f47268",
   "metadata": {},
   "source": [
    "The data in this column has 15 unique values and the data type is object."
   ]
  },
  {
   "cell_type": "code",
   "execution_count": 41,
   "id": "2436e02f",
   "metadata": {},
   "outputs": [
    {
     "data": {
      "text/plain": [
       "array(['Employment and further study', 'Full-time employment',\n",
       "       'Full-time further study', 'Non-respondents',\n",
       "       'Other including travel, caring for someone or retired',\n",
       "       'Part-time employment', 'Part-time further study', 'Total',\n",
       "       'Total with known outcomes', 'Unemployed',\n",
       "       'Unemployed and due to start further study',\n",
       "       'Unemployed and due to start work',\n",
       "       'Unknown pattern of employment',\n",
       "       'Unknown pattern of further study', 'Voluntary or unpaid work'],\n",
       "      dtype=object)"
      ]
     },
     "execution_count": 41,
     "metadata": {},
     "output_type": "execute_result"
    }
   ],
   "source": [
    "graduate_1819_df[\"Activity\"].unique()"
   ]
  },
  {
   "cell_type": "markdown",
   "id": "52602fde",
   "metadata": {},
   "source": [
    "The values in this column relate to what the graduate goes on to do after completing their degree. For our analysis, all values here should be included so that we have a complete analysis of the higher education outcome. The values match the 2017/8 dataset."
   ]
  },
  {
   "cell_type": "markdown",
   "id": "1ec7aef0",
   "metadata": {},
   "source": [
    "**Country of provider**"
   ]
  },
  {
   "cell_type": "code",
   "execution_count": 42,
   "id": "361996d1",
   "metadata": {},
   "outputs": [
    {
     "data": {
      "text/plain": [
       "count     427620\n",
       "unique         5\n",
       "top          All\n",
       "freq      108450\n",
       "Name: Country of provider, dtype: object"
      ]
     },
     "execution_count": 42,
     "metadata": {},
     "output_type": "execute_result"
    }
   ],
   "source": [
    "graduate_1819_df[\"Country of provider\"].describe()"
   ]
  },
  {
   "cell_type": "markdown",
   "id": "f573179e",
   "metadata": {},
   "source": [
    "The data in this column has 5 unique values and the data type is object."
   ]
  },
  {
   "cell_type": "code",
   "execution_count": 43,
   "id": "7730e06a",
   "metadata": {},
   "outputs": [
    {
     "data": {
      "text/plain": [
       "array(['All', 'England', 'Northern Ireland', 'Scotland', 'Wales'],\n",
       "      dtype=object)"
      ]
     },
     "execution_count": 43,
     "metadata": {},
     "output_type": "execute_result"
    }
   ],
   "source": [
    "graduate_1819_df[\"Country of provider\"].unique()"
   ]
  },
  {
   "cell_type": "markdown",
   "id": "b83d0228",
   "metadata": {},
   "source": [
    "Data is available for graduates in the four devolved nations. However, as the secondary level data we have is only for England, we will only retain England as a value in the Country of Provide column so that we have a consistent approach. Our values match the 2017/8 dataset."
   ]
  },
  {
   "cell_type": "code",
   "execution_count": null,
   "id": "9c358405",
   "metadata": {},
   "outputs": [],
   "source": [
    "# look to remove rows with a value not equal to England"
   ]
  },
  {
   "cell_type": "markdown",
   "id": "7db699f9",
   "metadata": {},
   "source": [
    "**Domicile**"
   ]
  },
  {
   "cell_type": "code",
   "execution_count": 44,
   "id": "b8bac562",
   "metadata": {},
   "outputs": [
    {
     "data": {
      "text/plain": [
       "count     427620\n",
       "unique        11\n",
       "top       All UK\n",
       "freq       58440\n",
       "Name: Domicile, dtype: object"
      ]
     },
     "execution_count": 44,
     "metadata": {},
     "output_type": "execute_result"
    }
   ],
   "source": [
    "graduate_1819_df[\"Domicile\"].describe()"
   ]
  },
  {
   "cell_type": "markdown",
   "id": "ab906c7c",
   "metadata": {},
   "source": [
    "The data in this column has 11 unique values and the data type is object."
   ]
  },
  {
   "cell_type": "code",
   "execution_count": 45,
   "id": "476c1925",
   "metadata": {},
   "outputs": [
    {
     "data": {
      "text/plain": [
       "array(['All', 'All UK', 'All non-UK', 'England', 'Non-European Union',\n",
       "       'Northern Ireland', 'Not known', 'Other European Union',\n",
       "       'Other UK', 'Scotland', 'Wales'], dtype=object)"
      ]
     },
     "execution_count": 45,
     "metadata": {},
     "output_type": "execute_result"
    }
   ],
   "source": [
    "graduate_1819_df[\"Domicile\"].unique()"
   ]
  },
  {
   "cell_type": "markdown",
   "id": "ade66cdb",
   "metadata": {},
   "source": [
    "The Domicile is where graduates come from. Whilst an interesting metric, our project is focusing on gender in relation to education outcomes.For that reason, we will exclude the Domicile column from our analysis. It would be an interesting follow on from our project to see if domicile also has an impact. By removing the column, our data will match that for 2017/8."
   ]
  },
  {
   "cell_type": "code",
   "execution_count": 52,
   "id": "3ae39a6f",
   "metadata": {},
   "outputs": [],
   "source": [
    "# look to remove/drop domicile column"
   ]
  },
  {
   "cell_type": "markdown",
   "id": "315e20c6",
   "metadata": {},
   "source": [
    "**Provider type**"
   ]
  },
  {
   "cell_type": "code",
   "execution_count": 46,
   "id": "7a63b372",
   "metadata": {},
   "outputs": [
    {
     "data": {
      "text/plain": [
       "count     427620\n",
       "unique         3\n",
       "top          All\n",
       "freq      175620\n",
       "Name: Provider type, dtype: object"
      ]
     },
     "execution_count": 46,
     "metadata": {},
     "output_type": "execute_result"
    }
   ],
   "source": [
    "graduate_1819_df[\"Provider type\"].describe()"
   ]
  },
  {
   "cell_type": "markdown",
   "id": "afac5861",
   "metadata": {},
   "source": [
    "The data in this column has 3 unique values and the data type is object."
   ]
  },
  {
   "cell_type": "code",
   "execution_count": 48,
   "id": "7d4ca90d",
   "metadata": {},
   "outputs": [
    {
     "data": {
      "text/plain": [
       "array(['All', 'Further education colleges (FECs)',\n",
       "       'Higher education providers (HEPs)'], dtype=object)"
      ]
     },
     "execution_count": 48,
     "metadata": {},
     "output_type": "execute_result"
    }
   ],
   "source": [
    "graduate_1819_df[\"Provider type\"].unique()"
   ]
  },
  {
   "cell_type": "markdown",
   "id": "715fd4ce",
   "metadata": {},
   "source": [
    "The provider type has an 'All' category which we can exclude from our analysis. We can look at whether there are differences in the outcome for Further education college versus Higher education providers. Our data will then align with the 2017/8 dataset."
   ]
  },
  {
   "cell_type": "code",
   "execution_count": 51,
   "id": "76e399f6",
   "metadata": {},
   "outputs": [],
   "source": [
    "# look to remove rows with a value of 'All'"
   ]
  },
  {
   "cell_type": "markdown",
   "id": "f850aad3",
   "metadata": {},
   "source": [
    "**Level of qualification obtained**"
   ]
  },
  {
   "cell_type": "code",
   "execution_count": 49,
   "id": "275759a6",
   "metadata": {},
   "outputs": [
    {
     "data": {
      "text/plain": [
       "count     427620\n",
       "unique         3\n",
       "top          All\n",
       "freq      154800\n",
       "Name: Level of qualification obtained, dtype: object"
      ]
     },
     "execution_count": 49,
     "metadata": {},
     "output_type": "execute_result"
    }
   ],
   "source": [
    "graduate_1819_df[\"Level of qualification obtained\"].describe()"
   ]
  },
  {
   "cell_type": "markdown",
   "id": "02252e6f",
   "metadata": {},
   "source": [
    "The data in this column has 3 unique values and the data type is object."
   ]
  },
  {
   "cell_type": "code",
   "execution_count": 50,
   "id": "290ea564",
   "metadata": {},
   "outputs": [
    {
     "data": {
      "text/plain": [
       "array(['All', 'Postgraduate', 'Undergraduate'], dtype=object)"
      ]
     },
     "execution_count": 50,
     "metadata": {},
     "output_type": "execute_result"
    }
   ],
   "source": [
    "graduate_1819_df[\"Level of qualification obtained\"].unique()"
   ]
  },
  {
   "cell_type": "markdown",
   "id": "fb6e9266",
   "metadata": {},
   "source": [
    "The column has a value for 'All' which will combine undergraduate and postgraduate qualifications. It would be interesting to see if there is a difference in outcomes for females for UG versus PG. When we come to analyse our data we can consider whether to retain the 'All' value."
   ]
  },
  {
   "cell_type": "markdown",
   "id": "143b6515",
   "metadata": {},
   "source": [
    "**Mode of former study**"
   ]
  },
  {
   "cell_type": "code",
   "execution_count": 54,
   "id": "b22d1a77",
   "metadata": {},
   "outputs": [
    {
     "data": {
      "text/plain": [
       "count     427620\n",
       "unique         3\n",
       "top          All\n",
       "freq      148830\n",
       "Name: Mode of former study, dtype: object"
      ]
     },
     "execution_count": 54,
     "metadata": {},
     "output_type": "execute_result"
    }
   ],
   "source": [
    "graduate_1819_df[\"Mode of former study\"].describe()"
   ]
  },
  {
   "cell_type": "markdown",
   "id": "c26d2dc3",
   "metadata": {},
   "source": [
    "The data in this column has 3 unique values and the data type is object."
   ]
  },
  {
   "cell_type": "code",
   "execution_count": 55,
   "id": "5ac49101",
   "metadata": {},
   "outputs": [
    {
     "data": {
      "text/plain": [
       "array(['All', 'Full-time', 'Part-time'], dtype=object)"
      ]
     },
     "execution_count": 55,
     "metadata": {},
     "output_type": "execute_result"
    }
   ],
   "source": [
    "graduate_1819_df[\"Mode of former study\"].unique()"
   ]
  },
  {
   "cell_type": "markdown",
   "id": "fb4927af",
   "metadata": {},
   "source": [
    "This column contains information on whether graduates were studying part-time. Here I think it will be useful to retain all values initially. We might want to use all to get the general trends but can then look at full-time and part-time split by gender to see if women are more or less likely to complete after studying full-time than males. This will then match our 2017/8 dataset."
   ]
  },
  {
   "cell_type": "markdown",
   "id": "c66fe180",
   "metadata": {},
   "source": [
    "**Interim study marker**"
   ]
  },
  {
   "cell_type": "code",
   "execution_count": 56,
   "id": "6d275b45",
   "metadata": {},
   "outputs": [
    {
     "data": {
      "text/plain": [
       "count                                427620\n",
       "unique                                    2\n",
       "top       Include significant interim study\n",
       "freq                                 214305\n",
       "Name: Interim study marker, dtype: object"
      ]
     },
     "execution_count": 56,
     "metadata": {},
     "output_type": "execute_result"
    }
   ],
   "source": [
    "graduate_1819_df[\"Interim study marker\"].describe()"
   ]
  },
  {
   "cell_type": "markdown",
   "id": "178beb7c",
   "metadata": {},
   "source": [
    "The data in this column has 2 unique values and the data type is object."
   ]
  },
  {
   "cell_type": "code",
   "execution_count": 57,
   "id": "a21af998",
   "metadata": {},
   "outputs": [
    {
     "data": {
      "text/plain": [
       "array(['Exclude significant interim study',\n",
       "       'Include significant interim study'], dtype=object)"
      ]
     },
     "execution_count": 57,
     "metadata": {},
     "output_type": "execute_result"
    }
   ],
   "source": [
    "graduate_1819_df[\"Interim study marker\"].unique()"
   ]
  },
  {
   "cell_type": "markdown",
   "id": "0f9ed0ae",
   "metadata": {},
   "source": [
    "The interim study marker is not directly relevant to our analysis and the column can be removed from the dataframe. This will then match the 2017/8 dataset."
   ]
  },
  {
   "cell_type": "markdown",
   "id": "11d29629",
   "metadata": {},
   "source": [
    "**Academic year**"
   ]
  },
  {
   "cell_type": "code",
   "execution_count": 58,
   "id": "d35b4f8a",
   "metadata": {},
   "outputs": [
    {
     "data": {
      "text/plain": [
       "count      427620\n",
       "unique          1\n",
       "top       2018/19\n",
       "freq       427620\n",
       "Name: Academic year, dtype: object"
      ]
     },
     "execution_count": 58,
     "metadata": {},
     "output_type": "execute_result"
    }
   ],
   "source": [
    "graduate_1819_df[\"Academic year\"].describe()"
   ]
  },
  {
   "cell_type": "markdown",
   "id": "5dec984c",
   "metadata": {},
   "source": [
    "The data in this column has 1 unique value and the data type is object."
   ]
  },
  {
   "cell_type": "code",
   "execution_count": 59,
   "id": "7b20a4df",
   "metadata": {},
   "outputs": [
    {
     "data": {
      "text/plain": [
       "array(['2018/19'], dtype=object)"
      ]
     },
     "execution_count": 59,
     "metadata": {},
     "output_type": "execute_result"
    }
   ],
   "source": [
    "graduate_1819_df[\"Academic year\"].unique()"
   ]
  },
  {
   "cell_type": "markdown",
   "id": "f96fb2a3",
   "metadata": {},
   "source": [
    "This data set is for academic year 2018/9. We have datasets from 2017/8 and 2019/0 which we will look to combine to create a time series analysis."
   ]
  },
  {
   "cell_type": "markdown",
   "id": "269f0c16",
   "metadata": {},
   "source": [
    "## 2019/20 Dataset"
   ]
  },
  {
   "cell_type": "code",
   "execution_count": 60,
   "id": "94b93f27",
   "metadata": {},
   "outputs": [
    {
     "data": {
      "text/html": [
       "<div>\n",
       "<style scoped>\n",
       "    .dataframe tbody tr th:only-of-type {\n",
       "        vertical-align: middle;\n",
       "    }\n",
       "\n",
       "    .dataframe tbody tr th {\n",
       "        vertical-align: top;\n",
       "    }\n",
       "\n",
       "    .dataframe thead th {\n",
       "        text-align: right;\n",
       "    }\n",
       "</style>\n",
       "<table border=\"1\" class=\"dataframe\">\n",
       "  <thead>\n",
       "    <tr style=\"text-align: right;\">\n",
       "      <th></th>\n",
       "      <th>Personal characteristic category filter</th>\n",
       "      <th>Personal characteristic category</th>\n",
       "      <th>Activity</th>\n",
       "      <th>Country of provider</th>\n",
       "      <th>Domicile</th>\n",
       "      <th>Provider type</th>\n",
       "      <th>Level of qualification obtained</th>\n",
       "      <th>Mode of former study</th>\n",
       "      <th>Interim study marker</th>\n",
       "      <th>Academic year</th>\n",
       "      <th>Number</th>\n",
       "      <th>Percent</th>\n",
       "      <th>95% confidence interval</th>\n",
       "    </tr>\n",
       "  </thead>\n",
       "  <tbody>\n",
       "    <tr>\n",
       "      <th>0</th>\n",
       "      <td>Sex</td>\n",
       "      <td>Female</td>\n",
       "      <td>Employment and further study</td>\n",
       "      <td>All</td>\n",
       "      <td>All</td>\n",
       "      <td>All</td>\n",
       "      <td>All</td>\n",
       "      <td>All</td>\n",
       "      <td>Exclude significant interim study</td>\n",
       "      <td>2019/20</td>\n",
       "      <td>22545</td>\n",
       "      <td>10%</td>\n",
       "      <td>(10%-11%)</td>\n",
       "    </tr>\n",
       "    <tr>\n",
       "      <th>1</th>\n",
       "      <td>Sex</td>\n",
       "      <td>Female</td>\n",
       "      <td>Full-time employment</td>\n",
       "      <td>All</td>\n",
       "      <td>All</td>\n",
       "      <td>All</td>\n",
       "      <td>All</td>\n",
       "      <td>All</td>\n",
       "      <td>Exclude significant interim study</td>\n",
       "      <td>2019/20</td>\n",
       "      <td>123800</td>\n",
       "      <td>57%</td>\n",
       "      <td>(57%-58%)</td>\n",
       "    </tr>\n",
       "    <tr>\n",
       "      <th>2</th>\n",
       "      <td>Sex</td>\n",
       "      <td>Female</td>\n",
       "      <td>Full-time further study</td>\n",
       "      <td>All</td>\n",
       "      <td>All</td>\n",
       "      <td>All</td>\n",
       "      <td>All</td>\n",
       "      <td>All</td>\n",
       "      <td>Exclude significant interim study</td>\n",
       "      <td>2019/20</td>\n",
       "      <td>16615</td>\n",
       "      <td>8%</td>\n",
       "      <td>(7%-8%)</td>\n",
       "    </tr>\n",
       "    <tr>\n",
       "      <th>3</th>\n",
       "      <td>Sex</td>\n",
       "      <td>Female</td>\n",
       "      <td>Non-respondents</td>\n",
       "      <td>All</td>\n",
       "      <td>All</td>\n",
       "      <td>All</td>\n",
       "      <td>All</td>\n",
       "      <td>All</td>\n",
       "      <td>Exclude significant interim study</td>\n",
       "      <td>2019/20</td>\n",
       "      <td>214300</td>\n",
       "      <td>NaN</td>\n",
       "      <td>NaN</td>\n",
       "    </tr>\n",
       "    <tr>\n",
       "      <th>4</th>\n",
       "      <td>Sex</td>\n",
       "      <td>Female</td>\n",
       "      <td>Other including travel, caring for someone or ...</td>\n",
       "      <td>All</td>\n",
       "      <td>All</td>\n",
       "      <td>All</td>\n",
       "      <td>All</td>\n",
       "      <td>All</td>\n",
       "      <td>Exclude significant interim study</td>\n",
       "      <td>2019/20</td>\n",
       "      <td>10905</td>\n",
       "      <td>5%</td>\n",
       "      <td>(5%-5%)</td>\n",
       "    </tr>\n",
       "  </tbody>\n",
       "</table>\n",
       "</div>"
      ],
      "text/plain": [
       "  Personal characteristic category filter Personal characteristic category  \\\n",
       "0                                     Sex                           Female   \n",
       "1                                     Sex                           Female   \n",
       "2                                     Sex                           Female   \n",
       "3                                     Sex                           Female   \n",
       "4                                     Sex                           Female   \n",
       "\n",
       "                                            Activity Country of provider  \\\n",
       "0                       Employment and further study                 All   \n",
       "1                               Full-time employment                 All   \n",
       "2                            Full-time further study                 All   \n",
       "3                                    Non-respondents                 All   \n",
       "4  Other including travel, caring for someone or ...                 All   \n",
       "\n",
       "  Domicile Provider type Level of qualification obtained Mode of former study  \\\n",
       "0      All           All                             All                  All   \n",
       "1      All           All                             All                  All   \n",
       "2      All           All                             All                  All   \n",
       "3      All           All                             All                  All   \n",
       "4      All           All                             All                  All   \n",
       "\n",
       "                Interim study marker Academic year  Number Percent  \\\n",
       "0  Exclude significant interim study       2019/20   22545     10%   \n",
       "1  Exclude significant interim study       2019/20  123800     57%   \n",
       "2  Exclude significant interim study       2019/20   16615      8%   \n",
       "3  Exclude significant interim study       2019/20  214300     NaN   \n",
       "4  Exclude significant interim study       2019/20   10905      5%   \n",
       "\n",
       "  95% confidence interval  \n",
       "0               (10%-11%)  \n",
       "1               (57%-58%)  \n",
       "2                 (7%-8%)  \n",
       "3                     NaN  \n",
       "4                 (5%-5%)  "
      ]
     },
     "execution_count": 60,
     "metadata": {},
     "output_type": "execute_result"
    }
   ],
   "source": [
    "graduate_1920_df = pd.read_csv(\"Graduate Outcomes by activity and personal characteristics- 2019-20.csv\")\n",
    "graduate_1920_df.head()"
   ]
  },
  {
   "cell_type": "code",
   "execution_count": 61,
   "id": "8269bf48",
   "metadata": {},
   "outputs": [
    {
     "name": "stdout",
     "output_type": "stream",
     "text": [
      "<class 'pandas.core.frame.DataFrame'>\n",
      "RangeIndex: 421290 entries, 0 to 421289\n",
      "Data columns (total 13 columns):\n",
      " #   Column                                   Non-Null Count   Dtype \n",
      "---  ------                                   --------------   ----- \n",
      " 0   Personal characteristic category filter  421290 non-null  object\n",
      " 1   Personal characteristic category         421290 non-null  object\n",
      " 2   Activity                                 421290 non-null  object\n",
      " 3   Country of provider                      421290 non-null  object\n",
      " 4   Domicile                                 421290 non-null  object\n",
      " 5   Provider type                            421290 non-null  object\n",
      " 6   Level of qualification obtained          421290 non-null  object\n",
      " 7   Mode of former study                     421290 non-null  object\n",
      " 8   Interim study marker                     421290 non-null  object\n",
      " 9   Academic year                            421290 non-null  object\n",
      " 10  Number                                   421290 non-null  int64 \n",
      " 11  Percent                                  230139 non-null  object\n",
      " 12  95% confidence interval                  212436 non-null  object\n",
      "dtypes: int64(1), object(12)\n",
      "memory usage: 41.8+ MB\n"
     ]
    }
   ],
   "source": [
    "graduate_1920_df.info()"
   ]
  },
  {
   "cell_type": "markdown",
   "id": "2b267d96",
   "metadata": {},
   "source": [
    "The dataset containts 421290 rows and 13 columns. There is one column with integer data type and the remaining columns are objects."
   ]
  },
  {
   "cell_type": "code",
   "execution_count": 62,
   "id": "41aa8681",
   "metadata": {},
   "outputs": [
    {
     "data": {
      "text/html": [
       "<div>\n",
       "<style scoped>\n",
       "    .dataframe tbody tr th:only-of-type {\n",
       "        vertical-align: middle;\n",
       "    }\n",
       "\n",
       "    .dataframe tbody tr th {\n",
       "        vertical-align: top;\n",
       "    }\n",
       "\n",
       "    .dataframe thead th {\n",
       "        text-align: right;\n",
       "    }\n",
       "</style>\n",
       "<table border=\"1\" class=\"dataframe\">\n",
       "  <thead>\n",
       "    <tr style=\"text-align: right;\">\n",
       "      <th></th>\n",
       "      <th>Number</th>\n",
       "    </tr>\n",
       "  </thead>\n",
       "  <tbody>\n",
       "    <tr>\n",
       "      <th>count</th>\n",
       "      <td>421290.000000</td>\n",
       "    </tr>\n",
       "    <tr>\n",
       "      <th>mean</th>\n",
       "      <td>1944.942261</td>\n",
       "    </tr>\n",
       "    <tr>\n",
       "      <th>std</th>\n",
       "      <td>15519.048911</td>\n",
       "    </tr>\n",
       "    <tr>\n",
       "      <th>min</th>\n",
       "      <td>0.000000</td>\n",
       "    </tr>\n",
       "    <tr>\n",
       "      <th>25%</th>\n",
       "      <td>0.000000</td>\n",
       "    </tr>\n",
       "    <tr>\n",
       "      <th>50%</th>\n",
       "      <td>5.000000</td>\n",
       "    </tr>\n",
       "    <tr>\n",
       "      <th>75%</th>\n",
       "      <td>95.000000</td>\n",
       "    </tr>\n",
       "    <tr>\n",
       "      <th>max</th>\n",
       "      <td>774715.000000</td>\n",
       "    </tr>\n",
       "  </tbody>\n",
       "</table>\n",
       "</div>"
      ],
      "text/plain": [
       "              Number\n",
       "count  421290.000000\n",
       "mean     1944.942261\n",
       "std     15519.048911\n",
       "min         0.000000\n",
       "25%         0.000000\n",
       "50%         5.000000\n",
       "75%        95.000000\n",
       "max    774715.000000"
      ]
     },
     "execution_count": 62,
     "metadata": {},
     "output_type": "execute_result"
    }
   ],
   "source": [
    "graduate_1920_df.describe()"
   ]
  },
  {
   "cell_type": "markdown",
   "id": "aa737db9",
   "metadata": {},
   "source": [
    "Summary statistics for the 2019/20 graduate numbers"
   ]
  },
  {
   "cell_type": "markdown",
   "id": "baa194e5",
   "metadata": {},
   "source": [
    "**Personal characteristic category filter**"
   ]
  },
  {
   "cell_type": "code",
   "execution_count": 63,
   "id": "e1caec25",
   "metadata": {},
   "outputs": [
    {
     "data": {
      "text/plain": [
       "count        421290\n",
       "unique            5\n",
       "top       Age Group\n",
       "freq         127590\n",
       "Name: Personal characteristic category filter, dtype: object"
      ]
     },
     "execution_count": 63,
     "metadata": {},
     "output_type": "execute_result"
    }
   ],
   "source": [
    "graduate_1920_df[\"Personal characteristic category filter\"].describe()"
   ]
  },
  {
   "cell_type": "markdown",
   "id": "3cfc5807",
   "metadata": {},
   "source": [
    "The data in this column has 5 unique values and the data type is object."
   ]
  },
  {
   "cell_type": "code",
   "execution_count": 64,
   "id": "a09a1c17",
   "metadata": {},
   "outputs": [
    {
     "data": {
      "text/plain": [
       "array(['Sex', 'Ethnicity', 'Age Group', 'Disability', 'Total'],\n",
       "      dtype=object)"
      ]
     },
     "execution_count": 64,
     "metadata": {},
     "output_type": "execute_result"
    }
   ],
   "source": [
    "graduate_1920_df[\"Personal characteristic category filter\"].unique()"
   ]
  },
  {
   "cell_type": "markdown",
   "id": "c27de25d",
   "metadata": {},
   "source": [
    "Our project is focusing on gender in relation to education outcomes. For that reason, we can remove rows in the dataset which have a Personal characteristic category filter value that is not equal to sex. This matches the values for the 2017/8 and 2018/9 datasets."
   ]
  },
  {
   "cell_type": "code",
   "execution_count": null,
   "id": "f554ccde",
   "metadata": {},
   "outputs": [],
   "source": [
    "# remove rows with values not equal to sex"
   ]
  },
  {
   "cell_type": "markdown",
   "id": "94f95aa7",
   "metadata": {},
   "source": [
    "**Personal characteristic category**"
   ]
  },
  {
   "cell_type": "code",
   "execution_count": 65,
   "id": "7449ca0f",
   "metadata": {},
   "outputs": [
    {
     "data": {
      "text/plain": [
       "count                  421290\n",
       "unique                     16\n",
       "top       No known disability\n",
       "freq                    36000\n",
       "Name: Personal characteristic category, dtype: object"
      ]
     },
     "execution_count": 65,
     "metadata": {},
     "output_type": "execute_result"
    }
   ],
   "source": [
    "graduate_1920_df[\"Personal characteristic category\"].describe()"
   ]
  },
  {
   "cell_type": "markdown",
   "id": "5af0077f",
   "metadata": {},
   "source": [
    "The data in this column has 16 unique values and the data type is object."
   ]
  },
  {
   "cell_type": "code",
   "execution_count": 66,
   "id": "990cc83c",
   "metadata": {},
   "outputs": [
    {
     "data": {
      "text/plain": [
       "array(['Female', 'Male', 'Other', '20 and under', '21-24 years',\n",
       "       '25-29 years', '30 years and over', 'Known disability',\n",
       "       'No known disability', 'White', 'Black', 'Asian', 'Mixed',\n",
       "       'Not known', 'Total UK domiciled', 'Total'], dtype=object)"
      ]
     },
     "execution_count": 66,
     "metadata": {},
     "output_type": "execute_result"
    }
   ],
   "source": [
    "graduate_1920_df[\"Personal characteristic category\"].unique()"
   ]
  },
  {
   "cell_type": "markdown",
   "id": "4d01973e",
   "metadata": {},
   "source": [
    "Our project is focusing on gender, and as such, we only want to include values that relate to gender. In this dataset, we have female, male and other. Whilst the other category should be included, we will need to be aware in undertaking our analysis that for the student and secondary level data, gender information is only available for a male/female split. The values will then match the 2017/8 and 2018/9 datasets."
   ]
  },
  {
   "cell_type": "code",
   "execution_count": 67,
   "id": "60636c33",
   "metadata": {},
   "outputs": [],
   "source": [
    "# remove rows with values not equal to gender values."
   ]
  },
  {
   "cell_type": "markdown",
   "id": "10cec902",
   "metadata": {},
   "source": [
    "**Activity**"
   ]
  },
  {
   "cell_type": "code",
   "execution_count": 68,
   "id": "48843563",
   "metadata": {},
   "outputs": [
    {
     "data": {
      "text/plain": [
       "count                           421290\n",
       "unique                              15\n",
       "top       Employment and further study\n",
       "freq                             28086\n",
       "Name: Activity, dtype: object"
      ]
     },
     "execution_count": 68,
     "metadata": {},
     "output_type": "execute_result"
    }
   ],
   "source": [
    "graduate_1920_df[\"Activity\"].describe()"
   ]
  },
  {
   "cell_type": "markdown",
   "id": "72bcf510",
   "metadata": {},
   "source": [
    "The data in this column has 15 unique values and the data type is object."
   ]
  },
  {
   "cell_type": "code",
   "execution_count": 69,
   "id": "668d564f",
   "metadata": {},
   "outputs": [
    {
     "data": {
      "text/plain": [
       "array(['Employment and further study', 'Full-time employment',\n",
       "       'Full-time further study', 'Non-respondents',\n",
       "       'Other including travel, caring for someone or retired',\n",
       "       'Part-time employment', 'Part-time further study', 'Total',\n",
       "       'Total with known outcomes', 'Unemployed',\n",
       "       'Unemployed and due to start further study',\n",
       "       'Unemployed and due to start work',\n",
       "       'Unknown pattern of employment',\n",
       "       'Unknown pattern of further study', 'Voluntary or unpaid work'],\n",
       "      dtype=object)"
      ]
     },
     "execution_count": 69,
     "metadata": {},
     "output_type": "execute_result"
    }
   ],
   "source": [
    "graduate_1920_df[\"Activity\"].unique()"
   ]
  },
  {
   "cell_type": "markdown",
   "id": "09217e59",
   "metadata": {},
   "source": [
    "The values in this column relate to what the graduate goes on to do after completing their degree. For our analysis, all values here should be included so that we have a complete analysis of the higher education outcome. The values match the 2017/8 and 2018/9 datasets."
   ]
  },
  {
   "cell_type": "markdown",
   "id": "c8471970",
   "metadata": {},
   "source": [
    "**Country of provider**"
   ]
  },
  {
   "cell_type": "code",
   "execution_count": 70,
   "id": "4ab5e3db",
   "metadata": {},
   "outputs": [
    {
     "data": {
      "text/plain": [
       "count     421290\n",
       "unique         5\n",
       "top          All\n",
       "freq      104400\n",
       "Name: Country of provider, dtype: object"
      ]
     },
     "execution_count": 70,
     "metadata": {},
     "output_type": "execute_result"
    }
   ],
   "source": [
    "graduate_1920_df[\"Country of provider\"].describe()"
   ]
  },
  {
   "cell_type": "markdown",
   "id": "061b4f76",
   "metadata": {},
   "source": [
    "The data in this column has 5 unique values and the data type is object."
   ]
  },
  {
   "cell_type": "code",
   "execution_count": 71,
   "id": "5b44fd53",
   "metadata": {},
   "outputs": [
    {
     "data": {
      "text/plain": [
       "array(['All', 'England', 'Northern Ireland', 'Scotland', 'Wales'],\n",
       "      dtype=object)"
      ]
     },
     "execution_count": 71,
     "metadata": {},
     "output_type": "execute_result"
    }
   ],
   "source": [
    "graduate_1920_df[\"Country of provider\"].unique()"
   ]
  },
  {
   "cell_type": "markdown",
   "id": "856d3a45",
   "metadata": {},
   "source": [
    "Data is available for graduates in the four devolved nations. However, as the secondary level data we have is only for England, we will only retain England as a value in the Country of Provide column so that we have a consistent approach. Our values match the 2017/8 and 2018/9 datasets."
   ]
  },
  {
   "cell_type": "code",
   "execution_count": null,
   "id": "1706d990",
   "metadata": {},
   "outputs": [],
   "source": [
    "# look to remove rows where the value is not equal to England\n"
   ]
  },
  {
   "cell_type": "markdown",
   "id": "8d4f18a2",
   "metadata": {},
   "source": [
    "**Domicile**"
   ]
  },
  {
   "cell_type": "code",
   "execution_count": 72,
   "id": "93f8db72",
   "metadata": {},
   "outputs": [
    {
     "data": {
      "text/plain": [
       "count     421290\n",
       "unique        11\n",
       "top       All UK\n",
       "freq       56220\n",
       "Name: Domicile, dtype: object"
      ]
     },
     "execution_count": 72,
     "metadata": {},
     "output_type": "execute_result"
    }
   ],
   "source": [
    "graduate_1920_df[\"Domicile\"].describe()"
   ]
  },
  {
   "cell_type": "markdown",
   "id": "fc15724d",
   "metadata": {},
   "source": [
    "The data in this column has 11 unique values and the data type is object."
   ]
  },
  {
   "cell_type": "code",
   "execution_count": 73,
   "id": "3c9b932f",
   "metadata": {},
   "outputs": [
    {
     "data": {
      "text/plain": [
       "array(['All', 'All UK', 'All non-UK', 'England', 'Non-European Union',\n",
       "       'Northern Ireland', 'Not known', 'Other European Union',\n",
       "       'Other UK', 'Scotland', 'Wales'], dtype=object)"
      ]
     },
     "execution_count": 73,
     "metadata": {},
     "output_type": "execute_result"
    }
   ],
   "source": [
    "graduate_1920_df[\"Domicile\"].unique()"
   ]
  },
  {
   "cell_type": "markdown",
   "id": "d0202f0c",
   "metadata": {},
   "source": [
    "The Domicile is where graduates come from. Whilst an interesting metric, our project is focusing on gender in relation to education outcomes.For that reason, we will exclude the Domicile column from our analysis. It would be an interesting follow on from our project to see if domicile also has an impact. By removing the column, our data will match that for 2017/8 and 2018/9."
   ]
  },
  {
   "cell_type": "code",
   "execution_count": 74,
   "id": "ec7cf3f8",
   "metadata": {},
   "outputs": [],
   "source": [
    "# look to remove/drop domicile column"
   ]
  },
  {
   "cell_type": "markdown",
   "id": "ec8a131e",
   "metadata": {},
   "source": [
    "**Provider type**"
   ]
  },
  {
   "cell_type": "code",
   "execution_count": 75,
   "id": "9bee3c72",
   "metadata": {},
   "outputs": [
    {
     "data": {
      "text/plain": [
       "count     421290\n",
       "unique         3\n",
       "top          All\n",
       "freq      171810\n",
       "Name: Provider type, dtype: object"
      ]
     },
     "execution_count": 75,
     "metadata": {},
     "output_type": "execute_result"
    }
   ],
   "source": [
    "graduate_1920_df[\"Provider type\"].describe()"
   ]
  },
  {
   "cell_type": "markdown",
   "id": "a4cb1c12",
   "metadata": {},
   "source": [
    "The data in this column has 3 unique values and the data type is object."
   ]
  },
  {
   "cell_type": "code",
   "execution_count": 76,
   "id": "9ae8734f",
   "metadata": {},
   "outputs": [
    {
     "data": {
      "text/plain": [
       "array(['All', 'Further education colleges (FECs)',\n",
       "       'Higher education providers (HEPs)'], dtype=object)"
      ]
     },
     "execution_count": 76,
     "metadata": {},
     "output_type": "execute_result"
    }
   ],
   "source": [
    "graduate_1920_df[\"Provider type\"].unique()"
   ]
  },
  {
   "cell_type": "markdown",
   "id": "6869ad17",
   "metadata": {},
   "source": [
    "The provider type has an 'All' category which we can exclude from our analysis. We can look at whether there are differences in the outcome for Further education college versus Higher education providers. Our data will then align with the 2017/8 and 2018/9 datasets."
   ]
  },
  {
   "cell_type": "code",
   "execution_count": 77,
   "id": "f8bb0a28",
   "metadata": {},
   "outputs": [],
   "source": [
    "# look to remove rows with a value of 'All'"
   ]
  },
  {
   "cell_type": "markdown",
   "id": "bb9d9d1d",
   "metadata": {},
   "source": [
    "**Level of qualification obtained**"
   ]
  },
  {
   "cell_type": "code",
   "execution_count": 78,
   "id": "a3d48e87",
   "metadata": {},
   "outputs": [
    {
     "data": {
      "text/plain": [
       "count     421290\n",
       "unique         3\n",
       "top          All\n",
       "freq      150840\n",
       "Name: Level of qualification obtained, dtype: object"
      ]
     },
     "execution_count": 78,
     "metadata": {},
     "output_type": "execute_result"
    }
   ],
   "source": [
    "graduate_1920_df[\"Level of qualification obtained\"].describe()"
   ]
  },
  {
   "cell_type": "markdown",
   "id": "f9d20150",
   "metadata": {},
   "source": [
    "The data in this column has 3 unique values and the data type is object."
   ]
  },
  {
   "cell_type": "code",
   "execution_count": 79,
   "id": "24c4ed92",
   "metadata": {},
   "outputs": [
    {
     "data": {
      "text/plain": [
       "array(['All', 'Postgraduate', 'Undergraduate'], dtype=object)"
      ]
     },
     "execution_count": 79,
     "metadata": {},
     "output_type": "execute_result"
    }
   ],
   "source": [
    "graduate_1920_df[\"Level of qualification obtained\"].unique()"
   ]
  },
  {
   "cell_type": "markdown",
   "id": "4958206e",
   "metadata": {},
   "source": [
    "The column has a value for 'All' which will combine undergraduate and postgraduate qualifications. It would be interesting to see if there is a difference in outcomes for females for UG versus PG. When we come to analyse our data we can consider whether to retain the 'All' value. The dataset matches the 2017/8 and 2018/9 datasets."
   ]
  },
  {
   "cell_type": "markdown",
   "id": "369a99dc",
   "metadata": {},
   "source": [
    "**Mode of former study**"
   ]
  },
  {
   "cell_type": "code",
   "execution_count": 80,
   "id": "0e0cb466",
   "metadata": {},
   "outputs": [
    {
     "data": {
      "text/plain": [
       "count     421290\n",
       "unique         3\n",
       "top          All\n",
       "freq      146820\n",
       "Name: Mode of former study, dtype: object"
      ]
     },
     "execution_count": 80,
     "metadata": {},
     "output_type": "execute_result"
    }
   ],
   "source": [
    "graduate_1920_df[\"Mode of former study\"].describe()"
   ]
  },
  {
   "cell_type": "markdown",
   "id": "820553a5",
   "metadata": {},
   "source": [
    "The data in this column has 3 unique values and the data type is object."
   ]
  },
  {
   "cell_type": "code",
   "execution_count": 81,
   "id": "735a6b5d",
   "metadata": {},
   "outputs": [
    {
     "data": {
      "text/plain": [
       "array(['All', 'Full-time', 'Part-time'], dtype=object)"
      ]
     },
     "execution_count": 81,
     "metadata": {},
     "output_type": "execute_result"
    }
   ],
   "source": [
    "graduate_1920_df[\"Mode of former study\"].unique()"
   ]
  },
  {
   "cell_type": "markdown",
   "id": "fdae2587",
   "metadata": {},
   "source": [
    "This column contains information on whether graduates were studying full or part-time. Here I think it will be useful to retain all values initially. We might want to use all to get the general trends but can then look at full-time and part-time split by gender to see if women are more or less likely to complete after studying full-time than males."
   ]
  },
  {
   "cell_type": "markdown",
   "id": "300b0ad4",
   "metadata": {},
   "source": [
    "**Interim study marker**"
   ]
  },
  {
   "cell_type": "code",
   "execution_count": 82,
   "id": "46d926a6",
   "metadata": {},
   "outputs": [
    {
     "data": {
      "text/plain": [
       "count                                421290\n",
       "unique                                    2\n",
       "top       Include significant interim study\n",
       "freq                                 211065\n",
       "Name: Interim study marker, dtype: object"
      ]
     },
     "execution_count": 82,
     "metadata": {},
     "output_type": "execute_result"
    }
   ],
   "source": [
    "graduate_1920_df[\"Interim study marker\"].describe()"
   ]
  },
  {
   "cell_type": "markdown",
   "id": "633b5933",
   "metadata": {},
   "source": [
    "The data in this column has 2 unique values and the data type is object."
   ]
  },
  {
   "cell_type": "code",
   "execution_count": 83,
   "id": "90397130",
   "metadata": {},
   "outputs": [
    {
     "data": {
      "text/plain": [
       "array(['Exclude significant interim study',\n",
       "       'Include significant interim study'], dtype=object)"
      ]
     },
     "execution_count": 83,
     "metadata": {},
     "output_type": "execute_result"
    }
   ],
   "source": [
    "graduate_1920_df[\"Interim study marker\"].unique()"
   ]
  },
  {
   "cell_type": "markdown",
   "id": "bd4d5ede",
   "metadata": {},
   "source": [
    "The interim study marker is not directly relevant to our analysis and the column can be removed from the dataframe. This will then match the 2017/8 and 2018/9 datasets."
   ]
  },
  {
   "cell_type": "markdown",
   "id": "83eed9c9",
   "metadata": {},
   "source": [
    "**Academic year**"
   ]
  },
  {
   "cell_type": "code",
   "execution_count": 84,
   "id": "3f486852",
   "metadata": {},
   "outputs": [
    {
     "data": {
      "text/plain": [
       "count      421290\n",
       "unique          1\n",
       "top       2019/20\n",
       "freq       421290\n",
       "Name: Academic year, dtype: object"
      ]
     },
     "execution_count": 84,
     "metadata": {},
     "output_type": "execute_result"
    }
   ],
   "source": [
    "graduate_1920_df[\"Academic year\"].describe()"
   ]
  },
  {
   "cell_type": "markdown",
   "id": "279d9e83",
   "metadata": {},
   "source": [
    "The data in this column has 1 unique value and the data type is object."
   ]
  },
  {
   "cell_type": "code",
   "execution_count": 85,
   "id": "22942c10",
   "metadata": {},
   "outputs": [
    {
     "data": {
      "text/plain": [
       "array(['2019/20'], dtype=object)"
      ]
     },
     "execution_count": 85,
     "metadata": {},
     "output_type": "execute_result"
    }
   ],
   "source": [
    "graduate_1920_df[\"Academic year\"].unique()"
   ]
  },
  {
   "cell_type": "markdown",
   "id": "eba17736",
   "metadata": {},
   "source": [
    "This data set is for academic year 2019/20. We have datasets from 2017/8 and 2018/9 which we will look to combine to create a time series analysis."
   ]
  },
  {
   "cell_type": "markdown",
   "id": "ee350110",
   "metadata": {},
   "source": [
    "**Summary**\n",
    "\n",
    "The datasets are consistent with each other in terms of the columns and values recorded and therefore are appropriate to combine in one large dataset. We will look to combine the datasets in MySQL before performing the noted deletions."
   ]
  },
  {
   "cell_type": "code",
   "execution_count": null,
   "id": "12c1cf28",
   "metadata": {},
   "outputs": [],
   "source": []
  }
 ],
 "metadata": {
  "kernelspec": {
   "display_name": "Python 3 (ipykernel)",
   "language": "python",
   "name": "python3"
  },
  "language_info": {
   "codemirror_mode": {
    "name": "ipython",
    "version": 3
   },
   "file_extension": ".py",
   "mimetype": "text/x-python",
   "name": "python",
   "nbconvert_exporter": "python",
   "pygments_lexer": "ipython3",
   "version": "3.9.12"
  }
 },
 "nbformat": 4,
 "nbformat_minor": 5
}
