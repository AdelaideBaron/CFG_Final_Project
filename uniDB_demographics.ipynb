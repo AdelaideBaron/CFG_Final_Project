{
 "cells": [
  {
   "cell_type": "markdown",
   "source": [
    "Throughout I will be using an API, unidbapi, to assess demographics of universities in the UK to analyse the gender split across students. The API only returns female or male, so I can only analyse that here."
   ],
   "metadata": {
    "collapsed": false,
    "pycharm": {
     "name": "#%% md\n"
    }
   }
  },
  {
   "cell_type": "markdown",
   "source": [
    "### unidbapi endpoints:\n",
    "Initially, we will be focussing on the following two endpoints:\n",
    "- University demographics\n",
    "    - https://unidbapi.com/api/university/read_demographics?u={university name}&key={API key}\n",
    "    - https://unidbapi.com/api/university/read_demographics?u={university name}&key=56d0b15602\n",
    "- Degree demographics\n",
    "    - https://unidbapi.com/api/degree/read_demographics?d={degree}&key={API key}\n",
    "    - https://unidbapi.com/api/degree/read_demographics?d={degree}&key=56d0b15602"
   ],
   "metadata": {
    "collapsed": false,
    "pycharm": {
     "name": "#%% md\n"
    }
   }
  },
  {
   "cell_type": "markdown",
   "source": [
    "The documentation doesn't have a list of all of the universities, or degrees, within the API. So, we will create a list of universities and degrees, and test these in the API to see if they bring back anything but invalid request."
   ],
   "metadata": {
    "collapsed": false,
    "pycharm": {
     "name": "#%% md\n"
    }
   }
  },
  {
   "cell_type": "code",
   "execution_count": 52,
   "outputs": [],
   "source": [
    "f = open(\"uniDB_api.txt\", \"r\")"
   ],
   "metadata": {
    "collapsed": false,
    "pycharm": {
     "name": "#%%\n"
    }
   }
  },
  {
   "cell_type": "code",
   "execution_count": 53,
   "outputs": [],
   "source": [
    "api_key = f.readline()"
   ],
   "metadata": {
    "collapsed": false,
    "pycharm": {
     "name": "#%%\n"
    }
   }
  },
  {
   "cell_type": "markdown",
   "source": [
    "### degrees"
   ],
   "metadata": {
    "collapsed": false,
    "pycharm": {
     "name": "#%% md\n"
    }
   }
  },
  {
   "cell_type": "code",
   "execution_count": 45,
   "outputs": [],
   "source": [
    "import requests\n",
    "import json\n",
    "from pprint import pprint as pp\n",
    "import numpy as np"
   ],
   "metadata": {
    "collapsed": false,
    "pycharm": {
     "name": "#%%\n"
    }
   }
  },
  {
   "cell_type": "markdown",
   "source": [
    "I have manually created a list of degrees from: https://www.britishuni.com/subject-guide/subject-list"
   ],
   "metadata": {
    "collapsed": false,
    "pycharm": {
     "name": "#%% md\n"
    }
   }
  },
  {
   "cell_type": "code",
   "execution_count": 26,
   "outputs": [],
   "source": [
    "degrees = ['Archaeology', 'Architecture', 'Art', 'Business', 'Chemistry', 'Engineering', 'History', 'Computer Science',\n",
    "           'Creative Writing', 'Criminology', 'Dentistry', 'Drama', 'Dance', 'Economics', 'Education', 'Electrical Engineering',\n",
    "           'Biology', 'Mathematics', 'English', 'French'] # to be completed, https://www.britishuni.com/subject-guide/subject-list\n",
    "\n",
    "valid_degrees = []"
   ],
   "metadata": {
    "collapsed": false,
    "pycharm": {
     "name": "#%%\n"
    }
   }
  },
  {
   "cell_type": "markdown",
   "source": [
    "Create functions to assist with extraction:"
   ],
   "metadata": {
    "collapsed": false,
    "pycharm": {
     "name": "#%% md\n"
    }
   }
  },
  {
   "cell_type": "code",
   "execution_count": 27,
   "outputs": [],
   "source": [
    "def degree_endpoint(degree):\n",
    "    endpoint = \"https://unidbapi.com/api/degree/read_demographics?d={}&key={}\".format(degree, api_key)\n",
    "    return endpoint"
   ],
   "metadata": {
    "collapsed": false,
    "pycharm": {
     "name": "#%%\n"
    }
   }
  },
  {
   "cell_type": "code",
   "execution_count": 38,
   "outputs": [],
   "source": [
    "for degree in degrees:\n",
    "    response = requests.get(degree_endpoint(degree))\n",
    "    if json.dumps(response.json()) != \"{\\\"error\\\": \\\"Invalid Query\\\"}\":\n",
    "        valid_degrees.append(degree)"
   ],
   "metadata": {
    "collapsed": false,
    "pycharm": {
     "name": "#%%\n"
    }
   }
  },
  {
   "cell_type": "markdown",
   "source": [
    "Create the list of valid degrees"
   ],
   "metadata": {
    "collapsed": false,
    "pycharm": {
     "name": "#%% md\n"
    }
   }
  },
  {
   "cell_type": "code",
   "execution_count": 29,
   "outputs": [
    {
     "name": "stdout",
     "output_type": "stream",
     "text": [
      "[{'degree': 'Architecture',\n",
      "  'female_grads': '6700',\n",
      "  'male_grads': '11010',\n",
      "  'year': '2014'},\n",
      " {'degree': 'Architecture',\n",
      "  'female_grads': '6975',\n",
      "  'male_grads': '10790',\n",
      "  'year': '2015'},\n",
      " {'degree': 'Architecture',\n",
      "  'female_grads': '7270',\n",
      "  'male_grads': '10905',\n",
      "  'year': '2016'},\n",
      " {'degree': 'Architecture',\n",
      "  'female_grads': '7810',\n",
      "  'male_grads': '11380',\n",
      "  'year': '2017'},\n",
      " {'degree': 'Architecture',\n",
      "  'female_grads': '8170',\n",
      "  'male_grads': '11255',\n",
      "  'year': '2018'}]\n",
      "[{'degree': 'History',\n",
      "  'female_grads': '13450',\n",
      "  'male_grads': '11925',\n",
      "  'year': '2014'},\n",
      " {'degree': 'History',\n",
      "  'female_grads': '13855',\n",
      "  'male_grads': '12145',\n",
      "  'year': '2015'},\n",
      " {'degree': 'History',\n",
      "  'female_grads': '14260',\n",
      "  'male_grads': '12420',\n",
      "  'year': '2016'},\n",
      " {'degree': 'History',\n",
      "  'female_grads': '14525',\n",
      "  'male_grads': '12275',\n",
      "  'year': '2017'},\n",
      " {'degree': 'History',\n",
      "  'female_grads': '14660',\n",
      "  'male_grads': '12175',\n",
      "  'year': '2018'}]\n",
      "[{'degree': 'Computer Science',\n",
      "  'female_grads': '5165',\n",
      "  'male_grads': '21600',\n",
      "  'year': '2014'},\n",
      " {'degree': 'Computer Science',\n",
      "  'female_grads': '5160',\n",
      "  'male_grads': '21245',\n",
      "  'year': '2015'},\n",
      " {'degree': 'Computer Science',\n",
      "  'female_grads': '5265',\n",
      "  'male_grads': '22545',\n",
      "  'year': '2016'},\n",
      " {'degree': 'Computer Science',\n",
      "  'female_grads': '5705',\n",
      "  'male_grads': '24200',\n",
      "  'year': '2017'},\n",
      " {'degree': 'Computer Science',\n",
      "  'female_grads': '6345',\n",
      "  'male_grads': '25425',\n",
      "  'year': '2018'}]\n",
      "[{'degree': 'Biology',\n",
      "  'female_grads': '37125',\n",
      "  'male_grads': '23200',\n",
      "  'year': '2014'},\n",
      " {'degree': 'Biology',\n",
      "  'female_grads': '38410',\n",
      "  'male_grads': '24490',\n",
      "  'year': '2015'},\n",
      " {'degree': 'Biology',\n",
      "  'female_grads': '40665',\n",
      "  'male_grads': '25165',\n",
      "  'year': '2016'},\n",
      " {'degree': 'Biology',\n",
      "  'female_grads': '44905',\n",
      "  'male_grads': '25830',\n",
      "  'year': '2017'},\n",
      " {'degree': 'Biology',\n",
      "  'female_grads': '47580',\n",
      "  'male_grads': '25740',\n",
      "  'year': '2018'}]\n",
      "[{'degree': 'Mathematics',\n",
      "  'female_grads': '4695',\n",
      "  'male_grads': '7200',\n",
      "  'year': '2014'},\n",
      " {'degree': 'Mathematics',\n",
      "  'female_grads': '4770',\n",
      "  'male_grads': '7445',\n",
      "  'year': '2015'},\n",
      " {'degree': 'Mathematics',\n",
      "  'female_grads': '5015',\n",
      "  'male_grads': '7810',\n",
      "  'year': '2016'},\n",
      " {'degree': 'Mathematics',\n",
      "  'female_grads': '5095',\n",
      "  'male_grads': '7980',\n",
      "  'year': '2017'},\n",
      " {'degree': 'Mathematics',\n",
      "  'female_grads': '5045',\n",
      "  'male_grads': '8200',\n",
      "  'year': '2018'}]\n"
     ]
    }
   ],
   "source": [
    "for degree in valid_degrees:\n",
    "    endpoint = degree_endpoint(degree)\n",
    "\n",
    "    response = requests.get(endpoint)\n",
    "    pp(response.json())"
   ],
   "metadata": {
    "collapsed": false,
    "pycharm": {
     "name": "#%%\n"
    }
   }
  },
  {
   "cell_type": "markdown",
   "source": [
    "### Universities"
   ],
   "metadata": {
    "collapsed": false,
    "pycharm": {
     "name": "#%% md\n"
    }
   }
  },
  {
   "cell_type": "markdown",
   "source": [
    "I have manually created a list of UK universities by extracting the names from an online list: https://www.university-list.net/uk/universities-1000.html"
   ],
   "metadata": {
    "collapsed": false,
    "pycharm": {
     "name": "#%% md\n"
    }
   }
  },
  {
   "cell_type": "code",
   "execution_count": 30,
   "outputs": [],
   "source": [
    "unis = ['The University of Aberdeen', 'University of Abertay Dundee', 'Aberystwyth: United Theological College and College of Welsh Independents', 'The University of Wales', 'Anglia Polytechnic University', 'Askham Bryan College', 'Aston University', 'Aylesbury College', 'University of Wales, Bangor', 'Barking and Dagenham College', 'Barnsley College', 'Basingstoke College of Technology', 'University of Bath', 'Bath Spa University College', 'The University of Birmingham', 'Birmingham College of Food, Tourism and Creative Studies', 'Bishop Burton College', 'Bishop Grosseteste College', 'Blackburn College' ]#, need to fill more out using https://www.university-list.net/uk/universities-1000.html\n",
    "valid_unis = []\n",
    "invalid_unis = []"
   ],
   "metadata": {
    "collapsed": false,
    "pycharm": {
     "name": "#%%\n"
    }
   }
  },
  {
   "cell_type": "markdown",
   "source": [
    "see which of the above are valid for the API"
   ],
   "metadata": {
    "collapsed": false,
    "pycharm": {
     "name": "#%% md\n"
    }
   }
  },
  {
   "cell_type": "code",
   "execution_count": 39,
   "outputs": [],
   "source": [
    "def uni_endpoint(uni):\n",
    "    endpoint = \"https://unidbapi.com/api/university/read_demographics?u={}&key=cfd3d28159\".format(uni)\n",
    "    return endpoint"
   ],
   "metadata": {
    "collapsed": false,
    "pycharm": {
     "name": "#%%\n"
    }
   }
  },
  {
   "cell_type": "code",
   "execution_count": 40,
   "outputs": [],
   "source": [
    "for uni in unis:\n",
    "    endpoint = uni_endpoint(uni)\n",
    "    response = requests.get(endpoint)\n",
    "    if json.dumps(response.json()) != \"{\\\"error\\\": \\\"Invalid Query\\\"}\":\n",
    "        valid_unis.append(uni)\n",
    "    else:\n",
    "        invalid_unis.append(uni)"
   ],
   "metadata": {
    "collapsed": false,
    "pycharm": {
     "name": "#%%\n"
    }
   }
  },
  {
   "cell_type": "markdown",
   "source": [
    "sometimes universities are referenced with 'The' infront of the name. So, to ensure we check as many as possible, I will also check with a 'the' infront:"
   ],
   "metadata": {
    "collapsed": false,
    "pycharm": {
     "name": "#%% md\n"
    }
   }
  },
  {
   "cell_type": "code",
   "execution_count": 32,
   "outputs": [],
   "source": [
    "for unis in invalid_unis:\n",
    "    try_the = 'The ' + uni\n",
    "    endpoint = \"https://unidbapi.com/api/university/read_demographics?u={}&key={}\".format(try_the, api_key)\n",
    "    response = requests.get(endpoint)\n",
    "    if json.dumps(response.json()) != \"{\\\"error\\\": \\\"Invalid Query\\\"}\":\n",
    "        valid_unis.append(uni)"
   ],
   "metadata": {
    "collapsed": false,
    "pycharm": {
     "name": "#%%\n"
    }
   }
  },
  {
   "cell_type": "markdown",
   "source": [
    "Print the valid universities for assurance:"
   ],
   "metadata": {
    "collapsed": false,
    "pycharm": {
     "name": "#%% md\n"
    }
   }
  },
  {
   "cell_type": "code",
   "execution_count": 33,
   "outputs": [
    {
     "name": "stdout",
     "output_type": "stream",
     "text": [
      "The University of Aberdeen\n",
      "University of Abertay Dundee\n",
      "Aberystwyth: United Theological College and College of Welsh Independents\n",
      "The University of Wales\n",
      "Anglia Polytechnic University\n",
      "Askham Bryan College\n",
      "Aston University\n",
      "Aylesbury College\n",
      "University of Wales, Bangor\n",
      "Barking and Dagenham College\n",
      "Barnsley College\n",
      "Basingstoke College of Technology\n",
      "University of Bath\n",
      "Bath Spa University College\n",
      "The University of Birmingham\n",
      "Birmingham College of Food, Tourism and Creative Studies\n",
      "Bishop Burton College\n",
      "Bishop Grosseteste College\n",
      "Blackburn College\n"
     ]
    }
   ],
   "source": [
    "for unis in valid_unis:\n",
    "    print(unis)"
   ],
   "metadata": {
    "collapsed": false,
    "pycharm": {
     "name": "#%%\n"
    }
   }
  },
  {
   "cell_type": "markdown",
   "source": [
    "Now that we have a list of degrees and universities that are in the API's 'system', we can begin reading the API for data.\n",
    "\n",
    "The degrees end point returns the following, multiple times (e.g. 4x, presumably for each university record that matches this degree? :\n",
    "- \"degree\": {degree as a string},\n",
    "- \"male_grads\": \"number as a string\",\n",
    "- \"female_grads\": \"number as a string\",\n",
    "- \"year\": {as a string}\n",
    "\n",
    "And the university endpoint returns the following once:\n",
    "- \"name\": \"Anglia Ruskin University\",\n",
    "- \"male_grads\": \"36\",\n",
    "- \"female_grads\": \"64\",\n",
    "- \"male_staff\": \"60\",\n",
    "- \"female_staff\": \"40\",\n",
    "- \"year\": \"2020\""
   ],
   "metadata": {
    "collapsed": false,
    "pycharm": {
     "name": "#%% md\n"
    }
   }
  },
  {
   "cell_type": "markdown",
   "source": [
    "# Practise atm - needs looping & editing\n",
    "Lets try getting parts of the response:"
   ],
   "metadata": {
    "collapsed": false,
    "pycharm": {
     "name": "#%% md\n"
    }
   }
  },
  {
   "cell_type": "markdown",
   "source": [
    "Degree"
   ],
   "metadata": {
    "collapsed": false,
    "pycharm": {
     "name": "#%% md\n"
    }
   }
  },
  {
   "cell_type": "markdown",
   "source": [],
   "metadata": {
    "collapsed": false,
    "pycharm": {
     "name": "#%% md\n"
    }
   }
  },
  {
   "cell_type": "code",
   "execution_count": null,
   "outputs": [],
   "source": [
    "def ratio_female_to_male(males, females):\n",
    "    ratio = females / males\n",
    "    return ratio"
   ],
   "metadata": {
    "collapsed": false,
    "pycharm": {
     "name": "#%%\n"
    }
   }
  },
  {
   "cell_type": "code",
   "execution_count": 51,
   "outputs": [],
   "source": [
    "degree_average_ratio = {}"
   ],
   "metadata": {
    "collapsed": false,
    "pycharm": {
     "name": "#%%\n"
    }
   }
  },
  {
   "cell_type": "code",
   "execution_count": null,
   "outputs": [],
   "source": [
    "for degree in valid_degrees:\n",
    "    endpoint = degree_endpoint(degree)\n",
    "    lists = requests.get(endpoint).json()\n",
    "\n",
    "    amount_of_data = len(lists)\n",
    "\n",
    "    ratios_for_this_degree = []\n",
    "\n",
    "    i = 0\n",
    "    while i < amount_of_data:\n",
    "        data = lists[i]\n",
    "        ratio = ratio_female_to_male(data['male_grads'], data['female_grads'])\n",
    "        ratios_for_this_degree.append(ratio)\n",
    "        i += 1\n",
    "\n",
    "    arr = np.array(ratios_for_this_degree)\n",
    "    degree_average = np.average(arr)\n",
    "    degree_average_ratio.update({degree : degree_average})"
   ],
   "metadata": {
    "collapsed": false,
    "pycharm": {
     "name": "#%%\n"
    }
   }
  },
  {
   "cell_type": "markdown",
   "source": [
    "Now we have a dictionary of female to male ratios per course, lets plot the degrees against their ratio to perform some analysis"
   ],
   "metadata": {
    "collapsed": false,
    "pycharm": {
     "name": "#%% md\n"
    }
   }
  },
  {
   "cell_type": "markdown",
   "source": [],
   "metadata": {
    "collapsed": false,
    "pycharm": {
     "name": "#%% md\n"
    }
   },
   "outputs": []
  },
  {
   "cell_type": "markdown",
   "source": [
    "### University"
   ],
   "metadata": {
    "collapsed": false,
    "pycharm": {
     "name": "#%% md\n"
    }
   }
  },
  {
   "cell_type": "code",
   "execution_count": 36,
   "outputs": [
    {
     "name": "stdout",
     "output_type": "stream",
     "text": [
      "{'name': 'Anglia Ruskin University', 'male_grads': '36', 'female_grads': '64', 'male_staff': '60', 'female_staff': '40', 'year': '2020'}\n"
     ]
    }
   ],
   "source": [
    "endpoint = \"https://unidbapi.com/api/university/read_demographics?u=Anglia%20Ruskin%20University&key={}\".format(api_key)\n",
    "# response = requests.get(endpoint)\n",
    "data = requests.get(endpoint).json()\n",
    "print(data)"
   ],
   "metadata": {
    "collapsed": false,
    "pycharm": {
     "name": "#%%\n"
    }
   }
  },
  {
   "cell_type": "code",
   "execution_count": 37,
   "outputs": [
    {
     "data": {
      "text/plain": "'Anglia Ruskin University'"
     },
     "execution_count": 37,
     "metadata": {},
     "output_type": "execute_result"
    }
   ],
   "source": [
    "data['name']"
   ],
   "metadata": {
    "collapsed": false,
    "pycharm": {
     "name": "#%%\n"
    }
   }
  },
  {
   "cell_type": "markdown",
   "source": [
    "all university demographic responses have 6 responses, so I will extract the third anf fifth elements (female_grads = index 2, and female_staff = index 4).\n",
    "Although we are assessing education, as there is the data available for percentage of staff that are female, I will perform the same analysis to see if there is any correlation."
   ],
   "metadata": {
    "collapsed": false,
    "pycharm": {
     "name": "#%% md\n"
    }
   }
  },
  {
   "cell_type": "code",
   "execution_count": 42,
   "outputs": [],
   "source": [
    "female_grad_percentage_per_uni = []\n",
    "female_staff_percentage_per_uni = []"
   ],
   "metadata": {
    "collapsed": false,
    "pycharm": {
     "name": "#%%\n"
    }
   }
  },
  {
   "cell_type": "code",
   "execution_count": null,
   "outputs": [],
   "source": [
    "for university in valid_unis:\n",
    "    endpoint = uni_endpoint(university)\n",
    "    data = requests.get(endpoint).json()\n"
   ],
   "metadata": {
    "collapsed": false,
    "pycharm": {
     "name": "#%%\n"
    }
   }
  },
  {
   "cell_type": "code",
   "execution_count": 37,
   "outputs": [],
   "source": [],
   "metadata": {
    "collapsed": false,
    "pycharm": {
     "name": "#%%\n"
    }
   }
  }
 ],
 "metadata": {
  "kernelspec": {
   "display_name": "Python 3",
   "language": "python",
   "name": "python3"
  },
  "language_info": {
   "codemirror_mode": {
    "name": "ipython",
    "version": 2
   },
   "file_extension": ".py",
   "mimetype": "text/x-python",
   "name": "python",
   "nbconvert_exporter": "python",
   "pygments_lexer": "ipython2",
   "version": "2.7.6"
  }
 },
 "nbformat": 4,
 "nbformat_minor": 0
}