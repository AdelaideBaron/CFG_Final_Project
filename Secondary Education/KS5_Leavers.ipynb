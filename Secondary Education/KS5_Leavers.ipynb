{
 "cells": [
  {
   "cell_type": "code",
   "execution_count": 1,
   "metadata": {},
   "outputs": [],
   "source": [
    "import pandas as pd"
   ]
  },
  {
   "cell_type": "code",
   "execution_count": 2,
   "metadata": {},
   "outputs": [
    {
     "data": {
      "text/html": [
       "<div>\n",
       "<style scoped>\n",
       "    .dataframe tbody tr th:only-of-type {\n",
       "        vertical-align: middle;\n",
       "    }\n",
       "\n",
       "    .dataframe tbody tr th {\n",
       "        vertical-align: top;\n",
       "    }\n",
       "\n",
       "    .dataframe thead th {\n",
       "        text-align: right;\n",
       "    }\n",
       "</style>\n",
       "<table border=\"1\" class=\"dataframe\">\n",
       "  <thead>\n",
       "    <tr style=\"text-align: right;\">\n",
       "      <th></th>\n",
       "      <th>time_period</th>\n",
       "      <th>time_identifier</th>\n",
       "      <th>geographic_level</th>\n",
       "      <th>country_code</th>\n",
       "      <th>country_name</th>\n",
       "      <th>institution_group</th>\n",
       "      <th>institution_type</th>\n",
       "      <th>cohort_level_group</th>\n",
       "      <th>cohort_level</th>\n",
       "      <th>characteristic_group</th>\n",
       "      <th>...</th>\n",
       "      <th>appl3</th>\n",
       "      <th>appl2</th>\n",
       "      <th>all_work</th>\n",
       "      <th>all_notsust</th>\n",
       "      <th>notsust</th>\n",
       "      <th>notsust_ben</th>\n",
       "      <th>only_ben</th>\n",
       "      <th>all_unknown</th>\n",
       "      <th>unknown_id</th>\n",
       "      <th>unknown</th>\n",
       "    </tr>\n",
       "  </thead>\n",
       "  <tbody>\n",
       "    <tr>\n",
       "      <th>0</th>\n",
       "      <td>201011</td>\n",
       "      <td>Academic year</td>\n",
       "      <td>National</td>\n",
       "      <td>E92000001</td>\n",
       "      <td>England</td>\n",
       "      <td>State-funded mainstream schools</td>\n",
       "      <td>Total</td>\n",
       "      <td>Level 3</td>\n",
       "      <td>Level 3 approved</td>\n",
       "      <td>Ethnicity Minor</td>\n",
       "      <td>...</td>\n",
       "      <td>1585</td>\n",
       "      <td>2521</td>\n",
       "      <td>27736.0</td>\n",
       "      <td>10212</td>\n",
       "      <td>4386</td>\n",
       "      <td>4414</td>\n",
       "      <td>1412</td>\n",
       "      <td>2462</td>\n",
       "      <td>2025</td>\n",
       "      <td>437</td>\n",
       "    </tr>\n",
       "    <tr>\n",
       "      <th>1</th>\n",
       "      <td>201011</td>\n",
       "      <td>Academic year</td>\n",
       "      <td>National</td>\n",
       "      <td>E92000001</td>\n",
       "      <td>England</td>\n",
       "      <td>State-funded mainstream schools</td>\n",
       "      <td>Total</td>\n",
       "      <td>Level 3</td>\n",
       "      <td>Level 3 approved</td>\n",
       "      <td>Ethnicity Minor</td>\n",
       "      <td>...</td>\n",
       "      <td>6</td>\n",
       "      <td>16</td>\n",
       "      <td>226.0</td>\n",
       "      <td>189</td>\n",
       "      <td>94</td>\n",
       "      <td>50</td>\n",
       "      <td>45</td>\n",
       "      <td>140</td>\n",
       "      <td>119</td>\n",
       "      <td>21</td>\n",
       "    </tr>\n",
       "    <tr>\n",
       "      <th>2</th>\n",
       "      <td>201011</td>\n",
       "      <td>Academic year</td>\n",
       "      <td>National</td>\n",
       "      <td>E92000001</td>\n",
       "      <td>England</td>\n",
       "      <td>State-funded mainstream schools &amp; colleges</td>\n",
       "      <td>Total</td>\n",
       "      <td>Level 3</td>\n",
       "      <td>Level 3 approved</td>\n",
       "      <td>Ethnicity Minor</td>\n",
       "      <td>...</td>\n",
       "      <td>1</td>\n",
       "      <td>1</td>\n",
       "      <td>5.0</td>\n",
       "      <td>1</td>\n",
       "      <td>1</td>\n",
       "      <td>0</td>\n",
       "      <td>0</td>\n",
       "      <td>0</td>\n",
       "      <td>0</td>\n",
       "      <td>0</td>\n",
       "    </tr>\n",
       "    <tr>\n",
       "      <th>3</th>\n",
       "      <td>201011</td>\n",
       "      <td>Academic year</td>\n",
       "      <td>National</td>\n",
       "      <td>E92000001</td>\n",
       "      <td>England</td>\n",
       "      <td>State-funded mainstream schools &amp; colleges</td>\n",
       "      <td>Total</td>\n",
       "      <td>Level 3</td>\n",
       "      <td>Level 3 approved</td>\n",
       "      <td>Ethnicity Major</td>\n",
       "      <td>...</td>\n",
       "      <td>190</td>\n",
       "      <td>207</td>\n",
       "      <td>3592.0</td>\n",
       "      <td>2061</td>\n",
       "      <td>821</td>\n",
       "      <td>847</td>\n",
       "      <td>393</td>\n",
       "      <td>2843</td>\n",
       "      <td>684</td>\n",
       "      <td>2159</td>\n",
       "    </tr>\n",
       "    <tr>\n",
       "      <th>4</th>\n",
       "      <td>201011</td>\n",
       "      <td>Academic year</td>\n",
       "      <td>National</td>\n",
       "      <td>E92000001</td>\n",
       "      <td>England</td>\n",
       "      <td>State-funded mainstream schools &amp; colleges</td>\n",
       "      <td>Total</td>\n",
       "      <td>Level 3</td>\n",
       "      <td>Level 3 approved</td>\n",
       "      <td>Ethnicity Minor</td>\n",
       "      <td>...</td>\n",
       "      <td>5</td>\n",
       "      <td>4</td>\n",
       "      <td>98.0</td>\n",
       "      <td>82</td>\n",
       "      <td>48</td>\n",
       "      <td>25</td>\n",
       "      <td>9</td>\n",
       "      <td>115</td>\n",
       "      <td>80</td>\n",
       "      <td>35</td>\n",
       "    </tr>\n",
       "  </tbody>\n",
       "</table>\n",
       "<p>5 rows × 41 columns</p>\n",
       "</div>"
      ],
      "text/plain": [
       "   time_period time_identifier geographic_level country_code country_name  \\\n",
       "0       201011   Academic year         National    E92000001      England   \n",
       "1       201011   Academic year         National    E92000001      England   \n",
       "2       201011   Academic year         National    E92000001      England   \n",
       "3       201011   Academic year         National    E92000001      England   \n",
       "4       201011   Academic year         National    E92000001      England   \n",
       "\n",
       "                            institution_group institution_type  \\\n",
       "0             State-funded mainstream schools            Total   \n",
       "1             State-funded mainstream schools            Total   \n",
       "2  State-funded mainstream schools & colleges            Total   \n",
       "3  State-funded mainstream schools & colleges            Total   \n",
       "4  State-funded mainstream schools & colleges            Total   \n",
       "\n",
       "  cohort_level_group      cohort_level characteristic_group  ... appl3 appl2  \\\n",
       "0            Level 3  Level 3 approved      Ethnicity Minor  ...  1585  2521   \n",
       "1            Level 3  Level 3 approved      Ethnicity Minor  ...     6    16   \n",
       "2            Level 3  Level 3 approved      Ethnicity Minor  ...     1     1   \n",
       "3            Level 3  Level 3 approved      Ethnicity Major  ...   190   207   \n",
       "4            Level 3  Level 3 approved      Ethnicity Minor  ...     5     4   \n",
       "\n",
       "  all_work all_notsust notsust  notsust_ben  only_ben  all_unknown  \\\n",
       "0  27736.0       10212    4386         4414      1412         2462   \n",
       "1    226.0         189      94           50        45          140   \n",
       "2      5.0           1       1            0         0            0   \n",
       "3   3592.0        2061     821          847       393         2843   \n",
       "4     98.0          82      48           25         9          115   \n",
       "\n",
       "   unknown_id unknown  \n",
       "0        2025     437  \n",
       "1         119      21  \n",
       "2           0       0  \n",
       "3         684    2159  \n",
       "4          80      35  \n",
       "\n",
       "[5 rows x 41 columns]"
      ]
     },
     "execution_count": 2,
     "metadata": {},
     "output_type": "execute_result"
    }
   ],
   "source": [
    "df = pd.read_csv('/Users/claireevans/Documents/CFG Degree/4.Project/National level destinations dat-Table 1.csv')\n",
    "\n",
    "# View a sample of the data\n",
    "df.head()\n"
   ]
  },
  {
   "cell_type": "code",
   "execution_count": 54,
   "metadata": {},
   "outputs": [
    {
     "data": {
      "text/plain": [
       "(11958, 41)"
      ]
     },
     "execution_count": 54,
     "metadata": {},
     "output_type": "execute_result"
    }
   ],
   "source": [
    "df.shape"
   ]
  },
  {
   "cell_type": "code",
   "execution_count": 5,
   "metadata": {},
   "outputs": [
    {
     "data": {
      "text/plain": [
       "<bound method DataFrame.info of        time_period time_identifier geographic_level country_code country_name  \\\n",
       "0           201011   Academic year         National    E92000001      England   \n",
       "1           201011   Academic year         National    E92000001      England   \n",
       "2           201011   Academic year         National    E92000001      England   \n",
       "3           201011   Academic year         National    E92000001      England   \n",
       "4           201011   Academic year         National    E92000001      England   \n",
       "...            ...             ...              ...          ...          ...   \n",
       "11953       201920   Academic year         National    E92000001      England   \n",
       "11954       201920   Academic year         National    E92000001      England   \n",
       "11955       201920   Academic year         National    E92000001      England   \n",
       "11956       201920   Academic year         National    E92000001      England   \n",
       "11957       201920   Academic year         National    E92000001      England   \n",
       "\n",
       "                                institution_group institution_type  \\\n",
       "0                 State-funded mainstream schools            Total   \n",
       "1                 State-funded mainstream schools            Total   \n",
       "2      State-funded mainstream schools & colleges            Total   \n",
       "3      State-funded mainstream schools & colleges            Total   \n",
       "4      State-funded mainstream schools & colleges            Total   \n",
       "...                                           ...              ...   \n",
       "11953  State-funded mainstream schools & colleges            Total   \n",
       "11954  State-funded mainstream schools & colleges            Total   \n",
       "11955  State-funded mainstream schools & colleges            Total   \n",
       "11956  State-funded mainstream schools & colleges            Total   \n",
       "11957  State-funded mainstream schools & colleges            Total   \n",
       "\n",
       "             cohort_level_group      cohort_level  \\\n",
       "0                       Level 3  Level 3 approved   \n",
       "1                       Level 3  Level 3 approved   \n",
       "2                       Level 3  Level 3 approved   \n",
       "3                       Level 3  Level 3 approved   \n",
       "4                       Level 3  Level 3 approved   \n",
       "...                         ...               ...   \n",
       "11953                   Level 2             Total   \n",
       "11954                   Level 3             Total   \n",
       "11955  All other qualifications             Total   \n",
       "11956  All other qualifications             Total   \n",
       "11957  All other qualifications             Total   \n",
       "\n",
       "                              characteristic_group  ... appl3 appl2 all_work  \\\n",
       "0                                  Ethnicity Minor  ...  1585  2521  27736.0   \n",
       "1                                  Ethnicity Minor  ...     6    16    226.0   \n",
       "2                                  Ethnicity Minor  ...     1     1      5.0   \n",
       "3                                  Ethnicity Major  ...   190   207   3592.0   \n",
       "4                                  Ethnicity Minor  ...     5     4     98.0   \n",
       "...                                            ...  ...   ...   ...      ...   \n",
       "11953  Disadvantage Y11 Status and Ethnicity Major  ...     c     c     20.5   \n",
       "11954  Disadvantage Y11 Status and Ethnicity Major  ...     c     c     20.4   \n",
       "11955                                       Gender  ...   5.1   8.5     24.1   \n",
       "11956  Disadvantage Y11 Status and Ethnicity Major  ...     c     c     26.7   \n",
       "11957                      Disadvantage Y11 Status  ...   2.7   6.4     23.3   \n",
       "\n",
       "      all_notsust notsust  notsust_ben  only_ben  all_unknown  unknown_id  \\\n",
       "0           10212    4386         4414      1412         2462        2025   \n",
       "1             189      94           50        45          140         119   \n",
       "2               1       1            0         0            0           0   \n",
       "3            2061     821          847       393         2843         684   \n",
       "4              82      48           25         9          115          80   \n",
       "...           ...     ...          ...       ...          ...         ...   \n",
       "11953        16.6       c            c         c          8.9           c   \n",
       "11954        12.9       c            c         c          3.1           c   \n",
       "11955        29.8    13.7          9.1         7         13.6        11.2   \n",
       "11956        30.4       c            c         c         13.2           c   \n",
       "11957          40    13.7         13.1      13.1         11.5        11.1   \n",
       "\n",
       "      unknown  \n",
       "0         437  \n",
       "1          21  \n",
       "2           0  \n",
       "3        2159  \n",
       "4          35  \n",
       "...       ...  \n",
       "11953       c  \n",
       "11954       c  \n",
       "11955     2.4  \n",
       "11956       c  \n",
       "11957     0.4  \n",
       "\n",
       "[11958 rows x 41 columns]>"
      ]
     },
     "execution_count": 5,
     "metadata": {},
     "output_type": "execute_result"
    }
   ],
   "source": [
    "df.info"
   ]
  },
  {
   "cell_type": "markdown",
   "metadata": {},
   "source": [
    "- There are 11958 rows and 41 columns\n",
    "- There are no 'null' values \n",
    "- There are a number of 'unidentified' values. I'll need to consider whether to remove these as it could affect the staistical data."
   ]
  },
  {
   "cell_type": "code",
   "execution_count": 4,
   "metadata": {},
   "outputs": [
    {
     "data": {
      "text/html": [
       "<div>\n",
       "<style scoped>\n",
       "    .dataframe tbody tr th:only-of-type {\n",
       "        vertical-align: middle;\n",
       "    }\n",
       "\n",
       "    .dataframe tbody tr th {\n",
       "        vertical-align: top;\n",
       "    }\n",
       "\n",
       "    .dataframe thead th {\n",
       "        text-align: right;\n",
       "    }\n",
       "</style>\n",
       "<table border=\"1\" class=\"dataframe\">\n",
       "  <thead>\n",
       "    <tr style=\"text-align: right;\">\n",
       "      <th></th>\n",
       "      <th>time_period</th>\n",
       "      <th>overall</th>\n",
       "      <th>education</th>\n",
       "      <th>he</th>\n",
       "      <th>fe</th>\n",
       "      <th>other_edu</th>\n",
       "      <th>appren</th>\n",
       "      <th>all_work</th>\n",
       "    </tr>\n",
       "  </thead>\n",
       "  <tbody>\n",
       "    <tr>\n",
       "      <th>count</th>\n",
       "      <td>11958.000000</td>\n",
       "      <td>11958.000000</td>\n",
       "      <td>11958.000000</td>\n",
       "      <td>11958.000000</td>\n",
       "      <td>11958.000000</td>\n",
       "      <td>11958.000000</td>\n",
       "      <td>11958.000000</td>\n",
       "      <td>11958.000000</td>\n",
       "    </tr>\n",
       "    <tr>\n",
       "      <th>mean</th>\n",
       "      <td>201752.646429</td>\n",
       "      <td>11423.019794</td>\n",
       "      <td>7055.609065</td>\n",
       "      <td>5430.215981</td>\n",
       "      <td>1253.350360</td>\n",
       "      <td>372.131009</td>\n",
       "      <td>1091.616240</td>\n",
       "      <td>3275.794556</td>\n",
       "    </tr>\n",
       "    <tr>\n",
       "      <th>std</th>\n",
       "      <td>194.123565</td>\n",
       "      <td>41064.310390</td>\n",
       "      <td>26462.487393</td>\n",
       "      <td>22024.175379</td>\n",
       "      <td>4207.017406</td>\n",
       "      <td>1265.407504</td>\n",
       "      <td>3826.139883</td>\n",
       "      <td>11556.356949</td>\n",
       "    </tr>\n",
       "    <tr>\n",
       "      <th>min</th>\n",
       "      <td>201011.000000</td>\n",
       "      <td>0.000000</td>\n",
       "      <td>0.000000</td>\n",
       "      <td>0.000000</td>\n",
       "      <td>0.000000</td>\n",
       "      <td>0.000000</td>\n",
       "      <td>0.000000</td>\n",
       "      <td>0.000000</td>\n",
       "    </tr>\n",
       "    <tr>\n",
       "      <th>25%</th>\n",
       "      <td>201718.000000</td>\n",
       "      <td>66.900000</td>\n",
       "      <td>29.100000</td>\n",
       "      <td>0.000000</td>\n",
       "      <td>6.900000</td>\n",
       "      <td>2.700000</td>\n",
       "      <td>5.000000</td>\n",
       "      <td>18.400000</td>\n",
       "    </tr>\n",
       "    <tr>\n",
       "      <th>50%</th>\n",
       "      <td>201819.000000</td>\n",
       "      <td>88.000000</td>\n",
       "      <td>63.900000</td>\n",
       "      <td>18.000000</td>\n",
       "      <td>21.000000</td>\n",
       "      <td>8.800000</td>\n",
       "      <td>13.000000</td>\n",
       "      <td>30.100000</td>\n",
       "    </tr>\n",
       "    <tr>\n",
       "      <th>75%</th>\n",
       "      <td>201920.000000</td>\n",
       "      <td>2007.500000</td>\n",
       "      <td>1086.000000</td>\n",
       "      <td>77.700000</td>\n",
       "      <td>270.000000</td>\n",
       "      <td>106.000000</td>\n",
       "      <td>132.000000</td>\n",
       "      <td>486.250000</td>\n",
       "    </tr>\n",
       "    <tr>\n",
       "      <th>max</th>\n",
       "      <td>201920.000000</td>\n",
       "      <td>470943.000000</td>\n",
       "      <td>281252.000000</td>\n",
       "      <td>209752.000000</td>\n",
       "      <td>53023.000000</td>\n",
       "      <td>19527.000000</td>\n",
       "      <td>51385.000000</td>\n",
       "      <td>138938.000000</td>\n",
       "    </tr>\n",
       "  </tbody>\n",
       "</table>\n",
       "</div>"
      ],
      "text/plain": [
       "         time_period        overall      education             he  \\\n",
       "count   11958.000000   11958.000000   11958.000000   11958.000000   \n",
       "mean   201752.646429   11423.019794    7055.609065    5430.215981   \n",
       "std       194.123565   41064.310390   26462.487393   22024.175379   \n",
       "min    201011.000000       0.000000       0.000000       0.000000   \n",
       "25%    201718.000000      66.900000      29.100000       0.000000   \n",
       "50%    201819.000000      88.000000      63.900000      18.000000   \n",
       "75%    201920.000000    2007.500000    1086.000000      77.700000   \n",
       "max    201920.000000  470943.000000  281252.000000  209752.000000   \n",
       "\n",
       "                 fe     other_edu        appren       all_work  \n",
       "count  11958.000000  11958.000000  11958.000000   11958.000000  \n",
       "mean    1253.350360    372.131009   1091.616240    3275.794556  \n",
       "std     4207.017406   1265.407504   3826.139883   11556.356949  \n",
       "min        0.000000      0.000000      0.000000       0.000000  \n",
       "25%        6.900000      2.700000      5.000000      18.400000  \n",
       "50%       21.000000      8.800000     13.000000      30.100000  \n",
       "75%      270.000000    106.000000    132.000000     486.250000  \n",
       "max    53023.000000  19527.000000  51385.000000  138938.000000  "
      ]
     },
     "execution_count": 4,
     "metadata": {},
     "output_type": "execute_result"
    }
   ],
   "source": [
    "# Getting a sense of the statistical data \n",
    "\n",
    "df.describe()"
   ]
  },
  {
   "cell_type": "code",
   "execution_count": 6,
   "metadata": {},
   "outputs": [
    {
     "data": {
      "text/plain": [
       "count     11958.000000\n",
       "mean     201752.646429\n",
       "std         194.123565\n",
       "min      201011.000000\n",
       "25%      201718.000000\n",
       "50%      201819.000000\n",
       "75%      201920.000000\n",
       "max      201920.000000\n",
       "Name: time_period, dtype: float64"
      ]
     },
     "execution_count": 6,
     "metadata": {},
     "output_type": "execute_result"
    }
   ],
   "source": [
    "df[\"time_period\"].describe()"
   ]
  },
  {
   "cell_type": "markdown",
   "metadata": {},
   "source": [
    "The time period is a float which represents the academic year ie 2010 - 2011"
   ]
  },
  {
   "cell_type": "code",
   "execution_count": 7,
   "metadata": {},
   "outputs": [
    {
     "data": {
      "text/plain": [
       "count             11958\n",
       "unique                1\n",
       "top       Academic year\n",
       "freq              11958\n",
       "Name: time_identifier, dtype: object"
      ]
     },
     "execution_count": 7,
     "metadata": {},
     "output_type": "execute_result"
    }
   ],
   "source": [
    "df[\"time_identifier\"].describe()"
   ]
  },
  {
   "cell_type": "markdown",
   "metadata": {},
   "source": [
    "The time identifier is an object with only unique value - the word \"Academic year\". This can be dropped as this is not useful."
   ]
  },
  {
   "cell_type": "code",
   "execution_count": 8,
   "metadata": {},
   "outputs": [
    {
     "data": {
      "text/plain": [
       "count        11958\n",
       "unique           1\n",
       "top       National\n",
       "freq         11958\n",
       "Name: geographic_level, dtype: object"
      ]
     },
     "execution_count": 8,
     "metadata": {},
     "output_type": "execute_result"
    }
   ],
   "source": [
    "df[\"geographic_level\"].describe()"
   ]
  },
  {
   "cell_type": "markdown",
   "metadata": {},
   "source": [
    "The geographic level is an object with only one unique value - the word \"National\". This can be dropped as this is not useful."
   ]
  },
  {
   "cell_type": "code",
   "execution_count": 9,
   "metadata": {},
   "outputs": [
    {
     "data": {
      "text/plain": [
       "count         11958\n",
       "unique            1\n",
       "top       E92000001\n",
       "freq          11958\n",
       "Name: country_code, dtype: object"
      ]
     },
     "execution_count": 9,
     "metadata": {},
     "output_type": "execute_result"
    }
   ],
   "source": [
    "df[\"country_code\"].describe()"
   ]
  },
  {
   "cell_type": "markdown",
   "metadata": {},
   "source": [
    "The country code is an object with only one unique value - the identifier \"E92000001\". This can be dropped as this is not useful."
   ]
  },
  {
   "cell_type": "code",
   "execution_count": 10,
   "metadata": {},
   "outputs": [
    {
     "data": {
      "text/plain": [
       "count       11958\n",
       "unique          1\n",
       "top       England\n",
       "freq        11958\n",
       "Name: country_name, dtype: object"
      ]
     },
     "execution_count": 10,
     "metadata": {},
     "output_type": "execute_result"
    }
   ],
   "source": [
    "df[\"country_name\"].describe()"
   ]
  },
  {
   "cell_type": "markdown",
   "metadata": {},
   "source": [
    "The country name is an object with only one unique value - the word \"England\". This can be dropped as this is not useful. "
   ]
  },
  {
   "cell_type": "code",
   "execution_count": 11,
   "metadata": {},
   "outputs": [
    {
     "data": {
      "text/plain": [
       "count                                          11958\n",
       "unique                                             8\n",
       "top       State-funded mainstream schools & colleges\n",
       "freq                                            4864\n",
       "Name: institution_group, dtype: object"
      ]
     },
     "execution_count": 11,
     "metadata": {},
     "output_type": "execute_result"
    }
   ],
   "source": [
    "df[\"institution_group\"].describe()"
   ]
  },
  {
   "cell_type": "markdown",
   "metadata": {},
   "source": [
    "The institution group is an object with 8 unique values. This helps us identify the type of school."
   ]
  },
  {
   "cell_type": "code",
   "execution_count": 12,
   "metadata": {},
   "outputs": [
    {
     "data": {
      "text/plain": [
       "count     11958\n",
       "unique       17\n",
       "top       Total\n",
       "freq      10330\n",
       "Name: institution_type, dtype: object"
      ]
     },
     "execution_count": 12,
     "metadata": {},
     "output_type": "execute_result"
    }
   ],
   "source": [
    "df[\"institution_type\"].describe()"
   ]
  },
  {
   "cell_type": "markdown",
   "metadata": {},
   "source": [
    "The institution type is an object with 17 unique values. Anything under the value \"total\" has been grouped together."
   ]
  },
  {
   "cell_type": "code",
   "execution_count": 13,
   "metadata": {},
   "outputs": [
    {
     "data": {
      "text/plain": [
       "count       11958\n",
       "unique          4\n",
       "top       Level 3\n",
       "freq         4802\n",
       "Name: cohort_level_group, dtype: object"
      ]
     },
     "execution_count": 13,
     "metadata": {},
     "output_type": "execute_result"
    }
   ],
   "source": [
    "df[\"cohort_level_group\"].describe()"
   ]
  },
  {
   "cell_type": "markdown",
   "metadata": {},
   "source": [
    "The cohort level group shows the qualification level. This has 4 unique values."
   ]
  },
  {
   "cell_type": "code",
   "execution_count": 15,
   "metadata": {},
   "outputs": [
    {
     "data": {
      "text/plain": [
       "count               11958\n",
       "unique                 12\n",
       "top       Ethnicity Minor\n",
       "freq                 4180\n",
       "Name: characteristic_group, dtype: object"
      ]
     },
     "execution_count": 15,
     "metadata": {},
     "output_type": "execute_result"
    }
   ],
   "source": [
    "df[\"characteristic_group\"].describe()"
   ]
  },
  {
   "cell_type": "markdown",
   "metadata": {},
   "source": [
    "The characteristic group is an object with 12 unique data types."
   ]
  },
  {
   "cell_type": "code",
   "execution_count": 16,
   "metadata": {},
   "outputs": [
    {
     "data": {
      "text/plain": [
       "count     11958\n",
       "unique       90\n",
       "top       Total\n",
       "freq       1570\n",
       "Name: characteristic, dtype: object"
      ]
     },
     "execution_count": 16,
     "metadata": {},
     "output_type": "execute_result"
    }
   ],
   "source": [
    "df[\"characteristic\"].describe()"
   ]
  },
  {
   "cell_type": "markdown",
   "metadata": {},
   "source": [
    "The characteristic is an object with 90 unique values."
   ]
  },
  {
   "cell_type": "code",
   "execution_count": 17,
   "metadata": {},
   "outputs": [
    {
     "data": {
      "text/plain": [
       "count                11958\n",
       "unique                   2\n",
       "top       Number of pupils\n",
       "freq                  5979\n",
       "Name: data_type, dtype: object"
      ]
     },
     "execution_count": 17,
     "metadata": {},
     "output_type": "execute_result"
    }
   ],
   "source": [
    "df[\"data_type\"].describe()"
   ]
  },
  {
   "cell_type": "markdown",
   "metadata": {},
   "source": [
    "The data type is an object with 2 unique values. This specifies whether the value is \"Number of pupils\" or \"Percentage of pupils\"."
   ]
  },
  {
   "cell_type": "code",
   "execution_count": 18,
   "metadata": {},
   "outputs": [
    {
     "data": {
      "text/plain": [
       "count       11958\n",
       "unique          1\n",
       "top       Revised\n",
       "freq        11958\n",
       "Name: version, dtype: object"
      ]
     },
     "execution_count": 18,
     "metadata": {},
     "output_type": "execute_result"
    }
   ],
   "source": [
    "df[\"version\"].describe()"
   ]
  },
  {
   "cell_type": "markdown",
   "metadata": {},
   "source": [
    "The version is an object with only one unique value so this can be dropped as this is not useful."
   ]
  },
  {
   "cell_type": "code",
   "execution_count": 19,
   "metadata": {},
   "outputs": [
    {
     "data": {
      "text/plain": [
       "count     11958\n",
       "unique      124\n",
       "top           z\n",
       "freq       8332\n",
       "Name: inst_count, dtype: object"
      ]
     },
     "execution_count": 19,
     "metadata": {},
     "output_type": "execute_result"
    }
   ],
   "source": [
    "df[\"inst_count\"].describe()"
   ]
  },
  {
   "cell_type": "markdown",
   "metadata": {},
   "source": [
    "The inst count is an object with 124 unique values. This shows the number of institutions."
   ]
  },
  {
   "cell_type": "code",
   "execution_count": 20,
   "metadata": {},
   "outputs": [
    {
     "data": {
      "text/plain": [
       "count     11958\n",
       "unique     4149\n",
       "top           1\n",
       "freq         64\n",
       "Name: cohort, dtype: object"
      ]
     },
     "execution_count": 20,
     "metadata": {},
     "output_type": "execute_result"
    }
   ],
   "source": [
    "df[\"cohort\"].describe()"
   ]
  },
  {
   "cell_type": "markdown",
   "metadata": {},
   "source": [
    "The cohort is an object with 4149 unique values. This shows the number of pupils completing 16-18 study."
   ]
  },
  {
   "cell_type": "code",
   "execution_count": 21,
   "metadata": {},
   "outputs": [
    {
     "data": {
      "text/plain": [
       "count     11958.000000\n",
       "mean      11423.019794\n",
       "std       41064.310390\n",
       "min           0.000000\n",
       "25%          66.900000\n",
       "50%          88.000000\n",
       "75%        2007.500000\n",
       "max      470943.000000\n",
       "Name: overall, dtype: float64"
      ]
     },
     "execution_count": 21,
     "metadata": {},
     "output_type": "execute_result"
    }
   ],
   "source": [
    "df[\"overall\"].describe()"
   ]
  },
  {
   "cell_type": "markdown",
   "metadata": {},
   "source": [
    "The overall field is a float value for sustained education, apprenticeship or employment"
   ]
  },
  {
   "cell_type": "code",
   "execution_count": 22,
   "metadata": {},
   "outputs": [
    {
     "data": {
      "text/plain": [
       "count     11958.000000\n",
       "mean       7055.609065\n",
       "std       26462.487393\n",
       "min           0.000000\n",
       "25%          29.100000\n",
       "50%          63.900000\n",
       "75%        1086.000000\n",
       "max      281252.000000\n",
       "Name: education, dtype: float64"
      ]
     },
     "execution_count": 22,
     "metadata": {},
     "output_type": "execute_result"
    }
   ],
   "source": [
    "df[\"education\"].describe()"
   ]
  },
  {
   "cell_type": "markdown",
   "metadata": {},
   "source": [
    "The education field is a float value for sustained education destination"
   ]
  },
  {
   "cell_type": "code",
   "execution_count": 24,
   "metadata": {},
   "outputs": [
    {
     "data": {
      "text/plain": [
       "count     11958.000000\n",
       "mean       5430.215981\n",
       "std       22024.175379\n",
       "min           0.000000\n",
       "25%           0.000000\n",
       "50%          18.000000\n",
       "75%          77.700000\n",
       "max      209752.000000\n",
       "Name: he, dtype: float64"
      ]
     },
     "execution_count": 24,
     "metadata": {},
     "output_type": "execute_result"
    }
   ],
   "source": [
    "df[\"he\"].describe()"
   ]
  },
  {
   "cell_type": "markdown",
   "metadata": {},
   "source": [
    "The he field is float value for UK higher education institution"
   ]
  },
  {
   "cell_type": "code",
   "execution_count": 25,
   "metadata": {},
   "outputs": [
    {
     "data": {
      "text/plain": [
       "count    11958.000000\n",
       "mean      1253.350360\n",
       "std       4207.017406\n",
       "min          0.000000\n",
       "25%          6.900000\n",
       "50%         21.000000\n",
       "75%        270.000000\n",
       "max      53023.000000\n",
       "Name: fe, dtype: float64"
      ]
     },
     "execution_count": 25,
     "metadata": {},
     "output_type": "execute_result"
    }
   ],
   "source": [
    "df[\"fe\"].describe()"
   ]
  },
  {
   "cell_type": "markdown",
   "metadata": {},
   "source": [
    "The fe field is a float value for further education"
   ]
  },
  {
   "cell_type": "code",
   "execution_count": 26,
   "metadata": {},
   "outputs": [
    {
     "data": {
      "text/plain": [
       "count     11958\n",
       "unique     1677\n",
       "top           c\n",
       "freq       1732\n",
       "Name: fel3, dtype: object"
      ]
     },
     "execution_count": 26,
     "metadata": {},
     "output_type": "execute_result"
    }
   ],
   "source": [
    "df[\"fel3\"].describe()"
   ]
  },
  {
   "cell_type": "markdown",
   "metadata": {},
   "source": [
    "The fel3 field is an object with 1677 unique values for FE Level 3"
   ]
  },
  {
   "cell_type": "code",
   "execution_count": 27,
   "metadata": {},
   "outputs": [
    {
     "data": {
      "text/plain": [
       "count     11958\n",
       "unique     1369\n",
       "top           c\n",
       "freq       1732\n",
       "Name: fel2, dtype: object"
      ]
     },
     "execution_count": 27,
     "metadata": {},
     "output_type": "execute_result"
    }
   ],
   "source": [
    "df[\"fel2\"].describe()"
   ]
  },
  {
   "cell_type": "markdown",
   "metadata": {},
   "source": [
    "The fel2 field is an object with 1369 unique values for FE Level 2"
   ]
  },
  {
   "cell_type": "code",
   "execution_count": 28,
   "metadata": {},
   "outputs": [
    {
     "data": {
      "text/plain": [
       "count     11958\n",
       "unique     1083\n",
       "top           c\n",
       "freq       1732\n",
       "Name: fel1, dtype: object"
      ]
     },
     "execution_count": 28,
     "metadata": {},
     "output_type": "execute_result"
    }
   ],
   "source": [
    "df[\"fel1\"].describe()"
   ]
  },
  {
   "cell_type": "markdown",
   "metadata": {},
   "source": [
    "The fel1 field is an object with 1083 unique values for FE entry level and no identified level"
   ]
  },
  {
   "cell_type": "code",
   "execution_count": 30,
   "metadata": {},
   "outputs": [
    {
     "data": {
      "text/plain": [
       "count    11958.000000\n",
       "mean       372.131009\n",
       "std       1265.407504\n",
       "min          0.000000\n",
       "25%          2.700000\n",
       "50%          8.800000\n",
       "75%        106.000000\n",
       "max      19527.000000\n",
       "Name: other_edu, dtype: float64"
      ]
     },
     "execution_count": 30,
     "metadata": {},
     "output_type": "execute_result"
    }
   ],
   "source": [
    "df[\"other_edu\"].describe()"
   ]
  },
  {
   "cell_type": "markdown",
   "metadata": {},
   "source": [
    "The other edu field is a float value for Other education destinations"
   ]
  },
  {
   "cell_type": "code",
   "execution_count": 31,
   "metadata": {},
   "outputs": [
    {
     "data": {
      "text/plain": [
       "count     11958\n",
       "unique      439\n",
       "top           0\n",
       "freq       3738\n",
       "Name: ind, dtype: object"
      ]
     },
     "execution_count": 31,
     "metadata": {},
     "output_type": "execute_result"
    }
   ],
   "source": [
    "df[\"ind\"].describe()"
   ]
  },
  {
   "cell_type": "markdown",
   "metadata": {},
   "source": [
    "The ind field is an object with 439 unique values for Independent schools"
   ]
  },
  {
   "cell_type": "code",
   "execution_count": 33,
   "metadata": {},
   "outputs": [
    {
     "data": {
      "text/plain": [
       "count     11958\n",
       "unique      285\n",
       "top           0\n",
       "freq       7322\n",
       "Name: non_des, dtype: object"
      ]
     },
     "execution_count": 33,
     "metadata": {},
     "output_type": "execute_result"
    }
   ],
   "source": [
    "df[\"non_des\"].describe()"
   ]
  },
  {
   "cell_type": "markdown",
   "metadata": {},
   "source": [
    "The non des field is an object with 285 unique vales for Non-designated provision"
   ]
  },
  {
   "cell_type": "code",
   "execution_count": 35,
   "metadata": {},
   "outputs": [
    {
     "data": {
      "text/plain": [
       "count     11958\n",
       "unique     1268\n",
       "top           c\n",
       "freq       1732\n",
       "Name: ssf, dtype: object"
      ]
     },
     "execution_count": 35,
     "metadata": {},
     "output_type": "execute_result"
    }
   ],
   "source": [
    "df[\"ssf\"].describe()"
   ]
  },
  {
   "cell_type": "markdown",
   "metadata": {},
   "source": [
    "The ssf field is an object with 1268 unique values for School sixth form - state funded"
   ]
  },
  {
   "cell_type": "code",
   "execution_count": 36,
   "metadata": {},
   "outputs": [
    {
     "data": {
      "text/plain": [
       "count     11958\n",
       "unique     1075\n",
       "top           c\n",
       "freq       1732\n",
       "Name: sfc, dtype: object"
      ]
     },
     "execution_count": 36,
     "metadata": {},
     "output_type": "execute_result"
    }
   ],
   "source": [
    "df[\"sfc\"].describe()"
   ]
  },
  {
   "cell_type": "markdown",
   "metadata": {},
   "source": [
    "The sfc field is an object with 1075 unique values for sixth form college"
   ]
  },
  {
   "cell_type": "code",
   "execution_count": 37,
   "metadata": {},
   "outputs": [
    {
     "data": {
      "text/plain": [
       "count     11958\n",
       "unique      224\n",
       "top           0\n",
       "freq       5348\n",
       "Name: spec_prov, dtype: object"
      ]
     },
     "execution_count": 37,
     "metadata": {},
     "output_type": "execute_result"
    }
   ],
   "source": [
    "df[\"spec_prov\"].describe()"
   ]
  },
  {
   "cell_type": "markdown",
   "metadata": {},
   "source": [
    "The spec prov field is an object with 224 unique values for Specialist provision"
   ]
  },
  {
   "cell_type": "code",
   "execution_count": 38,
   "metadata": {},
   "outputs": [
    {
     "data": {
      "text/plain": [
       "count     11958\n",
       "unique      537\n",
       "top           0\n",
       "freq       2550\n",
       "Name: edu_combo, dtype: object"
      ]
     },
     "execution_count": 38,
     "metadata": {},
     "output_type": "execute_result"
    }
   ],
   "source": [
    "df[\"edu_combo\"].describe()"
   ]
  },
  {
   "cell_type": "markdown",
   "metadata": {},
   "source": [
    "The edu combo field is an object with 537 unique values for Sustained education combination destination"
   ]
  },
  {
   "cell_type": "code",
   "execution_count": 39,
   "metadata": {},
   "outputs": [
    {
     "data": {
      "text/plain": [
       "count    11958.000000\n",
       "mean      1091.616240\n",
       "std       3826.139883\n",
       "min          0.000000\n",
       "25%          5.000000\n",
       "50%         13.000000\n",
       "75%        132.000000\n",
       "max      51385.000000\n",
       "Name: appren, dtype: float64"
      ]
     },
     "execution_count": 39,
     "metadata": {},
     "output_type": "execute_result"
    }
   ],
   "source": [
    "df[\"appren\"].describe()"
   ]
  },
  {
   "cell_type": "markdown",
   "metadata": {},
   "source": [
    "The appren field is a float value for Sustained apprenticeships"
   ]
  },
  {
   "cell_type": "code",
   "execution_count": 40,
   "metadata": {},
   "outputs": [
    {
     "data": {
      "text/plain": [
       "count     11958\n",
       "unique      723\n",
       "top           0\n",
       "freq       3454\n",
       "Name: appl4, dtype: object"
      ]
     },
     "execution_count": 40,
     "metadata": {},
     "output_type": "execute_result"
    }
   ],
   "source": [
    "df[\"appl4\"].describe()"
   ]
  },
  {
   "cell_type": "markdown",
   "metadata": {},
   "source": [
    "The appl4 field is an object type with 723 unique values for Higher and degree apprenticeships (level 4 and above)"
   ]
  },
  {
   "cell_type": "code",
   "execution_count": 41,
   "metadata": {},
   "outputs": [
    {
     "data": {
      "text/plain": [
       "count     11958\n",
       "unique     1569\n",
       "top           c\n",
       "freq       1988\n",
       "Name: appl3, dtype: object"
      ]
     },
     "execution_count": 41,
     "metadata": {},
     "output_type": "execute_result"
    }
   ],
   "source": [
    "df[\"appl3\"].describe()"
   ]
  },
  {
   "cell_type": "markdown",
   "metadata": {},
   "source": [
    "The appl3 field is an object type with 1569 unique values for Advanced apprenticeships (level 3)"
   ]
  },
  {
   "cell_type": "code",
   "execution_count": 42,
   "metadata": {},
   "outputs": [
    {
     "data": {
      "text/plain": [
       "count     11958\n",
       "unique     1692\n",
       "top           c\n",
       "freq       1988\n",
       "Name: appl2, dtype: object"
      ]
     },
     "execution_count": 42,
     "metadata": {},
     "output_type": "execute_result"
    }
   ],
   "source": [
    "df[\"appl2\"].describe()"
   ]
  },
  {
   "cell_type": "markdown",
   "metadata": {},
   "source": [
    "The appl2 field is an object type with 1692 unique values for Intermediate apprenticeships (level 2)"
   ]
  },
  {
   "cell_type": "code",
   "execution_count": 43,
   "metadata": {},
   "outputs": [
    {
     "data": {
      "text/plain": [
       "count     11958.000000\n",
       "mean       3275.794556\n",
       "std       11556.356949\n",
       "min           0.000000\n",
       "25%          18.400000\n",
       "50%          30.100000\n",
       "75%         486.250000\n",
       "max      138938.000000\n",
       "Name: all_work, dtype: float64"
      ]
     },
     "execution_count": 43,
     "metadata": {},
     "output_type": "execute_result"
    }
   ],
   "source": [
    "df[\"all_work\"].describe()"
   ]
  },
  {
   "cell_type": "markdown",
   "metadata": {},
   "source": [
    "The all work field is a float type for Sustained employment destination"
   ]
  },
  {
   "cell_type": "code",
   "execution_count": 44,
   "metadata": {},
   "outputs": [
    {
     "data": {
      "text/plain": [
       "count     11958\n",
       "unique     3119\n",
       "top           0\n",
       "freq        160\n",
       "Name: all_notsust, dtype: object"
      ]
     },
     "execution_count": 44,
     "metadata": {},
     "output_type": "execute_result"
    }
   ],
   "source": [
    "df[\"all_notsust\"].describe()"
   ]
  },
  {
   "cell_type": "markdown",
   "metadata": {},
   "source": [
    "The all notsust field is an object type with 3119 unique values for Not recorded as a sustained destination"
   ]
  },
  {
   "cell_type": "code",
   "execution_count": 45,
   "metadata": {},
   "outputs": [
    {
     "data": {
      "text/plain": [
       "count     11958\n",
       "unique     2193\n",
       "top           c\n",
       "freq       1732\n",
       "Name: notsust, dtype: object"
      ]
     },
     "execution_count": 45,
     "metadata": {},
     "output_type": "execute_result"
    }
   ],
   "source": [
    "df[\"notsust\"].describe()"
   ]
  },
  {
   "cell_type": "markdown",
   "metadata": {},
   "source": [
    "The notsust field is an object type with 2193 unique values for Education or employment not sustained"
   ]
  },
  {
   "cell_type": "code",
   "execution_count": 46,
   "metadata": {},
   "outputs": [
    {
     "data": {
      "text/plain": [
       "count     11958\n",
       "unique     1769\n",
       "top           c\n",
       "freq       1732\n",
       "Name: notsust_ben, dtype: object"
      ]
     },
     "execution_count": 46,
     "metadata": {},
     "output_type": "execute_result"
    }
   ],
   "source": [
    "df[\"notsust_ben\"].describe()"
   ]
  },
  {
   "cell_type": "markdown",
   "metadata": {},
   "source": [
    "The notsust ben field is an object with 1769 unique values for Education or employment not sustained and known to be NEET"
   ]
  },
  {
   "cell_type": "code",
   "execution_count": 47,
   "metadata": {},
   "outputs": [
    {
     "data": {
      "text/plain": [
       "count     11958\n",
       "unique     1551\n",
       "top           c\n",
       "freq       1746\n",
       "Name: only_ben, dtype: object"
      ]
     },
     "execution_count": 47,
     "metadata": {},
     "output_type": "execute_result"
    }
   ],
   "source": [
    "df[\"only_ben\"].describe()"
   ]
  },
  {
   "cell_type": "markdown",
   "metadata": {},
   "source": [
    "The only ben field is an object with 1551 unique values for No participation and known to be NEET"
   ]
  },
  {
   "cell_type": "code",
   "execution_count": 48,
   "metadata": {},
   "outputs": [
    {
     "data": {
      "text/plain": [
       "count     11958\n",
       "unique     2489\n",
       "top           0\n",
       "freq        336\n",
       "Name: all_unknown, dtype: object"
      ]
     },
     "execution_count": 48,
     "metadata": {},
     "output_type": "execute_result"
    }
   ],
   "source": [
    "df[\"all_unknown\"].describe()"
   ]
  },
  {
   "cell_type": "markdown",
   "metadata": {},
   "source": [
    "The all unknown field is an object with 2489 unique values for Activity not captured"
   ]
  },
  {
   "cell_type": "code",
   "execution_count": 49,
   "metadata": {},
   "outputs": [
    {
     "data": {
      "text/plain": [
       "count     11958\n",
       "unique     1998\n",
       "top           c\n",
       "freq       1732\n",
       "Name: unknown_id, dtype: object"
      ]
     },
     "execution_count": 49,
     "metadata": {},
     "output_type": "execute_result"
    }
   ],
   "source": [
    "df[\"unknown_id\"].describe()"
   ]
  },
  {
   "cell_type": "markdown",
   "metadata": {},
   "source": [
    "The unknown_id column is an object with 1998 unique values for Identified as DWP/HMRC customer"
   ]
  },
  {
   "cell_type": "code",
   "execution_count": 50,
   "metadata": {},
   "outputs": [
    {
     "data": {
      "text/plain": [
       "count     11958\n",
       "unique     1217\n",
       "top           c\n",
       "freq       1746\n",
       "Name: unknown, dtype: object"
      ]
     },
     "execution_count": 50,
     "metadata": {},
     "output_type": "execute_result"
    }
   ],
   "source": [
    "df[\"unknown\"].describe()"
   ]
  },
  {
   "cell_type": "markdown",
   "metadata": {},
   "source": [
    "The unknown column is an object with 1217 unique values for Not identified in any data"
   ]
  },
  {
   "cell_type": "code",
   "execution_count": 3,
   "metadata": {},
   "outputs": [
    {
     "data": {
      "text/html": [
       "<div>\n",
       "<style scoped>\n",
       "    .dataframe tbody tr th:only-of-type {\n",
       "        vertical-align: middle;\n",
       "    }\n",
       "\n",
       "    .dataframe tbody tr th {\n",
       "        vertical-align: top;\n",
       "    }\n",
       "\n",
       "    .dataframe thead th {\n",
       "        text-align: right;\n",
       "    }\n",
       "</style>\n",
       "<table border=\"1\" class=\"dataframe\">\n",
       "  <thead>\n",
       "    <tr style=\"text-align: right;\">\n",
       "      <th></th>\n",
       "      <th>time_period</th>\n",
       "      <th>time_identifier</th>\n",
       "      <th>geographic_level</th>\n",
       "      <th>country_code</th>\n",
       "      <th>country_name</th>\n",
       "      <th>institution_group</th>\n",
       "      <th>institution_type</th>\n",
       "      <th>cohort_level_group</th>\n",
       "      <th>cohort_level</th>\n",
       "      <th>characteristic_group</th>\n",
       "      <th>...</th>\n",
       "      <th>appl3</th>\n",
       "      <th>appl2</th>\n",
       "      <th>all_work</th>\n",
       "      <th>all_notsust</th>\n",
       "      <th>notsust</th>\n",
       "      <th>notsust_ben</th>\n",
       "      <th>only_ben</th>\n",
       "      <th>all_unknown</th>\n",
       "      <th>unknown_id</th>\n",
       "      <th>unknown</th>\n",
       "    </tr>\n",
       "  </thead>\n",
       "  <tbody>\n",
       "    <tr>\n",
       "      <th>0</th>\n",
       "      <td>201011</td>\n",
       "      <td>Academic year</td>\n",
       "      <td>National</td>\n",
       "      <td>E92000001</td>\n",
       "      <td>England</td>\n",
       "      <td>State-funded mainstream schools</td>\n",
       "      <td>Total</td>\n",
       "      <td>Level 3</td>\n",
       "      <td>Level 3 approved</td>\n",
       "      <td>Ethnicity Minor</td>\n",
       "      <td>...</td>\n",
       "      <td>1585</td>\n",
       "      <td>2521</td>\n",
       "      <td>27736.0</td>\n",
       "      <td>10212</td>\n",
       "      <td>4386</td>\n",
       "      <td>4414</td>\n",
       "      <td>1412</td>\n",
       "      <td>2462</td>\n",
       "      <td>2025</td>\n",
       "      <td>437</td>\n",
       "    </tr>\n",
       "    <tr>\n",
       "      <th>120</th>\n",
       "      <td>201011</td>\n",
       "      <td>Academic year</td>\n",
       "      <td>National</td>\n",
       "      <td>E92000001</td>\n",
       "      <td>England</td>\n",
       "      <td>State-funded mainstream colleges</td>\n",
       "      <td>Total</td>\n",
       "      <td>Level 3</td>\n",
       "      <td>Level 3 approved</td>\n",
       "      <td>Ethnicity Major</td>\n",
       "      <td>...</td>\n",
       "      <td>0.9</td>\n",
       "      <td>1.3</td>\n",
       "      <td>9.9</td>\n",
       "      <td>10.9</td>\n",
       "      <td>3.1</td>\n",
       "      <td>5</td>\n",
       "      <td>2.9</td>\n",
       "      <td>3.5</td>\n",
       "      <td>2.6</td>\n",
       "      <td>0.9</td>\n",
       "    </tr>\n",
       "    <tr>\n",
       "      <th>121</th>\n",
       "      <td>201011</td>\n",
       "      <td>Academic year</td>\n",
       "      <td>National</td>\n",
       "      <td>E92000001</td>\n",
       "      <td>England</td>\n",
       "      <td>State-funded mainstream schools</td>\n",
       "      <td>Total</td>\n",
       "      <td>Level 3</td>\n",
       "      <td>Level 3 approved</td>\n",
       "      <td>Ethnicity Minor</td>\n",
       "      <td>...</td>\n",
       "      <td>0</td>\n",
       "      <td>0</td>\n",
       "      <td>33.3</td>\n",
       "      <td>9.5</td>\n",
       "      <td>0</td>\n",
       "      <td>9.5</td>\n",
       "      <td>0</td>\n",
       "      <td>0</td>\n",
       "      <td>0</td>\n",
       "      <td>0</td>\n",
       "    </tr>\n",
       "    <tr>\n",
       "      <th>122</th>\n",
       "      <td>201011</td>\n",
       "      <td>Academic year</td>\n",
       "      <td>National</td>\n",
       "      <td>E92000001</td>\n",
       "      <td>England</td>\n",
       "      <td>State-funded mainstream schools</td>\n",
       "      <td>Total</td>\n",
       "      <td>Level 3</td>\n",
       "      <td>Level 3 approved</td>\n",
       "      <td>Ethnicity Minor</td>\n",
       "      <td>...</td>\n",
       "      <td>0.6</td>\n",
       "      <td>0.5</td>\n",
       "      <td>9.2</td>\n",
       "      <td>8.3</td>\n",
       "      <td>3.9</td>\n",
       "      <td>2.3</td>\n",
       "      <td>2.1</td>\n",
       "      <td>7.7</td>\n",
       "      <td>6</td>\n",
       "      <td>1.7</td>\n",
       "    </tr>\n",
       "    <tr>\n",
       "      <th>123</th>\n",
       "      <td>201011</td>\n",
       "      <td>Academic year</td>\n",
       "      <td>National</td>\n",
       "      <td>E92000001</td>\n",
       "      <td>England</td>\n",
       "      <td>State-funded mainstream colleges</td>\n",
       "      <td>Total</td>\n",
       "      <td>Level 3</td>\n",
       "      <td>Level 3 approved</td>\n",
       "      <td>Ethnicity Major</td>\n",
       "      <td>...</td>\n",
       "      <td>2.3</td>\n",
       "      <td>2.5</td>\n",
       "      <td>29.1</td>\n",
       "      <td>12.2</td>\n",
       "      <td>3.4</td>\n",
       "      <td>6.4</td>\n",
       "      <td>2.4</td>\n",
       "      <td>2.5</td>\n",
       "      <td>1.7</td>\n",
       "      <td>0.8</td>\n",
       "    </tr>\n",
       "    <tr>\n",
       "      <th>...</th>\n",
       "      <td>...</td>\n",
       "      <td>...</td>\n",
       "      <td>...</td>\n",
       "      <td>...</td>\n",
       "      <td>...</td>\n",
       "      <td>...</td>\n",
       "      <td>...</td>\n",
       "      <td>...</td>\n",
       "      <td>...</td>\n",
       "      <td>...</td>\n",
       "      <td>...</td>\n",
       "      <td>...</td>\n",
       "      <td>...</td>\n",
       "      <td>...</td>\n",
       "      <td>...</td>\n",
       "      <td>...</td>\n",
       "      <td>...</td>\n",
       "      <td>...</td>\n",
       "      <td>...</td>\n",
       "      <td>...</td>\n",
       "      <td>...</td>\n",
       "    </tr>\n",
       "    <tr>\n",
       "      <th>9707</th>\n",
       "      <td>201920</td>\n",
       "      <td>Academic year</td>\n",
       "      <td>National</td>\n",
       "      <td>E92000001</td>\n",
       "      <td>England</td>\n",
       "      <td>State-funded mainstream schools &amp; colleges</td>\n",
       "      <td>Total</td>\n",
       "      <td>All other qualifications</td>\n",
       "      <td>Total</td>\n",
       "      <td>Ethnicity Minor</td>\n",
       "      <td>...</td>\n",
       "      <td>0.9</td>\n",
       "      <td>2.1</td>\n",
       "      <td>23.6</td>\n",
       "      <td>38.4</td>\n",
       "      <td>17.6</td>\n",
       "      <td>8.1</td>\n",
       "      <td>12.7</td>\n",
       "      <td>24.5</td>\n",
       "      <td>22.7</td>\n",
       "      <td>1.9</td>\n",
       "    </tr>\n",
       "    <tr>\n",
       "      <th>9708</th>\n",
       "      <td>201920</td>\n",
       "      <td>Academic year</td>\n",
       "      <td>National</td>\n",
       "      <td>E92000001</td>\n",
       "      <td>England</td>\n",
       "      <td>State-funded mainstream schools &amp; colleges</td>\n",
       "      <td>Total</td>\n",
       "      <td>Level 3</td>\n",
       "      <td>Total</td>\n",
       "      <td>Ethnicity Major</td>\n",
       "      <td>...</td>\n",
       "      <td>1.1</td>\n",
       "      <td>0.4</td>\n",
       "      <td>12.0</td>\n",
       "      <td>7.3</td>\n",
       "      <td>4</td>\n",
       "      <td>2.1</td>\n",
       "      <td>1.2</td>\n",
       "      <td>3.2</td>\n",
       "      <td>2.6</td>\n",
       "      <td>0.6</td>\n",
       "    </tr>\n",
       "    <tr>\n",
       "      <th>9709</th>\n",
       "      <td>201920</td>\n",
       "      <td>Academic year</td>\n",
       "      <td>National</td>\n",
       "      <td>E92000001</td>\n",
       "      <td>England</td>\n",
       "      <td>State-funded mainstream schools &amp; colleges</td>\n",
       "      <td>Total</td>\n",
       "      <td>Level 3</td>\n",
       "      <td>Total</td>\n",
       "      <td>Ethnicity Minor</td>\n",
       "      <td>...</td>\n",
       "      <td>1.5</td>\n",
       "      <td>0.8</td>\n",
       "      <td>24.2</td>\n",
       "      <td>16.7</td>\n",
       "      <td>5.3</td>\n",
       "      <td>6.8</td>\n",
       "      <td>4.5</td>\n",
       "      <td>5.3</td>\n",
       "      <td>3.8</td>\n",
       "      <td>1.5</td>\n",
       "    </tr>\n",
       "    <tr>\n",
       "      <th>9685</th>\n",
       "      <td>201920</td>\n",
       "      <td>Academic year</td>\n",
       "      <td>National</td>\n",
       "      <td>E92000001</td>\n",
       "      <td>England</td>\n",
       "      <td>State-funded mainstream colleges</td>\n",
       "      <td>Total</td>\n",
       "      <td>Total</td>\n",
       "      <td>Total</td>\n",
       "      <td>Ethnicity Minor</td>\n",
       "      <td>...</td>\n",
       "      <td>1</td>\n",
       "      <td>0.9</td>\n",
       "      <td>13.9</td>\n",
       "      <td>13.4</td>\n",
       "      <td>6.9</td>\n",
       "      <td>4.1</td>\n",
       "      <td>2.4</td>\n",
       "      <td>6</td>\n",
       "      <td>5.3</td>\n",
       "      <td>0.7</td>\n",
       "    </tr>\n",
       "    <tr>\n",
       "      <th>11957</th>\n",
       "      <td>201920</td>\n",
       "      <td>Academic year</td>\n",
       "      <td>National</td>\n",
       "      <td>E92000001</td>\n",
       "      <td>England</td>\n",
       "      <td>State-funded mainstream schools &amp; colleges</td>\n",
       "      <td>Total</td>\n",
       "      <td>All other qualifications</td>\n",
       "      <td>Total</td>\n",
       "      <td>Disadvantage Y11 Status</td>\n",
       "      <td>...</td>\n",
       "      <td>2.7</td>\n",
       "      <td>6.4</td>\n",
       "      <td>23.3</td>\n",
       "      <td>40</td>\n",
       "      <td>13.7</td>\n",
       "      <td>13.1</td>\n",
       "      <td>13.1</td>\n",
       "      <td>11.5</td>\n",
       "      <td>11.1</td>\n",
       "      <td>0.4</td>\n",
       "    </tr>\n",
       "  </tbody>\n",
       "</table>\n",
       "<p>11958 rows × 41 columns</p>\n",
       "</div>"
      ],
      "text/plain": [
       "       time_period time_identifier geographic_level country_code country_name  \\\n",
       "0           201011   Academic year         National    E92000001      England   \n",
       "120         201011   Academic year         National    E92000001      England   \n",
       "121         201011   Academic year         National    E92000001      England   \n",
       "122         201011   Academic year         National    E92000001      England   \n",
       "123         201011   Academic year         National    E92000001      England   \n",
       "...            ...             ...              ...          ...          ...   \n",
       "9707        201920   Academic year         National    E92000001      England   \n",
       "9708        201920   Academic year         National    E92000001      England   \n",
       "9709        201920   Academic year         National    E92000001      England   \n",
       "9685        201920   Academic year         National    E92000001      England   \n",
       "11957       201920   Academic year         National    E92000001      England   \n",
       "\n",
       "                                institution_group institution_type  \\\n",
       "0                 State-funded mainstream schools            Total   \n",
       "120              State-funded mainstream colleges            Total   \n",
       "121               State-funded mainstream schools            Total   \n",
       "122               State-funded mainstream schools            Total   \n",
       "123              State-funded mainstream colleges            Total   \n",
       "...                                           ...              ...   \n",
       "9707   State-funded mainstream schools & colleges            Total   \n",
       "9708   State-funded mainstream schools & colleges            Total   \n",
       "9709   State-funded mainstream schools & colleges            Total   \n",
       "9685             State-funded mainstream colleges            Total   \n",
       "11957  State-funded mainstream schools & colleges            Total   \n",
       "\n",
       "             cohort_level_group      cohort_level     characteristic_group  \\\n",
       "0                       Level 3  Level 3 approved          Ethnicity Minor   \n",
       "120                     Level 3  Level 3 approved          Ethnicity Major   \n",
       "121                     Level 3  Level 3 approved          Ethnicity Minor   \n",
       "122                     Level 3  Level 3 approved          Ethnicity Minor   \n",
       "123                     Level 3  Level 3 approved          Ethnicity Major   \n",
       "...                         ...               ...                      ...   \n",
       "9707   All other qualifications             Total          Ethnicity Minor   \n",
       "9708                    Level 3             Total          Ethnicity Major   \n",
       "9709                    Level 3             Total          Ethnicity Minor   \n",
       "9685                      Total             Total          Ethnicity Minor   \n",
       "11957  All other qualifications             Total  Disadvantage Y11 Status   \n",
       "\n",
       "       ... appl3 appl2 all_work all_notsust notsust  notsust_ben  only_ben  \\\n",
       "0      ...  1585  2521  27736.0       10212    4386         4414      1412   \n",
       "120    ...   0.9   1.3      9.9        10.9     3.1            5       2.9   \n",
       "121    ...     0     0     33.3         9.5       0          9.5         0   \n",
       "122    ...   0.6   0.5      9.2         8.3     3.9          2.3       2.1   \n",
       "123    ...   2.3   2.5     29.1        12.2     3.4          6.4       2.4   \n",
       "...    ...   ...   ...      ...         ...     ...          ...       ...   \n",
       "9707   ...   0.9   2.1     23.6        38.4    17.6          8.1      12.7   \n",
       "9708   ...   1.1   0.4     12.0         7.3       4          2.1       1.2   \n",
       "9709   ...   1.5   0.8     24.2        16.7     5.3          6.8       4.5   \n",
       "9685   ...     1   0.9     13.9        13.4     6.9          4.1       2.4   \n",
       "11957  ...   2.7   6.4     23.3          40    13.7         13.1      13.1   \n",
       "\n",
       "       all_unknown  unknown_id unknown  \n",
       "0             2462        2025     437  \n",
       "120            3.5         2.6     0.9  \n",
       "121              0           0       0  \n",
       "122            7.7           6     1.7  \n",
       "123            2.5         1.7     0.8  \n",
       "...            ...         ...     ...  \n",
       "9707          24.5        22.7     1.9  \n",
       "9708           3.2         2.6     0.6  \n",
       "9709           5.3         3.8     1.5  \n",
       "9685             6         5.3     0.7  \n",
       "11957         11.5        11.1     0.4  \n",
       "\n",
       "[11958 rows x 41 columns]"
      ]
     },
     "execution_count": 3,
     "metadata": {},
     "output_type": "execute_result"
    }
   ],
   "source": [
    "df.sort_values(by=['time_period'],ascending=True, inplace=True )\n",
    "df"
   ]
  },
  {
   "cell_type": "markdown",
   "metadata": {},
   "source": [
    "The data has now been sorted by Academic Year in ascending order, from 2010 - 2011 to 2019 - 2020"
   ]
  },
  {
   "cell_type": "markdown",
   "metadata": {},
   "source": [
    "The data now needs to be reviewed to identify information which can be removed from the dataset. We want to retain data that is relevant in answering our project questions, but remove the data which are outside the scope of the project. I'll start by removing the columns with only one value."
   ]
  },
  {
   "cell_type": "code",
   "execution_count": 4,
   "metadata": {},
   "outputs": [
    {
     "data": {
      "text/html": [
       "<div>\n",
       "<style scoped>\n",
       "    .dataframe tbody tr th:only-of-type {\n",
       "        vertical-align: middle;\n",
       "    }\n",
       "\n",
       "    .dataframe tbody tr th {\n",
       "        vertical-align: top;\n",
       "    }\n",
       "\n",
       "    .dataframe thead th {\n",
       "        text-align: right;\n",
       "    }\n",
       "</style>\n",
       "<table border=\"1\" class=\"dataframe\">\n",
       "  <thead>\n",
       "    <tr style=\"text-align: right;\">\n",
       "      <th></th>\n",
       "      <th>time_period</th>\n",
       "      <th>institution_group</th>\n",
       "      <th>characteristic_group</th>\n",
       "      <th>characteristic</th>\n",
       "      <th>data_type</th>\n",
       "      <th>cohort</th>\n",
       "      <th>overall</th>\n",
       "      <th>education</th>\n",
       "      <th>he</th>\n",
       "      <th>fe</th>\n",
       "      <th>...</th>\n",
       "      <th>appl3</th>\n",
       "      <th>appl2</th>\n",
       "      <th>all_work</th>\n",
       "      <th>all_notsust</th>\n",
       "      <th>notsust</th>\n",
       "      <th>notsust_ben</th>\n",
       "      <th>only_ben</th>\n",
       "      <th>all_unknown</th>\n",
       "      <th>unknown_id</th>\n",
       "      <th>unknown</th>\n",
       "    </tr>\n",
       "  </thead>\n",
       "  <tbody>\n",
       "    <tr>\n",
       "      <th>0</th>\n",
       "      <td>201011</td>\n",
       "      <td>State-funded mainstream schools</td>\n",
       "      <td>Ethnicity Minor</td>\n",
       "      <td>White British</td>\n",
       "      <td>Number of pupils</td>\n",
       "      <td>125565</td>\n",
       "      <td>112891.0</td>\n",
       "      <td>81000.0</td>\n",
       "      <td>67369.0</td>\n",
       "      <td>8983.0</td>\n",
       "      <td>...</td>\n",
       "      <td>1585</td>\n",
       "      <td>2521</td>\n",
       "      <td>27736.0</td>\n",
       "      <td>10212</td>\n",
       "      <td>4386</td>\n",
       "      <td>4414</td>\n",
       "      <td>1412</td>\n",
       "      <td>2462</td>\n",
       "      <td>2025</td>\n",
       "      <td>437</td>\n",
       "    </tr>\n",
       "    <tr>\n",
       "      <th>120</th>\n",
       "      <td>201011</td>\n",
       "      <td>State-funded mainstream colleges</td>\n",
       "      <td>Ethnicity Major</td>\n",
       "      <td>Black or Black British</td>\n",
       "      <td>Percentage</td>\n",
       "      <td>5616</td>\n",
       "      <td>85.5</td>\n",
       "      <td>73.4</td>\n",
       "      <td>56.6</td>\n",
       "      <td>13.9</td>\n",
       "      <td>...</td>\n",
       "      <td>0.9</td>\n",
       "      <td>1.3</td>\n",
       "      <td>9.9</td>\n",
       "      <td>10.9</td>\n",
       "      <td>3.1</td>\n",
       "      <td>5</td>\n",
       "      <td>2.9</td>\n",
       "      <td>3.5</td>\n",
       "      <td>2.6</td>\n",
       "      <td>0.9</td>\n",
       "    </tr>\n",
       "    <tr>\n",
       "      <th>121</th>\n",
       "      <td>201011</td>\n",
       "      <td>State-funded mainstream schools</td>\n",
       "      <td>Ethnicity Minor</td>\n",
       "      <td>Gypsy Roma</td>\n",
       "      <td>Percentage</td>\n",
       "      <td>21</td>\n",
       "      <td>90.5</td>\n",
       "      <td>57.1</td>\n",
       "      <td>38.1</td>\n",
       "      <td>14.3</td>\n",
       "      <td>...</td>\n",
       "      <td>0</td>\n",
       "      <td>0</td>\n",
       "      <td>33.3</td>\n",
       "      <td>9.5</td>\n",
       "      <td>0</td>\n",
       "      <td>9.5</td>\n",
       "      <td>0</td>\n",
       "      <td>0</td>\n",
       "      <td>0</td>\n",
       "      <td>0</td>\n",
       "    </tr>\n",
       "    <tr>\n",
       "      <th>122</th>\n",
       "      <td>201011</td>\n",
       "      <td>State-funded mainstream schools</td>\n",
       "      <td>Ethnicity Minor</td>\n",
       "      <td>Any other ethnic group</td>\n",
       "      <td>Percentage</td>\n",
       "      <td>1912</td>\n",
       "      <td>83.9</td>\n",
       "      <td>73.6</td>\n",
       "      <td>64.1</td>\n",
       "      <td>4.8</td>\n",
       "      <td>...</td>\n",
       "      <td>0.6</td>\n",
       "      <td>0.5</td>\n",
       "      <td>9.2</td>\n",
       "      <td>8.3</td>\n",
       "      <td>3.9</td>\n",
       "      <td>2.3</td>\n",
       "      <td>2.1</td>\n",
       "      <td>7.7</td>\n",
       "      <td>6</td>\n",
       "      <td>1.7</td>\n",
       "    </tr>\n",
       "    <tr>\n",
       "      <th>123</th>\n",
       "      <td>201011</td>\n",
       "      <td>State-funded mainstream colleges</td>\n",
       "      <td>Ethnicity Major</td>\n",
       "      <td>White</td>\n",
       "      <td>Percentage</td>\n",
       "      <td>142809</td>\n",
       "      <td>85.3</td>\n",
       "      <td>51.4</td>\n",
       "      <td>39.2</td>\n",
       "      <td>10.6</td>\n",
       "      <td>...</td>\n",
       "      <td>2.3</td>\n",
       "      <td>2.5</td>\n",
       "      <td>29.1</td>\n",
       "      <td>12.2</td>\n",
       "      <td>3.4</td>\n",
       "      <td>6.4</td>\n",
       "      <td>2.4</td>\n",
       "      <td>2.5</td>\n",
       "      <td>1.7</td>\n",
       "      <td>0.8</td>\n",
       "    </tr>\n",
       "  </tbody>\n",
       "</table>\n",
       "<p>5 rows × 32 columns</p>\n",
       "</div>"
      ],
      "text/plain": [
       "     time_period                 institution_group characteristic_group  \\\n",
       "0         201011   State-funded mainstream schools      Ethnicity Minor   \n",
       "120       201011  State-funded mainstream colleges      Ethnicity Major   \n",
       "121       201011   State-funded mainstream schools      Ethnicity Minor   \n",
       "122       201011   State-funded mainstream schools      Ethnicity Minor   \n",
       "123       201011  State-funded mainstream colleges      Ethnicity Major   \n",
       "\n",
       "             characteristic         data_type  cohort   overall  education  \\\n",
       "0             White British  Number of pupils  125565  112891.0    81000.0   \n",
       "120  Black or Black British        Percentage    5616      85.5       73.4   \n",
       "121              Gypsy Roma        Percentage      21      90.5       57.1   \n",
       "122  Any other ethnic group        Percentage    1912      83.9       73.6   \n",
       "123                   White        Percentage  142809      85.3       51.4   \n",
       "\n",
       "          he      fe  ... appl3 appl2 all_work  all_notsust notsust  \\\n",
       "0    67369.0  8983.0  ...  1585  2521  27736.0        10212    4386   \n",
       "120     56.6    13.9  ...   0.9   1.3      9.9         10.9     3.1   \n",
       "121     38.1    14.3  ...     0     0     33.3          9.5       0   \n",
       "122     64.1     4.8  ...   0.6   0.5      9.2          8.3     3.9   \n",
       "123     39.2    10.6  ...   2.3   2.5     29.1         12.2     3.4   \n",
       "\n",
       "    notsust_ben only_ben all_unknown unknown_id unknown  \n",
       "0          4414     1412        2462       2025     437  \n",
       "120           5      2.9         3.5        2.6     0.9  \n",
       "121         9.5        0           0          0       0  \n",
       "122         2.3      2.1         7.7          6     1.7  \n",
       "123         6.4      2.4         2.5        1.7     0.8  \n",
       "\n",
       "[5 rows x 32 columns]"
      ]
     },
     "execution_count": 4,
     "metadata": {},
     "output_type": "execute_result"
    }
   ],
   "source": [
    "df.drop('time_identifier', axis=1, inplace=True)\n",
    "df.drop('geographic_level', axis=1, inplace=True)\n",
    "df.drop('country_code', axis=1, inplace=True)\n",
    "df.drop('country_name', axis=1, inplace=True)\n",
    "df.drop('version', axis=1, inplace=True)\n",
    "df.drop('institution_type', axis=1, inplace=True)\n",
    "df.drop('cohort_level_group', axis=1, inplace=True)\n",
    "df.drop('cohort_level', axis=1, inplace=True)\n",
    "df.drop('inst_count', axis=1, inplace=True)\n",
    "\n",
    "# View a sample of the amended data\n",
    "df.head()"
   ]
  },
  {
   "cell_type": "markdown",
   "metadata": {},
   "source": [
    "We are focusing on the female gender, so can drop the other characteristics"
   ]
  },
  {
   "cell_type": "code",
   "execution_count": 4,
   "metadata": {},
   "outputs": [
    {
     "data": {
      "text/plain": [
       "array(['White British', 'Any other Asian background',\n",
       "       'Traveller of Irish Heritage', 'Unclassified', 'Chinese', 'White',\n",
       "       'Mixed Dual background', 'Asian or Asian British',\n",
       "       'Any other ethnic group', 'Bangladeshi',\n",
       "       'Any other Black background', 'White Irish', 'Black Caribbean',\n",
       "       'White and Black African', 'FSM eligible', 'Pakistani',\n",
       "       'White and Black Caribbean', 'Indian', 'White and Asian',\n",
       "       'Black African', 'No identified SEN', 'Any other mixed background',\n",
       "       'Black or Black British', 'Identified SEN', 'Gypsy Roma',\n",
       "       'Any other white background', 'Total', 'Male', 'FSM not eligible',\n",
       "       'Identified LLDD', 'No identified LLDD', 'Female', 'Disadvantaged',\n",
       "       'Not Disadvantaged', 'Not Disadvantaged Male',\n",
       "       'Disadvantaged Male',\n",
       "       'Not Disadvantaged Prior Attainment KS2 above L4',\n",
       "       'Disadvantaged Unclassified', 'Not Disadvantaged Chinese',\n",
       "       'Disadvantaged Prior Attainment KS2 below L4',\n",
       "       'Not Disadvantaged Prior Attainment KS2 no recorded level',\n",
       "       'Prior Attainment KS5 did not achieve 2 L3 qualifications',\n",
       "       'Not Disadvantaged Prior Attainment KS4 E&M 9-4 achieved',\n",
       "       'Prior Attainment KS4 E&M 9-4 no record',\n",
       "       'Not Disadvantaged Prior Attainment KS5 did not achieve 2 L3 qualifications',\n",
       "       'Prior Attainment KS5 achieved  2 L3 qualifications',\n",
       "       'Disadvantaged Prior Attainment KS2 above L4',\n",
       "       'Disadvantaged Prior Attainment KS4 E&M 9-4 not achieved',\n",
       "       'Disadvantaged Prior Attainment KS5 achieved  2 L3 qualifications',\n",
       "       'Not Disadvantaged Black or Black British',\n",
       "       'Not Disadvantaged Unclassified',\n",
       "       'Disadvantaged Prior Attainment KS5 did not achieve 2 L3 qualifications',\n",
       "       'Not Disadvantaged Prior Attainment KS5 AAB inc 2 fac subjects',\n",
       "       'Prior Attainment KS5 AAB inc 2 fac subjects',\n",
       "       'Disadvantaged White', 'Not Disadvantaged Any other ethnic group',\n",
       "       'Disadvantaged Prior Attainment KS4 E&M 9-4 achieved',\n",
       "       'Not Disadvantaged Female', 'Disadvantaged Any other ethnic group',\n",
       "       'Not Disadvantaged White',\n",
       "       'Disadvantaged Prior Attainment KS2 at L4',\n",
       "       'Prior Attainment KS2 at L4',\n",
       "       'Not Disadvantaged Prior Attainment KS4 E&M 9-4 not achieved',\n",
       "       'Prior Attainment KS4 E&M 9-4 achieved',\n",
       "       'Disadvantaged Prior Attainment KS5 AAB inc 2 fac subjects',\n",
       "       'Not Disadvantaged Prior Attainment KS5 achieved  2 L3 qualifications',\n",
       "       'Disadvantaged Mixed Dual background',\n",
       "       'Disadvantaged Asian or Asian British', 'Disadvantaged Chinese',\n",
       "       'Not Disadvantaged Mixed Dual background',\n",
       "       'Not Disadvantaged Asian or Asian British',\n",
       "       'Prior Attainment KS2 above L4',\n",
       "       'Prior Attainment KS2 no recorded level',\n",
       "       'Not Disadvantaged Prior Attainment KS4 E&M 9-4 no record',\n",
       "       'Disadvantaged Black or Black British',\n",
       "       'Disadvantaged Prior Attainment KS2 no recorded level',\n",
       "       'Not Disadvantaged Prior Attainment KS2 below L4',\n",
       "       'Not Disadvantaged Prior Attainment KS2 at L4',\n",
       "       'Prior Attainment KS2 below L4',\n",
       "       'Prior Attainment KS4 E&M 9-4 not achieved',\n",
       "       'Disadvantaged Female',\n",
       "       'Disadvantaged Prior Attainment KS5 average points at C grade',\n",
       "       'Disadvantaged Prior Attainment KS5 average points above C grade',\n",
       "       'Prior Attainment KS5 average points below C grade',\n",
       "       'Prior Attainment KS5 average points at C grade',\n",
       "       'Not Disadvantaged Prior Attainment KS5 average points at C grade',\n",
       "       'Prior Attainment KS5 average points above C grade',\n",
       "       'Not Disadvantaged Prior Attainment KS5 average points above C grade',\n",
       "       'Disadvantaged Prior Attainment KS5 average points below C grade',\n",
       "       'Not Disadvantaged Prior Attainment KS5 average points below C grade'],\n",
       "      dtype=object)"
      ]
     },
     "execution_count": 4,
     "metadata": {},
     "output_type": "execute_result"
    }
   ],
   "source": [
    "df[\"characteristic\"].unique()"
   ]
  },
  {
   "cell_type": "code",
   "execution_count": 5,
   "metadata": {},
   "outputs": [
    {
     "data": {
      "text/html": [
       "<div>\n",
       "<style scoped>\n",
       "    .dataframe tbody tr th:only-of-type {\n",
       "        vertical-align: middle;\n",
       "    }\n",
       "\n",
       "    .dataframe tbody tr th {\n",
       "        vertical-align: top;\n",
       "    }\n",
       "\n",
       "    .dataframe thead th {\n",
       "        text-align: right;\n",
       "    }\n",
       "</style>\n",
       "<table border=\"1\" class=\"dataframe\">\n",
       "  <thead>\n",
       "    <tr style=\"text-align: right;\">\n",
       "      <th></th>\n",
       "      <th>time_period</th>\n",
       "      <th>institution_group</th>\n",
       "      <th>characteristic_group</th>\n",
       "      <th>characteristic</th>\n",
       "      <th>data_type</th>\n",
       "      <th>cohort</th>\n",
       "      <th>overall</th>\n",
       "      <th>education</th>\n",
       "      <th>he</th>\n",
       "      <th>fe</th>\n",
       "      <th>...</th>\n",
       "      <th>appl3</th>\n",
       "      <th>appl2</th>\n",
       "      <th>all_work</th>\n",
       "      <th>all_notsust</th>\n",
       "      <th>notsust</th>\n",
       "      <th>notsust_ben</th>\n",
       "      <th>only_ben</th>\n",
       "      <th>all_unknown</th>\n",
       "      <th>unknown_id</th>\n",
       "      <th>unknown</th>\n",
       "    </tr>\n",
       "  </thead>\n",
       "  <tbody>\n",
       "    <tr>\n",
       "      <th>135</th>\n",
       "      <td>201011</td>\n",
       "      <td>State-funded mainstream colleges</td>\n",
       "      <td>Gender</td>\n",
       "      <td>Female</td>\n",
       "      <td>Number of pupils</td>\n",
       "      <td>96656</td>\n",
       "      <td>82462.0</td>\n",
       "      <td>52188.0</td>\n",
       "      <td>39848.0</td>\n",
       "      <td>10666.0</td>\n",
       "      <td>...</td>\n",
       "      <td>925</td>\n",
       "      <td>2222</td>\n",
       "      <td>27079.0</td>\n",
       "      <td>10763</td>\n",
       "      <td>3276</td>\n",
       "      <td>5323</td>\n",
       "      <td>2164</td>\n",
       "      <td>3431</td>\n",
       "      <td>1638</td>\n",
       "      <td>1793</td>\n",
       "    </tr>\n",
       "    <tr>\n",
       "      <th>139</th>\n",
       "      <td>201011</td>\n",
       "      <td>State-funded mainstream schools</td>\n",
       "      <td>Gender</td>\n",
       "      <td>Female</td>\n",
       "      <td>Number of pupils</td>\n",
       "      <td>86313</td>\n",
       "      <td>77784.0</td>\n",
       "      <td>58755.0</td>\n",
       "      <td>48884.0</td>\n",
       "      <td>6944.0</td>\n",
       "      <td>...</td>\n",
       "      <td>606</td>\n",
       "      <td>1469</td>\n",
       "      <td>16943.0</td>\n",
       "      <td>6415</td>\n",
       "      <td>2934</td>\n",
       "      <td>2552</td>\n",
       "      <td>929</td>\n",
       "      <td>2114</td>\n",
       "      <td>1604</td>\n",
       "      <td>510</td>\n",
       "    </tr>\n",
       "    <tr>\n",
       "      <th>140</th>\n",
       "      <td>201011</td>\n",
       "      <td>State-funded mainstream schools &amp; colleges</td>\n",
       "      <td>Gender</td>\n",
       "      <td>Female</td>\n",
       "      <td>Number of pupils</td>\n",
       "      <td>182969</td>\n",
       "      <td>160246.0</td>\n",
       "      <td>110943.0</td>\n",
       "      <td>88732.0</td>\n",
       "      <td>17610.0</td>\n",
       "      <td>...</td>\n",
       "      <td>1531</td>\n",
       "      <td>3691</td>\n",
       "      <td>44022.0</td>\n",
       "      <td>17178</td>\n",
       "      <td>6210</td>\n",
       "      <td>7875</td>\n",
       "      <td>3093</td>\n",
       "      <td>5545</td>\n",
       "      <td>3242</td>\n",
       "      <td>2303</td>\n",
       "    </tr>\n",
       "    <tr>\n",
       "      <th>168</th>\n",
       "      <td>201011</td>\n",
       "      <td>State-funded mainstream schools &amp; colleges</td>\n",
       "      <td>Gender</td>\n",
       "      <td>Female</td>\n",
       "      <td>Percentage</td>\n",
       "      <td>182969</td>\n",
       "      <td>87.6</td>\n",
       "      <td>60.6</td>\n",
       "      <td>48.5</td>\n",
       "      <td>9.6</td>\n",
       "      <td>...</td>\n",
       "      <td>0.8</td>\n",
       "      <td>2</td>\n",
       "      <td>24.1</td>\n",
       "      <td>9.4</td>\n",
       "      <td>3.4</td>\n",
       "      <td>4.3</td>\n",
       "      <td>1.7</td>\n",
       "      <td>3</td>\n",
       "      <td>1.8</td>\n",
       "      <td>1.3</td>\n",
       "    </tr>\n",
       "    <tr>\n",
       "      <th>167</th>\n",
       "      <td>201011</td>\n",
       "      <td>State-funded mainstream schools</td>\n",
       "      <td>Gender</td>\n",
       "      <td>Female</td>\n",
       "      <td>Percentage</td>\n",
       "      <td>86313</td>\n",
       "      <td>90.1</td>\n",
       "      <td>68.1</td>\n",
       "      <td>56.6</td>\n",
       "      <td>8.0</td>\n",
       "      <td>...</td>\n",
       "      <td>0.7</td>\n",
       "      <td>1.7</td>\n",
       "      <td>19.6</td>\n",
       "      <td>7.4</td>\n",
       "      <td>3.4</td>\n",
       "      <td>3</td>\n",
       "      <td>1.1</td>\n",
       "      <td>2.4</td>\n",
       "      <td>1.9</td>\n",
       "      <td>0.6</td>\n",
       "    </tr>\n",
       "    <tr>\n",
       "      <th>...</th>\n",
       "      <td>...</td>\n",
       "      <td>...</td>\n",
       "      <td>...</td>\n",
       "      <td>...</td>\n",
       "      <td>...</td>\n",
       "      <td>...</td>\n",
       "      <td>...</td>\n",
       "      <td>...</td>\n",
       "      <td>...</td>\n",
       "      <td>...</td>\n",
       "      <td>...</td>\n",
       "      <td>...</td>\n",
       "      <td>...</td>\n",
       "      <td>...</td>\n",
       "      <td>...</td>\n",
       "      <td>...</td>\n",
       "      <td>...</td>\n",
       "      <td>...</td>\n",
       "      <td>...</td>\n",
       "      <td>...</td>\n",
       "      <td>...</td>\n",
       "    </tr>\n",
       "    <tr>\n",
       "      <th>9782</th>\n",
       "      <td>201920</td>\n",
       "      <td>State-funded mainstream schools</td>\n",
       "      <td>Gender</td>\n",
       "      <td>Female</td>\n",
       "      <td>Percentage</td>\n",
       "      <td>46</td>\n",
       "      <td>80.4</td>\n",
       "      <td>37.0</td>\n",
       "      <td>0.0</td>\n",
       "      <td>15.2</td>\n",
       "      <td>...</td>\n",
       "      <td>2.2</td>\n",
       "      <td>10.9</td>\n",
       "      <td>30.4</td>\n",
       "      <td>13</td>\n",
       "      <td>6.5</td>\n",
       "      <td>4.3</td>\n",
       "      <td>2.2</td>\n",
       "      <td>6.5</td>\n",
       "      <td>6.5</td>\n",
       "      <td>0</td>\n",
       "    </tr>\n",
       "    <tr>\n",
       "      <th>9795</th>\n",
       "      <td>201920</td>\n",
       "      <td>State-funded mainstream schools &amp; colleges</td>\n",
       "      <td>Gender</td>\n",
       "      <td>Female</td>\n",
       "      <td>Percentage</td>\n",
       "      <td>2304</td>\n",
       "      <td>80.4</td>\n",
       "      <td>31.1</td>\n",
       "      <td>2.0</td>\n",
       "      <td>27.6</td>\n",
       "      <td>...</td>\n",
       "      <td>6.2</td>\n",
       "      <td>3.8</td>\n",
       "      <td>39.0</td>\n",
       "      <td>16.8</td>\n",
       "      <td>5.5</td>\n",
       "      <td>7.2</td>\n",
       "      <td>4</td>\n",
       "      <td>2.9</td>\n",
       "      <td>2.4</td>\n",
       "      <td>0.4</td>\n",
       "    </tr>\n",
       "    <tr>\n",
       "      <th>9637</th>\n",
       "      <td>201920</td>\n",
       "      <td>State-funded mainstream colleges</td>\n",
       "      <td>Gender</td>\n",
       "      <td>Female</td>\n",
       "      <td>Percentage</td>\n",
       "      <td>36462</td>\n",
       "      <td>84.9</td>\n",
       "      <td>45.9</td>\n",
       "      <td>30.6</td>\n",
       "      <td>13.2</td>\n",
       "      <td>...</td>\n",
       "      <td>2.5</td>\n",
       "      <td>2.5</td>\n",
       "      <td>33.6</td>\n",
       "      <td>11.8</td>\n",
       "      <td>4.6</td>\n",
       "      <td>4.6</td>\n",
       "      <td>2.6</td>\n",
       "      <td>3.3</td>\n",
       "      <td>2.5</td>\n",
       "      <td>0.7</td>\n",
       "    </tr>\n",
       "    <tr>\n",
       "      <th>9690</th>\n",
       "      <td>201920</td>\n",
       "      <td>State-funded mainstream schools &amp; colleges</td>\n",
       "      <td>Gender</td>\n",
       "      <td>Female</td>\n",
       "      <td>Percentage</td>\n",
       "      <td>258569</td>\n",
       "      <td>83.6</td>\n",
       "      <td>51.4</td>\n",
       "      <td>39.8</td>\n",
       "      <td>9.0</td>\n",
       "      <td>...</td>\n",
       "      <td>2.9</td>\n",
       "      <td>3.1</td>\n",
       "      <td>25.5</td>\n",
       "      <td>12.2</td>\n",
       "      <td>5.3</td>\n",
       "      <td>4</td>\n",
       "      <td>3</td>\n",
       "      <td>4.2</td>\n",
       "      <td>3.3</td>\n",
       "      <td>0.9</td>\n",
       "    </tr>\n",
       "    <tr>\n",
       "      <th>9703</th>\n",
       "      <td>201920</td>\n",
       "      <td>State-funded mainstream schools &amp; colleges</td>\n",
       "      <td>Gender</td>\n",
       "      <td>Female</td>\n",
       "      <td>Percentage</td>\n",
       "      <td>195200</td>\n",
       "      <td>89.3</td>\n",
       "      <td>60.9</td>\n",
       "      <td>52.5</td>\n",
       "      <td>6.1</td>\n",
       "      <td>...</td>\n",
       "      <td>2.2</td>\n",
       "      <td>1.8</td>\n",
       "      <td>23.7</td>\n",
       "      <td>7.6</td>\n",
       "      <td>3.9</td>\n",
       "      <td>2.4</td>\n",
       "      <td>1.3</td>\n",
       "      <td>3.1</td>\n",
       "      <td>2.4</td>\n",
       "      <td>0.7</td>\n",
       "    </tr>\n",
       "  </tbody>\n",
       "</table>\n",
       "<p>236 rows × 32 columns</p>\n",
       "</div>"
      ],
      "text/plain": [
       "      time_period                           institution_group  \\\n",
       "135        201011            State-funded mainstream colleges   \n",
       "139        201011             State-funded mainstream schools   \n",
       "140        201011  State-funded mainstream schools & colleges   \n",
       "168        201011  State-funded mainstream schools & colleges   \n",
       "167        201011             State-funded mainstream schools   \n",
       "...           ...                                         ...   \n",
       "9782       201920             State-funded mainstream schools   \n",
       "9795       201920  State-funded mainstream schools & colleges   \n",
       "9637       201920            State-funded mainstream colleges   \n",
       "9690       201920  State-funded mainstream schools & colleges   \n",
       "9703       201920  State-funded mainstream schools & colleges   \n",
       "\n",
       "     characteristic_group characteristic         data_type  cohort   overall  \\\n",
       "135                Gender         Female  Number of pupils   96656   82462.0   \n",
       "139                Gender         Female  Number of pupils   86313   77784.0   \n",
       "140                Gender         Female  Number of pupils  182969  160246.0   \n",
       "168                Gender         Female        Percentage  182969      87.6   \n",
       "167                Gender         Female        Percentage   86313      90.1   \n",
       "...                   ...            ...               ...     ...       ...   \n",
       "9782               Gender         Female        Percentage      46      80.4   \n",
       "9795               Gender         Female        Percentage    2304      80.4   \n",
       "9637               Gender         Female        Percentage   36462      84.9   \n",
       "9690               Gender         Female        Percentage  258569      83.6   \n",
       "9703               Gender         Female        Percentage  195200      89.3   \n",
       "\n",
       "      education       he       fe  ... appl3 appl2 all_work  all_notsust  \\\n",
       "135     52188.0  39848.0  10666.0  ...   925  2222  27079.0        10763   \n",
       "139     58755.0  48884.0   6944.0  ...   606  1469  16943.0         6415   \n",
       "140    110943.0  88732.0  17610.0  ...  1531  3691  44022.0        17178   \n",
       "168        60.6     48.5      9.6  ...   0.8     2     24.1          9.4   \n",
       "167        68.1     56.6      8.0  ...   0.7   1.7     19.6          7.4   \n",
       "...         ...      ...      ...  ...   ...   ...      ...          ...   \n",
       "9782       37.0      0.0     15.2  ...   2.2  10.9     30.4           13   \n",
       "9795       31.1      2.0     27.6  ...   6.2   3.8     39.0         16.8   \n",
       "9637       45.9     30.6     13.2  ...   2.5   2.5     33.6         11.8   \n",
       "9690       51.4     39.8      9.0  ...   2.9   3.1     25.5         12.2   \n",
       "9703       60.9     52.5      6.1  ...   2.2   1.8     23.7          7.6   \n",
       "\n",
       "     notsust notsust_ben only_ben all_unknown unknown_id unknown  \n",
       "135     3276        5323     2164        3431       1638    1793  \n",
       "139     2934        2552      929        2114       1604     510  \n",
       "140     6210        7875     3093        5545       3242    2303  \n",
       "168      3.4         4.3      1.7           3        1.8     1.3  \n",
       "167      3.4           3      1.1         2.4        1.9     0.6  \n",
       "...      ...         ...      ...         ...        ...     ...  \n",
       "9782     6.5         4.3      2.2         6.5        6.5       0  \n",
       "9795     5.5         7.2        4         2.9        2.4     0.4  \n",
       "9637     4.6         4.6      2.6         3.3        2.5     0.7  \n",
       "9690     5.3           4        3         4.2        3.3     0.9  \n",
       "9703     3.9         2.4      1.3         3.1        2.4     0.7  \n",
       "\n",
       "[236 rows x 32 columns]"
      ]
     },
     "execution_count": 5,
     "metadata": {},
     "output_type": "execute_result"
    }
   ],
   "source": [
    "#  filter on gender\n",
    "\n",
    "df[df[\"characteristic\"] == 'Female'] "
   ]
  },
  {
   "cell_type": "code",
   "execution_count": 6,
   "metadata": {},
   "outputs": [
    {
     "data": {
      "text/plain": [
       "array(['Number of pupils', 'Percentage'], dtype=object)"
      ]
     },
     "execution_count": 6,
     "metadata": {},
     "output_type": "execute_result"
    }
   ],
   "source": [
    "df[\"data_type\"].unique()"
   ]
  },
  {
   "cell_type": "markdown",
   "metadata": {},
   "source": [
    "We don't need both number of pupils and percentage, so I'll choose number of pupils only."
   ]
  },
  {
   "cell_type": "code",
   "execution_count": 10,
   "metadata": {},
   "outputs": [
    {
     "data": {
      "text/html": [
       "<div>\n",
       "<style scoped>\n",
       "    .dataframe tbody tr th:only-of-type {\n",
       "        vertical-align: middle;\n",
       "    }\n",
       "\n",
       "    .dataframe tbody tr th {\n",
       "        vertical-align: top;\n",
       "    }\n",
       "\n",
       "    .dataframe thead th {\n",
       "        text-align: right;\n",
       "    }\n",
       "</style>\n",
       "<table border=\"1\" class=\"dataframe\">\n",
       "  <thead>\n",
       "    <tr style=\"text-align: right;\">\n",
       "      <th></th>\n",
       "      <th>time_period</th>\n",
       "      <th>institution_group</th>\n",
       "      <th>characteristic_group</th>\n",
       "      <th>characteristic</th>\n",
       "      <th>data_type</th>\n",
       "      <th>cohort</th>\n",
       "      <th>overall</th>\n",
       "      <th>education</th>\n",
       "      <th>he</th>\n",
       "      <th>fe</th>\n",
       "      <th>...</th>\n",
       "      <th>appl3</th>\n",
       "      <th>appl2</th>\n",
       "      <th>all_work</th>\n",
       "      <th>all_notsust</th>\n",
       "      <th>notsust</th>\n",
       "      <th>notsust_ben</th>\n",
       "      <th>only_ben</th>\n",
       "      <th>all_unknown</th>\n",
       "      <th>unknown_id</th>\n",
       "      <th>unknown</th>\n",
       "    </tr>\n",
       "  </thead>\n",
       "  <tbody>\n",
       "    <tr>\n",
       "      <th>135</th>\n",
       "      <td>201011</td>\n",
       "      <td>State-funded mainstream colleges</td>\n",
       "      <td>Gender</td>\n",
       "      <td>Female</td>\n",
       "      <td>Number of pupils</td>\n",
       "      <td>96656</td>\n",
       "      <td>82462.0</td>\n",
       "      <td>52188.0</td>\n",
       "      <td>39848.0</td>\n",
       "      <td>10666.0</td>\n",
       "      <td>...</td>\n",
       "      <td>925</td>\n",
       "      <td>2222</td>\n",
       "      <td>27079.0</td>\n",
       "      <td>10763</td>\n",
       "      <td>3276</td>\n",
       "      <td>5323</td>\n",
       "      <td>2164</td>\n",
       "      <td>3431</td>\n",
       "      <td>1638</td>\n",
       "      <td>1793</td>\n",
       "    </tr>\n",
       "    <tr>\n",
       "      <th>139</th>\n",
       "      <td>201011</td>\n",
       "      <td>State-funded mainstream schools</td>\n",
       "      <td>Gender</td>\n",
       "      <td>Female</td>\n",
       "      <td>Number of pupils</td>\n",
       "      <td>86313</td>\n",
       "      <td>77784.0</td>\n",
       "      <td>58755.0</td>\n",
       "      <td>48884.0</td>\n",
       "      <td>6944.0</td>\n",
       "      <td>...</td>\n",
       "      <td>606</td>\n",
       "      <td>1469</td>\n",
       "      <td>16943.0</td>\n",
       "      <td>6415</td>\n",
       "      <td>2934</td>\n",
       "      <td>2552</td>\n",
       "      <td>929</td>\n",
       "      <td>2114</td>\n",
       "      <td>1604</td>\n",
       "      <td>510</td>\n",
       "    </tr>\n",
       "    <tr>\n",
       "      <th>140</th>\n",
       "      <td>201011</td>\n",
       "      <td>State-funded mainstream schools &amp; colleges</td>\n",
       "      <td>Gender</td>\n",
       "      <td>Female</td>\n",
       "      <td>Number of pupils</td>\n",
       "      <td>182969</td>\n",
       "      <td>160246.0</td>\n",
       "      <td>110943.0</td>\n",
       "      <td>88732.0</td>\n",
       "      <td>17610.0</td>\n",
       "      <td>...</td>\n",
       "      <td>1531</td>\n",
       "      <td>3691</td>\n",
       "      <td>44022.0</td>\n",
       "      <td>17178</td>\n",
       "      <td>6210</td>\n",
       "      <td>7875</td>\n",
       "      <td>3093</td>\n",
       "      <td>5545</td>\n",
       "      <td>3242</td>\n",
       "      <td>2303</td>\n",
       "    </tr>\n",
       "    <tr>\n",
       "      <th>168</th>\n",
       "      <td>201011</td>\n",
       "      <td>State-funded mainstream schools &amp; colleges</td>\n",
       "      <td>Gender</td>\n",
       "      <td>Female</td>\n",
       "      <td>Percentage</td>\n",
       "      <td>182969</td>\n",
       "      <td>87.6</td>\n",
       "      <td>60.6</td>\n",
       "      <td>48.5</td>\n",
       "      <td>9.6</td>\n",
       "      <td>...</td>\n",
       "      <td>0.8</td>\n",
       "      <td>2</td>\n",
       "      <td>24.1</td>\n",
       "      <td>9.4</td>\n",
       "      <td>3.4</td>\n",
       "      <td>4.3</td>\n",
       "      <td>1.7</td>\n",
       "      <td>3</td>\n",
       "      <td>1.8</td>\n",
       "      <td>1.3</td>\n",
       "    </tr>\n",
       "    <tr>\n",
       "      <th>167</th>\n",
       "      <td>201011</td>\n",
       "      <td>State-funded mainstream schools</td>\n",
       "      <td>Gender</td>\n",
       "      <td>Female</td>\n",
       "      <td>Percentage</td>\n",
       "      <td>86313</td>\n",
       "      <td>90.1</td>\n",
       "      <td>68.1</td>\n",
       "      <td>56.6</td>\n",
       "      <td>8.0</td>\n",
       "      <td>...</td>\n",
       "      <td>0.7</td>\n",
       "      <td>1.7</td>\n",
       "      <td>19.6</td>\n",
       "      <td>7.4</td>\n",
       "      <td>3.4</td>\n",
       "      <td>3</td>\n",
       "      <td>1.1</td>\n",
       "      <td>2.4</td>\n",
       "      <td>1.9</td>\n",
       "      <td>0.6</td>\n",
       "    </tr>\n",
       "  </tbody>\n",
       "</table>\n",
       "<p>5 rows × 32 columns</p>\n",
       "</div>"
      ],
      "text/plain": [
       "     time_period                           institution_group  \\\n",
       "135       201011            State-funded mainstream colleges   \n",
       "139       201011             State-funded mainstream schools   \n",
       "140       201011  State-funded mainstream schools & colleges   \n",
       "168       201011  State-funded mainstream schools & colleges   \n",
       "167       201011             State-funded mainstream schools   \n",
       "\n",
       "    characteristic_group characteristic         data_type  cohort   overall  \\\n",
       "135               Gender         Female  Number of pupils   96656   82462.0   \n",
       "139               Gender         Female  Number of pupils   86313   77784.0   \n",
       "140               Gender         Female  Number of pupils  182969  160246.0   \n",
       "168               Gender         Female        Percentage  182969      87.6   \n",
       "167               Gender         Female        Percentage   86313      90.1   \n",
       "\n",
       "     education       he       fe  ... appl3 appl2 all_work  all_notsust  \\\n",
       "135    52188.0  39848.0  10666.0  ...   925  2222  27079.0        10763   \n",
       "139    58755.0  48884.0   6944.0  ...   606  1469  16943.0         6415   \n",
       "140   110943.0  88732.0  17610.0  ...  1531  3691  44022.0        17178   \n",
       "168       60.6     48.5      9.6  ...   0.8     2     24.1          9.4   \n",
       "167       68.1     56.6      8.0  ...   0.7   1.7     19.6          7.4   \n",
       "\n",
       "    notsust notsust_ben only_ben all_unknown unknown_id unknown  \n",
       "135    3276        5323     2164        3431       1638    1793  \n",
       "139    2934        2552      929        2114       1604     510  \n",
       "140    6210        7875     3093        5545       3242    2303  \n",
       "168     3.4         4.3      1.7           3        1.8     1.3  \n",
       "167     3.4           3      1.1         2.4        1.9     0.6  \n",
       "\n",
       "[5 rows x 32 columns]"
      ]
     },
     "execution_count": 10,
     "metadata": {},
     "output_type": "execute_result"
    }
   ],
   "source": [
    "filterdata = df.loc[(df[\"characteristic\"] == 'Female') & (df[\"time_period\"] == '201011')] \n",
    "\n",
    "filterdata.head()"
   ]
  },
  {
   "cell_type": "markdown",
   "metadata": {},
   "source": [
    "Too much data to visualise so using headline data to simplify destination by gender. CSV imported from SQL."
   ]
  },
  {
   "cell_type": "code",
   "execution_count": 7,
   "metadata": {},
   "outputs": [
    {
     "data": {
      "text/html": [
       "<div>\n",
       "<style scoped>\n",
       "    .dataframe tbody tr th:only-of-type {\n",
       "        vertical-align: middle;\n",
       "    }\n",
       "\n",
       "    .dataframe tbody tr th {\n",
       "        vertical-align: top;\n",
       "    }\n",
       "\n",
       "    .dataframe thead th {\n",
       "        text-align: right;\n",
       "    }\n",
       "</style>\n",
       "<table border=\"1\" class=\"dataframe\">\n",
       "  <thead>\n",
       "    <tr style=\"text-align: right;\">\n",
       "      <th></th>\n",
       "      <th>Gender</th>\n",
       "      <th>Number_of_pupils_completing_16_18_study</th>\n",
       "      <th>Sustained_education_apprenticeship_or_employment</th>\n",
       "      <th>Sustained_education_destination</th>\n",
       "      <th>UK_higher_education_institution</th>\n",
       "      <th>Further_education</th>\n",
       "      <th>Other_education_destinations</th>\n",
       "      <th>Sustained_apprenticeships</th>\n",
       "      <th>Sustained_employment_destination</th>\n",
       "      <th>Not_recorded_as_a_sustained_destination</th>\n",
       "      <th>Activity_not_captured</th>\n",
       "    </tr>\n",
       "  </thead>\n",
       "  <tbody>\n",
       "    <tr>\n",
       "      <th>0</th>\n",
       "      <td>FEMALE</td>\n",
       "      <td>258569</td>\n",
       "      <td>83.6</td>\n",
       "      <td>51.4</td>\n",
       "      <td>39.8</td>\n",
       "      <td>9.0</td>\n",
       "      <td>2.7</td>\n",
       "      <td>6.6</td>\n",
       "      <td>25.5</td>\n",
       "      <td>12.2</td>\n",
       "      <td>4.2</td>\n",
       "    </tr>\n",
       "    <tr>\n",
       "      <th>1</th>\n",
       "      <td>MALE</td>\n",
       "      <td>262548</td>\n",
       "      <td>77.9</td>\n",
       "      <td>43.5</td>\n",
       "      <td>30.6</td>\n",
       "      <td>10.4</td>\n",
       "      <td>2.6</td>\n",
       "      <td>10.2</td>\n",
       "      <td>24.2</td>\n",
       "      <td>15.4</td>\n",
       "      <td>6.7</td>\n",
       "    </tr>\n",
       "  </tbody>\n",
       "</table>\n",
       "</div>"
      ],
      "text/plain": [
       "   Gender  Number_of_pupils_completing_16_18_study  \\\n",
       "0  FEMALE                                   258569   \n",
       "1    MALE                                   262548   \n",
       "\n",
       "   Sustained_education_apprenticeship_or_employment  \\\n",
       "0                                              83.6   \n",
       "1                                              77.9   \n",
       "\n",
       "   Sustained_education_destination  UK_higher_education_institution  \\\n",
       "0                             51.4                             39.8   \n",
       "1                             43.5                             30.6   \n",
       "\n",
       "   Further_education  Other_education_destinations  Sustained_apprenticeships  \\\n",
       "0                9.0                           2.7                        6.6   \n",
       "1               10.4                           2.6                       10.2   \n",
       "\n",
       "   Sustained_employment_destination  Not_recorded_as_a_sustained_destination  \\\n",
       "0                              25.5                                     12.2   \n",
       "1                              24.2                                     15.4   \n",
       "\n",
       "   Activity_not_captured  \n",
       "0                    4.2  \n",
       "1                    6.7  "
      ]
     },
     "execution_count": 7,
     "metadata": {},
     "output_type": "execute_result"
    }
   ],
   "source": [
    "# Data for academic year 2019/20\n",
    "df2 = pd.read_csv('/Users/claireevans/Documents/CFG Degree/4.Project/Github/DESTINATIONBYGENDER.csv')\n",
    "\n",
    "# View a sample of the data\n",
    "df2.head()"
   ]
  },
  {
   "cell_type": "code",
   "execution_count": 22,
   "metadata": {},
   "outputs": [],
   "source": [
    "# Visualise the data\n",
    "import numpy as np\n",
    "import matplotlib.pyplot as plt"
   ]
  },
  {
   "cell_type": "code",
   "execution_count": 50,
   "metadata": {},
   "outputs": [
    {
     "data": {
      "image/png": "[encoded data removed]",
      "text/plain": [
       "<Figure size 720x360 with 1 Axes>"
      ]
     },
     "metadata": {
      "needs_background": "light"
     },
     "output_type": "display_data"
    },
    {
     "data": {
      "image/png": "[encoded data removed]",
      "text/plain": [
       "<Figure size 432x288 with 1 Axes>"
      ]
     },
     "metadata": {},
     "output_type": "display_data"
    },
    {
     "data": {
      "image/png": "[encoded data removed]",
      "text/plain": [
       "<Figure size 720x360 with 1 Axes>"
      ]
     },
     "metadata": {
      "needs_background": "light"
     },
     "output_type": "display_data"
    },
    {
     "data": {
      "image/png": "[encoded data removed]",
      "text/plain": [
       "<Figure size 432x288 with 1 Axes>"
      ]
     },
     "metadata": {},
     "output_type": "display_data"
    }
   ],
   "source": [
    "\n",
    "#  Data for females 2019/20 \n",
    "# creating the dataset\n",
    "data = {'Sust Edu, App or Emp':83.60, 'Sust Edu':51.40, 'HE':39.80, 'FE':9.0, \"Other Edu\":2.7, \"Sust App\":6.60, 'Sust Emp':25.50, 'Not a rec dest':12.2,\n",
    "        'Not Captured':4.2}\n",
    "courses = list(data.keys())\n",
    "values = list(data.values())\n",
    "  \n",
    "fig = plt.figure(figsize = (10, 5))\n",
    " \n",
    "# creating the bar plot\n",
    "plt.bar(courses, values, color ='maroon',\n",
    "        width = 0.4)\n",
    " \n",
    "plt.xlabel(\"Courses offered\")\n",
    "plt.ylabel(\"No. of students enrolled\")\n",
    "plt.title(\"Destinations for female students 2019-2020 as a percentage\")\n",
    "plt.show()\n",
    "\n",
    "# Pie chart, where the slices will be ordered and plotted counter-clockwise:\n",
    "labels = 'Sust E/Ap/Emp', 'Sust E', 'HE', 'FE', 'Other Ed', 'Su Ap', 'Su E', 'Not rec', 'Not cap'\n",
    "sizes = [83.6, 51.4, 39.80, 9.0, 2.7, 6.6, 25.5, 12.2, 4.2]\n",
    "\n",
    "\n",
    "fig1, ax1 = plt.subplots()\n",
    "ax1.pie(sizes, labels=labels, autopct='%1.1f%%',\n",
    "        startangle=90)\n",
    "ax1.axis('equal')  # Equal aspect ratio ensures that pie is drawn as a circle.\n",
    "\n",
    "plt.title(\"Destinations for female students 2019-2020 as a percentage\")\n",
    "plt.show()\n",
    "\n",
    "# Data for males 2019/20\n",
    "\n",
    "\n",
    "# creating the dataset\n",
    "data = {'Sust Edu, App or Emp':77.90, 'Sust Edu':43.50, 'HE':30.60, 'FE':10.40, \"Other Edu\":2.6, \"Sust App\":10.20, 'Sust Emp':24.20, 'Not a rec dest':15.40,\n",
    "        'Not Captured':6.70}\n",
    "courses = list(data.keys())\n",
    "values = list(data.values())\n",
    "  \n",
    "fig = plt.figure(figsize = (10, 5))\n",
    " \n",
    "# creating the bar plot\n",
    "plt.bar(courses, values, color ='maroon',\n",
    "        width = 0.4)\n",
    " \n",
    "plt.xlabel(\"Courses offered\")\n",
    "plt.ylabel(\"No. of students enrolled\")\n",
    "plt.title(\"Destinations for male students 2019-2020 as a percentage\")\n",
    "plt.show()\n",
    "\n",
    "# Pie chart, where the slices will be ordered and plotted counter-clockwise:\n",
    "labels = 'Sust E/Ap/Emp', 'Sust E', 'HE', 'FE', 'Other Ed', 'Su Ap', 'Su E', 'Not rec', 'Not cap'\n",
    "sizes = [77.90, 43.50, 30.60, 10.40, 2.60, 10.20, 24.20, 15.40, 6.70]\n",
    "\n",
    "\n",
    "fig1, ax1 = plt.subplots()\n",
    "ax1.pie(sizes, labels=labels, autopct='%1.1f%%',\n",
    "        startangle=90)\n",
    "ax1.axis('equal')  # Equal aspect ratio ensures that pie is drawn as a circle.\n",
    "\n",
    "plt.title(\"Destinations for male students 2019-2020 as a percentage\")\n",
    "plt.show()\n",
    "\n"
   ]
  },
  {
   "cell_type": "code",
   "execution_count": 54,
   "metadata": {},
   "outputs": [
    {
     "data": {
      "text/html": [
       "<div>\n",
       "<style scoped>\n",
       "    .dataframe tbody tr th:only-of-type {\n",
       "        vertical-align: middle;\n",
       "    }\n",
       "\n",
       "    .dataframe tbody tr th {\n",
       "        vertical-align: top;\n",
       "    }\n",
       "\n",
       "    .dataframe thead th {\n",
       "        text-align: right;\n",
       "    }\n",
       "</style>\n",
       "<table border=\"1\" class=\"dataframe\">\n",
       "  <thead>\n",
       "    <tr style=\"text-align: right;\">\n",
       "      <th></th>\n",
       "      <th>location</th>\n",
       "      <th>location_code</th>\n",
       "      <th>geographic_level</th>\n",
       "      <th>time_period</th>\n",
       "      <th>data_type</th>\n",
       "      <th>institution_type</th>\n",
       "      <th>cohort_level</th>\n",
       "      <th>characteristic</th>\n",
       "      <th>all_unknown</th>\n",
       "      <th>fe</th>\n",
       "      <th>all_notsust</th>\n",
       "      <th>cohort</th>\n",
       "      <th>other_edu</th>\n",
       "      <th>appren</th>\n",
       "      <th>education</th>\n",
       "      <th>overall</th>\n",
       "      <th>all_work</th>\n",
       "      <th>he</th>\n",
       "    </tr>\n",
       "  </thead>\n",
       "  <tbody>\n",
       "    <tr>\n",
       "      <th>0</th>\n",
       "      <td>England</td>\n",
       "      <td>E92000001</td>\n",
       "      <td>country</td>\n",
       "      <td>201718</td>\n",
       "      <td>Percentage</td>\n",
       "      <td>Total</td>\n",
       "      <td>Total</td>\n",
       "      <td>Female</td>\n",
       "      <td>4.3</td>\n",
       "      <td>9.1</td>\n",
       "      <td>12.0</td>\n",
       "      <td>264644</td>\n",
       "      <td>2.4</td>\n",
       "      <td>7.8</td>\n",
       "      <td>50.3</td>\n",
       "      <td>83.8</td>\n",
       "      <td>25.7</td>\n",
       "      <td>38.9</td>\n",
       "    </tr>\n",
       "    <tr>\n",
       "      <th>1</th>\n",
       "      <td>England</td>\n",
       "      <td>E92000001</td>\n",
       "      <td>country</td>\n",
       "      <td>201718</td>\n",
       "      <td>Percentage</td>\n",
       "      <td>Total</td>\n",
       "      <td>Total</td>\n",
       "      <td>Male</td>\n",
       "      <td>6.7</td>\n",
       "      <td>10.1</td>\n",
       "      <td>14.7</td>\n",
       "      <td>269684</td>\n",
       "      <td>2.3</td>\n",
       "      <td>11.3</td>\n",
       "      <td>43.2</td>\n",
       "      <td>78.7</td>\n",
       "      <td>24.2</td>\n",
       "      <td>30.8</td>\n",
       "    </tr>\n",
       "  </tbody>\n",
       "</table>\n",
       "</div>"
      ],
      "text/plain": [
       "  location location_code geographic_level  time_period   data_type  \\\n",
       "0  England     E92000001          country       201718  Percentage   \n",
       "1  England     E92000001          country       201718  Percentage   \n",
       "\n",
       "  institution_type cohort_level characteristic  all_unknown    fe  \\\n",
       "0            Total        Total         Female          4.3   9.1   \n",
       "1            Total        Total           Male          6.7  10.1   \n",
       "\n",
       "   all_notsust  cohort  other_edu  appren  education  overall  all_work    he  \n",
       "0         12.0  264644        2.4     7.8       50.3     83.8      25.7  38.9  \n",
       "1         14.7  269684        2.3    11.3       43.2     78.7      24.2  30.8  "
      ]
     },
     "execution_count": 54,
     "metadata": {},
     "output_type": "execute_result"
    }
   ],
   "source": [
    "#  Data for academic year 2017/18\n",
    "\n",
    "df3 = pd.read_csv('/Users/claireevans/Documents/CFG Degree/4.Project/Github/DESTINATIONGENDER2.csv')\n",
    "\n",
    "# View a sample of the data\n",
    "df3.head()"
   ]
  },
  {
   "cell_type": "code",
   "execution_count": 57,
   "metadata": {},
   "outputs": [
    {
     "data": {
      "image/png": "[encoded data removed]",
      "text/plain": [
       "<Figure size 720x360 with 1 Axes>"
      ]
     },
     "metadata": {
      "needs_background": "light"
     },
     "output_type": "display_data"
    },
    {
     "data": {
      "image/png": "[encoded data removed]",
      "text/plain": [
       "<Figure size 432x288 with 1 Axes>"
      ]
     },
     "metadata": {},
     "output_type": "display_data"
    },
    {
     "data": {
      "image/png": "[encoded data removed]",
      "text/plain": [
       "<Figure size 720x360 with 1 Axes>"
      ]
     },
     "metadata": {
      "needs_background": "light"
     },
     "output_type": "display_data"
    },
    {
     "data": {
      "image/png": "[encoded data removed]",
      "text/plain": [
       "<Figure size 432x288 with 1 Axes>"
      ]
     },
     "metadata": {},
     "output_type": "display_data"
    }
   ],
   "source": [
    "\n",
    "#  Data for females 2017/18\n",
    "# creating the dataset\n",
    "data = {'Sust Edu, App or Emp':83.80, 'Sust Edu':50.3, 'HE':38.9, 'FE':9.1, \"Other Edu\":2.4, \"Sust App\":7.8, 'Sust Emp':25.7, 'Not a rec dest':12.0,\n",
    "        'Not Captured':4.3}\n",
    "courses = list(data.keys())\n",
    "values = list(data.values())\n",
    "  \n",
    "fig = plt.figure(figsize = (10, 5))\n",
    " \n",
    "# creating the bar plot\n",
    "plt.bar(courses, values, color ='maroon',\n",
    "        width = 0.4)\n",
    " \n",
    "plt.xlabel(\"Courses offered\")\n",
    "plt.ylabel(\"No. of students enrolled\")\n",
    "plt.title(\"Destinations for female students 2017-2018 as a percentage\")\n",
    "plt.show()\n",
    "\n",
    "# Pie chart, where the slices will be ordered and plotted counter-clockwise:\n",
    "labels = 'Sust E/Ap/Emp', 'Sust E', 'HE', 'FE', 'Other Ed', 'Su Ap', 'Su E', 'Not rec', 'Not cap'\n",
    "sizes = [83.8, 50.3, 38.9, 9.1, 2.4, 7.8, 25.7, 12.0, 4.3]\n",
    "\n",
    "\n",
    "fig1, ax1 = plt.subplots()\n",
    "ax1.pie(sizes, labels=labels, autopct='%1.1f%%',\n",
    "        startangle=90)\n",
    "ax1.axis('equal')  # Equal aspect ratio ensures that pie is drawn as a circle.\n",
    "\n",
    "plt.title(\"Destinations for female students 2017-2018 as a percentage\")\n",
    "plt.show()\n",
    "\n",
    "# Data for males 2017/18\n",
    "\n",
    "\n",
    "# creating the dataset\n",
    "data = {'Sust Edu, App or Emp':78.7, 'Sust Edu':43.52, 'HE':30.80, 'FE':10.10, \"Other Edu\":2.3, \"Sust App\":11.3, 'Sust Emp':24.20, 'Not a rec dest':14.7,\n",
    "        'Not Captured':6.70}\n",
    "courses = list(data.keys())\n",
    "values = list(data.values())\n",
    "  \n",
    "fig = plt.figure(figsize = (10, 5))\n",
    " \n",
    "# creating the bar plot\n",
    "plt.bar(courses, values, color ='maroon',\n",
    "        width = 0.4)\n",
    " \n",
    "plt.xlabel(\"Courses offered\")\n",
    "plt.ylabel(\"No. of students enrolled\")\n",
    "plt.title(\"Destinations for male students 2017-2018 as a percentage\")\n",
    "plt.show()\n",
    "\n",
    "# Pie chart, where the slices will be ordered and plotted counter-clockwise:\n",
    "labels = 'Sust E/Ap/Emp', 'Sust E', 'HE', 'FE', 'Other Ed', 'Su Ap', 'Su E', 'Not rec', 'Not cap'\n",
    "sizes = [78.70, 43.20, 30.80, 10.10, 2.30, 11.30, 24.20, 14.70, 6.70]\n",
    "\n",
    "\n",
    "fig1, ax1 = plt.subplots()\n",
    "ax1.pie(sizes, labels=labels, autopct='%1.1f%%',\n",
    "        startangle=90)\n",
    "ax1.axis('equal')  # Equal aspect ratio ensures that pie is drawn as a circle.\n",
    "\n",
    "plt.title(\"Destinations for male students 2017-2018 as a percentage\")\n",
    "plt.show()\n"
   ]
  }
 ],
 "metadata": {
  "interpreter": {
   "hash": "bce9556b8d5cc545b1d3e08d2973b4ba8d162d3884b2614dd54bc56b34fe44f3"
  },
  "kernelspec": {
   "display_name": "Python 3.9.12 ('base')",
   "language": "python",
   "name": "python3"
  },
  "language_info": {
   "codemirror_mode": {
    "name": "ipython",
    "version": 3
   },
   "file_extension": ".py",
   "mimetype": "text/x-python",
   "name": "python",
   "nbconvert_exporter": "python",
   "pygments_lexer": "ipython3",
   "version": "3.9.12"
  },
  "orig_nbformat": 4
 },
 "nbformat": 4,
 "nbformat_minor": 2
}
